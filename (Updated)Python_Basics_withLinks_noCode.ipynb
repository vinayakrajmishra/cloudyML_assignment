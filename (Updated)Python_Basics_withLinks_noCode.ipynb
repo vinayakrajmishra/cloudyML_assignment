{
  "cells": [
    {
      "cell_type": "markdown",
      "metadata": {
        "id": "view-in-github",
        "colab_type": "text"
      },
      "source": [
        "<a href=\"https://colab.research.google.com/github/vinayakrajmishra/cloudyML_assignment/blob/main/(Updated)Python_Basics_withLinks_noCode.ipynb\" target=\"_parent\"><img src=\"https://colab.research.google.com/assets/colab-badge.svg\" alt=\"Open In Colab\"/></a>"
      ]
    },
    {
      "cell_type": "markdown",
      "metadata": {
        "id": "X01f_sPwOnmX"
      },
      "source": [
        "<center><h1> Python Basics</h1></center>\n"
      ]
    },
    {
      "cell_type": "markdown",
      "metadata": {
        "id": "sAxrb2-DOwQ2"
      },
      "source": [
        "![image.png](https://pythonawesome.com/content/images/2019/09/Edward2.jpg)"
      ]
    },
    {
      "cell_type": "code",
      "execution_count": null,
      "metadata": {
        "colab": {
          "base_uri": "https://localhost:8080/",
          "height": 320
        },
        "id": "j6_2OG08Onmh",
        "outputId": "8d5f7606-9d9f-4dad-e33c-11907f83cd1f"
      },
      "outputs": [
        {
          "data": {
            "text/html": [
              "\n",
              "        <iframe\n",
              "            width=\"600\"\n",
              "            height=\"300\"\n",
              "            src=\"https://www.youtube.com/embed/https://www.youtube.com/watch?v=izgBmCnp1Oc&list=PLsR_0x6BuM-HJZT6Xzj-088N4hN3KsDME&index=1\"\n",
              "            frameborder=\"0\"\n",
              "            allowfullscreen\n",
              "        ></iframe>\n",
              "        "
            ],
            "text/plain": [
              "<IPython.lib.display.YouTubeVideo at 0x7f94b25fd990>"
            ]
          },
          "execution_count": 1,
          "metadata": {},
          "output_type": "execute_result"
        }
      ],
      "source": [
        "from IPython.display import YouTubeVideo\n",
        "YouTubeVideo('https://www.youtube.com/watch?v=izgBmCnp1Oc&list=PLsR_0x6BuM-HJZT6Xzj-088N4hN3KsDME&index=1',width=600,height=300)"
      ]
    },
    {
      "cell_type": "markdown",
      "metadata": {
        "id": "rw6fWHMFOnmj"
      },
      "source": [
        "Python is emerging as the popular language used more in data science applications.\n",
        "\n",
        "Take the case of the tech giant Google that has created the deep learning framework called tensorflow – Python is the primary language used for creating this framework. Its footprint has continued to increase in the environment promoted by Netflix. Production engineers at Facebook and Khan Academy have for long been using it as a prominent language in their environment.\n",
        "\n",
        "Python became the most popular language in the data science world.\n",
        "So what are you waiting for? Lets start learning python basic as your first assignment.\n",
        "\n",
        "\n",
        "Add-on Reference: https://youtu.be/HGOBQPFzWKo\n",
        "\n",
        "Add-on reference: https://youtu.be/8DvywoWv6fI\n",
        "\n",
        "\n",
        "## Variable declaration"
      ]
    },
    {
      "cell_type": "markdown",
      "metadata": {
        "id": "_B2hCySwOnmm"
      },
      "source": [
        "Covers the topic of variable declaration and type of variables\n",
        "\n",
        "<p style='text-align: right;'> 1+1+1+1+1 = 5 points</p>\n"
      ]
    },
    {
      "cell_type": "code",
      "execution_count": null,
      "metadata": {
        "colab": {
          "base_uri": "https://localhost:8080/",
          "height": 321
        },
        "id": "ixKyik4SQj1y",
        "outputId": "9909f016-7240-4b93-8c86-f4b80cf0464f"
      },
      "outputs": [
        {
          "data": {
            "text/html": [
              "\n",
              "        <iframe\n",
              "            width=\"600\"\n",
              "            height=\"300\"\n",
              "            src=\"https://www.youtube.com/embed/https://www.youtube.com/watch?v=YdDfEbaUPJs&list=PLsR_0x6BuM-HJZT6Xzj-088N4hN3KsDME&index=2\"\n",
              "            frameborder=\"0\"\n",
              "            allowfullscreen\n",
              "        ></iframe>\n",
              "        "
            ],
            "text/plain": [
              "<IPython.lib.display.YouTubeVideo at 0x7fc907f1fa50>"
            ]
          },
          "execution_count": 6,
          "metadata": {},
          "output_type": "execute_result"
        }
      ],
      "source": [
        "#1 Variables\n",
        "\n",
        "YouTubeVideo('https://www.youtube.com/watch?v=YdDfEbaUPJs&list=PLsR_0x6BuM-HJZT6Xzj-088N4hN3KsDME&index=2',width=600,height=300)"
      ]
    },
    {
      "cell_type": "code",
      "execution_count": null,
      "metadata": {
        "colab": {
          "base_uri": "https://localhost:8080/",
          "height": 321
        },
        "id": "UlSqi2TSQvgw",
        "outputId": "b0b3019b-ed2d-4abc-fc7d-6d7dac0cdbde"
      },
      "outputs": [
        {
          "data": {
            "text/html": [
              "\n",
              "        <iframe\n",
              "            width=\"600\"\n",
              "            height=\"300\"\n",
              "            src=\"https://www.youtube.com/embed/https://www.youtube.com/watch?v=gOcRxdGovhc&list=PLsR_0x6BuM-HJZT6Xzj-088N4hN3KsDME&index=3\"\n",
              "            frameborder=\"0\"\n",
              "            allowfullscreen\n",
              "        ></iframe>\n",
              "        "
            ],
            "text/plain": [
              "<IPython.lib.display.YouTubeVideo at 0x7fc907ea35d0>"
            ]
          },
          "execution_count": 7,
          "metadata": {},
          "output_type": "execute_result"
        }
      ],
      "source": [
        "#2 Variables\n",
        "\n",
        "YouTubeVideo('https://www.youtube.com/watch?v=gOcRxdGovhc&list=PLsR_0x6BuM-HJZT6Xzj-088N4hN3KsDME&index=3',width=600,height=300)"
      ]
    },
    {
      "cell_type": "code",
      "execution_count": null,
      "metadata": {
        "id": "XgolDndUOnmn"
      },
      "outputs": [],
      "source": [
        "# declare two variables, a = 5, b = 'city'\n",
        "a = 5\n",
        "b = 'city'"
      ]
    },
    {
      "cell_type": "code",
      "execution_count": null,
      "metadata": {
        "colab": {
          "base_uri": "https://localhost:8080/"
        },
        "id": "0UNQOo-QOnmo",
        "outputId": "9c86ea49-2748-4df4-d286-654def8b29e9"
      },
      "outputs": [
        {
          "name": "stdout",
          "output_type": "stream",
          "text": [
            "<class 'int'>\n"
          ]
        }
      ],
      "source": [
        "# print type of a\n",
        "print(type(a))"
      ]
    },
    {
      "cell_type": "code",
      "execution_count": null,
      "metadata": {
        "colab": {
          "base_uri": "https://localhost:8080/"
        },
        "id": "HvaV3dnoOnms",
        "outputId": "6f01fab3-7e8b-4cf6-c1a5-67d31f53fe49"
      },
      "outputs": [
        {
          "name": "stdout",
          "output_type": "stream",
          "text": [
            "<class 'str'>\n"
          ]
        }
      ],
      "source": [
        "# print type of b\n",
        "print(type(b))"
      ]
    },
    {
      "cell_type": "code",
      "execution_count": null,
      "metadata": {
        "id": "8fnWzilIOnmu"
      },
      "outputs": [],
      "source": [
        "# swap the values of a and b\n",
        "# hint, if a = 3 and b = \"cloudyML\" then u can swap values like this\n",
        "temp = a\n",
        "a = b\n",
        "b = temp"
      ]
    },
    {
      "cell_type": "code",
      "execution_count": null,
      "metadata": {
        "colab": {
          "base_uri": "https://localhost:8080/"
        },
        "id": "SWd_9g8YOnmv",
        "outputId": "6426b323-3d51-4b7c-e573-f04a2d0c6a89"
      },
      "outputs": [
        {
          "name": "stdout",
          "output_type": "stream",
          "text": [
            "city\n",
            "5\n"
          ]
        }
      ],
      "source": [
        "# run this to confirm \n",
        "print(a)\n",
        "print(b)"
      ]
    },
    {
      "cell_type": "markdown",
      "metadata": {
        "id": "jZxcxXV2Onmx"
      },
      "source": [
        "Cool! so variable declaration and getting it's type was easy."
      ]
    },
    {
      "cell_type": "code",
      "execution_count": null,
      "metadata": {
        "colab": {
          "base_uri": "https://localhost:8080/",
          "height": 321
        },
        "id": "iGEGIEOsRG4N",
        "outputId": "6ffa9eef-8db8-4b03-d5d3-ee2c76f541e0"
      },
      "outputs": [
        {
          "data": {
            "text/html": [
              "\n",
              "        <iframe\n",
              "            width=\"600\"\n",
              "            height=\"300\"\n",
              "            src=\"https://www.youtube.com/embed/https://www.youtube.com/watch?v=R0yDN07Jw_c&list=PLsR_0x6BuM-HJZT6Xzj-088N4hN3KsDME&index=4\"\n",
              "            frameborder=\"0\"\n",
              "            allowfullscreen\n",
              "        ></iframe>\n",
              "        "
            ],
            "text/plain": [
              "<IPython.lib.display.YouTubeVideo at 0x7fc907eec610>"
            ]
          },
          "execution_count": 13,
          "metadata": {},
          "output_type": "execute_result"
        }
      ],
      "source": [
        "#3 Data Structure\n",
        "\n",
        "YouTubeVideo('https://www.youtube.com/watch?v=R0yDN07Jw_c&list=PLsR_0x6BuM-HJZT6Xzj-088N4hN3KsDME&index=4',width=600,height=300)"
      ]
    },
    {
      "cell_type": "markdown",
      "metadata": {
        "id": "pDfT0V3IOnmx"
      },
      "source": [
        "## Arithmetic Operations"
      ]
    },
    {
      "cell_type": "markdown",
      "metadata": {
        "id": "s7I8ndJiOnmy"
      },
      "source": [
        "Hey novice! this will be easy for you until you know basic arithmetic symbols like +, -, /, * etc.\n",
        "\n",
        "\n",
        "<p style='text-align: right;'> 1 + 7 = 8 points </p>\n"
      ]
    },
    {
      "cell_type": "code",
      "execution_count": null,
      "metadata": {
        "colab": {
          "base_uri": "https://localhost:8080/",
          "height": 321
        },
        "id": "Gty2GGCgRXTF",
        "outputId": "5c2109a2-1043-4242-bd7e-ac65946e85a3"
      },
      "outputs": [
        {
          "data": {
            "text/html": [
              "\n",
              "        <iframe\n",
              "            width=\"600\"\n",
              "            height=\"300\"\n",
              "            src=\"https://www.youtube.com/embed/https://www.youtube.com/watch?v=kj-UnITecRE&list=PLsR_0x6BuM-HJZT6Xzj-088N4hN3KsDME&index=10\"\n",
              "            frameborder=\"0\"\n",
              "            allowfullscreen\n",
              "        ></iframe>\n",
              "        "
            ],
            "text/plain": [
              "<IPython.lib.display.YouTubeVideo at 0x7fc907f05cd0>"
            ]
          },
          "execution_count": 14,
          "metadata": {},
          "output_type": "execute_result"
        }
      ],
      "source": [
        "#4 Operators\n",
        "YouTubeVideo('https://www.youtube.com/watch?v=kj-UnITecRE&list=PLsR_0x6BuM-HJZT6Xzj-088N4hN3KsDME&index=10',width=600,height=300)"
      ]
    },
    {
      "cell_type": "code",
      "execution_count": null,
      "metadata": {
        "colab": {
          "base_uri": "https://localhost:8080/"
        },
        "id": "GrGEajK2Onmz",
        "outputId": "87201ffa-8ecf-4bcb-9dce-e356a4891131"
      },
      "outputs": [
        {
          "name": "stdout",
          "output_type": "stream",
          "text": [
            "a = 24, b = 3\n"
          ]
        }
      ],
      "source": [
        "# declare two variables, a = 24, b = 3\n",
        "\n",
        "a = 24\n",
        "b = 3\n",
        "print('a = {}, b = {}'.format(a,b))"
      ]
    },
    {
      "cell_type": "code",
      "execution_count": null,
      "metadata": {
        "colab": {
          "base_uri": "https://localhost:8080/"
        },
        "id": "diniCQx5Onm0",
        "outputId": "e6d5bb19-8f9b-4f99-e0fe-8fe81e92cb05"
      },
      "outputs": [
        {
          "name": "stdout",
          "output_type": "stream",
          "text": [
            "a+b=27\n"
          ]
        }
      ],
      "source": [
        "print('a+b={}'.format(a+b))"
      ]
    },
    {
      "cell_type": "code",
      "execution_count": null,
      "metadata": {
        "colab": {
          "base_uri": "https://localhost:8080/"
        },
        "id": "N_GYfccYOnm0",
        "outputId": "19bbd72c-b769-458a-be36-41882fe39a47"
      },
      "outputs": [
        {
          "name": "stdout",
          "output_type": "stream",
          "text": [
            "a + b = 27\n",
            "a - b = 21\n",
            "a * b = 72\n",
            "a / b = 8.0\n",
            "a // b = 8\n",
            "a % b = 0\n",
            "a ^ b = 27\n"
          ]
        }
      ],
      "source": [
        "# calculate and print all the possible numerical operations on a and b (There are total 7 operations)\n",
        "# You can use string formatting to get the exact output like ours.\n",
        "# hint: print(\"a + b = {}\".format(a+b))\n",
        "\n",
        "print('a + b = {}'.format(a+b))\n",
        "print('a - b = {}'.format(a-b))\n",
        "print('a * b = {}'.format(a*b))\n",
        "print('a / b = {}'.format(a/b))\n",
        "print('a // b = {}'.format(a//b))\n",
        "print('a % b = {}'.format(a%b))\n",
        "print('a ^ b = {}'.format(a^b))"
      ]
    },
    {
      "cell_type": "markdown",
      "metadata": {
        "id": "SnON_Kw9Onm1"
      },
      "source": [
        "## Math Functions"
      ]
    },
    {
      "cell_type": "markdown",
      "metadata": {
        "id": "1hTzZGrsOnm2"
      },
      "source": [
        "Lets do some simple mathematical operations by using math module. Math module contains various mathematical functions. So here we go!\n",
        "\n",
        "Additional Reference:- https://youtu.be/gktjNyV0xks\n",
        "\n",
        "Reference document: https://docs.python.org/3/library/math.html\n",
        "<p style='text-align: right;'> 10 points </p>\n",
        "\n",
        "\n"
      ]
    },
    {
      "cell_type": "code",
      "execution_count": null,
      "metadata": {
        "id": "Y3odgoqgOnm2"
      },
      "outputs": [],
      "source": [
        "#import math\n",
        "import math"
      ]
    },
    {
      "cell_type": "code",
      "execution_count": null,
      "metadata": {
        "id": "vVALGHwCOnm3"
      },
      "outputs": [],
      "source": [
        "# declare a variable x = 2 and y=5.32167\n",
        "x = 2\n",
        "y = 5.32167"
      ]
    },
    {
      "cell_type": "code",
      "execution_count": null,
      "metadata": {
        "colab": {
          "base_uri": "https://localhost:8080/"
        },
        "id": "h9xFqnF7Onm3",
        "outputId": "06610d2f-0068-42fe-bce1-a4adc6a2f37c"
      },
      "outputs": [
        {
          "data": {
            "text/plain": [
              "5.32167"
            ]
          },
          "execution_count": 13,
          "metadata": {},
          "output_type": "execute_result"
        }
      ],
      "source": [
        "# Print the maximum value between x and y\n",
        "max(x,y)"
      ]
    },
    {
      "cell_type": "code",
      "execution_count": null,
      "metadata": {
        "colab": {
          "base_uri": "https://localhost:8080/"
        },
        "id": "Ek-Wrhb6Onm3",
        "outputId": "4b626ea5-4bd8-469e-e7be-07d4c2dd866b"
      },
      "outputs": [
        {
          "data": {
            "text/plain": [
              "2"
            ]
          },
          "execution_count": 14,
          "metadata": {},
          "output_type": "execute_result"
        }
      ],
      "source": [
        "# Print the minimum value between x and y\n",
        "min(x,y)"
      ]
    },
    {
      "cell_type": "code",
      "execution_count": null,
      "metadata": {
        "colab": {
          "base_uri": "https://localhost:8080/"
        },
        "id": "NHK3kCGAOnm4",
        "outputId": "3ebb2a13-f9de-4f8c-b7bf-baf3b7a5eef9"
      },
      "outputs": [
        {
          "name": "stdout",
          "output_type": "stream",
          "text": [
            "4\n",
            "8\n"
          ]
        }
      ],
      "source": [
        "# Print square and cube of x and store in a and b variable\n",
        "a = int(math.pow(x,2))\n",
        "b = int(math.pow(x,3))\n",
        "print(a)\n",
        "print(b)"
      ]
    },
    {
      "cell_type": "code",
      "execution_count": null,
      "metadata": {
        "colab": {
          "base_uri": "https://localhost:8080/"
        },
        "id": "ARYINv9AOnm4",
        "outputId": "42e1342a-d79a-420b-fc73-e64565025735"
      },
      "outputs": [
        {
          "name": "stdout",
          "output_type": "stream",
          "text": [
            "0.6931471805599453\n"
          ]
        }
      ],
      "source": [
        "#print log of x and store it in variable c\n",
        "c = math.log(x)\n",
        "print(c)"
      ]
    },
    {
      "cell_type": "code",
      "execution_count": null,
      "metadata": {
        "colab": {
          "base_uri": "https://localhost:8080/"
        },
        "id": "xGbjPCVfOnm5",
        "outputId": "6ebd27c9-b511-4b2b-8740-efad19589f27"
      },
      "outputs": [
        {
          "data": {
            "text/plain": [
              "0.6931471805599453"
            ]
          },
          "execution_count": 19,
          "metadata": {},
          "output_type": "execute_result"
        }
      ],
      "source": [
        "#print minimum value between x,y,a, b and c\n",
        "min(x,y,a,b,c)"
      ]
    },
    {
      "cell_type": "code",
      "execution_count": null,
      "metadata": {
        "colab": {
          "base_uri": "https://localhost:8080/"
        },
        "id": "Cr2aOwOYOnm5",
        "outputId": "e57dd33a-ea87-4228-9219-a9fffe8e92ce"
      },
      "outputs": [
        {
          "data": {
            "text/plain": [
              "8"
            ]
          },
          "execution_count": 20,
          "metadata": {},
          "output_type": "execute_result"
        }
      ],
      "source": [
        "#print maximum value between x,y,a, b and c\n",
        "max(x,y,a,b,c)"
      ]
    },
    {
      "cell_type": "code",
      "execution_count": null,
      "metadata": {
        "colab": {
          "base_uri": "https://localhost:8080/"
        },
        "id": "cdTE9jHJOnm5",
        "outputId": "bb01fde9-5e62-4c7c-c69f-c10b6d6def9e"
      },
      "outputs": [
        {
          "data": {
            "text/plain": [
              "0"
            ]
          },
          "execution_count": 22,
          "metadata": {},
          "output_type": "execute_result"
        }
      ],
      "source": [
        "#print the largest integer that is smaller than or equal to c. ie.round down\n",
        "math.floor(c)"
      ]
    },
    {
      "cell_type": "code",
      "execution_count": null,
      "metadata": {
        "colab": {
          "base_uri": "https://localhost:8080/"
        },
        "id": "YuQFq6iTOnm6",
        "outputId": "a16dd6cf-76ab-464d-a43e-fb45a2938ba4"
      },
      "outputs": [
        {
          "data": {
            "text/plain": [
              "1"
            ]
          },
          "execution_count": 23,
          "metadata": {},
          "output_type": "execute_result"
        }
      ],
      "source": [
        "#print the smallest integer that is greater than or equal to c ie. round up\n",
        "math.ceil(c)"
      ]
    },
    {
      "cell_type": "markdown",
      "metadata": {
        "id": "7ywGXy77Onm6"
      },
      "source": [
        "## Logical operations\n",
        "\n",
        "You must be aware of some logical operations you did in college, like 'and', 'or', 'not' etc. These operations becomes even more easy to implement when you have friend like python.\n",
        "\n",
        "<p style='text-align: right;'> 1 + 1 + 1 + 6 = 9 points </p>\n"
      ]
    },
    {
      "cell_type": "code",
      "execution_count": null,
      "metadata": {
        "colab": {
          "base_uri": "https://localhost:8080/"
        },
        "id": "qD67cRQJOnm7",
        "outputId": "3944732e-317c-4d2a-fa24-c003a6a5d412"
      },
      "outputs": [
        {
          "name": "stdout",
          "output_type": "stream",
          "text": [
            "True\n",
            "False\n"
          ]
        }
      ],
      "source": [
        "# declare two variables, a = True, b = False\n",
        "a = True\n",
        "b = False\n",
        "print(a)\n",
        "print(b)\n"
      ]
    },
    {
      "cell_type": "code",
      "execution_count": null,
      "metadata": {
        "colab": {
          "base_uri": "https://localhost:8080/"
        },
        "id": "f5Vs8qzjOnm7",
        "outputId": "57af41ea-caae-4781-f14b-af3fa803faa8"
      },
      "outputs": [
        {
          "data": {
            "text/plain": [
              "bool"
            ]
          },
          "execution_count": 25,
          "metadata": {},
          "output_type": "execute_result"
        }
      ],
      "source": [
        "# print type of a and type of b\n",
        "type(a)\n",
        "type(b)"
      ]
    },
    {
      "cell_type": "markdown",
      "metadata": {
        "id": "c3_XIcPkOnm7"
      },
      "source": [
        "A fun fact for you !\n",
        "The Python Boolean type is one of Python's built-in data types. It's used to represent the truth value of an expression"
      ]
    },
    {
      "cell_type": "code",
      "execution_count": null,
      "metadata": {
        "colab": {
          "base_uri": "https://localhost:8080/"
        },
        "id": "lCruZY6_Onm8",
        "outputId": "09d62074-9ff6-4714-9482-4c968c1cdfbe"
      },
      "outputs": [
        {
          "name": "stdout",
          "output_type": "stream",
          "text": [
            "int of a is 1\n",
            "int of b is 0\n"
          ]
        }
      ],
      "source": [
        "# print int(a) and int(b)\n",
        "print(f\"int of a is {int(a)}\")\n",
        "print(f\"int of b is {int(b)}\")"
      ]
    },
    {
      "cell_type": "markdown",
      "metadata": {
        "id": "y2pKlWHBOnm8"
      },
      "source": [
        "We are sure you must have seen that, values for 'True' is 1 and for 'False' is 0."
      ]
    },
    {
      "cell_type": "code",
      "execution_count": null,
      "metadata": {
        "colab": {
          "base_uri": "https://localhost:8080/"
        },
        "id": "IEuVTnsAOnm8",
        "outputId": "bd52a2a8-462b-40b1-f88a-e699339c2599"
      },
      "outputs": [
        {
          "name": "stdout",
          "output_type": "stream",
          "text": [
            "not a = False\n",
            "not b = True\n",
            "a and b = False\n",
            "a or b = False\n",
            "a and not b = True\n"
          ]
        }
      ],
      "source": [
        "# Find and print the values of not a, not b, a and b, a or b, a and not b\n",
        "# Use not operator for not a and not b\n",
        "\n",
        "print(\"not a = {}\".format(not a))\n",
        "print(\"not b = {}\".format(not b))\n",
        "print(\"a and b = {}\".format(not a and b))\n",
        "print(\"a or b = {}\".format(not a or b))\n",
        "print(\"a and not b = {}\".format(a and not b))"
      ]
    },
    {
      "cell_type": "markdown",
      "metadata": {
        "id": "TI7-60doOnm9"
      },
      "source": [
        "We hope you tried to undertand the above output! "
      ]
    },
    {
      "cell_type": "markdown",
      "metadata": {
        "id": "Ngtt9xc6Onm9"
      },
      "source": [
        "## List Comprehensions\n",
        "\n",
        "Hey buddy! Python has really amazing thing called list comprehension. List comprehension offers a shorter syntax when you want to create a new list based on the values of an existing list. Cool right? Let's dive into this more by doing it. \n",
        "\n",
        "<p style='text-align: right;'> 10 + 10 + 10= 30 points </p>\n",
        "\n"
      ]
    },
    {
      "cell_type": "code",
      "execution_count": null,
      "metadata": {
        "colab": {
          "base_uri": "https://localhost:8080/",
          "height": 321
        },
        "id": "A7MBHOJVSGFV",
        "outputId": "a61aa7d1-b708-46b0-afac-4675b3ad286f"
      },
      "outputs": [
        {
          "data": {
            "text/html": [
              "\n",
              "        <iframe\n",
              "            width=\"600\"\n",
              "            height=\"300\"\n",
              "            src=\"https://www.youtube.com/embed/https://www.youtube.com/watch?v=Cs8wG--s4z4&list=PLsR_0x6BuM-HJZT6Xzj-088N4hN3KsDME&index=17\"\n",
              "            frameborder=\"0\"\n",
              "            allowfullscreen\n",
              "        ></iframe>\n",
              "        "
            ],
            "text/plain": [
              "<IPython.lib.display.YouTubeVideo at 0x7efe855f1e50>"
            ]
          },
          "execution_count": 5,
          "metadata": {},
          "output_type": "execute_result"
        }
      ],
      "source": [
        "# Comprehension\n",
        "YouTubeVideo('https://www.youtube.com/watch?v=Cs8wG--s4z4&list=PLsR_0x6BuM-HJZT6Xzj-088N4hN3KsDME&index=17',width=600,height=300)"
      ]
    },
    {
      "cell_type": "code",
      "execution_count": null,
      "metadata": {
        "colab": {
          "base_uri": "https://localhost:8080/"
        },
        "id": "EFQZLhkDOnm9",
        "outputId": "5708b73e-b48d-451a-ddd8-45f97c696fca"
      },
      "outputs": [
        {
          "name": "stdout",
          "output_type": "stream",
          "text": [
            "range(1, 20)\n"
          ]
        }
      ],
      "source": [
        "# Using list comprehension, create a list containing numbers from 1 to 20. \n",
        "# Hint: You can use range function of python to do this.\n",
        "lst = range(1,20)\n",
        "print(lst)"
      ]
    },
    {
      "cell_type": "code",
      "execution_count": null,
      "metadata": {
        "colab": {
          "base_uri": "https://localhost:8080/"
        },
        "id": "3fZ8aOSyOnm9",
        "outputId": "db536f11-bf69-4a79-9ea1-4ebef5771a46"
      },
      "outputs": [
        {
          "name": "stdout",
          "output_type": "stream",
          "text": [
            "[0, 2, 4, 6, 8, 10, 12, 14, 16, 18]\n"
          ]
        }
      ],
      "source": [
        "# Using list comprehension, create a list containing numbers from 1 to 20 that are even\n",
        "lst = list()\n",
        "for i in range(20):\n",
        "  if i%2==0:\n",
        "    lst.append(i)\n",
        "\n",
        "print(lst)"
      ]
    },
    {
      "cell_type": "markdown",
      "metadata": {
        "id": "Nom_UZdsOnm-"
      },
      "source": [
        "Create a list of all the fruits you like. Using list comprehension, create another list which contains the total number of charachters for each corresponding fruits.\n",
        "- Eg. fruits = [‘apple’,’kiwi’,’orange’], then output would be - [5,4,6]\n"
      ]
    },
    {
      "cell_type": "code",
      "execution_count": null,
      "metadata": {
        "colab": {
          "base_uri": "https://localhost:8080/"
        },
        "id": "qgTZeieSOnm-",
        "outputId": "eed50d8d-92c0-4f75-c5c6-4676baed8386"
      },
      "outputs": [
        {
          "name": "stdout",
          "output_type": "stream",
          "text": [
            "['mango', 'apple', 'banana', 'vimal', 'orange', 'kivi']\n",
            "[5, 5, 6, 5, 6, 4]\n"
          ]
        }
      ],
      "source": [
        "fruits = ['mango','apple','banana','vimal','orange', 'kivi']\n",
        "len_fruits = [len(fruits[0]),len(fruits[1]),len(fruits[2]),len(fruits[3]),len(fruits[4]),len(fruits[5])]\n",
        "\n",
        "print(fruits)\n",
        "print(len_fruits)\n"
      ]
    },
    {
      "cell_type": "markdown",
      "metadata": {
        "id": "EmUChdf-Onm-"
      },
      "source": [
        "The above output is shown if fruits = ['apple','kiwi,'orange'], it can vary for different values of fruits\n",
        "\n",
        "Amazing right?\n"
      ]
    },
    {
      "cell_type": "markdown",
      "metadata": {
        "id": "wPzfKH4vOnm_"
      },
      "source": [
        "## String value and operators\n",
        "\n",
        "<p style='text-align: right;'> 1 + 1 + 1 + 1 + 1 = 5 points </p>\n"
      ]
    },
    {
      "cell_type": "code",
      "execution_count": null,
      "metadata": {
        "colab": {
          "base_uri": "https://localhost:8080/",
          "height": 321
        },
        "id": "JkGT52I9Onm_",
        "outputId": "58b05e98-fbc1-4427-a516-7ee18e2e359e"
      },
      "outputs": [
        {
          "data": {
            "text/html": [
              "\n",
              "        <iframe\n",
              "            width=\"600\"\n",
              "            height=\"300\"\n",
              "            src=\"https://www.youtube.com/embed/https://www.youtube.com/watch?v=I6UH_prRboE&list=PLsR_0x6BuM-HJZT6Xzj-088N4hN3KsDME&index=9\"\n",
              "            frameborder=\"0\"\n",
              "            allowfullscreen\n",
              "        ></iframe>\n",
              "        "
            ],
            "text/plain": [
              "<IPython.lib.display.YouTubeVideo at 0x7efe85171690>"
            ]
          },
          "execution_count": 6,
          "metadata": {},
          "output_type": "execute_result"
        }
      ],
      "source": [
        "# string manipulation\n",
        "YouTubeVideo('https://www.youtube.com/watch?v=I6UH_prRboE&list=PLsR_0x6BuM-HJZT6Xzj-088N4hN3KsDME&index=9',width=600,height=300)"
      ]
    },
    {
      "cell_type": "markdown",
      "metadata": {
        "id": "Ee_vso2gOnm_"
      },
      "source": [
        "### Characters in strings\n",
        "\n",
        "\n",
        "Reference:- https://www.programiz.com/python-programming/string\n",
        "\n"
      ]
    },
    {
      "cell_type": "code",
      "execution_count": null,
      "metadata": {
        "colab": {
          "base_uri": "https://localhost:8080/"
        },
        "id": "3SeJY_uNOnm_",
        "outputId": "4426ac86-69fe-494c-f985-8a0b699e5af3"
      },
      "outputs": [
        {
          "name": "stdout",
          "output_type": "stream",
          "text": [
            "cat\n",
            "dog\n"
          ]
        }
      ],
      "source": [
        "# declare the variables x = cat and y = dog and print it\n",
        "x =  'cat'\n",
        "y = 'dog'\n",
        "\n",
        "print(x)\n",
        "print(y)"
      ]
    },
    {
      "cell_type": "code",
      "execution_count": null,
      "metadata": {
        "colab": {
          "base_uri": "https://localhost:8080/"
        },
        "id": "J6WM2PYhOnm_",
        "outputId": "94bd9394-ba9d-444c-973a-67ca411a2259"
      },
      "outputs": [
        {
          "name": "stdout",
          "output_type": "stream",
          "text": [
            "first ch of x = c\n",
            "first ch of y = d\n"
          ]
        }
      ],
      "source": [
        "#Print first character of both x and y. \n",
        "print(f\"first ch of x = {x[0]}\")\n",
        "print(f\"first ch of y = {y[0]}\")"
      ]
    },
    {
      "cell_type": "code",
      "execution_count": null,
      "metadata": {
        "colab": {
          "base_uri": "https://localhost:8080/"
        },
        "id": "T4cyd2QJOnnA",
        "outputId": "baff6a33-ea5e-4706-9958-61ed6253b22a"
      },
      "outputs": [
        {
          "name": "stdout",
          "output_type": "stream",
          "text": [
            "last ch of x = t\n",
            "last ch of y = g\n"
          ]
        }
      ],
      "source": [
        "#Print last character of both x and y.\n",
        "print(f\"last ch of x = {x[-1]}\")\n",
        "print(f\"last ch of y = {y[-1]}\")"
      ]
    },
    {
      "cell_type": "code",
      "execution_count": null,
      "metadata": {
        "colab": {
          "base_uri": "https://localhost:8080/"
        },
        "id": "jWHyH2o7OnnA",
        "outputId": "12ac18b0-bbc5-49c7-8d9f-aa8b1a08637a"
      },
      "outputs": [
        {
          "name": "stdout",
          "output_type": "stream",
          "text": [
            "lenght of x is = 3\n",
            "lenght of y is = 3\n"
          ]
        }
      ],
      "source": [
        "#Print len of both x and y\n",
        "print(f\"lenght of x is = {len(x)}\")\n",
        "print(f\"lenght of y is = {len(y)}\")"
      ]
    },
    {
      "cell_type": "code",
      "execution_count": null,
      "metadata": {
        "colab": {
          "base_uri": "https://localhost:8080/",
          "height": 36
        },
        "id": "wcu4u4ZdOnnA",
        "outputId": "95e41532-3b8b-4dee-91b3-93ece6399fa8"
      },
      "outputs": [
        {
          "data": {
            "application/vnd.google.colaboratory.intrinsic+json": {
              "type": "string"
            },
            "text/plain": [
              "'catdog'"
            ]
          },
          "execution_count": 49,
          "metadata": {},
          "output_type": "execute_result"
        }
      ],
      "source": [
        "#concatenate both x and y and store it in variable z and print z\n",
        "z=x+y\n",
        "z"
      ]
    },
    {
      "cell_type": "code",
      "execution_count": null,
      "metadata": {
        "colab": {
          "base_uri": "https://localhost:8080/"
        },
        "id": "gfbQ0ahAOnnA",
        "outputId": "be445753-4324-45a7-8912-7e28fb0c6f36"
      },
      "outputs": [
        {
          "data": {
            "text/plain": [
              "True"
            ]
          },
          "execution_count": 50,
          "metadata": {},
          "output_type": "execute_result"
        }
      ],
      "source": [
        "#check if x is part of z \n",
        "x in z"
      ]
    },
    {
      "cell_type": "markdown",
      "metadata": {
        "id": "lVchUi7YOnnB"
      },
      "source": [
        "### String slicing\n",
        "\n",
        "\n",
        "\n",
        "Hey coder, do you know? Python slicing is about obtaining a sub-string from the given string by slicing it respectively from start to end\n",
        "\n",
        "So be ready to implement it today!\n",
        "<p style='text-align: right;'> 2 points </p>"
      ]
    },
    {
      "cell_type": "code",
      "execution_count": null,
      "metadata": {
        "colab": {
          "base_uri": "https://localhost:8080/"
        },
        "id": "VPiDEDDTOnnB",
        "outputId": "0c3d5fa2-8c5e-4f64-d7e9-45eb819e8081"
      },
      "outputs": [
        {
          "name": "stdout",
          "output_type": "stream",
          "text": [
            "pineapple\n"
          ]
        }
      ],
      "source": [
        "#Create variable a = “pineapple”\n",
        "a = # your code here\n",
        "print(a)"
      ]
    },
    {
      "cell_type": "code",
      "execution_count": null,
      "metadata": {
        "colab": {
          "base_uri": "https://localhost:8080/"
        },
        "id": "eCNFSjIROnnB",
        "outputId": "d96f36b6-bd60-4d6c-9740-9847b98e6c57"
      },
      "outputs": [
        {
          "name": "stdout",
          "output_type": "stream",
          "text": [
            "pine\n",
            "apple\n"
          ]
        }
      ],
      "source": [
        "# Using index slicing, print the words ‘pine’ and “apple”.\n",
        "# HINT - a[:]"
      ]
    },
    {
      "cell_type": "code",
      "execution_count": null,
      "metadata": {
        "colab": {
          "base_uri": "https://localhost:8080/",
          "height": 38
        },
        "id": "Z6881zT0OnnB",
        "outputId": "208250a0-1b76-40d7-8bb4-bec4e0e377bb"
      },
      "outputs": [
        {
          "data": {
            "application/vnd.google.colaboratory.intrinsic+json": {
              "type": "string"
            },
            "text/plain": [
              "'PINEAPPLE'"
            ]
          },
          "execution_count": 45,
          "metadata": {},
          "output_type": "execute_result"
        }
      ],
      "source": [
        "#Convert a into upper case\n"
      ]
    },
    {
      "cell_type": "markdown",
      "metadata": {
        "id": "mEw9dmM2OnnC"
      },
      "source": [
        "## Dealing with Sentences\n",
        "\n",
        "<p style='text-align: right;'> 1+1+1+1+1+1 = 6 points </p>\n"
      ]
    },
    {
      "cell_type": "code",
      "execution_count": null,
      "metadata": {
        "colab": {
          "base_uri": "https://localhost:8080/",
          "height": 36
        },
        "id": "O-eulzDKOnnC",
        "outputId": "d05c21d2-0197-4e78-ce2d-7e1ca8fd06ca"
      },
      "outputs": [
        {
          "data": {
            "application/vnd.google.colaboratory.intrinsic+json": {
              "type": "string"
            },
            "text/plain": [
              "'I am flying to London'"
            ]
          },
          "execution_count": 52,
          "metadata": {},
          "output_type": "execute_result"
        }
      ],
      "source": [
        "# Declare a sentence of ‘I am flying to London’ and print it\n",
        "s = 'I am flying to London'\n",
        "s"
      ]
    },
    {
      "cell_type": "code",
      "execution_count": null,
      "metadata": {
        "colab": {
          "base_uri": "https://localhost:8080/"
        },
        "id": "6YqhY71aOnnC",
        "outputId": "e83f49f9-938a-40e8-e046-19b7a75f193e"
      },
      "outputs": [
        {
          "name": "stdout",
          "output_type": "stream",
          "text": [
            "len of sentence is 21\n"
          ]
        }
      ],
      "source": [
        "#Print length of the sentence\n",
        "print(f\"len of sentence is {len(s)}\")"
      ]
    },
    {
      "cell_type": "code",
      "execution_count": null,
      "metadata": {
        "colab": {
          "base_uri": "https://localhost:8080/",
          "height": 36
        },
        "id": "ueh0avBIOnnC",
        "outputId": "a09f61a1-0f41-4d2a-df65-61cafdf36eab"
      },
      "outputs": [
        {
          "data": {
            "application/vnd.google.colaboratory.intrinsic+json": {
              "type": "string"
            },
            "text/plain": [
              "'London'"
            ]
          },
          "execution_count": 55,
          "metadata": {},
          "output_type": "execute_result"
        }
      ],
      "source": [
        "#Using list indexing, to print the word London\n",
        "s[-6:]"
      ]
    },
    {
      "cell_type": "code",
      "execution_count": null,
      "metadata": {
        "colab": {
          "base_uri": "https://localhost:8080/"
        },
        "id": "XxWpC9-pOnnC",
        "outputId": "754947b4-2eec-41a1-f2f3-297d7a187880"
      },
      "outputs": [
        {
          "data": {
            "text/plain": [
              "['I', 'am', 'flying', 'to', 'London']"
            ]
          },
          "execution_count": 57,
          "metadata": {},
          "output_type": "execute_result"
        }
      ],
      "source": [
        "# Use .split to get list of individual words in the sentence\n",
        "lst = s.split(\" \")\n",
        "lst"
      ]
    },
    {
      "cell_type": "code",
      "execution_count": null,
      "metadata": {
        "colab": {
          "base_uri": "https://localhost:8080/",
          "height": 36
        },
        "id": "cv-iS9BrOnnD",
        "outputId": "c91a5791-36f4-4c53-f28f-bc9fb76e9106"
      },
      "outputs": [
        {
          "data": {
            "application/vnd.google.colaboratory.intrinsic+json": {
              "type": "string"
            },
            "text/plain": [
              "'i am flying to london'"
            ]
          },
          "execution_count": 61,
          "metadata": {},
          "output_type": "execute_result"
        }
      ],
      "source": [
        "# Convert sentence in lower case \n",
        "lower = s.lower()\n",
        "lower"
      ]
    },
    {
      "cell_type": "code",
      "execution_count": null,
      "metadata": {
        "colab": {
          "base_uri": "https://localhost:8080/",
          "height": 36
        },
        "id": "Qv4XhFETOnnD",
        "outputId": "5144fc4a-c62b-4fa4-81ec-53260f0ba01a"
      },
      "outputs": [
        {
          "data": {
            "application/vnd.google.colaboratory.intrinsic+json": {
              "type": "string"
            },
            "text/plain": [
              "'I AM FLYING TO LONDON'"
            ]
          },
          "execution_count": 62,
          "metadata": {},
          "output_type": "execute_result"
        }
      ],
      "source": [
        "# Convert sentence in upper case .\n",
        "upper = s.upper()\n",
        "upper"
      ]
    },
    {
      "cell_type": "markdown",
      "metadata": {
        "id": "Wz53Tr8YOnnD"
      },
      "source": [
        "Great job! Slicing is fun."
      ]
    },
    {
      "cell_type": "markdown",
      "metadata": {
        "id": "EpMEG_R3OnnE"
      },
      "source": [
        "## Functions\n",
        "\n",
        "Declare a function named square, which takes an input as x, and returns the square of x.\n",
        "\n",
        "<p style='text-align: right;'> 5 + 3 = 8 points </p>\n"
      ]
    },
    {
      "cell_type": "code",
      "execution_count": null,
      "metadata": {
        "colab": {
          "base_uri": "https://localhost:8080/",
          "height": 321
        },
        "id": "xrJ-Nmq7OnnE",
        "outputId": "08b3a556-6a58-4ea1-cff6-94bf6af3e707"
      },
      "outputs": [
        {
          "data": {
            "text/html": [
              "\n",
              "        <iframe\n",
              "            width=\"600\"\n",
              "            height=\"300\"\n",
              "            src=\"https://www.youtube.com/embed/https://www.youtube.com/watch?v=cjtAbp-Ux-w&list=PLsR_0x6BuM-HJZT6Xzj-088N4hN3KsDME&index=15\"\n",
              "            frameborder=\"0\"\n",
              "            allowfullscreen\n",
              "        ></iframe>\n",
              "        "
            ],
            "text/plain": [
              "<IPython.lib.display.YouTubeVideo at 0x7efe85178a50>"
            ]
          },
          "execution_count": 7,
          "metadata": {},
          "output_type": "execute_result"
        }
      ],
      "source": [
        "# Functions-1\n",
        "YouTubeVideo('https://www.youtube.com/watch?v=cjtAbp-Ux-w&list=PLsR_0x6BuM-HJZT6Xzj-088N4hN3KsDME&index=15',width=600,height=300)"
      ]
    },
    {
      "cell_type": "code",
      "execution_count": null,
      "metadata": {
        "colab": {
          "base_uri": "https://localhost:8080/",
          "height": 321
        },
        "id": "LPGhSZf_S9JU",
        "outputId": "e6f29551-c93c-45ed-d39d-1e8a9722aea9"
      },
      "outputs": [
        {
          "data": {
            "text/html": [
              "\n",
              "        <iframe\n",
              "            width=\"600\"\n",
              "            height=\"300\"\n",
              "            src=\"https://www.youtube.com/embed/https://www.youtube.com/watch?v=cjtAbp-Ux-w&list=PLsR_0x6BuM-HJZT6Xzj-088N4hN3KsDME&index=16\"\n",
              "            frameborder=\"0\"\n",
              "            allowfullscreen\n",
              "        ></iframe>\n",
              "        "
            ],
            "text/plain": [
              "<IPython.lib.display.YouTubeVideo at 0x7efe85182850>"
            ]
          },
          "execution_count": 8,
          "metadata": {},
          "output_type": "execute_result"
        }
      ],
      "source": [
        "# Function-2\n",
        "YouTubeVideo('https://www.youtube.com/watch?v=cjtAbp-Ux-w&list=PLsR_0x6BuM-HJZT6Xzj-088N4hN3KsDME&index=16',width=600,height=300)"
      ]
    },
    {
      "cell_type": "markdown",
      "metadata": {
        "id": "KX4y0IHVOnnE"
      },
      "source": [
        "Call the function to find the value of square of 9."
      ]
    },
    {
      "cell_type": "code",
      "execution_count": null,
      "metadata": {
        "colab": {
          "base_uri": "https://localhost:8080/"
        },
        "id": "ms2A-A15OnnE",
        "outputId": "949ca207-93a8-4e9c-a0c3-df5407baa422"
      },
      "outputs": [
        {
          "name": "stdout",
          "output_type": "stream",
          "text": [
            "Square of 9 is 81\n"
          ]
        }
      ],
      "source": [
        "# find the square of 9 using the function square you have just created.\n",
        "def square(x):\n",
        "    print(f\"Square of {x} is {x*x}\")\n",
        "\n",
        "# find the square of 9 using the function square you have just created.\n",
        "square(9)"
      ]
    },
    {
      "cell_type": "markdown",
      "metadata": {
        "id": "ehBLnbH-OnnE"
      },
      "source": [
        "Wohoo! see, defining function was simple"
      ]
    },
    {
      "cell_type": "markdown",
      "metadata": {
        "id": "h01u89J0OnnF"
      },
      "source": [
        "#### Define another function which checks whether a given is number is odd or even for a given input and it should print whether the  number is odd or even as an output\n",
        "<p style='text-align: right;'> 5 + 3 = 8 points </p>\n"
      ]
    },
    {
      "cell_type": "code",
      "execution_count": null,
      "metadata": {
        "colab": {
          "base_uri": "https://localhost:8080/"
        },
        "id": "MNVuqrmgOnnF",
        "outputId": "e7271d66-c107-43b1-c19d-5529a132558f"
      },
      "outputs": [
        {
          "name": "stdout",
          "output_type": "stream",
          "text": [
            "11 is Odd\n"
          ]
        }
      ],
      "source": [
        "def oe(x):\n",
        "  if x%2 ==0:\n",
        "    print(f\"{x} is Even\")\n",
        "  else:\n",
        "    print(f\"{x} is Odd\")\n",
        "\n",
        "oe(11)"
      ]
    },
    {
      "cell_type": "markdown",
      "metadata": {
        "id": "PH7VEP8eOnnF"
      },
      "source": [
        "Hey smarty! lets use both the functions together to check whether the square of 3,6 and 21 are odd or even.\n"
      ]
    },
    {
      "cell_type": "code",
      "execution_count": null,
      "metadata": {
        "colab": {
          "base_uri": "https://localhost:8080/"
        },
        "id": "lhFMpKfHOnnF",
        "outputId": "e247afab-6c85-4b0b-fb8f-7926b7e84a70"
      },
      "outputs": [
        {
          "name": "stdout",
          "output_type": "stream",
          "text": [
            "3 is Odd\n",
            "6 is Even\n",
            "21 is Odd\n"
          ]
        }
      ],
      "source": [
        " # your code here\n",
        "oe(3)\n",
        "oe(6)\n",
        "oe(21)"
      ]
    },
    {
      "cell_type": "markdown",
      "metadata": {
        "id": "aSnw4vEHOnnF"
      },
      "source": [
        "hey hey! You did a great code. Did you see the benefit of using functions"
      ]
    },
    {
      "cell_type": "markdown",
      "metadata": {
        "id": "7TThdIkzOnnG"
      },
      "source": [
        "# Loops and Iterations"
      ]
    },
    {
      "cell_type": "markdown",
      "metadata": {
        "id": "MyKf8rF1OnnG"
      },
      "source": [
        "## If statement\n",
        "\n",
        "<p style='text-align: right;'> 1 + 2 + 3 = 6 points </p>\n"
      ]
    },
    {
      "cell_type": "code",
      "execution_count": null,
      "metadata": {
        "colab": {
          "base_uri": "https://localhost:8080/",
          "height": 321
        },
        "id": "8jLCzSQ9Tafb",
        "outputId": "1ab609ca-b776-458f-8cf7-8f1a4a6ff6a7"
      },
      "outputs": [
        {
          "data": {
            "text/html": [
              "\n",
              "        <iframe\n",
              "            width=\"600\"\n",
              "            height=\"300\"\n",
              "            src=\"https://www.youtube.com/embed/https://www.youtube.com/watch?v=CLqw5KZZ8Dg&list=PLsR_0x6BuM-HJZT6Xzj-088N4hN3KsDME&index=11\"\n",
              "            frameborder=\"0\"\n",
              "            allowfullscreen\n",
              "        ></iframe>\n",
              "        "
            ],
            "text/plain": [
              "<IPython.lib.display.YouTubeVideo at 0x7efe8518e810>"
            ]
          },
          "execution_count": 9,
          "metadata": {},
          "output_type": "execute_result"
        }
      ],
      "source": [
        "# conditions\n",
        "YouTubeVideo('https://www.youtube.com/watch?v=CLqw5KZZ8Dg&list=PLsR_0x6BuM-HJZT6Xzj-088N4hN3KsDME&index=11',width=600,height=300)"
      ]
    },
    {
      "cell_type": "code",
      "execution_count": null,
      "metadata": {
        "colab": {
          "base_uri": "https://localhost:8080/"
        },
        "id": "3srU1iT1OnnG",
        "outputId": "6240e2cf-ffa0-45a2-e355-c3a1231d4eef"
      },
      "outputs": [
        {
          "name": "stdout",
          "output_type": "stream",
          "text": [
            "3\n"
          ]
        }
      ],
      "source": [
        "#Declare a variable x equal to a number of your choice.\n",
        "#your code here\n",
        "x =  3\n",
        "print(x)"
      ]
    },
    {
      "cell_type": "code",
      "execution_count": null,
      "metadata": {
        "colab": {
          "base_uri": "https://localhost:8080/"
        },
        "id": "qjbO3dNLOnnH",
        "outputId": "19f0c35e-2219-465a-dcdd-4d9c28d440be"
      },
      "outputs": [
        {
          "name": "stdout",
          "output_type": "stream",
          "text": [
            "positive\n"
          ]
        }
      ],
      "source": [
        "#Using an if statement, print whether x is zero, positive or negative.\n",
        "if x > 0:\n",
        "  print(\"positive\")\n",
        "elif x < 0:\n",
        "  print(\"negative\")\n",
        "else:\n",
        "  print(\"zero\")"
      ]
    },
    {
      "cell_type": "code",
      "execution_count": null,
      "metadata": {
        "colab": {
          "base_uri": "https://localhost:8080/"
        },
        "id": "Qje0Z0zLOnnH",
        "outputId": "d7f22724-684f-43b4-d288-f3ebb04fc460"
      },
      "outputs": [
        {
          "name": "stdout",
          "output_type": "stream",
          "text": [
            "positive\n",
            "negative\n",
            "zero\n"
          ]
        }
      ],
      "source": [
        "# Now Define a function, which takes input from the user and prints whether the given input is zero,positive or negative.\n",
        "def check_num(x):\n",
        "  if x > 0:\n",
        "    print(\"positive\")\n",
        "  elif x < 0:\n",
        "    print(\"negative\")\n",
        "  else:\n",
        "    print(\"zero\")\n",
        "\n",
        "check_num(10)\n",
        "check_num(-2)\n",
        "check_num(0)"
      ]
    },
    {
      "cell_type": "markdown",
      "metadata": {
        "id": "8QnzejuHOnnH"
      },
      "source": [
        "## For loop"
      ]
    },
    {
      "cell_type": "markdown",
      "metadata": {
        "id": "Nh3IHYqNOnnH"
      },
      "source": [
        "<p style='text-align: right;'> 2 points </p>\n"
      ]
    },
    {
      "cell_type": "code",
      "execution_count": null,
      "metadata": {
        "colab": {
          "base_uri": "https://localhost:8080/",
          "height": 321
        },
        "id": "5iohidqhTzVZ",
        "outputId": "ba74b218-b345-472e-becc-65127610f5e7"
      },
      "outputs": [
        {
          "data": {
            "text/html": [
              "\n",
              "        <iframe\n",
              "            width=\"600\"\n",
              "            height=\"300\"\n",
              "            src=\"https://www.youtube.com/embed/https://www.youtube.com/watch?v=56-IOucIwAU&list=PLsR_0x6BuM-HJZT6Xzj-088N4hN3KsDME&index=12\"\n",
              "            frameborder=\"0\"\n",
              "            allowfullscreen\n",
              "        ></iframe>\n",
              "        "
            ],
            "text/plain": [
              "<IPython.lib.display.YouTubeVideo at 0x7efe85178090>"
            ]
          },
          "execution_count": 10,
          "metadata": {},
          "output_type": "execute_result"
        }
      ],
      "source": [
        "# Loops\n",
        "YouTubeVideo('https://www.youtube.com/watch?v=56-IOucIwAU&list=PLsR_0x6BuM-HJZT6Xzj-088N4hN3KsDME&index=12',width=600,height=300)"
      ]
    },
    {
      "cell_type": "code",
      "execution_count": null,
      "metadata": {
        "id": "50nOGOuqOnnI"
      },
      "outputs": [],
      "source": [
        "#Create a list x, such that it contains the elements - ‘India’, ‘Israel’,’Canada’.\n",
        "\n",
        "x = ['India','Israel','Canada']"
      ]
    },
    {
      "cell_type": "code",
      "execution_count": null,
      "metadata": {
        "colab": {
          "base_uri": "https://localhost:8080/"
        },
        "id": "VxfS6YKYOnnI",
        "outputId": "fb76e86c-92fd-4a95-89b9-4b260c6375f5"
      },
      "outputs": [
        {
          "name": "stdout",
          "output_type": "stream",
          "text": [
            "India\n",
            "Israel\n",
            "Canada\n"
          ]
        }
      ],
      "source": [
        "#Using For loop, iterate over the list and print the elements.\n",
        "for i in x:\n",
        "  print(i)"
      ]
    },
    {
      "cell_type": "markdown",
      "metadata": {
        "id": "jz61jhLlOnnI"
      },
      "source": [
        "<p style='text-align: right;'> 2 points </p>\n"
      ]
    },
    {
      "cell_type": "code",
      "execution_count": null,
      "metadata": {
        "colab": {
          "base_uri": "https://localhost:8080/"
        },
        "id": "mvqvf7OAOnnI",
        "outputId": "05dfcb08-39ce-4127-a435-4ebf672b3f02"
      },
      "outputs": [
        {
          "name": "stdout",
          "output_type": "stream",
          "text": [
            "2 * 1 = 2\n",
            "2 * 2 = 4\n",
            "2 * 3 = 6\n",
            "2 * 4 = 8\n",
            "2 * 5 = 10\n",
            "2 * 6 = 12\n",
            "2 * 7 = 14\n",
            "2 * 8 = 16\n",
            "2 * 9 = 18\n",
            "2 * 10 = 20\n"
          ]
        }
      ],
      "source": [
        "# Using For loop, print the table of 2.\n",
        "for i in range(1,11):\n",
        "  print(f\"2 * {i} = {2*i}\")"
      ]
    },
    {
      "cell_type": "markdown",
      "metadata": {
        "id": "yg4SzR4oOnnI"
      },
      "source": [
        "For a given list, x = [21, ‘hello,’cream’, 20,19,’village’], using for loop to iterate over the items and using - if statement print the items that are of type int"
      ]
    },
    {
      "cell_type": "code",
      "execution_count": null,
      "metadata": {
        "colab": {
          "base_uri": "https://localhost:8080/"
        },
        "id": "05SkQO3COnnJ",
        "outputId": "a68bb755-3c29-4012-c563-7f997a35740c"
      },
      "outputs": [
        {
          "name": "stdout",
          "output_type": "stream",
          "text": [
            "21 20 19 "
          ]
        }
      ],
      "source": [
        "#code here\n",
        "# hint: use if type(i) == int: condition to print variable which are of int type\n",
        "x = [21, 'hello','cream', 20,19,'village']\n",
        "for i in x:\n",
        "  if type(i)==int:\n",
        "    print(i, end = \" \")"
      ]
    },
    {
      "cell_type": "markdown",
      "metadata": {
        "id": "ab7bEu3xOnnJ"
      },
      "source": [
        "Using For loop, lets create a pattern. "
      ]
    },
    {
      "cell_type": "markdown",
      "metadata": {
        "id": "2KNZFi5zOnnJ"
      },
      "source": [
        "<p style='text-align: right;'> 10 points </p>\n"
      ]
    },
    {
      "cell_type": "code",
      "execution_count": null,
      "metadata": {
        "colab": {
          "background_save": true
        },
        "id": "kOZsmIiLOnnJ",
        "outputId": "b5776cee-fb81-4ef7-c17c-457efc9d86f2"
      },
      "outputs": [
        {
          "name": "stdout",
          "output_type": "stream",
          "text": [
            "* * * * * \n",
            "* * * * * \n",
            "* * * * * \n",
            "* * * * * \n",
            "* * * * * \n"
          ]
        }
      ],
      "source": [
        "# print the following pattern\n",
        "for i in range(5):\n",
        "  for i in range(5):\n",
        "    print(\"*\", end =\" \")\n",
        "  print()"
      ]
    },
    {
      "cell_type": "markdown",
      "metadata": {
        "id": "1WYgQq4AOnnJ"
      },
      "source": [
        "## While loop"
      ]
    },
    {
      "cell_type": "markdown",
      "metadata": {
        "id": "jyjME3nPOnnK"
      },
      "source": [
        "- Using while loop make a function that prints all the values between 1 to n. "
      ]
    },
    {
      "cell_type": "markdown",
      "metadata": {
        "id": "xbJ4Cz9gOnnK"
      },
      "source": [
        "<p style='text-align: right;'> 10 points </p>\n"
      ]
    },
    {
      "cell_type": "code",
      "execution_count": null,
      "metadata": {
        "id": "2k9Aij8_OnnK"
      },
      "outputs": [],
      "source": [
        "def counter(n):\n",
        " # add your code here"
      ]
    },
    {
      "cell_type": "code",
      "execution_count": null,
      "metadata": {
        "colab": {
          "base_uri": "https://localhost:8080/"
        },
        "id": "qd1VznT2OnnK",
        "outputId": "7cac2bee-0cb0-45c1-9c8a-cf994d083b25"
      },
      "outputs": [
        {
          "name": "stdout",
          "output_type": "stream",
          "text": [
            "1\n",
            "2\n",
            "3\n",
            "4\n",
            "5\n",
            "6\n",
            "7\n",
            "8\n",
            "9\n"
          ]
        }
      ],
      "source": [
        " counter(10) #this should print numbers from 1 to 10"
      ]
    },
    {
      "cell_type": "markdown",
      "metadata": {
        "id": "kKB5qVCxOnnL"
      },
      "source": [
        "### Write the code for the following, what is the output obtained?\n",
        "- Set a variable flag = True, num = 5\n",
        "- Run a while loop till flag = True\n",
        "- Inside the while loop - \n",
        "    - Increment the value of num by 5\n",
        "    - If value of num is greater then 50, set flag to be False"
      ]
    },
    {
      "cell_type": "code",
      "execution_count": null,
      "metadata": {
        "colab": {
          "base_uri": "https://localhost:8080/"
        },
        "id": "RsCW8__JOnnM",
        "outputId": "980de4fb-c5af-4c5e-86de-2b48a3c3ad02"
      },
      "outputs": [
        {
          "name": "stdout",
          "output_type": "stream",
          "text": [
            "5\n",
            "10\n",
            "15\n",
            "20\n",
            "25\n",
            "30\n",
            "35\n",
            "40\n",
            "45\n",
            "50\n"
          ]
        }
      ],
      "source": [
        "# your code here\n"
      ]
    },
    {
      "cell_type": "markdown",
      "metadata": {
        "id": "sQxbS2kzOnnM"
      },
      "source": [
        "Awsesome! Great job so far. Hope you fell in love with python now."
      ]
    },
    {
      "cell_type": "markdown",
      "metadata": {
        "id": "zroTaOSLOnnN"
      },
      "source": [
        "----------------------------------------------------------------------"
      ]
    },
    {
      "cell_type": "markdown",
      "metadata": {
        "id": "4ibh00DQOnnN"
      },
      "source": [
        "# Smile, you completed the first milestone :)!! "
      ]
    },
    {
      "cell_type": "markdown",
      "metadata": {
        "id": "erddMO8yOnnN"
      },
      "source": [
        "# Its Feedback Time!\n",
        "\n",
        "We hope you’ve enjoyed this course so far. We’re committed to help you use \"AI for All\" course to its full potential, so that you have a great learning experience. And that’s why we need your help in form of a feedback here.\n",
        "\n",
        "**Please fill this feedback form**\n",
        " https://zfrmz.in/MtRG5oWXBdesm6rmSM7N\n",
        " \n",
        "-------------------------------------\n",
        " "
      ]
    }
  ],
  "metadata": {
    "colab": {
      "collapsed_sections": [],
      "name": "(Updated)Python_Basics_withLinks_noCode.ipynb",
      "provenance": [],
      "include_colab_link": true
    },
    "interpreter": {
      "hash": "fb2d3f2a20add04007a107bc483b4e625069f7acb60837d887d77da2f0eec5b6"
    },
    "kernelspec": {
      "display_name": "Python 3.7.7 64-bit ('base': conda)",
      "name": "python3"
    },
    "language_info": {
      "codemirror_mode": {
        "name": "ipython",
        "version": 3
      },
      "file_extension": ".py",
      "mimetype": "text/x-python",
      "name": "python",
      "nbconvert_exporter": "python",
      "pygments_lexer": "ipython3",
      "version": "3.7.7"
    }
  },
  "nbformat": 4,
  "nbformat_minor": 0
}