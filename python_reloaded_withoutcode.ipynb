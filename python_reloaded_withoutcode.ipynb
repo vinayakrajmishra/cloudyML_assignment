{
  "metadata": {
    "kernelspec": {
      "language": "python",
      "display_name": "Python 3",
      "name": "python3"
    },
    "language_info": {
      "name": "python",
      "version": "3.7.12",
      "mimetype": "text/x-python",
      "codemirror_mode": {
        "name": "ipython",
        "version": 3
      },
      "pygments_lexer": "ipython3",
      "nbconvert_exporter": "python",
      "file_extension": ".py"
    },
    "colab": {
      "name": "python_reloaded_withoutcode.ipynb",
      "provenance": [],
      "collapsed_sections": [
        "slh282AprP4M",
        "W-7tOm5CrP4P",
        "7Mo7XNVNrP4W",
        "_jF5-7_PrP4e",
        "fI6TbJ9IrP4e",
        "kPw6N8X_rP45"
      ],
      "include_colab_link": true
    }
  },
  "nbformat_minor": 0,
  "nbformat": 4,
  "cells": [
    {
      "cell_type": "markdown",
      "metadata": {
        "id": "view-in-github",
        "colab_type": "text"
      },
      "source": [
        "<a href=\"https://colab.research.google.com/github/vinayakrajmishra/cloudyML_assignment/blob/main/python_reloaded_withoutcode.ipynb\" target=\"_parent\"><img src=\"https://colab.research.google.com/assets/colab-badge.svg\" alt=\"Open In Colab\"/></a>"
      ]
    },
    {
      "cell_type": "markdown",
      "source": [
        "\n",
        "<center> <h1 style=\"background-color:orange; color:white\"><br>Python Python Everywhere<br></h1></center>"
      ],
      "metadata": {
        "id": "31TVqzSyrP3-"
      }
    },
    {
      "cell_type": "markdown",
      "source": [
        "# `What you can do with Python?`\n",
        "<h1>fields where you can use Python with Libraries & Frameworks</h1>\n",
        "\n",
        "|OpenCV| Web Scrapping | Machine Learning | Automation Testing | Web Development | Game Devlopment |\n",
        "| --- | --- | --- | --- | --- | --- | \n",
        "|* Sciki-image |* Selenium |* Pandas |* PyUnit |* Flask |* Pand3d\n",
        "|* OpenCV |* Beautiful Soup|* Numpy |* PyTest |* Django |* Arcade\n",
        "|* Pillow |* Requests|* Matplotlib |* Behave |* Web2Py |* PyGlet \n",
        "|* Mahotas |* Lxml|* Seaborn |* Robot |* Cheerypy |* PyOpenGl\n",
        "|* SimpleITK|* Scrapy |* Scikit-learn |* Splinter |* Bottle|* PyGame\n",
        "|*** |*** |* Scipy |*** |* Pyramid |***\n",
        "|*** |*** |* Keras |*** |* CubicWeb |***\n",
        "|*** |*** |* TensorFlow |*** |* Dash |***\n",
        "|*** |*** |* PyTorch |*** |* Falcon |***\n",
        "|*** |*** |* Theano |*** |* TurboGears |***\n",
        "\n",
        "\n"
      ],
      "metadata": {
        "id": "Bc3xJTPCrP4C"
      }
    },
    {
      "cell_type": "markdown",
      "source": [
        "📌 In above table you can see fields like `OpenCV`, `Web Scrapping`, **`Machine Learning`**, `Automation Testing`, `Web Development`, `Game Development`, these are the all field where you can use Python. <br>\n",
        "Yes application of Python are huge and wide <br>\n"
      ],
      "metadata": {
        "id": "kcBChyR-rP4D"
      }
    },
    {
      "cell_type": "markdown",
      "source": [
        "<center><h5 style=\"background-color:orange;\"><br>Important Libraries for ML and Data Science<br></h5></center>"
      ],
      "metadata": {
        "id": "L2OHN1WrrP4D"
      }
    },
    {
      "cell_type": "markdown",
      "source": [
        "📌 These are the must know libraryies\n",
        "* **`Numpy`** - Efficient n-dimensional arrays, Linear Algebra, Random Number capabilities\n",
        "* **`Scipy`** - Scientifiv computing tools like Calculus, Signal Processing\n",
        "* **`Pandas`** - Data Reading(multiple formats), manipulation and Cleaning in python\n",
        "* **`Seaborn`** - Built on top of Matplotlib, provides a high-level interface for drawing attractive and informative charts\n",
        "* **`Matplotlib`** - Fundamental library for Data Visualization \n",
        "* **`StatsModel`** - Statistical models, Statical tests, Statical data exploration\n",
        "* **`Scikit-learn`** - Basic Data Preprocessing, Machine Learning Library"
      ],
      "metadata": {
        "id": "bwA3tk3PrP4E"
      }
    },
    {
      "cell_type": "markdown",
      "source": [
        "To learn quick Python I will suggest you to go through:\n",
        "1. [Basic Python in 1 Hour](https://www.youtube.com/watch?v=kqtD5dpn9C8)\n",
        "2. [Some more Python](https://www.youtube.com/watch?v=_uQrJ0TkZlc)\n",
        "\n",
        "As you have gone through above link Lets start learning python basic as your first assignment"
      ],
      "metadata": {
        "id": "7_f6JXk4rP4E"
      }
    },
    {
      "cell_type": "markdown",
      "source": [
        "<center>    \n",
        "<div class=\"list-group\" id=\"list-tab\" role=\"tablist\">\n",
        "  <h2 class=\"list-group-item list-group-item-action\" style=\"background-color:orange; color:white\" data-toggle=\"list\"  role=\"tab\" aria-controls=\"home\"><br>Quick Python Content!<br></h2>  \n",
        "  \n",
        "  <h4><a class=\"list-group-item list-group-item-action\" data-toggle=\"list\" href=\"#1\" role=\"tab\" aria-controls=\"profile\" style=\"color:orange\">Hi Code<span class=\"badge badge-primary badge-pill\" style=\"background-color:orange; color:white\">[1]</span></a></h4>\n",
        "    \n",
        "  <h4><a class=\"list-group-item list-group-item-action\" data-toggle=\"list\" href=\"#2\" role=\"tab\" aria-controls=\"profile\" style=\"color:orange\">Variables(Data Types)<span class=\"badge badge-primary badge-pill\" style=\"background-color:orange; color:white\">[2]</span></a></h4>\n",
        "  \n",
        "  <h4><a class=\"list-group-item list-group-item-action\" data-toggle=\"list\" href=\"#3\" role=\"tab\" aria-controls=\"settings\" style=\"color:orange\">Assignment Variables & Data Types<span class=\"badge badge-primary badge-pill\" style=\"background-color:orange; color:white\">[3]</span></a></h4>\n",
        "  \n",
        "  <h4><a class=\"list-group-item list-group-item-action\"  data-toggle=\"list\" href=\"#4\" role=\"tab\" aria-controls=\"settings\" style=\"color:orange\">Operators<span class=\"badge badge-primary badge-pill\" style=\"background-color:orange; color:white\">[4]</span></a></h4>\n",
        "  \n",
        "  <h4><a class=\"list-group-item list-group-item-action\" data-toggle=\"list\" href=\"#5\" role=\"tab\" aria-controls=\"settings\" style=\"color:orange\">Assignment Operators<span class=\"badge badge-primary badge-pill\" style=\"background-color:orange; color:white\">[5]</span></a></h4> \n",
        "  \n",
        "  <h4><a class=\"list-group-item list-group-item-action\" data-toggle=\"list\" href=\"#6\" role=\"tab\" aria-controls=\"settings\" style=\"color:orange\">Conditional Statements<span class=\"badge badge-primary badge-pill\" style=\"background-color:orange; color:white\">[6]</span></a></h4>\n",
        "\n",
        "  <h4><a class=\"list-group-item list-group-item-action\" data-toggle=\"list\" href=\"#7\" role=\"tab\" aria-controls=\"settings\" style=\"color:orange\">Assignment Conditional Statements<span class=\"badge badge-primary badge-pill\" style=\"background-color:orange; color:white\">[7]</span></a></h4> \n",
        "  \n",
        "  <h4><a class=\"list-group-item list-group-item-action\" data-toggle=\"list\" href=\"#8\" role=\"tab\" aria-controls=\"settings\" style=\"color:orange\">Loops<span class=\"badge badge-primary badge-pill\" style=\"background-color:orange; color:white\">[8]</span></a></h4>\n",
        "\n",
        "  <h4><a class=\"list-group-item list-group-item-action\" data-toggle=\"list\" href=\"#9\" role=\"tab\" aria-controls=\"settings\" style=\"color:orange\">Jump Statements<span class=\"badge badge-primary badge-pill\" style=\"background-color:orange;color:white\">[9]</span></a></h4>\n",
        "    \n",
        "  <h4><a class=\"list-group-item list-group-item-action\" data-toggle=\"list\" href=\"#10\" role=\"tab\" aria-controls=\"settings\" style=\"color:orange\">Assignment Loops and Jump Statements<span class=\"badge badge-primary badge-pill\" style=\"background-color:orange; color:white\">[10]</span></a></h4>\n",
        "    \n",
        "   <h4><a class=\"list-group-item list-group-item-action\" data-toggle=\"list\" href=\"#11\" role=\"tab\" aria-controls=\"settings\" style=\"color:orange\">Python Data Structures<span class=\"badge badge-primary badge-pill\" style=\"background-color:orange; color:white\">[11]</span></a></h4> \n",
        "   \n",
        "   <h4><a class=\"list-group-item list-group-item-action\" data-toggle=\"list\" href=\"#12\" role=\"tab\" aria-controls=\"settings\" style=\"color:orange\">Assignment Python Data Structures List<span class=\"badge badge-primary badge-pill\" style=\"background-color:orange; color:white\">[12]</span></a></h4> \n",
        "    \n",
        "   <h4><a class=\"list-group-item list-group-item-action\" data-toggle=\"list\" href=\"#13\" role=\"tab\" aria-controls=\"settings\" style=\"color:orange\">Assignment Python Data Structures List&Set<span class=\"badge badge-primary badge-pill\" style=\"background-color:orange; color:white\">[13]</span></a></h4>\n",
        "    \n",
        "   <h4><a class=\"list-group-item list-group-item-action\" data-toggle=\"list\" href=\"#14\" role=\"tab\" aria-controls=\"settings\" style=\"color:orange\">Functions<span class=\"badge badge-primary badge-pill\" style=\"background-color:orange; color:white\">[14]</span></a></h4>\n",
        "    <h4><a class=\"list-group-item list-group-item-action\" data-toggle=\"list\" href=\"#15\" role=\"tab\" aria-controls=\"settings\" style=\"color:orange\">Lambda Expressions<span class=\"badge badge-primary badge-pill\" style=\"background-color:orange; color:white\">[15]</span></a></h4>\n",
        "    <h4><a class=\"list-group-item list-group-item-action\" data-toggle=\"list\" href=\"#16\" role=\"tab\" aria-controls=\"settings\" style=\"color:orange\">Comprehensions<span class=\"badge badge-primary badge-pill\" style=\"background-color:orange; color:white\">[16]</span></a></h4>\n",
        "    <h4><a class=\"list-group-item list-group-item-action\" data-toggle=\"list\" href=\"#17\" role=\"tab\" aria-controls=\"settings\" style=\"color:orange\">Enumerate<span class=\"badge badge-primary badge-pill\" style=\"background-color:orange; color:white\">[17]</span></a></h4>"
      ],
      "metadata": {
        "execution": {
          "iopub.status.busy": "2021-12-09T12:39:09.415533Z",
          "iopub.execute_input": "2021-12-09T12:39:09.415854Z",
          "iopub.status.idle": "2021-12-09T12:39:09.431031Z",
          "shell.execute_reply.started": "2021-12-09T12:39:09.415823Z",
          "shell.execute_reply": "2021-12-09T12:39:09.429867Z"
        },
        "id": "ZI9brqKsrP4E"
      }
    },
    {
      "cell_type": "code",
      "execution_count": null,
      "source": [
        "# ignore this code continue please\n",
        "from IPython.display import HTML"
      ],
      "outputs": [],
      "metadata": {
        "execution": {
          "iopub.status.busy": "2021-12-15T09:30:23.269935Z",
          "iopub.execute_input": "2021-12-15T09:30:23.27029Z",
          "iopub.status.idle": "2021-12-15T09:30:23.275676Z",
          "shell.execute_reply.started": "2021-12-15T09:30:23.270256Z",
          "shell.execute_reply": "2021-12-15T09:30:23.27429Z"
        },
        "trusted": true,
        "id": "j1xn21WwrP4G"
      }
    },
    {
      "cell_type": "markdown",
      "source": [
        "<a id='1'></a><center> <h3 style=\"background-color:orange; color:white\" ><br>Hi, there<br></h3>"
      ],
      "metadata": {
        "id": "yVE7L7dorP4H"
      }
    },
    {
      "cell_type": "code",
      "execution_count": null,
      "source": [
        "YouTubeVideo('https://www.youtube.com/watch?v=izgBmCnp1Oc&list=PLsR_0x6BuM-HJZT6Xzj-088N4hN3KsDME&index=1',width=600,height=300)"
      ],
      "outputs": [
        {
          "output_type": "execute_result",
          "data": {
            "text/html": [
              "\n",
              "        <iframe\n",
              "            width=\"600\"\n",
              "            height=\"300\"\n",
              "            src=\"https://www.youtube.com/embed/https://www.youtube.com/watch?v=izgBmCnp1Oc&list=PLsR_0x6BuM-HJZT6Xzj-088N4hN3KsDME&index=1\"\n",
              "            frameborder=\"0\"\n",
              "            allowfullscreen\n",
              "        ></iframe>\n",
              "        "
            ],
            "text/plain": [
              "<IPython.lib.display.YouTubeVideo at 0x7fb876aefb10>"
            ]
          },
          "metadata": {},
          "execution_count": 16
        }
      ],
      "metadata": {
        "execution": {
          "iopub.status.busy": "2021-12-15T09:45:09.05577Z",
          "iopub.execute_input": "2021-12-15T09:45:09.056121Z",
          "iopub.status.idle": "2021-12-15T09:45:09.14828Z",
          "shell.execute_reply.started": "2021-12-15T09:45:09.056087Z",
          "shell.execute_reply": "2021-12-15T09:45:09.147159Z"
        },
        "trusted": true,
        "colab": {
          "base_uri": "https://localhost:8080/",
          "height": 321
        },
        "id": "9HMHbQzdrP4I",
        "outputId": "95ae4364-8b2f-45ff-ecca-256ccc3d299a"
      }
    },
    {
      "cell_type": "code",
      "execution_count": null,
      "source": [
        "# What is your name! Want to print your name! \n",
        "print(\"Hi it's Vinayak raj Mishra\")\n"
      ],
      "outputs": [
        {
          "output_type": "stream",
          "name": "stdout",
          "text": [
            "Hi it's Vinayak raj Mishra\n"
          ]
        }
      ],
      "metadata": {
        "execution": {
          "iopub.status.busy": "2021-12-13T05:20:57.005028Z",
          "iopub.execute_input": "2021-12-13T05:20:57.005459Z",
          "iopub.status.idle": "2021-12-13T05:20:57.039904Z",
          "shell.execute_reply.started": "2021-12-13T05:20:57.005334Z",
          "shell.execute_reply": "2021-12-13T05:20:57.038882Z"
        },
        "trusted": true,
        "colab": {
          "base_uri": "https://localhost:8080/"
        },
        "id": "kOtDhbwWrP4I",
        "outputId": "88a665cf-e40f-4c1d-ec53-642c98d5e026"
      }
    },
    {
      "cell_type": "markdown",
      "source": [
        "* `()` <= `Parentheses`\n",
        "* `''` <= `Single Quotes`\n",
        "* `\"\"` <= `Double Quotes`\n",
        "* `\\n` <= `New_line `\n",
        "* `#` <= `Used to comment inside code`"
      ],
      "metadata": {
        "id": "kJxHTHrVrP4I"
      }
    },
    {
      "cell_type": "code",
      "execution_count": null,
      "source": [
        "# Only use one print function\n",
        "# \\n <= it will break current line \n",
        "print(\"Hello, This is Vinayak Raj Mishra\\n Writing assignment of cloudy.ml\")"
      ],
      "outputs": [
        {
          "output_type": "stream",
          "name": "stdout",
          "text": [
            "Hello, This is Vinayak Raj Mishra\n",
            " Writing assignment of cloudy.ml\n"
          ]
        }
      ],
      "metadata": {
        "execution": {
          "iopub.status.busy": "2021-12-13T05:35:13.151084Z",
          "iopub.execute_input": "2021-12-13T05:35:13.151658Z",
          "iopub.status.idle": "2021-12-13T05:35:13.156858Z",
          "shell.execute_reply.started": "2021-12-13T05:35:13.151622Z",
          "shell.execute_reply": "2021-12-13T05:35:13.155917Z"
        },
        "trusted": true,
        "colab": {
          "base_uri": "https://localhost:8080/"
        },
        "id": "zzmSYJDLrP4I",
        "outputId": "89bcd177-af56-42ce-e07a-d1edb38c7ce4"
      }
    },
    {
      "cell_type": "markdown",
      "source": [
        "<a id='2'></a><center> <h3 style=\"background-color:orange; color:white\" ><br>Variables<br></h3>"
      ],
      "metadata": {
        "id": "W23eDrScrP4I"
      }
    },
    {
      "cell_type": "code",
      "execution_count": null,
      "source": [
        "# variable-1\n",
        "YouTubeVideo('https://www.youtube.com/watch?v=YdDfEbaUPJs&list=PLsR_0x6BuM-HJZT6Xzj-088N4hN3KsDME&index=2',width=600,height=300)"
      ],
      "outputs": [
        {
          "output_type": "execute_result",
          "data": {
            "text/html": [
              "\n",
              "        <iframe\n",
              "            width=\"600\"\n",
              "            height=\"300\"\n",
              "            src=\"https://www.youtube.com/embed/https://www.youtube.com/watch?v=YdDfEbaUPJs&list=PLsR_0x6BuM-HJZT6Xzj-088N4hN3KsDME&index=2\"\n",
              "            frameborder=\"0\"\n",
              "            allowfullscreen\n",
              "        ></iframe>\n",
              "        "
            ],
            "text/plain": [
              "<IPython.lib.display.YouTubeVideo at 0x7fb876b244d0>"
            ]
          },
          "metadata": {},
          "execution_count": 19
        }
      ],
      "metadata": {
        "execution": {
          "iopub.status.busy": "2021-12-15T09:51:00.736222Z",
          "iopub.execute_input": "2021-12-15T09:51:00.736548Z",
          "iopub.status.idle": "2021-12-15T09:51:00.827208Z",
          "shell.execute_reply.started": "2021-12-15T09:51:00.736516Z",
          "shell.execute_reply": "2021-12-15T09:51:00.826553Z"
        },
        "trusted": true,
        "colab": {
          "base_uri": "https://localhost:8080/",
          "height": 321
        },
        "id": "NCNBX8-JrP4J",
        "outputId": "b982ff6f-9fc9-4aa0-9fe3-02a89aefddde"
      }
    },
    {
      "cell_type": "code",
      "execution_count": null,
      "source": [
        "# variable-2\n",
        "YouTubeVideo('https://www.youtube.com/watch?v=gOcRxdGovhc&list=PLsR_0x6BuM-HJZT6Xzj-088N4hN3KsDME&index=3',width=600,height=300)"
      ],
      "outputs": [
        {
          "output_type": "execute_result",
          "data": {
            "text/html": [
              "\n",
              "        <iframe\n",
              "            width=\"600\"\n",
              "            height=\"300\"\n",
              "            src=\"https://www.youtube.com/embed/https://www.youtube.com/watch?v=gOcRxdGovhc&list=PLsR_0x6BuM-HJZT6Xzj-088N4hN3KsDME&index=3\"\n",
              "            frameborder=\"0\"\n",
              "            allowfullscreen\n",
              "        ></iframe>\n",
              "        "
            ],
            "text/plain": [
              "<IPython.lib.display.YouTubeVideo at 0x7fb876af7dd0>"
            ]
          },
          "metadata": {},
          "execution_count": 20
        }
      ],
      "metadata": {
        "execution": {
          "iopub.status.busy": "2021-12-15T09:53:24.170957Z",
          "iopub.execute_input": "2021-12-15T09:53:24.171386Z",
          "iopub.status.idle": "2021-12-15T09:53:24.262105Z",
          "shell.execute_reply.started": "2021-12-15T09:53:24.171349Z",
          "shell.execute_reply": "2021-12-15T09:53:24.261429Z"
        },
        "trusted": true,
        "colab": {
          "base_uri": "https://localhost:8080/",
          "height": 321
        },
        "id": "0MVVoi-drP4J",
        "outputId": "49f4c001-64f4-49e6-b84b-2ea6d47b9945"
      }
    },
    {
      "cell_type": "code",
      "execution_count": null,
      "source": [
        "# define variables named as with values: mukesh 7, z 6, rohan 5, longitude 4,\n",
        "mukesh = 7\n",
        "z = 6\n",
        "rohan = 5\n",
        "longitute = 4"
      ],
      "outputs": [],
      "metadata": {
        "execution": {
          "iopub.status.busy": "2021-12-13T05:40:01.12116Z",
          "iopub.execute_input": "2021-12-13T05:40:01.121499Z",
          "iopub.status.idle": "2021-12-13T05:40:01.126402Z",
          "shell.execute_reply.started": "2021-12-13T05:40:01.121464Z",
          "shell.execute_reply": "2021-12-13T05:40:01.125708Z"
        },
        "trusted": true,
        "id": "hqiWhz6srP4K"
      }
    },
    {
      "cell_type": "code",
      "execution_count": null,
      "source": [
        "# print required variable\n",
        "mukesh"
      ],
      "outputs": [
        {
          "output_type": "execute_result",
          "data": {
            "text/plain": [
              "7"
            ]
          },
          "metadata": {},
          "execution_count": 5
        }
      ],
      "metadata": {
        "execution": {
          "iopub.status.busy": "2021-12-13T05:40:18.615837Z",
          "iopub.execute_input": "2021-12-13T05:40:18.616711Z",
          "iopub.status.idle": "2021-12-13T05:40:18.625081Z",
          "shell.execute_reply.started": "2021-12-13T05:40:18.616672Z",
          "shell.execute_reply": "2021-12-13T05:40:18.624216Z"
        },
        "trusted": true,
        "colab": {
          "base_uri": "https://localhost:8080/"
        },
        "id": "W77FFVIqrP4K",
        "outputId": "4a43c826-548b-491d-ffce-a2fdfb2f8011"
      }
    },
    {
      "cell_type": "markdown",
      "source": [
        "Variable Assignment:\n",
        "**`Variable_Name = Value`**\n",
        "\n",
        "Variables Naming Rules:\n",
        "* `Python is case-senstive` => x=5 is different from X=5 (one is lowe and other is upper case)\n",
        "* `var name can't start with special character except underscore(_)` => _X = 7 is `valid`, @X = 7 is `invalid`\n",
        "* `var name can't start with number` => 9X = 7 is `invalid`, X9 = 7 is `valid`\n",
        "* can't use `keywords` as a variable name\n",
        "    * "
      ],
      "metadata": {
        "id": "89kwQhu5rP4K"
      }
    },
    {
      "cell_type": "markdown",
      "source": [
        "# * **`Declaring a Variable`** <br>\n"
      ],
      "metadata": {
        "id": "hiYt4qiJrP4K"
      }
    },
    {
      "cell_type": "code",
      "execution_count": null,
      "source": [
        "# declare 4 variables with values as: ur_age 21,ur_weight 50.6, ur_first_name = 'Mukesh',ur_last_name = \"Manral\", TrueOrFalse compare if  ur_last_name == ur_first_name\n",
        "ur_age, ur_weight, ur_first_name, ur_last_name = 21,50.6,'Mukesh','Marnal'\n",
        "trueorfalse= ur_last_name == ur_first_name \n",
        "trueorfalse"
      ],
      "outputs": [
        {
          "output_type": "execute_result",
          "data": {
            "text/plain": [
              "False"
            ]
          },
          "metadata": {},
          "execution_count": 9
        }
      ],
      "metadata": {
        "execution": {
          "iopub.status.busy": "2021-12-13T05:47:55.407825Z",
          "iopub.execute_input": "2021-12-13T05:47:55.408175Z",
          "iopub.status.idle": "2021-12-13T05:47:55.413447Z",
          "shell.execute_reply.started": "2021-12-13T05:47:55.40814Z",
          "shell.execute_reply": "2021-12-13T05:47:55.412668Z"
        },
        "trusted": true,
        "id": "5pomjoc_rP4L",
        "colab": {
          "base_uri": "https://localhost:8080/"
        },
        "outputId": "733293f2-050a-48d0-d2d0-76851b5b5356"
      }
    },
    {
      "cell_type": "markdown",
      "source": [
        "# * **`Data Type(Type of variable)`**"
      ],
      "metadata": {
        "id": "aD6_WvkKrP4L"
      }
    },
    {
      "cell_type": "markdown",
      "source": [
        "| Name | Type | Description |\n",
        "| ---- | ---- | ----| \n",
        "|Integers | int | Integer number, like 34,-56 ...|\n",
        "|Float | float | Decimal number, like 3.4,-5.6 ...|\n",
        "|String| str | Ordered sequence of characters, like 'your name' |\n",
        "|Boolean |bool |Logical values indicating True or False only |"
      ],
      "metadata": {
        "id": "snzoPkD3rP4L"
      }
    },
    {
      "cell_type": "code",
      "execution_count": null,
      "source": [
        "# print type of ur_age,ur_weight,ur_first_name,ur_last_name variables\n",
        "print(type(ur_age))\n",
        "print(type(ur_weight))\n",
        "print(type(ur_first_name))\n",
        "print(type(ur_last_name))\n",
        "print(type(trueorfalse))"
      ],
      "outputs": [
        {
          "output_type": "stream",
          "name": "stdout",
          "text": [
            "<class 'int'>\n",
            "<class 'float'>\n",
            "<class 'str'>\n",
            "<class 'str'>\n",
            "<class 'bool'>\n"
          ]
        }
      ],
      "metadata": {
        "execution": {
          "iopub.status.busy": "2021-12-13T05:48:10.441594Z",
          "iopub.execute_input": "2021-12-13T05:48:10.44207Z",
          "iopub.status.idle": "2021-12-13T05:48:10.449074Z",
          "shell.execute_reply.started": "2021-12-13T05:48:10.442018Z",
          "shell.execute_reply": "2021-12-13T05:48:10.448114Z"
        },
        "trusted": true,
        "colab": {
          "base_uri": "https://localhost:8080/"
        },
        "id": "Bb_fmhaOrP4L",
        "outputId": "27d78e22-e811-44d6-a7cf-e6f32b018c05"
      }
    },
    {
      "cell_type": "code",
      "execution_count": null,
      "source": [
        "# print values of ur_age,ur_weight,ur_first_name,ur_last_name variables\n",
        "print(ur_age)\n",
        "print(ur_weight)\n",
        "print(ur_first_name)\n",
        "print(ur_last_name)"
      ],
      "outputs": [
        {
          "output_type": "stream",
          "name": "stdout",
          "text": [
            "21\n",
            "50.6\n",
            "Mukesh\n",
            "Marnal\n"
          ]
        }
      ],
      "metadata": {
        "execution": {
          "iopub.status.busy": "2021-12-13T05:49:37.86939Z",
          "iopub.execute_input": "2021-12-13T05:49:37.869716Z",
          "iopub.status.idle": "2021-12-13T05:49:37.875995Z",
          "shell.execute_reply.started": "2021-12-13T05:49:37.869681Z",
          "shell.execute_reply": "2021-12-13T05:49:37.875066Z"
        },
        "trusted": true,
        "colab": {
          "base_uri": "https://localhost:8080/"
        },
        "id": "iaADKqUwrP4L",
        "outputId": "3e76daa3-8d50-4ac5-8cb1-5813dbde3be3"
      }
    },
    {
      "cell_type": "code",
      "execution_count": null,
      "source": [
        "# make 2 variables with values as: ur_first_name 'Mukesh',ur_last_name'Mukesh' \n",
        "ur_first_name, ur_last_name =\"Mukesh\", \"Mukesh\"\n",
        "# make a variable TrueOrFalse which will have comparison of variables ur_last_name == ur_first_name \n",
        "TrueORFalse = ur_last_name == ur_first_name\n",
        "print(TrueORFalse)"
      ],
      "outputs": [
        {
          "output_type": "stream",
          "name": "stdout",
          "text": [
            "True\n"
          ]
        }
      ],
      "metadata": {
        "execution": {
          "iopub.status.busy": "2021-12-13T05:50:49.325048Z",
          "iopub.execute_input": "2021-12-13T05:50:49.32591Z",
          "iopub.status.idle": "2021-12-13T05:50:49.332343Z",
          "shell.execute_reply.started": "2021-12-13T05:50:49.325858Z",
          "shell.execute_reply": "2021-12-13T05:50:49.331287Z"
        },
        "trusted": true,
        "colab": {
          "base_uri": "https://localhost:8080/"
        },
        "id": "Hde3D2uQrP4L",
        "outputId": "f25d08d0-37dd-4282-a4dd-808e2089ae63"
      }
    },
    {
      "cell_type": "code",
      "execution_count": null,
      "source": [
        "# print variables named as (your name and your age)\n",
        "print(f\"Name is: {ur_first_name} and age is: {ur_age}\")"
      ],
      "outputs": [
        {
          "output_type": "stream",
          "name": "stdout",
          "text": [
            "Name is: Mukesh and age is: 21\n"
          ]
        }
      ],
      "metadata": {
        "execution": {
          "iopub.status.busy": "2021-12-13T05:51:34.885484Z",
          "iopub.execute_input": "2021-12-13T05:51:34.885949Z",
          "iopub.status.idle": "2021-12-13T05:51:34.891761Z",
          "shell.execute_reply.started": "2021-12-13T05:51:34.885913Z",
          "shell.execute_reply": "2021-12-13T05:51:34.890717Z"
        },
        "trusted": true,
        "colab": {
          "base_uri": "https://localhost:8080/"
        },
        "id": "XvFvwpEQrP4L",
        "outputId": "cbc0451a-0d49-4e73-b744-f7f35222dc74"
      }
    },
    {
      "cell_type": "markdown",
      "source": [
        "# *How Variables works in Python\n",
        "[To see how python code is being executed internally](https://pythontutor.com/visualize.html#mode=display)"
      ],
      "metadata": {
        "id": "SLTS9twurP4L"
      }
    },
    {
      "cell_type": "code",
      "execution_count": null,
      "source": [
        "# quick variables swap\n",
        "# define 3 variables with values as :x 10, y = x,x 3 \n",
        "x = 10 \n",
        "y = x\n",
        "x = 3\n",
        "# print x,y\n",
        "print(x)\n",
        "print(y)"
      ],
      "outputs": [
        {
          "output_type": "stream",
          "name": "stdout",
          "text": [
            "3\n",
            "10\n"
          ]
        }
      ],
      "metadata": {
        "execution": {
          "iopub.status.busy": "2021-12-13T06:26:21.636233Z",
          "iopub.execute_input": "2021-12-13T06:26:21.636531Z",
          "iopub.status.idle": "2021-12-13T06:26:21.642175Z",
          "shell.execute_reply.started": "2021-12-13T06:26:21.636499Z",
          "shell.execute_reply": "2021-12-13T06:26:21.641262Z"
        },
        "trusted": true,
        "colab": {
          "base_uri": "https://localhost:8080/"
        },
        "id": "2XCoERjmrP4L",
        "outputId": "022d4182-5d39-471b-dd64-3ba25cd3cb3f"
      }
    },
    {
      "cell_type": "markdown",
      "source": [
        "\n",
        "<a id='3'></a><center> <h3 style=\"background-color:orange; color:white\" ><br>Assignment Variables & Data Types<br></h3>"
      ],
      "metadata": {
        "id": "kpSfcblGrP4M"
      }
    },
    {
      "cell_type": "code",
      "execution_count": null,
      "source": [
        "# Data Structures\n",
        "YouTubeVideo('https://www.youtube.com/watch?v=R0yDN07Jw_c&list=PLsR_0x6BuM-HJZT6Xzj-088N4hN3KsDME&index=4',width=600,height=300)"
      ],
      "outputs": [
        {
          "output_type": "execute_result",
          "data": {
            "text/html": [
              "\n",
              "        <iframe\n",
              "            width=\"600\"\n",
              "            height=\"300\"\n",
              "            src=\"https://www.youtube.com/embed/https://www.youtube.com/watch?v=R0yDN07Jw_c&list=PLsR_0x6BuM-HJZT6Xzj-088N4hN3KsDME&index=4\"\n",
              "            frameborder=\"0\"\n",
              "            allowfullscreen\n",
              "        ></iframe>\n",
              "        "
            ],
            "text/plain": [
              "<IPython.lib.display.YouTubeVideo at 0x7fb876f75c10>"
            ]
          },
          "metadata": {},
          "execution_count": 30
        }
      ],
      "metadata": {
        "execution": {
          "iopub.status.busy": "2021-12-15T09:54:41.556979Z",
          "iopub.execute_input": "2021-12-15T09:54:41.557518Z",
          "iopub.status.idle": "2021-12-15T09:54:41.649828Z",
          "shell.execute_reply.started": "2021-12-15T09:54:41.557474Z",
          "shell.execute_reply": "2021-12-15T09:54:41.64911Z"
        },
        "trusted": true,
        "colab": {
          "base_uri": "https://localhost:8080/",
          "height": 321
        },
        "id": "XVCrFABorP4M",
        "outputId": "1938188f-6542-4046-de6b-898f6eb73659"
      }
    },
    {
      "cell_type": "markdown",
      "source": [
        "📌 `When you create a variable you keep some space in memory. These memory locations are then used to store values`"
      ],
      "metadata": {
        "id": "mrQh_aU8rP4M"
      }
    },
    {
      "cell_type": "code",
      "execution_count": null,
      "source": [
        "# define a variable name \"x\" and assign value 777 to it\n",
        "x = 777"
      ],
      "outputs": [],
      "metadata": {
        "execution": {
          "iopub.status.busy": "2021-12-13T06:51:26.536555Z",
          "iopub.execute_input": "2021-12-13T06:51:26.536827Z",
          "iopub.status.idle": "2021-12-13T06:51:26.540484Z",
          "shell.execute_reply.started": "2021-12-13T06:51:26.536795Z",
          "shell.execute_reply": "2021-12-13T06:51:26.539662Z"
        },
        "trusted": true,
        "id": "39JWxM7KrP4M"
      }
    },
    {
      "cell_type": "markdown",
      "source": [
        "* To view some data on screen, python have `print` function\n",
        "    * Using `print` function we can control view on output screen\n"
      ],
      "metadata": {
        "id": "QXnovK7lrP4M"
      }
    },
    {
      "cell_type": "code",
      "execution_count": null,
      "source": [
        "# print value of variable x\n",
        "x"
      ],
      "outputs": [
        {
          "output_type": "execute_result",
          "data": {
            "text/plain": [
              "777"
            ]
          },
          "metadata": {},
          "execution_count": 18
        }
      ],
      "metadata": {
        "execution": {
          "iopub.status.busy": "2021-12-13T06:51:37.038136Z",
          "iopub.execute_input": "2021-12-13T06:51:37.038441Z",
          "iopub.status.idle": "2021-12-13T06:51:37.043423Z",
          "shell.execute_reply.started": "2021-12-13T06:51:37.038407Z",
          "shell.execute_reply": "2021-12-13T06:51:37.04243Z"
        },
        "trusted": true,
        "id": "vhpXKHMkrP4M",
        "colab": {
          "base_uri": "https://localhost:8080/"
        },
        "outputId": "f1532795-0dc4-4ac5-9fa9-ba5c35c208f2"
      }
    },
    {
      "cell_type": "markdown",
      "source": [
        "# *Identifiers in Python\n",
        "* Like Variables, we have to define `Functions`, `Classes` etc in python\n",
        "    * Naming them helps to differentiate one entity from another\n",
        "* All these names given to these entities are known as `Identifiers`. \n",
        "* Python have some rules to define Identifiers\n",
        "\n",
        "\n",
        "***Rules of Writing Identifiers***\n",
        "\n",
        "* Python is case sensitive language.\n",
        "* Identifiers can be a combination of letters in lowercase (a to z) or uppercase (A to Z) or digits (0 to 9) or an underscore _. \n",
        "    * Names like myVariable, var_1 and print_this, all are valid example.\n",
        "* An identifier cannot start with a digit\n",
        "* `1variable` is invalid, but `variable1` is perfectly fine\n",
        "* We cannot use special symbols like !, @, #, $, % etc. in our identifier. `_` is allowed\n",
        "* ***`Keywords` cannot be used as identifiers =>  `Keywords` are the reserved words in Python***\n",
        "\n",
        "---\n",
        "***Keywords in Python***\n",
        "\n",
        "---\n",
        "\n",
        "* `False`\n",
        "* `class`\n",
        "* `finally`\n",
        "* `is`\n",
        "* `return`\n",
        "* `None`\n",
        "* `continue`\n",
        "* `for`\n",
        "* `lambda`\n",
        "* `try`\n",
        "* `True`.. etc\n"
      ],
      "metadata": {
        "id": "slh282AprP4M"
      }
    },
    {
      "cell_type": "markdown",
      "source": [
        "# 📌 Type Conversion\n",
        "\n",
        "\n",
        "***Python defines type conversion functions to directly convert one data type to another.***"
      ],
      "metadata": {
        "id": "SrryZ3enrP4N"
      }
    },
    {
      "cell_type": "code",
      "execution_count": null,
      "source": [
        "#convert float to integer\n",
        "\n",
        "#1. make a variable named as my_weight_float with datatype float and value 26.33333\n",
        "my_weight_float = 26.33333\n",
        "#2. make another var named as my_weight_int change above variable datatype to int \n",
        "my_weight_int=int(my_weight_float)\n",
        "#3. print data type of my_weight_float and my_weight_int\n",
        "print(type(my_weight_float))\n",
        "print(type(my_weight_int))\n",
        "#4. print my_weight_float and my_weight_int\n",
        "print(my_weight_float)\n",
        "print(my_weight_int)"
      ],
      "outputs": [
        {
          "output_type": "stream",
          "name": "stdout",
          "text": [
            "<class 'float'>\n",
            "<class 'int'>\n",
            "26.33333\n",
            "26\n"
          ]
        }
      ],
      "metadata": {
        "execution": {
          "iopub.status.busy": "2021-12-13T06:53:09.525149Z",
          "iopub.execute_input": "2021-12-13T06:53:09.525961Z",
          "iopub.status.idle": "2021-12-13T06:53:09.531427Z",
          "shell.execute_reply.started": "2021-12-13T06:53:09.525923Z",
          "shell.execute_reply": "2021-12-13T06:53:09.530796Z"
        },
        "trusted": true,
        "colab": {
          "base_uri": "https://localhost:8080/"
        },
        "id": "yeQ9bxJtrP4N",
        "outputId": "292646d6-44e6-4fcd-8bf0-7999ef35d38b"
      }
    },
    {
      "cell_type": "markdown",
      "source": [
        " ➕ if we try to add string and integer number, it will give an error"
      ],
      "metadata": {
        "id": "cx_jl2V9rP4N"
      }
    },
    {
      "cell_type": "code",
      "execution_count": null,
      "source": [
        "# make a variable name with value as: adding_string_and_number '3' + 7\n",
        "adding_string_and_number = '3' + 7"
      ],
      "outputs": [
        {
          "output_type": "error",
          "ename": "TypeError",
          "evalue": "ignored",
          "traceback": [
            "\u001b[0;31m---------------------------------------------------------------------------\u001b[0m",
            "\u001b[0;31mTypeError\u001b[0m                                 Traceback (most recent call last)",
            "\u001b[0;32m<ipython-input-20-60f5af168197>\u001b[0m in \u001b[0;36m<module>\u001b[0;34m()\u001b[0m\n\u001b[1;32m      1\u001b[0m \u001b[0;31m# make a variable name with value as: adding_string_and_number '3' + 7\u001b[0m\u001b[0;34m\u001b[0m\u001b[0;34m\u001b[0m\u001b[0;34m\u001b[0m\u001b[0m\n\u001b[0;32m----> 2\u001b[0;31m \u001b[0madding_string_and_number\u001b[0m \u001b[0;34m=\u001b[0m \u001b[0;34m'3'\u001b[0m \u001b[0;34m+\u001b[0m \u001b[0;36m7\u001b[0m\u001b[0;34m\u001b[0m\u001b[0;34m\u001b[0m\u001b[0m\n\u001b[0m",
            "\u001b[0;31mTypeError\u001b[0m: can only concatenate str (not \"int\") to str"
          ]
        }
      ],
      "metadata": {
        "execution": {
          "iopub.status.busy": "2021-12-13T06:54:05.196028Z",
          "iopub.execute_input": "2021-12-13T06:54:05.196633Z",
          "iopub.status.idle": "2021-12-13T06:54:05.210193Z",
          "shell.execute_reply.started": "2021-12-13T06:54:05.196593Z",
          "shell.execute_reply": "2021-12-13T06:54:05.209093Z"
        },
        "trusted": true,
        "colab": {
          "base_uri": "https://localhost:8080/",
          "height": 186
        },
        "id": "uap3_C2JrP4N",
        "outputId": "d0df6832-c67c-45f0-9300-108f0e96f01a"
      }
    },
    {
      "cell_type": "code",
      "execution_count": null,
      "source": [
        "# convert above string '3' to integer and then add both '3' and 7 and save in variable named as  adding_string_and_number\n",
        "# called type conversion: string to int\n",
        "adding_string_and_number=int('3')+7\n",
        "\n",
        "# print variable adding_string_and_number\n",
        "print(adding_string_and_number)"
      ],
      "outputs": [
        {
          "output_type": "stream",
          "name": "stdout",
          "text": [
            "10\n"
          ]
        }
      ],
      "metadata": {
        "execution": {
          "iopub.status.busy": "2021-12-13T06:54:35.120169Z",
          "iopub.execute_input": "2021-12-13T06:54:35.120497Z",
          "iopub.status.idle": "2021-12-13T06:54:35.128054Z",
          "shell.execute_reply.started": "2021-12-13T06:54:35.120468Z",
          "shell.execute_reply": "2021-12-13T06:54:35.127418Z"
        },
        "trusted": true,
        "colab": {
          "base_uri": "https://localhost:8080/"
        },
        "id": "cJoissQsrP4N",
        "outputId": "9afd4bb5-6446-457b-ff7d-5ad48d1b276b"
      }
    },
    {
      "cell_type": "code",
      "execution_count": null,
      "source": [
        "# make two variables with values as: ur_money 18 and frnd_money 21 \n",
        "ur_money ,friend_money= 18, 21\n",
        "# now use f string in print to see how much mony you and your friend have\n",
        "print(f\"This is friend money: {friend_money}\")\n",
        "print(f\"This is your money: {ur_money}\")"
      ],
      "outputs": [
        {
          "output_type": "stream",
          "name": "stdout",
          "text": [
            "This is friend money: 21\n",
            "This is your money: 18\n"
          ]
        }
      ],
      "metadata": {
        "execution": {
          "iopub.status.busy": "2021-12-13T06:55:34.558333Z",
          "iopub.execute_input": "2021-12-13T06:55:34.559173Z",
          "iopub.status.idle": "2021-12-13T06:55:34.564574Z",
          "shell.execute_reply.started": "2021-12-13T06:55:34.559128Z",
          "shell.execute_reply": "2021-12-13T06:55:34.563731Z"
        },
        "trusted": true,
        "colab": {
          "base_uri": "https://localhost:8080/"
        },
        "id": "a4Wu-bO8rP4N",
        "outputId": "57d4190c-48c0-44b0-fff1-6bb779d8695b"
      }
    },
    {
      "cell_type": "code",
      "execution_count": null,
      "source": [
        "# swap your money with friend money values\n",
        "ur_money, friend_money = friend_money, ur_money\n",
        "\n",
        "# now use f string in print to see how much mony you and your friend have now after swap\n",
        "print(f\"This is friend money: {friend_money}\")\n",
        "print(f\"This is your money: {ur_money}\")"
      ],
      "outputs": [
        {
          "output_type": "stream",
          "name": "stdout",
          "text": [
            "This is friend money: 18\n",
            "This is your money: 21\n"
          ]
        }
      ],
      "metadata": {
        "execution": {
          "iopub.status.busy": "2021-12-13T06:56:35.530114Z",
          "iopub.execute_input": "2021-12-13T06:56:35.5304Z",
          "iopub.status.idle": "2021-12-13T06:56:35.535706Z",
          "shell.execute_reply.started": "2021-12-13T06:56:35.530371Z",
          "shell.execute_reply": "2021-12-13T06:56:35.534886Z"
        },
        "trusted": true,
        "colab": {
          "base_uri": "https://localhost:8080/"
        },
        "id": "oQqq8x-MrP4N",
        "outputId": "16102dc6-ec6a-4cca-89a4-a18a098f0181"
      }
    },
    {
      "cell_type": "markdown",
      "source": [
        "# *Python Data Structures"
      ],
      "metadata": {
        "id": "HhJfWRpjrP4N"
      }
    },
    {
      "cell_type": "markdown",
      "source": [
        "| Name | Type | Description |\n",
        "| ---- | ---- | ----| \n",
        "|List | list | Ordered sequence of various data types, like [34,'name',3.4]|\n",
        "|Dictionary | dict | Unordered sequence of `key-values pair`, like {'age':34,'age1:56'}|\n",
        "|Tuples | tup | Non-mutable sequence of data type, like (34,56,'name')|\n",
        "|Set |set | Collection of unique elements, like ('id','last_name')|"
      ],
      "metadata": {
        "id": "O5yhDZLmrP4O"
      }
    },
    {
      "cell_type": "markdown",
      "source": [
        "|Type|Mutability|Comments|\n",
        "|----|----|----|\n",
        "int |immutable|\n",
        "float|immutable|\n",
        "string|immutable|\n",
        "bool |immutable|\n",
        "frozenset|immutable|immutable version of set\n",
        "tuple|immutable|immutable version of list\n",
        "list|mutable|\n",
        "set |mutable|\n",
        "dict|mutable|\n",
        "\n"
      ],
      "metadata": {
        "id": "bhaTCL9trP4O"
      }
    },
    {
      "cell_type": "markdown",
      "source": [
        "💫 `immutable` => `can't be changed` <br>\n",
        "💫 `mutable` => `can be changed`"
      ],
      "metadata": {
        "id": "5zCDIkJJrP4O"
      }
    },
    {
      "cell_type": "markdown",
      "source": [
        "---\n",
        "### Proff that string is immutable"
      ],
      "metadata": {
        "id": "hABElii_rP4O"
      }
    },
    {
      "cell_type": "code",
      "execution_count": null,
      "source": [
        "# can't reassign  \n",
        "\n",
        "# make a varible with value as: where_to_learn_MLandDL 'CloudyML'\n",
        "where_to_learn_MLandDL = 'CloudyML'\n",
        "# print type of variable\n",
        "print(type(where_to_learn_MLandDL))\n",
        "# acess Letter M\n",
        "where_to_learn_MLandDL[-1]='m'"
      ],
      "outputs": [
        {
          "output_type": "stream",
          "name": "stdout",
          "text": [
            "<class 'str'>\n"
          ]
        },
        {
          "output_type": "error",
          "ename": "TypeError",
          "evalue": "ignored",
          "traceback": [
            "\u001b[0;31m---------------------------------------------------------------------------\u001b[0m",
            "\u001b[0;31mTypeError\u001b[0m                                 Traceback (most recent call last)",
            "\u001b[0;32m<ipython-input-24-51b7f848acd8>\u001b[0m in \u001b[0;36m<module>\u001b[0;34m()\u001b[0m\n\u001b[1;32m      6\u001b[0m \u001b[0mprint\u001b[0m\u001b[0;34m(\u001b[0m\u001b[0mtype\u001b[0m\u001b[0;34m(\u001b[0m\u001b[0mwhere_to_learn_MLandDL\u001b[0m\u001b[0;34m)\u001b[0m\u001b[0;34m)\u001b[0m\u001b[0;34m\u001b[0m\u001b[0;34m\u001b[0m\u001b[0m\n\u001b[1;32m      7\u001b[0m \u001b[0;31m# acess Letter M\u001b[0m\u001b[0;34m\u001b[0m\u001b[0;34m\u001b[0m\u001b[0;34m\u001b[0m\u001b[0m\n\u001b[0;32m----> 8\u001b[0;31m \u001b[0mwhere_to_learn_MLandDL\u001b[0m\u001b[0;34m[\u001b[0m\u001b[0;34m-\u001b[0m\u001b[0;36m1\u001b[0m\u001b[0;34m]\u001b[0m\u001b[0;34m=\u001b[0m\u001b[0;34m'm'\u001b[0m\u001b[0;34m\u001b[0m\u001b[0;34m\u001b[0m\u001b[0m\n\u001b[0m",
            "\u001b[0;31mTypeError\u001b[0m: 'str' object does not support item assignment"
          ]
        }
      ],
      "metadata": {
        "execution": {
          "iopub.status.busy": "2021-12-14T06:23:01.639413Z",
          "iopub.execute_input": "2021-12-14T06:23:01.639893Z",
          "iopub.status.idle": "2021-12-14T06:23:01.715374Z",
          "shell.execute_reply.started": "2021-12-14T06:23:01.63985Z",
          "shell.execute_reply": "2021-12-14T06:23:01.71365Z"
        },
        "trusted": true,
        "colab": {
          "base_uri": "https://localhost:8080/",
          "height": 221
        },
        "id": "Bh7K7FPCrP4O",
        "outputId": "0c8579a4-5e98-4d26-c0a7-2e2896ffb8df"
      }
    },
    {
      "cell_type": "code",
      "execution_count": null,
      "source": [
        "# make a variable with value as: where_to_learn_MLandDL  'CloudyMLDL'\n",
        "where_to_learn_MLandDL = 'CloudyMLDL'\n",
        "\n",
        "# try to loop in range of (0,10) and try to see memory location of letter-L of string-'CloudyMLDL' is same\n",
        "for i in range(0,10):\n",
        "  print(id(where_to_learn_MLandDL[i]))\n",
        "\n",
        "id(where_to_learn_MLandDL[-1])==id(where_to_learn_MLandDL[-3])\n",
        "# If you dont know loop go throug videos first then do this"
      ],
      "outputs": [
        {
          "output_type": "stream",
          "name": "stdout",
          "text": [
            "139872006273712\n",
            "139872006296624\n",
            "139872006296496\n",
            "139872006888752\n",
            "139872006295856\n",
            "139872005908720\n",
            "139872006142256\n",
            "139872006142192\n",
            "139872006273968\n",
            "139872006142192\n"
          ]
        },
        {
          "output_type": "execute_result",
          "data": {
            "text/plain": [
              "True"
            ]
          },
          "metadata": {},
          "execution_count": 28
        }
      ],
      "metadata": {
        "execution": {
          "iopub.status.busy": "2021-12-14T06:25:18.516942Z",
          "iopub.execute_input": "2021-12-14T06:25:18.517274Z",
          "iopub.status.idle": "2021-12-14T06:25:18.527458Z",
          "shell.execute_reply.started": "2021-12-14T06:25:18.517237Z",
          "shell.execute_reply": "2021-12-14T06:25:18.52641Z"
        },
        "trusted": true,
        "colab": {
          "base_uri": "https://localhost:8080/"
        },
        "id": "b3IB3yQbrP4O",
        "outputId": "e5db9bb4-7bf9-4522-ed3c-882f13c92b2b"
      }
    },
    {
      "cell_type": "markdown",
      "source": [
        "---"
      ],
      "metadata": {
        "id": "1Yau-6lcrP4O"
      }
    },
    {
      "cell_type": "code",
      "execution_count": null,
      "source": [
        "# list\n",
        "YouTubeVideo('https://www.youtube.com/watch?v=VGqMziKr9wM&list=PLsR_0x6BuM-HJZT6Xzj-088N4hN3KsDME&index=5',width=600,height=300)"
      ],
      "outputs": [
        {
          "output_type": "execute_result",
          "data": {
            "text/html": [
              "\n",
              "        <iframe\n",
              "            width=\"600\"\n",
              "            height=\"300\"\n",
              "            src=\"https://www.youtube.com/embed/https://www.youtube.com/watch?v=VGqMziKr9wM&list=PLsR_0x6BuM-HJZT6Xzj-088N4hN3KsDME&index=5\"\n",
              "            frameborder=\"0\"\n",
              "            allowfullscreen\n",
              "        ></iframe>\n",
              "        "
            ],
            "text/plain": [
              "<IPython.lib.display.YouTubeVideo at 0x7fb876a277d0>"
            ]
          },
          "metadata": {},
          "execution_count": 40
        }
      ],
      "metadata": {
        "execution": {
          "iopub.status.busy": "2021-12-15T09:56:47.878659Z",
          "iopub.execute_input": "2021-12-15T09:56:47.878958Z",
          "iopub.status.idle": "2021-12-15T09:56:47.971989Z",
          "shell.execute_reply.started": "2021-12-15T09:56:47.87893Z",
          "shell.execute_reply": "2021-12-15T09:56:47.97099Z"
        },
        "trusted": true,
        "colab": {
          "base_uri": "https://localhost:8080/",
          "height": 321
        },
        "id": "p2oBYj1KrP4O",
        "outputId": "afc68dab-0538-4834-c4d0-1f666fa22725"
      }
    },
    {
      "cell_type": "markdown",
      "source": [
        "**`List`** (ordered datastructure)\n",
        "* Ordered collection of values, each element is seprated by a comma, use of square bracket for denotion of list\n",
        "Ordered property is the most important aspect of list, lets see how:\n",
        "* Python remembers the order of elements of a list\n",
        "Data type connot store different kind of values in it, but list can"
      ],
      "metadata": {
        "id": "7NhOTXbMrP4P"
      }
    },
    {
      "cell_type": "code",
      "execution_count": null,
      "source": [
        "# declare a list named as ur_data_Lis having variables age,weight,name with values as 21,50.6,'Mukesh Manral'\n",
        "age, weight, name=21,50.6, 'Mukesh Marnal'\n",
        "ur_data_lst=[age, weight, name]\n",
        "\n",
        "# declare a dictionary named as ur_data_dictionary having keys as age,weight, first_name values as 21, 50, Mukesh\n",
        "ur_data_dictionary={ 'age': 20, 'weight':50.6, 'first_name':'Mukesh' }\n",
        "\n",
        "# declare a tuple named as ur_data_tuples having values 21,50.6,'first_name'\n",
        "ur_data_tuples = (21, 50.6, 'Mukesh')\n",
        "\n",
        "# declare a set named as ur_data_set having value as Mukesh\n",
        "ur_data_set = {'Mukesh'}"
      ],
      "outputs": [],
      "metadata": {
        "execution": {
          "iopub.status.busy": "2021-12-13T06:35:13.990207Z",
          "iopub.execute_input": "2021-12-13T06:35:13.990546Z",
          "iopub.status.idle": "2021-12-13T06:35:13.995431Z",
          "shell.execute_reply.started": "2021-12-13T06:35:13.990514Z",
          "shell.execute_reply": "2021-12-13T06:35:13.994825Z"
        },
        "trusted": true,
        "id": "h8DvPJKUrP4P"
      }
    },
    {
      "cell_type": "code",
      "execution_count": null,
      "source": [
        "# see datatype of ur_data_List, ur_data_dictionary, ur_data_tuples , ur_data_set variables\n",
        "print(type(ur_data_lst))\n",
        "print(type(ur_data_dictionary))\n",
        "print(type(ur_data_tuples))\n",
        "print(type(ur_data_set))"
      ],
      "outputs": [
        {
          "output_type": "stream",
          "name": "stdout",
          "text": [
            "<class 'list'>\n",
            "<class 'dict'>\n",
            "<class 'tuple'>\n",
            "<class 'set'>\n"
          ]
        }
      ],
      "metadata": {
        "colab": {
          "base_uri": "https://localhost:8080/"
        },
        "id": "BjybhpkprP4P",
        "outputId": "1cfc0dd3-7f98-4fe1-d61c-12ff8104b7e7"
      }
    },
    {
      "cell_type": "markdown",
      "source": [
        "<a id='4'></a><center> <h3 style=\"background-color:orange; color:white\" ><br>Operators<br></h3>"
      ],
      "metadata": {
        "id": "DONZzh6OrP4P"
      }
    },
    {
      "cell_type": "code",
      "execution_count": null,
      "source": [
        "# Operators\n",
        "YouTubeVideo('https://www.youtube.com/watch?v=CLqw5KZZ8Dg&list=PLsR_0x6BuM-HJZT6Xzj-088N4hN3KsDME&index=10',width=600,height=300)"
      ],
      "outputs": [
        {
          "output_type": "execute_result",
          "data": {
            "text/html": [
              "\n",
              "        <iframe\n",
              "            width=\"600\"\n",
              "            height=\"300\"\n",
              "            src=\"https://www.youtube.com/embed/https://www.youtube.com/watch?v=CLqw5KZZ8Dg&list=PLsR_0x6BuM-HJZT6Xzj-088N4hN3KsDME&index=10\"\n",
              "            frameborder=\"0\"\n",
              "            allowfullscreen\n",
              "        ></iframe>\n",
              "        "
            ],
            "text/plain": [
              "<IPython.lib.display.YouTubeVideo at 0x7fb876a7aed0>"
            ]
          },
          "metadata": {},
          "execution_count": 43
        }
      ],
      "metadata": {
        "execution": {
          "iopub.status.busy": "2021-12-15T10:22:15.619265Z",
          "iopub.execute_input": "2021-12-15T10:22:15.619599Z",
          "iopub.status.idle": "2021-12-15T10:22:15.731778Z",
          "shell.execute_reply.started": "2021-12-15T10:22:15.619568Z",
          "shell.execute_reply": "2021-12-15T10:22:15.731015Z"
        },
        "trusted": true,
        "colab": {
          "base_uri": "https://localhost:8080/",
          "height": 321
        },
        "id": "ZuJ5zqkYrP4P",
        "outputId": "8d520df5-e2ca-4225-fad8-4da82f471e79"
      }
    },
    {
      "cell_type": "markdown",
      "source": [
        "`Operators`: Symbols that represent mathematical or logical tasks \n",
        "\n",
        "Example:<br>\n",
        "`700` `+` `77`<br>\n",
        "* `+` <= Operator\n",
        "* `700` & `77` <= Operands\n"
      ],
      "metadata": {
        "id": "4Wfm35b4rP4P"
      }
    },
    {
      "cell_type": "markdown",
      "source": [
        "# Types of Operators\n",
        "1. `Arithmetic Operators`\n",
        "2. `Comparison Operators`\n",
        "3. `Logical Operators`"
      ],
      "metadata": {
        "execution": {
          "iopub.status.busy": "2021-12-10T06:38:34.676365Z",
          "iopub.execute_input": "2021-12-10T06:38:34.676668Z",
          "iopub.status.idle": "2021-12-10T06:38:34.749862Z",
          "shell.execute_reply.started": "2021-12-10T06:38:34.676636Z",
          "shell.execute_reply": "2021-12-10T06:38:34.748973Z"
        },
        "id": "W-7tOm5CrP4P"
      }
    },
    {
      "cell_type": "markdown",
      "source": [
        "# **1. `Arithmetic Operators`**"
      ],
      "metadata": {
        "id": "7OAVQ6EsrP4P"
      }
    },
    {
      "cell_type": "markdown",
      "source": [
        "|Task | Symbol|Example|\n",
        "|---|---|----|\n",
        "|Addition | + | 700 + 77 = 777|\n",
        "|Substraction | - | 778 - 1 = 777|\n",
        "|Multiplication | * | 1 * 777 = 777|\n",
        "|Division | / | 13 / 2 = 6.5|\n",
        "|Floor Division(ignores decimal \\ gives quotient) | // | 13 // 2 = 6|\n",
        "|Modulo(gives remainder)| % | 13 % 2 = 1|\n",
        "|Exponent(raise to the power) | ** | 13**2 = 169 |"
      ],
      "metadata": {
        "id": "_QNg2gk7rP4Q"
      }
    },
    {
      "cell_type": "markdown",
      "source": [
        "# **2. `Comparison Operators`**"
      ],
      "metadata": {
        "id": "FyxOlaQmrP4Q"
      }
    },
    {
      "cell_type": "markdown",
      "source": [
        "|Task | Symbol|\n",
        "|---|---|\n",
        "|Less than | < |\n",
        "|Less than or equall to | <= | \n",
        "|Equall to | == | \n",
        "|Greater than | > | \n",
        "|Greater than or equall to | >=|\n",
        "|Not equall to | != | \n"
      ],
      "metadata": {
        "id": "8V4gqwnBrP4Q"
      }
    },
    {
      "cell_type": "markdown",
      "source": [
        "# **3. `Logical Operators`**"
      ],
      "metadata": {
        "id": "m7-BVTnhrP4Q"
      }
    },
    {
      "cell_type": "markdown",
      "source": [
        "|Task | Symbol|Description|\n",
        "|---|---|---|\n",
        "|and | 1 < 2 and 2 < 3 => True |True only if both comparison are true |\n",
        "|or | 1 < 2 or 2 > 3 => True|True if either of the comparison are true  |\n",
        "|not | not 1 > 2 => True|(flips results)True if comparison is False and so on.. |\n"
      ],
      "metadata": {
        "id": "pHm4Yt2NrP4Q"
      }
    },
    {
      "cell_type": "markdown",
      "source": [
        "<a id='5'></a><center> <h3 style=\"background-color:orange; color:white\" ><br>Assignment Operators<br></h3>"
      ],
      "metadata": {
        "id": "IEkQ9PGArP4Q"
      }
    },
    {
      "cell_type": "code",
      "execution_count": null,
      "source": [
        "# Initialize variables [x,y,z,zz] with values \n",
        "## x as 7 =>int ,\n",
        "## y as 77 =>int, \n",
        "## z as 77.7 => float, \n",
        "## zz as 'Hi' => string\n",
        "x,y,z,zz =7,77,77.7,'Hi'"
      ],
      "outputs": [],
      "metadata": {
        "execution": {
          "iopub.status.busy": "2021-12-13T11:16:12.87742Z",
          "iopub.execute_input": "2021-12-13T11:16:12.878107Z",
          "iopub.status.idle": "2021-12-13T11:16:12.88218Z",
          "shell.execute_reply.started": "2021-12-13T11:16:12.878061Z",
          "shell.execute_reply": "2021-12-13T11:16:12.881502Z"
        },
        "trusted": true,
        "id": "9eHULNrarP4Q"
      }
    },
    {
      "cell_type": "markdown",
      "source": [
        "# **1. `Arithmetic Operators`**"
      ],
      "metadata": {
        "id": "kMGlbyturP4Q"
      }
    },
    {
      "cell_type": "code",
      "execution_count": null,
      "source": [
        "# add x and z\n",
        "x+z"
      ],
      "outputs": [
        {
          "output_type": "execute_result",
          "data": {
            "text/plain": [
              "84.7"
            ]
          },
          "metadata": {},
          "execution_count": 34
        }
      ],
      "metadata": {
        "execution": {
          "iopub.status.busy": "2021-12-13T11:16:16.831361Z",
          "iopub.execute_input": "2021-12-13T11:16:16.831632Z",
          "iopub.status.idle": "2021-12-13T11:16:16.837568Z",
          "shell.execute_reply.started": "2021-12-13T11:16:16.831606Z",
          "shell.execute_reply": "2021-12-13T11:16:16.836727Z"
        },
        "trusted": true,
        "colab": {
          "base_uri": "https://localhost:8080/"
        },
        "id": "_7X7ChdtrP4Q",
        "outputId": "16f588be-90b7-466c-be10-16f192480528"
      }
    },
    {
      "cell_type": "code",
      "execution_count": null,
      "source": [
        "# subtract z and y\n",
        "z-y"
      ],
      "outputs": [
        {
          "output_type": "execute_result",
          "data": {
            "text/plain": [
              "0.7000000000000028"
            ]
          },
          "metadata": {},
          "execution_count": 35
        }
      ],
      "metadata": {
        "execution": {
          "iopub.status.busy": "2021-12-13T11:16:30.20271Z",
          "iopub.execute_input": "2021-12-13T11:16:30.203003Z",
          "iopub.status.idle": "2021-12-13T11:16:30.208385Z",
          "shell.execute_reply.started": "2021-12-13T11:16:30.20297Z",
          "shell.execute_reply": "2021-12-13T11:16:30.207581Z"
        },
        "trusted": true,
        "colab": {
          "base_uri": "https://localhost:8080/"
        },
        "id": "VWA9vqXbrP4R",
        "outputId": "d6659e43-5e7d-4287-c922-f38c282da97b"
      }
    },
    {
      "cell_type": "code",
      "execution_count": null,
      "source": [
        "# Multiply x and z\n",
        "x*z"
      ],
      "outputs": [
        {
          "output_type": "execute_result",
          "data": {
            "text/plain": [
              "543.9"
            ]
          },
          "metadata": {},
          "execution_count": 36
        }
      ],
      "metadata": {
        "execution": {
          "iopub.status.busy": "2021-12-13T11:16:33.722346Z",
          "iopub.execute_input": "2021-12-13T11:16:33.722854Z",
          "iopub.status.idle": "2021-12-13T11:16:33.727832Z",
          "shell.execute_reply.started": "2021-12-13T11:16:33.722819Z",
          "shell.execute_reply": "2021-12-13T11:16:33.726714Z"
        },
        "trusted": true,
        "colab": {
          "base_uri": "https://localhost:8080/"
        },
        "id": "Xs-S0MhCrP4R",
        "outputId": "75f133b4-5f5d-4a1b-f355-cee6087e2dcb"
      }
    },
    {
      "cell_type": "code",
      "execution_count": null,
      "source": [
        "# Exponent (raise the power or times) x times z\n",
        "x**z"
      ],
      "outputs": [
        {
          "output_type": "execute_result",
          "data": {
            "text/plain": [
              "4.614426248242042e+65"
            ]
          },
          "metadata": {},
          "execution_count": 37
        }
      ],
      "metadata": {
        "execution": {
          "iopub.status.busy": "2021-12-11T05:18:03.351545Z",
          "iopub.status.idle": "2021-12-11T05:18:03.351958Z",
          "shell.execute_reply.started": "2021-12-11T05:18:03.3518Z",
          "shell.execute_reply": "2021-12-11T05:18:03.351816Z"
        },
        "trusted": true,
        "colab": {
          "base_uri": "https://localhost:8080/"
        },
        "id": "QTAL9jikrP4R",
        "outputId": "d7798195-ac87-49ac-e60e-850682146eb1"
      }
    },
    {
      "cell_type": "code",
      "execution_count": null,
      "source": [
        "# division on x and z\n",
        "x/z"
      ],
      "outputs": [
        {
          "output_type": "execute_result",
          "data": {
            "text/plain": [
              "0.09009009009009009"
            ]
          },
          "metadata": {},
          "execution_count": 38
        }
      ],
      "metadata": {
        "execution": {
          "iopub.status.busy": "2021-12-13T11:16:54.592323Z",
          "iopub.execute_input": "2021-12-13T11:16:54.593185Z",
          "iopub.status.idle": "2021-12-13T11:16:54.599677Z",
          "shell.execute_reply.started": "2021-12-13T11:16:54.593129Z",
          "shell.execute_reply": "2021-12-13T11:16:54.598843Z"
        },
        "trusted": true,
        "colab": {
          "base_uri": "https://localhost:8080/"
        },
        "id": "veuOn9YcrP4R",
        "outputId": "9c16db9d-b8de-4428-9287-172dda34a6ce"
      }
    },
    {
      "cell_type": "markdown",
      "source": [
        "`//` => divides and returns integer value of quotient\n",
        "* It will dump digits after decimal"
      ],
      "metadata": {
        "id": "lPSllBVYrP4R"
      }
    },
    {
      "cell_type": "code",
      "execution_count": null,
      "source": [
        "# floor division(ignores decimal) on x and z (gives quotient)\n",
        "x//z"
      ],
      "outputs": [
        {
          "output_type": "execute_result",
          "data": {
            "text/plain": [
              "0.0"
            ]
          },
          "metadata": {},
          "execution_count": 39
        }
      ],
      "metadata": {
        "execution": {
          "iopub.status.busy": "2021-12-13T11:17:43.711764Z",
          "iopub.execute_input": "2021-12-13T11:17:43.712052Z",
          "iopub.status.idle": "2021-12-13T11:17:43.717685Z",
          "shell.execute_reply.started": "2021-12-13T11:17:43.712021Z",
          "shell.execute_reply": "2021-12-13T11:17:43.716923Z"
        },
        "trusted": true,
        "colab": {
          "base_uri": "https://localhost:8080/"
        },
        "id": "LjvFNdDHrP4R",
        "outputId": "7791d14b-e1e7-4b6e-a8fb-6237a49656ea"
      }
    },
    {
      "cell_type": "code",
      "execution_count": null,
      "source": [
        "# Modulo(gives remainder) on x and z\n",
        "x%z"
      ],
      "outputs": [
        {
          "output_type": "execute_result",
          "data": {
            "text/plain": [
              "7.0"
            ]
          },
          "metadata": {},
          "execution_count": 40
        }
      ],
      "metadata": {
        "execution": {
          "iopub.status.busy": "2021-12-13T11:18:23.768469Z",
          "iopub.execute_input": "2021-12-13T11:18:23.768814Z",
          "iopub.status.idle": "2021-12-13T11:18:23.774541Z",
          "shell.execute_reply.started": "2021-12-13T11:18:23.768775Z",
          "shell.execute_reply": "2021-12-13T11:18:23.773825Z"
        },
        "trusted": true,
        "colab": {
          "base_uri": "https://localhost:8080/"
        },
        "id": "prGaXfI2rP4R",
        "outputId": "44902aae-bbfc-421f-883c-528898770139"
      }
    },
    {
      "cell_type": "markdown",
      "source": [
        "# **2. `Comparison Operators`**"
      ],
      "metadata": {
        "id": "BqiZFRnxrP4R"
      }
    },
    {
      "cell_type": "code",
      "execution_count": null,
      "source": [
        "# comapre and see if x is less then z \n",
        "# can use '<' symbol\n",
        "\n",
        "x<z"
      ],
      "outputs": [
        {
          "output_type": "execute_result",
          "data": {
            "text/plain": [
              "True"
            ]
          },
          "metadata": {},
          "execution_count": 41
        }
      ],
      "metadata": {
        "execution": {
          "iopub.status.busy": "2021-12-13T11:18:53.671588Z",
          "iopub.execute_input": "2021-12-13T11:18:53.671899Z",
          "iopub.status.idle": "2021-12-13T11:18:53.677758Z",
          "shell.execute_reply.started": "2021-12-13T11:18:53.671852Z",
          "shell.execute_reply": "2021-12-13T11:18:53.676944Z"
        },
        "trusted": true,
        "colab": {
          "base_uri": "https://localhost:8080/"
        },
        "id": "cZTjTlksrP4S",
        "outputId": "2293f782-0651-4483-b701-5cd94364a66e"
      }
    },
    {
      "cell_type": "code",
      "execution_count": null,
      "source": [
        "# check the type of above comaprison where it says comapre and see if x is less then z \n",
        "type(x<z)"
      ],
      "outputs": [
        {
          "output_type": "execute_result",
          "data": {
            "text/plain": [
              "bool"
            ]
          },
          "metadata": {},
          "execution_count": 42
        }
      ],
      "metadata": {
        "execution": {
          "iopub.status.busy": "2021-12-13T11:18:56.585406Z",
          "iopub.execute_input": "2021-12-13T11:18:56.585807Z",
          "iopub.status.idle": "2021-12-13T11:18:56.591392Z",
          "shell.execute_reply.started": "2021-12-13T11:18:56.585775Z",
          "shell.execute_reply": "2021-12-13T11:18:56.590675Z"
        },
        "trusted": true,
        "colab": {
          "base_uri": "https://localhost:8080/"
        },
        "id": "ugLB8T4zrP4S",
        "outputId": "8f471233-0ad5-46d4-8e40-b657e6f4ef0a"
      }
    },
    {
      "cell_type": "markdown",
      "source": [
        "* `Bool` => takes two values, either `True` or `False`"
      ],
      "metadata": {
        "id": "JvyfWt8NrP4S"
      }
    },
    {
      "cell_type": "code",
      "execution_count": null,
      "source": [
        "# compare and see if x is less then or equall to z\n",
        "# can use '<=' symbol\n",
        "x<=z"
      ],
      "outputs": [
        {
          "output_type": "execute_result",
          "data": {
            "text/plain": [
              "True"
            ]
          },
          "metadata": {},
          "execution_count": 44
        }
      ],
      "metadata": {
        "execution": {
          "iopub.status.busy": "2021-12-13T11:20:21.121593Z",
          "iopub.execute_input": "2021-12-13T11:20:21.121906Z",
          "iopub.status.idle": "2021-12-13T11:20:21.128235Z",
          "shell.execute_reply.started": "2021-12-13T11:20:21.121858Z",
          "shell.execute_reply": "2021-12-13T11:20:21.127415Z"
        },
        "trusted": true,
        "colab": {
          "base_uri": "https://localhost:8080/"
        },
        "id": "qrLXc7h8rP4S",
        "outputId": "fd14a579-7c18-4af8-9832-149aa15cf24c"
      }
    },
    {
      "cell_type": "code",
      "execution_count": null,
      "source": [
        "# comapre and see if x equall to z\n",
        "# can use '==' symbol\n",
        "x==z"
      ],
      "outputs": [
        {
          "output_type": "execute_result",
          "data": {
            "text/plain": [
              "False"
            ]
          },
          "metadata": {},
          "execution_count": 45
        }
      ],
      "metadata": {
        "execution": {
          "iopub.status.busy": "2021-12-13T11:21:03.964122Z",
          "iopub.execute_input": "2021-12-13T11:21:03.964669Z",
          "iopub.status.idle": "2021-12-13T11:21:03.970529Z",
          "shell.execute_reply.started": "2021-12-13T11:21:03.964617Z",
          "shell.execute_reply": "2021-12-13T11:21:03.969911Z"
        },
        "trusted": true,
        "colab": {
          "base_uri": "https://localhost:8080/"
        },
        "id": "QITa8mAorP4S",
        "outputId": "8c2ae79f-9b41-4bb0-d62c-495c7372a476"
      }
    },
    {
      "cell_type": "code",
      "execution_count": null,
      "source": [
        "# comapre and see if x is greater than z\n",
        "# can use '>' symbol\n",
        "x>z"
      ],
      "outputs": [
        {
          "output_type": "execute_result",
          "data": {
            "text/plain": [
              "False"
            ]
          },
          "metadata": {},
          "execution_count": 46
        }
      ],
      "metadata": {
        "execution": {
          "iopub.status.busy": "2021-12-13T11:21:17.560326Z",
          "iopub.execute_input": "2021-12-13T11:21:17.56085Z",
          "iopub.status.idle": "2021-12-13T11:21:17.566991Z",
          "shell.execute_reply.started": "2021-12-13T11:21:17.560801Z",
          "shell.execute_reply": "2021-12-13T11:21:17.566308Z"
        },
        "trusted": true,
        "colab": {
          "base_uri": "https://localhost:8080/"
        },
        "id": "to09wf4lrP4S",
        "outputId": "0b0948fa-ec5a-44d5-bf98-8d026eafea03"
      }
    },
    {
      "cell_type": "code",
      "execution_count": null,
      "source": [
        "# comapre and see if x is greater than or equall to z\n",
        "# can use '>=' symbol\n",
        "x>=z"
      ],
      "outputs": [
        {
          "output_type": "execute_result",
          "data": {
            "text/plain": [
              "False"
            ]
          },
          "metadata": {},
          "execution_count": 48
        }
      ],
      "metadata": {
        "execution": {
          "iopub.status.busy": "2021-12-11T05:18:03.366407Z",
          "iopub.status.idle": "2021-12-11T05:18:03.366829Z",
          "shell.execute_reply.started": "2021-12-11T05:18:03.36667Z",
          "shell.execute_reply": "2021-12-11T05:18:03.366687Z"
        },
        "trusted": true,
        "colab": {
          "base_uri": "https://localhost:8080/"
        },
        "id": "3XjJEvQmrP4S",
        "outputId": "b4428b39-8342-45c1-ef21-6d4fadfab38d"
      }
    },
    {
      "cell_type": "code",
      "execution_count": null,
      "source": [
        "# comapre and see if x is Not equall to z\n",
        "# can use '!=' symbol\n",
        "\n",
        "x!=z"
      ],
      "outputs": [
        {
          "output_type": "execute_result",
          "data": {
            "text/plain": [
              "True"
            ]
          },
          "metadata": {},
          "execution_count": 47
        }
      ],
      "metadata": {
        "execution": {
          "iopub.status.busy": "2021-12-13T11:21:27.087572Z",
          "iopub.execute_input": "2021-12-13T11:21:27.087849Z",
          "iopub.status.idle": "2021-12-13T11:21:27.094348Z",
          "shell.execute_reply.started": "2021-12-13T11:21:27.087821Z",
          "shell.execute_reply": "2021-12-13T11:21:27.093707Z"
        },
        "trusted": true,
        "colab": {
          "base_uri": "https://localhost:8080/"
        },
        "id": "U3R4NtLUrP4S",
        "outputId": "a84727b2-2f3c-43e1-f040-b33a5340792e"
      }
    },
    {
      "cell_type": "markdown",
      "source": [
        "# **3. `Logical Operators`**"
      ],
      "metadata": {
        "id": "i1cSXmgbrP4T"
      }
    },
    {
      "cell_type": "code",
      "execution_count": null,
      "source": [
        "# compare if 108 is equall to 108, 21 is equall to 21 using logical and \n",
        "# equall to => '=='\n",
        "# logical and => and\n",
        "108 == 108 and 21 ==21\n",
        "  # in and both condition must be True to get a True"
      ],
      "outputs": [
        {
          "output_type": "execute_result",
          "data": {
            "text/plain": [
              "True"
            ]
          },
          "metadata": {},
          "execution_count": 49
        }
      ],
      "metadata": {
        "execution": {
          "iopub.status.busy": "2021-12-13T11:22:13.637267Z",
          "iopub.execute_input": "2021-12-13T11:22:13.637837Z",
          "iopub.status.idle": "2021-12-13T11:22:13.644724Z",
          "shell.execute_reply.started": "2021-12-13T11:22:13.637786Z",
          "shell.execute_reply": "2021-12-13T11:22:13.643893Z"
        },
        "trusted": true,
        "colab": {
          "base_uri": "https://localhost:8080/"
        },
        "id": "qrf5nOLerP4T",
        "outputId": "b37ad07a-778d-41a9-cf23-71cd1d4c7c35"
      }
    },
    {
      "cell_type": "code",
      "execution_count": null,
      "source": [
        "# how above condition can give False as output show all thouse conditions\n",
        " # in and both condition must be True to get a True\n",
        "108!=108 and 21==21"
      ],
      "outputs": [
        {
          "output_type": "execute_result",
          "data": {
            "text/plain": [
              "False"
            ]
          },
          "metadata": {},
          "execution_count": 50
        }
      ],
      "metadata": {
        "execution": {
          "iopub.status.busy": "2021-12-13T11:22:24.567356Z",
          "iopub.execute_input": "2021-12-13T11:22:24.56808Z",
          "iopub.status.idle": "2021-12-13T11:22:24.576075Z",
          "shell.execute_reply.started": "2021-12-13T11:22:24.56804Z",
          "shell.execute_reply": "2021-12-13T11:22:24.574969Z"
        },
        "trusted": true,
        "colab": {
          "base_uri": "https://localhost:8080/"
        },
        "id": "Zp51tX7NrP4T",
        "outputId": "47e1ba8d-a626-414c-9d05-81a94296b280"
      }
    },
    {
      "cell_type": "code",
      "execution_count": null,
      "source": [
        "# compare if 108 is equall to 108, 21 is equall to 11 using logical or\n",
        "# equall to => '=='\n",
        "# logical or => or\n",
        "108 == 108 or 21 ==11\n",
        " # in or Only one condition need to be True to get a True"
      ],
      "outputs": [
        {
          "output_type": "execute_result",
          "data": {
            "text/plain": [
              "True"
            ]
          },
          "metadata": {},
          "execution_count": 51
        }
      ],
      "metadata": {
        "execution": {
          "iopub.status.busy": "2021-12-13T11:22:39.575636Z",
          "iopub.execute_input": "2021-12-13T11:22:39.576213Z",
          "iopub.status.idle": "2021-12-13T11:22:39.58328Z",
          "shell.execute_reply.started": "2021-12-13T11:22:39.576179Z",
          "shell.execute_reply": "2021-12-13T11:22:39.582673Z"
        },
        "trusted": true,
        "colab": {
          "base_uri": "https://localhost:8080/"
        },
        "id": "TRMHLAHkrP4T",
        "outputId": "86f335c0-f756-4a74-c7de-a80ae62c73d6"
      }
    },
    {
      "cell_type": "code",
      "execution_count": null,
      "source": [
        "# this is for you understand it\n",
        "(108 == 108) or (21 == 11) or (108 <= 11)"
      ],
      "outputs": [
        {
          "output_type": "execute_result",
          "data": {
            "text/plain": [
              "True"
            ]
          },
          "metadata": {},
          "execution_count": 52
        }
      ],
      "metadata": {
        "execution": {
          "iopub.status.busy": "2021-12-13T11:22:58.997422Z",
          "iopub.execute_input": "2021-12-13T11:22:58.998022Z",
          "iopub.status.idle": "2021-12-13T11:22:59.004662Z",
          "shell.execute_reply.started": "2021-12-13T11:22:58.997978Z",
          "shell.execute_reply": "2021-12-13T11:22:59.003884Z"
        },
        "trusted": true,
        "colab": {
          "base_uri": "https://localhost:8080/"
        },
        "id": "QQRfWOkzrP4T",
        "outputId": "becc24dc-c858-4501-d9c5-995993a2d6f1"
      }
    },
    {
      "cell_type": "markdown",
      "source": [
        "\n",
        "<a id='6'></a><center> <h3 style=\"background-color:orange; color:white\" ><br>Conditional Statements<br></h3>"
      ],
      "metadata": {
        "id": "FYchA77BrP4T"
      }
    },
    {
      "cell_type": "code",
      "execution_count": null,
      "source": [
        "# Conditions\n",
        "YouTubeVideo('https://www.youtube.com/watch?v=CLqw5KZZ8Dg&list=PLsR_0x6BuM-HJZT6Xzj-088N4hN3KsDME&index=11',width=600,height=300)"
      ],
      "outputs": [
        {
          "output_type": "execute_result",
          "data": {
            "text/html": [
              "\n",
              "        <iframe\n",
              "            width=\"600\"\n",
              "            height=\"300\"\n",
              "            src=\"https://www.youtube.com/embed/https://www.youtube.com/watch?v=CLqw5KZZ8Dg&list=PLsR_0x6BuM-HJZT6Xzj-088N4hN3KsDME&index=11\"\n",
              "            frameborder=\"0\"\n",
              "            allowfullscreen\n",
              "        ></iframe>\n",
              "        "
            ],
            "text/plain": [
              "<IPython.lib.display.YouTubeVideo at 0x7fb876a7a290>"
            ]
          },
          "metadata": {},
          "execution_count": 66
        }
      ],
      "metadata": {
        "execution": {
          "iopub.status.busy": "2021-12-15T10:17:35.01223Z",
          "iopub.execute_input": "2021-12-15T10:17:35.012552Z",
          "iopub.status.idle": "2021-12-15T10:17:35.104434Z",
          "shell.execute_reply.started": "2021-12-15T10:17:35.012521Z",
          "shell.execute_reply": "2021-12-15T10:17:35.103709Z"
        },
        "trusted": true,
        "colab": {
          "base_uri": "https://localhost:8080/",
          "height": 321
        },
        "id": "MTmNGeJbrP4T",
        "outputId": "0ef6c752-b7aa-4135-e298-74389fb4f07d"
      }
    },
    {
      "cell_type": "markdown",
      "source": [
        "# 1. **`if`--- `else`** => to handle single condition <br>\n",
        "# 2. **`if`--- `elif`--- `else`** => to handle Multiple condition"
      ],
      "metadata": {
        "id": "r5LWKR-irP4T"
      }
    },
    {
      "cell_type": "markdown",
      "source": [
        "`Why do we need conditional Statements?` <br>\n",
        "Say you want to buy a ML course and to decided you buy it or not to by it based on some condition,=> if you have more then 2k buy, if you dont have more then 2k dont buy!! \n",
        "\n",
        "* Two Variable you will use `ML course` and `money` \n",
        "* One comparison `money > 2k`\n",
        "For ML course if `money > 2k` => you have more money then 2k => condition is True => buy course => if condition is False i.e. you have less money then 2k then dont buy the course\n"
      ],
      "metadata": {
        "id": "4l8YdB1orP4T"
      }
    },
    {
      "cell_type": "markdown",
      "source": [
        "|Pseudo Code for above will be| Python Code for Pseudo code|\n",
        "|----|----|\n",
        "Check if money > 2k | if money > 2000:\n",
        "then ML course = 'buy' |....  ML course = 'buy'\n",
        "else Ml course = 'dont buy'| else:\n",
        " --  | ....ML course = 'dont buy'"
      ],
      "metadata": {
        "id": "FWFgSro3rP4U"
      }
    },
    {
      "cell_type": "code",
      "execution_count": null,
      "source": [
        "\"\"\"\n",
        "if condition:\n",
        "    statement\n",
        "else:\n",
        "    statement\"\"\""
      ],
      "outputs": [
        {
          "output_type": "execute_result",
          "data": {
            "application/vnd.google.colaboratory.intrinsic+json": {
              "type": "string"
            },
            "text/plain": [
              "'\\nif condition:\\n    statement\\nelse:\\n    statement'"
            ]
          },
          "metadata": {},
          "execution_count": 67
        }
      ],
      "metadata": {
        "colab": {
          "base_uri": "https://localhost:8080/",
          "height": 38
        },
        "id": "eD6N8d4JrP4U",
        "outputId": "df998f96-081a-41e8-a7ba-eb5bb24b96cc"
      }
    },
    {
      "cell_type": "markdown",
      "source": [
        "`Observe in Python code:` \n",
        "* `if` => statement in python\n",
        "* `else` => statement in python\n",
        "* `:` => colon => denotes start of if block i.e. any line written after colon belong to if condition\n",
        "* `....` => see then as indentation i.e. 4 spaces => indentation indicates all code belong to only if and then another indentation indicates code for only else block "
      ],
      "metadata": {
        "id": "_7lo_XpYrP4U"
      }
    },
    {
      "cell_type": "code",
      "execution_count": null,
      "source": [
        "# make variable with value as : money 100000\n",
        "money = 100000\n",
        "# see output of money > 2000 \n",
        "money > 2000"
      ],
      "outputs": [
        {
          "output_type": "execute_result",
          "data": {
            "text/plain": [
              "True"
            ]
          },
          "metadata": {},
          "execution_count": 53
        }
      ],
      "metadata": {
        "execution": {
          "iopub.status.busy": "2021-12-13T12:04:09.254359Z",
          "iopub.execute_input": "2021-12-13T12:04:09.255152Z",
          "iopub.status.idle": "2021-12-13T12:04:09.301228Z",
          "shell.execute_reply.started": "2021-12-13T12:04:09.254985Z",
          "shell.execute_reply": "2021-12-13T12:04:09.300137Z"
        },
        "trusted": true,
        "colab": {
          "base_uri": "https://localhost:8080/"
        },
        "id": "e2SpODuorP4U",
        "outputId": "96120038-c81b-49dc-89ca-ec3ad12759af"
      }
    },
    {
      "cell_type": "code",
      "execution_count": null,
      "source": [
        "# see above Python code for Pseudo code and write that into python code\n",
        "\n",
        "# assign money variable value of 100000 \n",
        "##### say you have this much ammount in your account\n",
        "\n",
        "# start of if condition\n",
        "if money>=2000:\n",
        "    print('buy ML course')\n",
        "else: \n",
        "    print('you have less money then 2000 in your account then else will work for now only if is working')\n"
      ],
      "outputs": [
        {
          "output_type": "stream",
          "name": "stdout",
          "text": [
            "buy ML course\n"
          ]
        }
      ],
      "metadata": {
        "execution": {
          "iopub.status.busy": "2021-12-13T12:04:41.020562Z",
          "iopub.execute_input": "2021-12-13T12:04:41.020917Z",
          "iopub.status.idle": "2021-12-13T12:04:41.027788Z",
          "shell.execute_reply.started": "2021-12-13T12:04:41.020881Z",
          "shell.execute_reply": "2021-12-13T12:04:41.026428Z"
        },
        "trusted": true,
        "colab": {
          "base_uri": "https://localhost:8080/"
        },
        "id": "8rLKbxCqrP4U",
        "outputId": "12005ae9-49c2-49e8-b02c-50cdafc43edd"
      }
    },
    {
      "cell_type": "code",
      "execution_count": null,
      "source": [
        "# make variable with value as : money 100\n",
        "money = 100\n",
        "# see output of money > 2000\n",
        "money>2000"
      ],
      "outputs": [
        {
          "output_type": "execute_result",
          "data": {
            "text/plain": [
              "False"
            ]
          },
          "metadata": {},
          "execution_count": 57
        }
      ],
      "metadata": {
        "execution": {
          "iopub.status.busy": "2021-12-13T12:05:41.659081Z",
          "iopub.execute_input": "2021-12-13T12:05:41.659409Z",
          "iopub.status.idle": "2021-12-13T12:05:41.667758Z",
          "shell.execute_reply.started": "2021-12-13T12:05:41.659376Z",
          "shell.execute_reply": "2021-12-13T12:05:41.66659Z"
        },
        "trusted": true,
        "colab": {
          "base_uri": "https://localhost:8080/"
        },
        "id": "-J44V8LNrP4U",
        "outputId": "0c8cdf04-9ac5-47e4-f0b5-627661848852"
      }
    },
    {
      "cell_type": "code",
      "execution_count": null,
      "source": [
        "# assign money variable value of 100\n",
        "#### say you have this much ammount in your account\n",
        "\n",
        "# start of if condition\n",
        "if money>=2000:\n",
        "    print('buy ML course')\n",
        "else: \n",
        "    print('you have less money then 2000 in your account then else will work for now only if is working')\n"
      ],
      "outputs": [
        {
          "output_type": "stream",
          "name": "stdout",
          "text": [
            "you have less money then 2000 in your account then else will work for now only if is working\n"
          ]
        }
      ],
      "metadata": {
        "execution": {
          "iopub.status.busy": "2021-12-13T12:05:59.422112Z",
          "iopub.execute_input": "2021-12-13T12:05:59.423116Z",
          "iopub.status.idle": "2021-12-13T12:05:59.42974Z",
          "shell.execute_reply.started": "2021-12-13T12:05:59.423062Z",
          "shell.execute_reply": "2021-12-13T12:05:59.428841Z"
        },
        "trusted": true,
        "colab": {
          "base_uri": "https://localhost:8080/"
        },
        "id": "eQGaPvuRrP4U",
        "outputId": "16e2d229-4652-4555-aca7-cc39a27cb89d"
      }
    },
    {
      "cell_type": "markdown",
      "source": [
        "# 2. `Multiple Condition` i.e. use of **`if`--- `elif`--- `else`**\n",
        "Say you have bought ML course, but now you want certification and internship here includes more then 1 condition maybe 2 or 3, lets see for conditions:\n",
        "* if your test score more then 80 then you will get certification of A grade\n",
        "* if your test score more then 60 then you will get certification of B grade\n",
        "* for rest not get anything"
      ],
      "metadata": {
        "id": "nVugaqcErP4U"
      }
    },
    {
      "cell_type": "markdown",
      "source": [
        "|Pseudo Code for above will be\n",
        "|----|\n",
        "Check if score > 80\n",
        "if yes print('A grade')\n",
        "Otherwise check if score > 60\n",
        "if yes print('B grade')\n",
        "For every other situation print('not getting anything')"
      ],
      "metadata": {
        "id": "KLJjdItrrP4U"
      }
    },
    {
      "cell_type": "code",
      "execution_count": null,
      "source": [
        "# python code for above Pseudo Code will be\n",
        "your_test_score = input('What is your test score(check for 10, 70, 90): ') #taking input from you use of input()\n",
        "your_test_score =  int(your_test_score)\n",
        "\n",
        "if your_test_score > 80:\n",
        "    print('A grade')\n",
        "elif your_test_score > 60 and your_test_score <80:\n",
        "    print('B grade')\n",
        "else:\n",
        "    print('Nothing for you')"
      ],
      "outputs": [
        {
          "output_type": "stream",
          "name": "stdout",
          "text": [
            "What is your test score(check for 10, 70, 90): 99\n",
            "A grade\n"
          ]
        }
      ],
      "metadata": {
        "execution": {
          "iopub.status.busy": "2021-12-13T12:12:40.145355Z",
          "iopub.execute_input": "2021-12-13T12:12:40.145964Z",
          "iopub.status.idle": "2021-12-13T12:12:45.469908Z",
          "shell.execute_reply.started": "2021-12-13T12:12:40.145915Z",
          "shell.execute_reply": "2021-12-13T12:12:45.469259Z"
        },
        "trusted": true,
        "colab": {
          "base_uri": "https://localhost:8080/"
        },
        "id": "UkSB0BDKrP4V",
        "outputId": "11b8998c-a89f-44fd-f63d-67ed9cacfa12"
      }
    },
    {
      "cell_type": "markdown",
      "source": [
        "`Understand above Flow`:\n",
        "* check for if statement if true close, if not true\n",
        "* check for elif, if elif condition is true go close, if not true\n",
        "* go ot else any way\n",
        "* [See how this code is being executed internally](https://pythontutor.com/visualize.html#mode=display)\n",
        "* copy above code there "
      ],
      "metadata": {
        "id": "5fSzijCErP4V"
      }
    },
    {
      "cell_type": "markdown",
      "source": [
        "\n",
        "<a id='7'></a><center> <h3 style=\"background-color:orange; color:white\" ><br>Assignment Conditional Statements<br></h3>"
      ],
      "metadata": {
        "id": "f-c4s81KrP4V"
      }
    },
    {
      "cell_type": "markdown",
      "source": [
        "# 📌📌 Indentation in Python\n",
        "\n",
        "***Before we start Conditional Statements, let's have a look at `indentation` in Python.***\n",
        "\n",
        "## `INDENTATION`\n",
        "* Indentation means `(spaces and tabs)` that are used at beginning of any statement\n",
        "* Statements with same indentation belong to same group also called as `suite`. \n"
      ],
      "metadata": {
        "id": "qutzAWNFrP4V"
      }
    },
    {
      "cell_type": "code",
      "execution_count": null,
      "source": [
        "# this is how wrong indentation gives you error  (commet can be written by using => #)\n",
        "if (2 == 2):\n",
        "  print('True Statement') # IndentationError"
      ],
      "outputs": [
        {
          "output_type": "stream",
          "name": "stdout",
          "text": [
            "True Statement\n"
          ]
        }
      ],
      "metadata": {
        "execution": {
          "iopub.status.busy": "2021-12-11T05:18:03.376487Z",
          "iopub.status.idle": "2021-12-11T05:18:03.376791Z",
          "shell.execute_reply.started": "2021-12-11T05:18:03.376636Z",
          "shell.execute_reply": "2021-12-11T05:18:03.376652Z"
        },
        "trusted": true,
        "colab": {
          "base_uri": "https://localhost:8080/"
        },
        "id": "CK1s7-BxrP4V",
        "outputId": "52c1c09c-bf5a-407d-f7b6-d5476e6620ed"
      }
    },
    {
      "cell_type": "markdown",
      "source": [
        "**`Take an input from a user in variable input_ and print \"Even\" if number is divisible by 2, otherwise print \"Odd\"`**"
      ],
      "metadata": {
        "id": "pT2IKbixrP4V"
      }
    },
    {
      "cell_type": "code",
      "execution_count": null,
      "source": [
        "# take input from user by using input function in variable named as input_\n",
        "num = (input('Enter a number: '))\n",
        "\n",
        "# by default type is string, so we need to convert type first into int\n",
        "input_ = int(num)\n",
        "\n",
        "if input_%2==0:\n",
        "    print(\"Even\")\n",
        "else:\n",
        "    print(\"Odd\")"
      ],
      "outputs": [
        {
          "output_type": "stream",
          "name": "stdout",
          "text": [
            "Enter a number: 35\n",
            "Odd\n"
          ]
        }
      ],
      "metadata": {
        "execution": {
          "iopub.status.busy": "2021-12-11T05:18:03.377643Z",
          "iopub.status.idle": "2021-12-11T05:18:03.377926Z",
          "shell.execute_reply.started": "2021-12-11T05:18:03.377777Z",
          "shell.execute_reply": "2021-12-11T05:18:03.377792Z"
        },
        "trusted": true,
        "colab": {
          "base_uri": "https://localhost:8080/"
        },
        "id": "zF-6vc9HrP4V",
        "outputId": "32f9d985-ac77-4085-e2a1-ce38df5b6b1f"
      }
    },
    {
      "cell_type": "markdown",
      "source": [
        "**`Take input from user in variable x and print \"`Grade A`\" if y is greater than 90, \"`Grade B`\" if y is greater than 60 but less than or equal to 90 and \"`Grade F`\" Otherwise`**"
      ],
      "metadata": {
        "id": "Wm_-Ao43rP4W"
      }
    },
    {
      "cell_type": "code",
      "execution_count": null,
      "source": [
        "# take input from user by using input function\n",
        "x = input('Enter your marks: ')\n",
        "\n",
        "# by default type is string, so we need to convert type first\n",
        "x = int(x)\n",
        "\n",
        "if x> 90:\n",
        "    print(\"Grade A\")\n",
        "elif x > 60:\n",
        "    print(\"Grade B\")\n",
        "else:\n",
        "    print(\"Grade F\")"
      ],
      "outputs": [
        {
          "output_type": "stream",
          "name": "stdout",
          "text": [
            "Enter your marks: 9\n",
            "Grade F\n"
          ]
        }
      ],
      "metadata": {
        "execution": {
          "iopub.status.busy": "2021-12-11T05:18:03.381965Z",
          "iopub.execute_input": "2021-12-11T05:18:03.382211Z",
          "iopub.status.idle": "2021-12-11T05:18:11.226671Z",
          "shell.execute_reply.started": "2021-12-11T05:18:03.382183Z",
          "shell.execute_reply": "2021-12-11T05:18:11.224518Z"
        },
        "trusted": true,
        "colab": {
          "base_uri": "https://localhost:8080/"
        },
        "id": "iY9UVHpOrP4W",
        "outputId": "671a9701-ca21-4d08-ab94-84c39a0d6c6a"
      }
    },
    {
      "cell_type": "markdown",
      "source": [
        "\n",
        "<a id='8'></a><center> <h3 style=\"background-color:orange; color:white\" ><br>Loops<br></h3>"
      ],
      "metadata": {
        "id": "Ifzx69_srP4W"
      }
    },
    {
      "cell_type": "code",
      "execution_count": null,
      "source": [
        "# Loops\n",
        "YouTubeVideo('https://www.youtube.com/watch?v=56-IOucIwAU&list=PLsR_0x6BuM-HJZT6Xzj-088N4hN3KsDME&index=12',width=600,height=300)"
      ],
      "outputs": [
        {
          "output_type": "execute_result",
          "data": {
            "text/html": [
              "\n",
              "        <iframe\n",
              "            width=\"600\"\n",
              "            height=\"300\"\n",
              "            src=\"https://www.youtube.com/embed/https://www.youtube.com/watch?v=56-IOucIwAU&list=PLsR_0x6BuM-HJZT6Xzj-088N4hN3KsDME&index=12\"\n",
              "            frameborder=\"0\"\n",
              "            allowfullscreen\n",
              "        ></iframe>\n",
              "        "
            ],
            "text/plain": [
              "<IPython.lib.display.YouTubeVideo at 0x7fb876b0f350>"
            ]
          },
          "metadata": {},
          "execution_count": 76
        }
      ],
      "metadata": {
        "execution": {
          "iopub.status.busy": "2021-12-15T10:15:22.667917Z",
          "iopub.execute_input": "2021-12-15T10:15:22.668882Z",
          "iopub.status.idle": "2021-12-15T10:15:22.761246Z",
          "shell.execute_reply.started": "2021-12-15T10:15:22.668826Z",
          "shell.execute_reply": "2021-12-15T10:15:22.760576Z"
        },
        "trusted": true,
        "colab": {
          "base_uri": "https://localhost:8080/",
          "height": 321
        },
        "id": "Q_9p_o-nrP4W",
        "outputId": "5837851f-9067-463b-bfc2-835e0350e5f6"
      }
    },
    {
      "cell_type": "code",
      "execution_count": null,
      "source": [
        "\"\"\"\n",
        "for iterating_variable in sequence:\n",
        "    statement(s)\n",
        "\"\"\""
      ],
      "outputs": [
        {
          "output_type": "execute_result",
          "data": {
            "application/vnd.google.colaboratory.intrinsic+json": {
              "type": "string"
            },
            "text/plain": [
              "'\\nfor iterating_variable in sequence:\\n    statement(s)\\n'"
            ]
          },
          "metadata": {},
          "execution_count": 77
        }
      ],
      "metadata": {
        "colab": {
          "base_uri": "https://localhost:8080/",
          "height": 38
        },
        "id": "Jeln_5cCrP4W",
        "outputId": "b7686a87-77ac-4fc8-91f2-62f80c89b098"
      }
    },
    {
      "cell_type": "markdown",
      "source": [
        "|Loop Type|Description|\n",
        "|----|-----|\n",
        "|`for in` loop | repeats a statement or group of statements finite number of time |\n",
        "|`while` loop | tests condition before executing loop body, repeats a statement or group of statements while a given condition is true |\n",
        "|`nested` loop  | loop inside a loop |"
      ],
      "metadata": {
        "id": "zKF8RVOJrP4W"
      }
    },
    {
      "cell_type": "markdown",
      "source": [
        "# **When to use `while` or `for` loops??** <br>\n",
        "Say your Girlfriend or Boyfriend is mad at you and they asked you to say sorry, but there are two more condition here given by them:\n",
        "* say sorry 1000 times, now you know end point i.e. 1000 => `use for loop`\n",
        "* say sorry untill I say I love you, now you dont know end point, maybe she/he will never say I love you. => `use while loop` it will stop saying sorry untill condition is not met\n",
        "\n",
        "1. `We use for loop when we want to run a block of code certain number of times`\n",
        "2. `Code in while clause will be executed as long as while statement’s condition is True`"
      ],
      "metadata": {
        "id": "7Mo7XNVNrP4W"
      }
    },
    {
      "cell_type": "markdown",
      "source": [
        "# `Why we need Loops?` <br>\n",
        "Say your Girfriend/Boyfriend is Mad at you and she want you to write sorry 1000 times. What to do now????? Write a `for loop`"
      ],
      "metadata": {
        "id": "LQwybYuNrP4X"
      }
    },
    {
      "cell_type": "markdown",
      "source": [
        "|Pseudo Code for above will be\n",
        "|----|\n",
        "print 'Sorry My love' (repeat 1000 times)"
      ],
      "metadata": {
        "id": "yGTJuxZarP4X"
      }
    },
    {
      "cell_type": "code",
      "execution_count": null,
      "source": [
        "\"\"\"\n",
        "for iterating_variable in sequence:\n",
        "    statement(s)\n",
        "\"\"\""
      ],
      "outputs": [
        {
          "output_type": "execute_result",
          "data": {
            "application/vnd.google.colaboratory.intrinsic+json": {
              "type": "string"
            },
            "text/plain": [
              "'\\nfor iterating_variable in sequence:\\n    statement(s)\\n'"
            ]
          },
          "metadata": {},
          "execution_count": 78
        }
      ],
      "metadata": {
        "colab": {
          "base_uri": "https://localhost:8080/",
          "height": 38
        },
        "id": "UsOavUkNrP4X",
        "outputId": "6a576f4b-5655-4091-e59b-722ecdd3f3fb"
      }
    },
    {
      "cell_type": "code",
      "execution_count": null,
      "source": [
        "for iterating_variable in range(10):\n",
        "    print(iterating_variable)"
      ],
      "outputs": [
        {
          "output_type": "stream",
          "name": "stdout",
          "text": [
            "0\n",
            "1\n",
            "2\n",
            "3\n",
            "4\n",
            "5\n",
            "6\n",
            "7\n",
            "8\n",
            "9\n"
          ]
        }
      ],
      "metadata": {
        "execution": {
          "iopub.status.busy": "2021-12-14T05:27:42.973933Z",
          "iopub.execute_input": "2021-12-14T05:27:42.974824Z",
          "iopub.status.idle": "2021-12-14T05:27:42.981157Z",
          "shell.execute_reply.started": "2021-12-14T05:27:42.97478Z",
          "shell.execute_reply": "2021-12-14T05:27:42.980185Z"
        },
        "trusted": true,
        "colab": {
          "base_uri": "https://localhost:8080/"
        },
        "id": "v3DtstO3rP4X",
        "outputId": "3138dfad-be46-49d8-a0aa-8e74c8855a9d"
      }
    },
    {
      "cell_type": "code",
      "execution_count": null,
      "source": [
        "# print '🔥 Sorry My Love🔥' 10 times using for loop\n",
        "\n",
        "# for now i am giving range of 10 you can give any number you want\n",
        "for i in range(10):\n",
        "  print(\"🔥 Sorry My Love🔥\")\n",
        "    "
      ],
      "outputs": [
        {
          "output_type": "stream",
          "name": "stdout",
          "text": [
            "🔥 Sorry My Love🔥\n",
            "🔥 Sorry My Love🔥\n",
            "🔥 Sorry My Love🔥\n",
            "🔥 Sorry My Love🔥\n",
            "🔥 Sorry My Love🔥\n",
            "🔥 Sorry My Love🔥\n",
            "🔥 Sorry My Love🔥\n",
            "🔥 Sorry My Love🔥\n",
            "🔥 Sorry My Love🔥\n",
            "🔥 Sorry My Love🔥\n"
          ]
        }
      ],
      "metadata": {
        "execution": {
          "iopub.status.busy": "2021-12-14T05:29:31.818325Z",
          "iopub.execute_input": "2021-12-14T05:29:31.818786Z",
          "iopub.status.idle": "2021-12-14T05:29:31.825965Z",
          "shell.execute_reply.started": "2021-12-14T05:29:31.818752Z",
          "shell.execute_reply": "2021-12-14T05:29:31.82532Z"
        },
        "trusted": true,
        "colab": {
          "base_uri": "https://localhost:8080/"
        },
        "id": "nD9f1mMwrP4X",
        "outputId": "15a156fb-b959-4677-eea5-1bda5064b42c"
      }
    },
    {
      "cell_type": "markdown",
      "source": [
        "`10` => `stoping criteria` of, for loop"
      ],
      "metadata": {
        "id": "F10cQq2RrP4X"
      }
    },
    {
      "cell_type": "code",
      "execution_count": null,
      "source": [
        "# Syntax of for loop\n",
        "\"\"\"\n",
        "for iterating_variable in sequence:\n",
        "    statements(s)\n",
        "\"\"\""
      ],
      "outputs": [
        {
          "output_type": "execute_result",
          "data": {
            "application/vnd.google.colaboratory.intrinsic+json": {
              "type": "string"
            },
            "text/plain": [
              "'# Syntax of for loop\\n\\nfor iterating_variable in sequence:\\n    statements(s)\\n'"
            ]
          },
          "metadata": {},
          "execution_count": 303
        }
      ],
      "metadata": {
        "execution": {
          "iopub.status.busy": "2021-12-11T05:18:11.228902Z",
          "iopub.status.idle": "2021-12-11T05:18:11.229189Z",
          "shell.execute_reply.started": "2021-12-11T05:18:11.229019Z",
          "shell.execute_reply": "2021-12-11T05:18:11.229034Z"
        },
        "trusted": true,
        "colab": {
          "base_uri": "https://localhost:8080/",
          "height": 38
        },
        "id": "uCzvC6tnrP4X",
        "outputId": "b5be09b0-02ef-4dbb-e886-590c7cf1a265"
      }
    },
    {
      "cell_type": "markdown",
      "source": [
        "* `in` => keyword\n",
        "* `sequence` => on which to itterate\n",
        "* `:` => colon , start of for loop"
      ],
      "metadata": {
        "id": "sYmBZqXkrP4X"
      }
    },
    {
      "cell_type": "markdown",
      "source": [
        "|Pseudo Code `while` loop|\n",
        "|---|\n",
        "while reply != 'I love you':\n",
        "....keep repeating until\n",
        "....caparison gives False "
      ],
      "metadata": {
        "id": "kKybOmM2rP4X"
      }
    },
    {
      "cell_type": "markdown",
      "source": [
        "`!=` = not equall to => `behaves as a stoping criteria`"
      ],
      "metadata": {
        "id": "nR0WJpXwrP4X"
      }
    },
    {
      "cell_type": "code",
      "execution_count": null,
      "source": [
        "# Syntax of while loop\n",
        "\"\"\"\n",
        "while comparison:\n",
        "    statements(s)\n",
        "\"\"\""
      ],
      "outputs": [
        {
          "output_type": "execute_result",
          "data": {
            "application/vnd.google.colaboratory.intrinsic+json": {
              "type": "string"
            },
            "text/plain": [
              "'\\nwhile comparison:\\n    statements(s)\\n'"
            ]
          },
          "metadata": {},
          "execution_count": 82
        }
      ],
      "metadata": {
        "execution": {
          "iopub.status.busy": "2021-12-11T05:18:11.230229Z",
          "iopub.status.idle": "2021-12-11T05:18:11.230505Z",
          "shell.execute_reply.started": "2021-12-11T05:18:11.230358Z",
          "shell.execute_reply": "2021-12-11T05:18:11.230373Z"
        },
        "trusted": true,
        "id": "vYJsdLnerP4Y",
        "colab": {
          "base_uri": "https://localhost:8080/",
          "height": 38
        },
        "outputId": "44686682-2f3a-4522-bdf4-84215e4a8f17"
      }
    },
    {
      "cell_type": "code",
      "execution_count": null,
      "source": [
        "# while loop\n",
        "\n",
        "# save 0 in variable number\n",
        "number = 0\n",
        "\n",
        "# print bellow result using while loop\n",
        "while number<7:\n",
        "  print(number)\n",
        "  number+=1"
      ],
      "outputs": [
        {
          "output_type": "stream",
          "name": "stdout",
          "text": [
            "0\n",
            "1\n",
            "2\n",
            "3\n",
            "4\n",
            "5\n",
            "6\n"
          ]
        }
      ],
      "metadata": {
        "execution": {
          "iopub.status.busy": "2021-12-14T05:32:44.799592Z",
          "iopub.execute_input": "2021-12-14T05:32:44.799916Z",
          "iopub.status.idle": "2021-12-14T05:32:44.807523Z",
          "shell.execute_reply.started": "2021-12-14T05:32:44.799882Z",
          "shell.execute_reply": "2021-12-14T05:32:44.806458Z"
        },
        "trusted": true,
        "id": "No1lV66XrP4Y",
        "colab": {
          "base_uri": "https://localhost:8080/"
        },
        "outputId": "aeeec7d4-d4c4-4818-f0d4-9c2e568ecbf9"
      }
    },
    {
      "cell_type": "markdown",
      "source": [
        "* Initialized variable `number = 0` and then increment it's value in each iteration\n",
        "* Loop will only continue to run only if value is less than 7"
      ],
      "metadata": {
        "id": "9oFT7qEjrP4Y"
      }
    },
    {
      "cell_type": "markdown",
      "source": [
        "# 3. **`Nested loop`**"
      ],
      "metadata": {
        "execution": {
          "iopub.status.busy": "2021-12-10T09:38:54.720379Z",
          "iopub.execute_input": "2021-12-10T09:38:54.720729Z",
          "iopub.status.idle": "2021-12-10T09:38:54.729647Z",
          "shell.execute_reply.started": "2021-12-10T09:38:54.720691Z",
          "shell.execute_reply": "2021-12-10T09:38:54.728479Z"
        },
        "id": "8510bIUSrP4Y"
      }
    },
    {
      "cell_type": "code",
      "execution_count": null,
      "source": [
        "# run it see the output\n",
        "for outer_loop_number in range(1,3):\n",
        "    print(outer_loop_number)"
      ],
      "outputs": [
        {
          "output_type": "stream",
          "name": "stdout",
          "text": [
            "1\n",
            "2\n"
          ]
        }
      ],
      "metadata": {
        "execution": {
          "iopub.status.busy": "2021-12-14T05:43:57.12841Z",
          "iopub.execute_input": "2021-12-14T05:43:57.128724Z",
          "iopub.status.idle": "2021-12-14T05:43:57.134926Z",
          "shell.execute_reply.started": "2021-12-14T05:43:57.128693Z",
          "shell.execute_reply": "2021-12-14T05:43:57.1341Z"
        },
        "trusted": true,
        "id": "SaYaNtm_rP4Y",
        "colab": {
          "base_uri": "https://localhost:8080/"
        },
        "outputId": "35483d65-699b-4dc5-a88e-d64ac9efd09e"
      }
    },
    {
      "cell_type": "code",
      "execution_count": null,
      "source": [
        "# run it see the output\n",
        "for inner_loop_character in \"CloudyML\":\n",
        "    print(inner_loop_character)"
      ],
      "outputs": [
        {
          "output_type": "stream",
          "name": "stdout",
          "text": [
            "C\n",
            "l\n",
            "o\n",
            "u\n",
            "d\n",
            "y\n",
            "M\n",
            "L\n"
          ]
        }
      ],
      "metadata": {
        "execution": {
          "iopub.status.busy": "2021-12-14T05:44:39.12929Z",
          "iopub.execute_input": "2021-12-14T05:44:39.129675Z",
          "iopub.status.idle": "2021-12-14T05:44:39.137127Z",
          "shell.execute_reply.started": "2021-12-14T05:44:39.129641Z",
          "shell.execute_reply": "2021-12-14T05:44:39.135798Z"
        },
        "trusted": true,
        "id": "8E_8V-_3rP4Y",
        "colab": {
          "base_uri": "https://localhost:8080/"
        },
        "outputId": "b265f66a-7738-4301-976f-e9168d060ab2"
      }
    },
    {
      "cell_type": "code",
      "execution_count": null,
      "source": [
        "# print this patern using outer and inner loop \n",
        "i = 1\n",
        "while i<=2:\n",
        "  for j in \"CloudyML\":\n",
        "    print(i, end=' ')\n",
        "    print(j)\n",
        "  i+=1"
      ],
      "outputs": [
        {
          "output_type": "stream",
          "name": "stdout",
          "text": [
            "1 C\n",
            "1 l\n",
            "1 o\n",
            "1 u\n",
            "1 d\n",
            "1 y\n",
            "1 M\n",
            "1 L\n",
            "2 C\n",
            "2 l\n",
            "2 o\n",
            "2 u\n",
            "2 d\n",
            "2 y\n",
            "2 M\n",
            "2 L\n"
          ]
        }
      ],
      "metadata": {
        "execution": {
          "iopub.status.busy": "2021-12-14T05:45:07.376268Z",
          "iopub.execute_input": "2021-12-14T05:45:07.376594Z",
          "iopub.status.idle": "2021-12-14T05:45:07.387369Z",
          "shell.execute_reply.started": "2021-12-14T05:45:07.376561Z",
          "shell.execute_reply": "2021-12-14T05:45:07.385704Z"
        },
        "trusted": true,
        "id": "VYeJ7UT3rP4Y",
        "colab": {
          "base_uri": "https://localhost:8080/"
        },
        "outputId": "58ec7e06-5b76-4833-c96c-9dfacbc8e43d"
      }
    },
    {
      "cell_type": "markdown",
      "source": [
        "`See For each step in outer loop, inner loop exectues completely`"
      ],
      "metadata": {
        "id": "VDXKoxndrP4Y"
      }
    },
    {
      "cell_type": "code",
      "execution_count": null,
      "source": [
        "# think what will be the output of this code and then run it\n",
        "# comment why this out is the way it is \n",
        "\n",
        "for letter in 'cloudyml':\n",
        "    if (letter == 'c') or (letter == 'o'):\n",
        "        print('m', end= ' ')\n",
        "    else:\n",
        "        print(letter,end= 'x')\n",
        "\n",
        "''' every c is replaced by m and a space\n",
        "    and every o is also replaced by m and a space\n",
        "    all the other letters will be writen as it is followed by x\n",
        "\n",
        "    'c' = 'm '\n",
        "    'l' = 'lx'\n",
        "    'o' = 'm '\n",
        "    'u' = 'ux'\n",
        "    'd' = 'dx'\n",
        "    'y' = 'yx'\n",
        "    'm' = 'mx'\n",
        "    'l' = 'lx'\n",
        "\n",
        "    combining them :\n",
        "        'cloudyml' = 'm lxm uxdxyxmxlx'\n",
        "'''"
      ],
      "outputs": [
        {
          "output_type": "stream",
          "name": "stdout",
          "text": [
            "m lxm uxdxyxmxlx"
          ]
        }
      ],
      "metadata": {
        "execution": {
          "iopub.status.busy": "2021-12-11T05:18:11.234623Z",
          "iopub.status.idle": "2021-12-11T05:18:11.234923Z",
          "shell.execute_reply.started": "2021-12-11T05:18:11.234773Z",
          "shell.execute_reply": "2021-12-11T05:18:11.234789Z"
        },
        "trusted": true,
        "id": "wY98D_7BrP4Y",
        "colab": {
          "base_uri": "https://localhost:8080/"
        },
        "outputId": "cac42c0d-5591-4fd7-c231-13cbfba8b1ba"
      }
    },
    {
      "cell_type": "markdown",
      "source": [
        "Your Comment: => -------"
      ],
      "metadata": {
        "id": "AiELZ4y9jaYG"
      }
    },
    {
      "cell_type": "code",
      "execution_count": null,
      "source": [
        "# think what will be the output of this code and then run it\n",
        "# comment why this out is the way it is \n",
        "\n",
        "num = 10\n",
        "\n",
        "while num > 5:\n",
        "    print(num,end= ' ')\n",
        "    \n",
        "    num = num - 1\n",
        "    if num == 8:\n",
        "        num = 2\n",
        "\n",
        "'''\n",
        "    at first iteration:\n",
        "                        num =10,  10>5 {condition True}\n",
        "                            value of num is printed with a space\n",
        "                            num = 10 -1 = 9\n",
        "                            num is not equal to 8  : so below code is not considered\n",
        "    at next iteration:\n",
        "                        num = 9,  9>5 {condition True}\n",
        "                            value of num is printed with a space\n",
        "                            num = 9 -1 =8\n",
        "                            num is quaeal to 8 : num value is set as 2\n",
        "    at next iteration: \n",
        "                        num = 2,  2<5 {condition False}\n",
        "                            Loop Terminated                          \n",
        "\n",
        "\n",
        "'''"
      ],
      "outputs": [
        {
          "output_type": "stream",
          "name": "stdout",
          "text": [
            "10 9 "
          ]
        },
        {
          "output_type": "execute_result",
          "data": {
            "application/vnd.google.colaboratory.intrinsic+json": {
              "type": "string"
            },
            "text/plain": [
              "'\\n    at first iteration:\\n                        num =10,  10>5 {condition True}\\n                            value of num is printed with a space\\n                            num = 10 -1 = 9\\n                            num is not equal to 8  : so below code is not considered\\n    at next iteration:\\n                        num = 9,  9>5 {condition True}\\n                            value of num is printed with a space\\n                            num = 9 -1 =8\\n                            num is quaeal to 8 : num value is set as 2\\n    at next iteration: \\n                        num = 2,  2<5 {condition False}\\n                            Loop Terminated                          \\n\\n\\n'"
            ]
          },
          "metadata": {},
          "execution_count": 75
        }
      ],
      "metadata": {
        "execution": {
          "iopub.status.busy": "2021-12-11T05:18:11.235984Z",
          "iopub.status.idle": "2021-12-11T05:18:11.236307Z",
          "shell.execute_reply.started": "2021-12-11T05:18:11.23614Z",
          "shell.execute_reply": "2021-12-11T05:18:11.236156Z"
        },
        "trusted": true,
        "id": "n8YN-ajLrP4Z",
        "colab": {
          "base_uri": "https://localhost:8080/",
          "height": 123
        },
        "outputId": "1da1b689-f2ac-4795-b841-5791b15b32fa"
      }
    },
    {
      "cell_type": "markdown",
      "source": [
        "Your Comment: => -------"
      ],
      "metadata": {
        "id": "tpJnrvlnjwHf"
      }
    },
    {
      "cell_type": "markdown",
      "source": [
        "<a id='9'></a><center> <h3 style=\"background-color:orange; color:white\" ><br>Jump Statements<br></h3>"
      ],
      "metadata": {
        "id": "CsIxN6mUrP4Z"
      }
    },
    {
      "cell_type": "code",
      "execution_count": null,
      "source": [
        "# Statements-1\n",
        "YouTubeVideo('https://www.youtube.com/watch?v=znhhfYiFrzI&list=PLsR_0x6BuM-HJZT6Xzj-088N4hN3KsDME&index=13',width=600,height=300)"
      ],
      "outputs": [
        {
          "output_type": "execute_result",
          "data": {
            "text/html": [
              "\n",
              "        <iframe\n",
              "            width=\"600\"\n",
              "            height=\"300\"\n",
              "            src=\"https://www.youtube.com/embed/https://www.youtube.com/watch?v=znhhfYiFrzI&list=PLsR_0x6BuM-HJZT6Xzj-088N4hN3KsDME&index=13\"\n",
              "            frameborder=\"0\"\n",
              "            allowfullscreen\n",
              "        ></iframe>\n",
              "        "
            ],
            "text/plain": [
              "<IPython.lib.display.YouTubeVideo at 0x7fb876ad3290>"
            ]
          },
          "metadata": {},
          "execution_count": 89
        }
      ],
      "metadata": {
        "execution": {
          "iopub.status.busy": "2021-12-15T10:12:13.499024Z",
          "iopub.execute_input": "2021-12-15T10:12:13.499283Z",
          "iopub.status.idle": "2021-12-15T10:12:13.585163Z",
          "shell.execute_reply.started": "2021-12-15T10:12:13.499256Z",
          "shell.execute_reply": "2021-12-15T10:12:13.58456Z"
        },
        "trusted": true,
        "id": "hPvTWkmArP4Z",
        "colab": {
          "base_uri": "https://localhost:8080/",
          "height": 321
        },
        "outputId": "f03f0291-a849-48bf-fb7e-580fc230f8b8"
      }
    },
    {
      "cell_type": "code",
      "execution_count": null,
      "source": [
        "# Statements-2\n",
        "YouTubeVideo('https://www.youtube.com/watch?v=znhhfYiFrzI&list=PLsR_0x6BuM-HJZT6Xzj-088N4hN3KsDME&index=14',width=600,height=300)"
      ],
      "outputs": [
        {
          "output_type": "execute_result",
          "data": {
            "text/html": [
              "\n",
              "        <iframe\n",
              "            width=\"600\"\n",
              "            height=\"300\"\n",
              "            src=\"https://www.youtube.com/embed/https://www.youtube.com/watch?v=znhhfYiFrzI&list=PLsR_0x6BuM-HJZT6Xzj-088N4hN3KsDME&index=14\"\n",
              "            frameborder=\"0\"\n",
              "            allowfullscreen\n",
              "        ></iframe>\n",
              "        "
            ],
            "text/plain": [
              "<IPython.lib.display.YouTubeVideo at 0x7fb876b12e90>"
            ]
          },
          "metadata": {},
          "execution_count": 90
        }
      ],
      "metadata": {
        "execution": {
          "iopub.status.busy": "2021-12-15T10:12:26.791972Z",
          "iopub.execute_input": "2021-12-15T10:12:26.792703Z",
          "iopub.status.idle": "2021-12-15T10:12:26.88312Z",
          "shell.execute_reply.started": "2021-12-15T10:12:26.792662Z",
          "shell.execute_reply": "2021-12-15T10:12:26.882488Z"
        },
        "trusted": true,
        "id": "pnF2om1TrP4Z",
        "colab": {
          "base_uri": "https://localhost:8080/",
          "height": 321
        },
        "outputId": "d8561384-689d-4b79-fa3f-7f23c65ed123"
      }
    },
    {
      "cell_type": "markdown",
      "source": [
        "# **`Type of Jump Statements`** <br>\n",
        "1. `Break Statement`\n",
        "2. `Continue Statement`\n",
        "3. `Pass Statement`"
      ],
      "metadata": {
        "id": "ZFHHxSeqrP4Z"
      }
    },
    {
      "cell_type": "markdown",
      "source": [
        "Using for loops and while loops in Python allow you to automate and repeat tasks in an efficient manner.\n",
        "\n",
        "* But sometimes, an external factor may influence the way your program runs. When this occurs, you may want your program to `exit a loop completely`, `skip part of a loop before continuing`, or `ignore that external factor` \n",
        "\n",
        "`You can do these actions with **Break** and **Continue** Statements`"
      ],
      "metadata": {
        "id": "Mai0WKJ7rP4Z"
      }
    },
    {
      "cell_type": "code",
      "execution_count": null,
      "source": [
        "'''\n",
        "pass\n",
        "\n",
        "break\n",
        "\n",
        "continue\n",
        "'''"
      ],
      "outputs": [
        {
          "output_type": "execute_result",
          "data": {
            "application/vnd.google.colaboratory.intrinsic+json": {
              "type": "string"
            },
            "text/plain": [
              "'\\npass\\n\\nbreak\\n\\ncontinue\\n'"
            ]
          },
          "metadata": {},
          "execution_count": 91
        }
      ],
      "metadata": {
        "id": "0bu4vLAJrP4Z",
        "colab": {
          "base_uri": "https://localhost:8080/",
          "height": 38
        },
        "outputId": "7e0aa30e-916c-436a-f7e1-d24a5e586564"
      }
    },
    {
      "cell_type": "markdown",
      "source": [
        "# 1. **`Break Statement`**\n"
      ],
      "metadata": {
        "id": "2TlMjfJVrP4a"
      }
    },
    {
      "cell_type": "code",
      "execution_count": null,
      "source": [
        "# observe the output\n",
        "for num in range(10):\n",
        "    print(num)"
      ],
      "outputs": [
        {
          "output_type": "stream",
          "name": "stdout",
          "text": [
            "0\n",
            "1\n",
            "2\n",
            "3\n",
            "4\n",
            "5\n",
            "6\n",
            "7\n",
            "8\n",
            "9\n"
          ]
        }
      ],
      "metadata": {
        "execution": {
          "iopub.status.busy": "2021-12-14T08:27:20.070203Z",
          "iopub.execute_input": "2021-12-14T08:27:20.070741Z",
          "iopub.status.idle": "2021-12-14T08:27:20.077102Z",
          "shell.execute_reply.started": "2021-12-14T08:27:20.070699Z",
          "shell.execute_reply": "2021-12-14T08:27:20.076404Z"
        },
        "trusted": true,
        "id": "MYsORtlrrP4a",
        "colab": {
          "base_uri": "https://localhost:8080/"
        },
        "outputId": "ad627245-54a8-461b-adf7-4460af777bb5"
      }
    },
    {
      "cell_type": "code",
      "execution_count": null,
      "source": [
        "# example that uses break statement in a for loop\n",
        "\n",
        "num = 0\n",
        "for num in range(10):\n",
        "    if num == 5:\n",
        "         break \n",
        "    print('The number is' + str(num))\n",
        "\n",
        "print('Out of loop')\n",
        "\n",
        "\n",
        "# Explain Why the output is the way it is "
      ],
      "outputs": [
        {
          "output_type": "stream",
          "name": "stdout",
          "text": [
            "The number is0\n",
            "The number is1\n",
            "The number is2\n",
            "The number is3\n",
            "The number is4\n",
            "Out of loop\n"
          ]
        },
        {
          "output_type": "execute_result",
          "data": {
            "application/vnd.google.colaboratory.intrinsic+json": {
              "type": "string"
            },
            "text/plain": [
              "'when for loop is setted till range 10, at num = 5 we written break , it just break the loop'"
            ]
          },
          "metadata": {},
          "execution_count": 3
        }
      ],
      "metadata": {
        "execution": {
          "iopub.status.busy": "2021-12-14T09:25:34.609121Z",
          "iopub.execute_input": "2021-12-14T09:25:34.60943Z",
          "iopub.status.idle": "2021-12-14T09:25:34.617876Z",
          "shell.execute_reply.started": "2021-12-14T09:25:34.609398Z",
          "shell.execute_reply": "2021-12-14T09:25:34.616894Z"
        },
        "trusted": true,
        "id": "9E-BFzqUrP4a",
        "colab": {
          "base_uri": "https://localhost:8080/",
          "height": 140
        },
        "outputId": "d9eadd05-bc99-4f6a-c0a2-bc1e090f90e8"
      }
    },
    {
      "cell_type": "markdown",
      "source": [
        "Your Comment: => ------- \n",
        "\n",
        "When for loop is setted till range 10, at num = 5 we written break , it just break the loop"
      ],
      "metadata": {
        "id": "-OvOEgwGkGh1"
      }
    },
    {
      "cell_type": "markdown",
      "source": [
        "# 2. **`Continue Statement`**\n"
      ],
      "metadata": {
        "id": "oPN-KW8ErP4a"
      }
    },
    {
      "cell_type": "code",
      "execution_count": null,
      "source": [
        "# Using same `for loop program` as in Break Statement section above, we’ll use a continue statement rather than a break statement\n",
        "num = 0\n",
        "\n",
        "for num in range(10):\n",
        "    if num == 5:\n",
        "        continue #keep running if num == 5\n",
        "    print('The number is' + str(num))\n",
        "\n",
        "print('Out of loop')\n",
        "\n",
        "\n",
        "# Explain Why the output is the way it is "
      ],
      "outputs": [
        {
          "output_type": "stream",
          "name": "stdout",
          "text": [
            "The number is0\n",
            "The number is1\n",
            "The number is2\n",
            "The number is3\n",
            "The number is4\n",
            "The number is6\n",
            "The number is7\n",
            "The number is8\n",
            "The number is9\n",
            "Out of loop\n"
          ]
        }
      ],
      "metadata": {
        "execution": {
          "iopub.status.busy": "2021-12-14T06:14:44.160579Z",
          "iopub.execute_input": "2021-12-14T06:14:44.160916Z",
          "iopub.status.idle": "2021-12-14T06:14:44.169578Z",
          "shell.execute_reply.started": "2021-12-14T06:14:44.160884Z",
          "shell.execute_reply": "2021-12-14T06:14:44.168622Z"
        },
        "trusted": true,
        "id": "I7RGHGcDrP4a",
        "colab": {
          "base_uri": "https://localhost:8080/"
        },
        "outputId": "1623dadf-25b1-4d43-e696-0b7afb26703b"
      }
    },
    {
      "cell_type": "markdown",
      "source": [
        "Your Comment: => -------\n",
        "\n",
        "When num == 5 'continue' statement will skip the execution of this iteration and then again fall bak to the same loop and continue its execution "
      ],
      "metadata": {
        "id": "FqKoSmjUkfSc"
      }
    },
    {
      "cell_type": "code",
      "execution_count": null,
      "source": [
        "# Using same code block as above, let’s replace break or continue statement with a pass statement\n",
        "num = 0\n",
        "\n",
        "for num in range(10):\n",
        "    if num == 5:\n",
        "        pass    # pass then\n",
        "    print('Number is ' + str(num))\n",
        "print('Out of loop')\n",
        "\n",
        "\n",
        "# Explain Why the output is the way it is"
      ],
      "outputs": [
        {
          "output_type": "stream",
          "name": "stdout",
          "text": [
            "Number is 0\n",
            "Number is 1\n",
            "Number is 2\n",
            "Number is 3\n",
            "Number is 4\n",
            "Number is 5\n",
            "Number is 6\n",
            "Number is 7\n",
            "Number is 8\n",
            "Number is 9\n",
            "Out of loop\n"
          ]
        }
      ],
      "metadata": {
        "execution": {
          "iopub.status.busy": "2021-12-14T08:11:16.489389Z",
          "iopub.execute_input": "2021-12-14T08:11:16.489676Z",
          "iopub.status.idle": "2021-12-14T08:11:16.496652Z",
          "shell.execute_reply.started": "2021-12-14T08:11:16.489646Z",
          "shell.execute_reply": "2021-12-14T08:11:16.495911Z"
        },
        "trusted": true,
        "id": "QOW1z0udrP4b",
        "colab": {
          "base_uri": "https://localhost:8080/"
        },
        "outputId": "b0cda0f0-55fb-4d3d-91b8-52150bad9f6b"
      }
    },
    {
      "cell_type": "markdown",
      "source": [
        "Your Comment: => -------\n",
        "\n",
        "When we do not have anything to perform at num==5 we writen pass.\n",
        "Because pass just passes the code to further execution and do not make any action "
      ],
      "metadata": {
        "id": "tAreE2KtrP4b"
      }
    },
    {
      "cell_type": "markdown",
      "source": [
        "<a id='10'></a><center> <h3 style=\"background-color:orange; color:white\" ><br>Assignment Loops and Jump Statements<br></h3>\n"
      ],
      "metadata": {
        "id": "z7Mr7CDerP4b"
      }
    },
    {
      "cell_type": "markdown",
      "source": [
        "# 💬 ***Problem Statement-1:***\n",
        "\n",
        "* User will enter password which is set to be `qwert`\n",
        "* If password matches, print ***`Welcome to CloudyML Course!!`*** else print ***`Wrong Password!!`*** and user will re-enter password\n",
        "* In `fourth` trial, it will print ***`One Last Trial left!!!`***\n",
        "\n",
        "Hint: `Break Statement` can be used"
      ],
      "metadata": {
        "id": "0nJZ8yTqrP4b"
      }
    },
    {
      "cell_type": "code",
      "execution_count": null,
      "source": [
        "password = \"qwert\" \n",
        "\n",
        "for i in range(4):\n",
        "  if i==3:\n",
        "    print(\"One Last Trial left!!!\")\n",
        "  input_password = input(\"Enter your pasword: \")\n",
        "  flag = password == input_password\n",
        "  if flag == True:\n",
        "    print(\"Welcome to CloudyML Course!!\")\n",
        "    break\n",
        "  else:\n",
        "    print(\"Wrong Password!!\")\n",
        "  "
      ],
      "outputs": [
        {
          "output_type": "stream",
          "name": "stdout",
          "text": [
            "Enter your pasword: qwert\n",
            "Welcome to CloudyML Course!!\n"
          ]
        }
      ],
      "metadata": {
        "execution": {
          "iopub.status.busy": "2021-12-11T05:18:11.242989Z",
          "iopub.status.idle": "2021-12-11T05:18:11.243372Z",
          "shell.execute_reply.started": "2021-12-11T05:18:11.243182Z",
          "shell.execute_reply": "2021-12-11T05:18:11.243211Z"
        },
        "trusted": true,
        "id": "3TfEntL3rP4b",
        "colab": {
          "base_uri": "https://localhost:8080/"
        },
        "outputId": "eff7fe27-ee8d-483b-89ac-6f4b119dd016"
      }
    },
    {
      "cell_type": "markdown",
      "source": [
        "....."
      ],
      "metadata": {
        "id": "D7sqvuiNrP4b"
      }
    },
    {
      "cell_type": "markdown",
      "source": [
        "# 💬 ***Problem Statement-2:***\n",
        "\n",
        "* Enter password which is an OTP set to be `1008`\n",
        "* If OTP matches, It will ask user to provide details like ***`Enter Your Name:`*** and ***`Enter Your City:`*** and user will re-enter OTP\n",
        "* In `fourth` trial, it will print ***`One Last Trial left!!!`***\n",
        "\n",
        "`Hint:` Continue Statement can be used"
      ],
      "metadata": {
        "id": "hNE2e0YBrP4b"
      }
    },
    {
      "cell_type": "code",
      "execution_count": null,
      "source": [
        "OTP = 1008\n",
        "for i in range(4):\n",
        "  input_otp = int(input(\"Enter Your OTP: \"))\n",
        "  if input_otp == OTP:\n",
        "    name = input(\"Enter Your Name: \")\n",
        "    city = input(\"Enter Your City: \")\n",
        "    break\n",
        "  if i == 2:\n",
        "    print(\"One Last Trial Left!!!\")"
      ],
      "outputs": [
        {
          "name": "stdout",
          "output_type": "stream",
          "text": [
            "Enter Your OTP: 456\n",
            "Enter Your OTP: 565\n",
            "Enter Your OTP: 355\n",
            "One Last Trial Left!!!\n",
            "Enter Your OTP: 525\n"
          ]
        }
      ],
      "metadata": {
        "execution": {
          "iopub.status.busy": "2021-12-11T05:18:11.245219Z",
          "iopub.status.idle": "2021-12-11T05:18:11.245617Z",
          "shell.execute_reply.started": "2021-12-11T05:18:11.245461Z",
          "shell.execute_reply": "2021-12-11T05:18:11.245478Z"
        },
        "trusted": true,
        "id": "PI9ZTGG6rP4b",
        "colab": {
          "base_uri": "https://localhost:8080/"
        },
        "outputId": "dad54ab9-666e-41b0-be18-6db8e7f6d37a"
      }
    },
    {
      "cell_type": "markdown",
      "source": [
        "<a id='11'></a><center> <h3 style=\"background-color:orange; color:white\" ><br>Python Data Structures<br></h3>\n",
        "\n"
      ],
      "metadata": {
        "id": "mepQLZjcrP4b"
      }
    },
    {
      "cell_type": "code",
      "execution_count": null,
      "source": [
        "# Data Structures\n",
        "YouTubeVideo('https://www.youtube.com/watch?v=R0yDN07Jw_c&list=PLsR_0x6BuM-HJZT6Xzj-088N4hN3KsDME&index=4',width=600,height=300)\n"
      ],
      "outputs": [
        {
          "output_type": "execute_result",
          "data": {
            "text/html": [
              "\n",
              "        <iframe\n",
              "            width=\"600\"\n",
              "            height=\"300\"\n",
              "            src=\"https://www.youtube.com/embed/https://www.youtube.com/watch?v=R0yDN07Jw_c&list=PLsR_0x6BuM-HJZT6Xzj-088N4hN3KsDME&index=4\"\n",
              "            frameborder=\"0\"\n",
              "            allowfullscreen\n",
              "        ></iframe>\n",
              "        "
            ],
            "text/plain": [
              "<IPython.lib.display.YouTubeVideo at 0x7fb876b0fbd0>"
            ]
          },
          "metadata": {},
          "execution_count": 100
        }
      ],
      "metadata": {
        "execution": {
          "iopub.status.busy": "2021-12-15T10:23:50.024254Z",
          "iopub.execute_input": "2021-12-15T10:23:50.024709Z",
          "iopub.status.idle": "2021-12-15T10:23:50.118042Z",
          "shell.execute_reply.started": "2021-12-15T10:23:50.024675Z",
          "shell.execute_reply": "2021-12-15T10:23:50.116991Z"
        },
        "trusted": true,
        "id": "KVl9bMx_rP4b",
        "colab": {
          "base_uri": "https://localhost:8080/",
          "height": 321
        },
        "outputId": "efe2fbbe-3873-4bc4-af7a-5baa8cb8bcaa"
      }
    },
    {
      "cell_type": "markdown",
      "source": [
        "Existing Data Type: int, float, bool, str\n",
        "\n",
        "Problem with Existing Data Type:\n",
        "* Only single data type can be stored in a variable i.e. either int or decimal or str\n",
        "* To store more data we need more variables\n",
        "    * Eg: You have 100 name and age then you have to make 200 variables, valid for condition if you are not using DataStructure\n",
        "    \n",
        "    \n",
        "`Data Structure Solves` above problem\n",
        "\n",
        "# **`Properties of Data Structure:`**\n",
        "* Efficient Storage for large data\n",
        "* Should allow Manipulation/Operations on data\n",
        "* Should mantain underlying relationship of data\n",
        "If these three properties are available then you can call it a Data Structure\n",
        "\n",
        "\n",
        "# `Types of Data Structures:`\n",
        "* `List` => ordered => elements seprated by comma => enclosed with square brackets-[]\n",
        "* `Tuple`\n",
        "* `Set`\n",
        "* `Dictionary`"
      ],
      "metadata": {
        "id": "1A84HNVLrP4c"
      }
    },
    {
      "cell_type": "markdown",
      "source": [
        "|Data Structures type|Mutable|Comments|Indexing|Ordered|Duplicacy|\n",
        "|----|----|----|----|----|----|\n",
        "frozenset|immutable|immutable version of set|- |- |- |\n",
        "tuple ()|immutable|immutable version of list| possible|yes |allowed |\n",
        "list []|mutable|-|possible |yes | allowed |\n",
        "set {}|mutable| -|not |no |not |\n",
        "dict {key:value}|mutable|-|possible |no |not  |"
      ],
      "metadata": {
        "id": "2mYBzcjXrP4c"
      }
    },
    {
      "cell_type": "markdown",
      "source": [
        "💫 `immutable` => `can't be changed` <br>\n",
        "💫 `mutable` => `can be changed`"
      ],
      "metadata": {
        "id": "XbJv8WOprP4c"
      }
    },
    {
      "cell_type": "markdown",
      "source": [
        "---"
      ],
      "metadata": {
        "id": "hxNFx7omrP4c"
      }
    },
    {
      "cell_type": "code",
      "execution_count": null,
      "source": [
        "# List\n",
        "YouTubeVideo('https://www.youtube.com/watch?v=VGqMziKr9wM&list=PLsR_0x6BuM-HJZT6Xzj-088N4hN3KsDME&index=5',width=600,height=300)"
      ],
      "outputs": [
        {
          "output_type": "execute_result",
          "data": {
            "text/html": [
              "\n",
              "        <iframe\n",
              "            width=\"600\"\n",
              "            height=\"300\"\n",
              "            src=\"https://www.youtube.com/embed/https://www.youtube.com/watch?v=VGqMziKr9wM&list=PLsR_0x6BuM-HJZT6Xzj-088N4hN3KsDME&index=5\"\n",
              "            frameborder=\"0\"\n",
              "            allowfullscreen\n",
              "        ></iframe>\n",
              "        "
            ],
            "text/plain": [
              "<IPython.lib.display.YouTubeVideo at 0x7fb876ab5990>"
            ]
          },
          "metadata": {},
          "execution_count": 101
        }
      ],
      "metadata": {
        "execution": {
          "iopub.status.busy": "2021-12-15T10:00:04.495833Z",
          "iopub.execute_input": "2021-12-15T10:00:04.496944Z",
          "iopub.status.idle": "2021-12-15T10:00:04.587067Z",
          "shell.execute_reply.started": "2021-12-15T10:00:04.496888Z",
          "shell.execute_reply": "2021-12-15T10:00:04.586137Z"
        },
        "trusted": true,
        "id": "MSGQfzfQrP4c",
        "colab": {
          "base_uri": "https://localhost:8080/",
          "height": 321
        },
        "outputId": "61e4f9dc-2afe-4f56-97da-fd07f73c0229"
      }
    },
    {
      "cell_type": "markdown",
      "source": [
        "\n",
        "# **`List`**"
      ],
      "metadata": {
        "id": "1WlRcrHGrP4c"
      }
    },
    {
      "cell_type": "code",
      "execution_count": null,
      "source": [
        "# make a list, name it as names with values ram','ohm','da','ada','asdasd'\n",
        "name  = ['ram', 'ohm', 'da','ada', 'asdasd']\n",
        "# make a list, name it as roll_no with values 21,23,435,65,565,656\n",
        "roll_no = [21,23,434,54,565,656]\n",
        "# make a list, name it as scores  with values 23,2323,2323,234324,3423\n",
        "scores = [23,2323,2323, 234324, 3423]"
      ],
      "outputs": [],
      "metadata": {
        "execution": {
          "iopub.status.busy": "2021-12-13T08:21:05.502536Z",
          "iopub.execute_input": "2021-12-13T08:21:05.502988Z",
          "iopub.status.idle": "2021-12-13T08:21:05.510594Z",
          "shell.execute_reply.started": "2021-12-13T08:21:05.502944Z",
          "shell.execute_reply": "2021-12-13T08:21:05.50956Z"
        },
        "trusted": true,
        "id": "7SFfVkH0rP4c"
      }
    },
    {
      "cell_type": "code",
      "execution_count": null,
      "source": [
        "# make a list with Single data type - str\n",
        "# name of list names_list with values as 'krishna','mahadev','surya'\n",
        "name_list = ['krishna', 'mahadev', 'surya']\n",
        "# print type of names_list\n",
        "type(name_list)"
      ],
      "outputs": [
        {
          "output_type": "execute_result",
          "data": {
            "text/plain": [
              "list"
            ]
          },
          "metadata": {},
          "execution_count": 15
        }
      ],
      "metadata": {
        "execution": {
          "iopub.status.busy": "2021-12-11T12:31:37.805778Z",
          "iopub.execute_input": "2021-12-11T12:31:37.80606Z",
          "iopub.status.idle": "2021-12-11T12:31:37.812504Z",
          "shell.execute_reply.started": "2021-12-11T12:31:37.806032Z",
          "shell.execute_reply": "2021-12-11T12:31:37.811545Z"
        },
        "trusted": true,
        "id": "dyF1sb1jrP4c",
        "colab": {
          "base_uri": "https://localhost:8080/"
        },
        "outputId": "ce65632f-6f44-4f05-ae19-8e0e8df5c4e7"
      }
    },
    {
      "cell_type": "code",
      "execution_count": null,
      "source": [
        "# make a list with Mixed data type - str and int\n",
        "# name of list names_list with values as 'krishna','mahadev','surya',108,11,21\n",
        "name_list = ['kishna', 'mahadev', 'surya', 108,11,21]\n",
        "# print type of names_list\n",
        "type(name_list)"
      ],
      "outputs": [
        {
          "output_type": "execute_result",
          "data": {
            "text/plain": [
              "list"
            ]
          },
          "metadata": {},
          "execution_count": 22
        }
      ],
      "metadata": {
        "execution": {
          "iopub.status.busy": "2021-12-13T08:23:29.204091Z",
          "iopub.execute_input": "2021-12-13T08:23:29.204419Z",
          "iopub.status.idle": "2021-12-13T08:23:29.211906Z",
          "shell.execute_reply.started": "2021-12-13T08:23:29.20439Z",
          "shell.execute_reply": "2021-12-13T08:23:29.211239Z"
        },
        "trusted": true,
        "id": "1psLdZcUrP4d",
        "colab": {
          "base_uri": "https://localhost:8080/"
        },
        "outputId": "cc4aaa25-4d65-4a5a-feb3-3f278d64393c"
      }
    },
    {
      "cell_type": "code",
      "execution_count": null,
      "source": [
        "# access output element \n",
        "name_list"
      ],
      "outputs": [
        {
          "output_type": "execute_result",
          "data": {
            "text/plain": [
              "['kishna', 'mahadev', 'surya', 108, 11, 21]"
            ]
          },
          "metadata": {},
          "execution_count": 23
        }
      ],
      "metadata": {
        "execution": {
          "iopub.status.busy": "2021-12-13T08:26:53.758993Z",
          "iopub.execute_input": "2021-12-13T08:26:53.759352Z",
          "iopub.status.idle": "2021-12-13T08:26:53.76578Z",
          "shell.execute_reply.started": "2021-12-13T08:26:53.759315Z",
          "shell.execute_reply": "2021-12-13T08:26:53.764799Z"
        },
        "trusted": true,
        "id": "m5_fowfPrP4d",
        "colab": {
          "base_uri": "https://localhost:8080/"
        },
        "outputId": "ec1af146-064f-4e32-a568-4d72d5b8b759"
      }
    },
    {
      "cell_type": "markdown",
      "source": [
        "`List Indexing:`\n",
        "\n",
        "\n",
        "|`Values`|1|2|3|4|5|6|7|8|9|10|\n",
        "|---|---|---|---|---|---|---|---|---|---|---|\n",
        "|`Indexing` |0 |1 |2 |3 |4 |5 |6 |7 |8|9|\n",
        "|`Negative Indexing`| -10 |-9 |-8 |-7 |-6 |-5 |-4 |-3 |-2 |-1|"
      ],
      "metadata": {
        "id": "J1ipDEgCrP4d"
      }
    },
    {
      "cell_type": "code",
      "execution_count": null,
      "source": [
        "# extract single element i.e. last one using Negative Index (first element)\n",
        "name_list[-1]"
      ],
      "outputs": [
        {
          "output_type": "execute_result",
          "data": {
            "text/plain": [
              "21"
            ]
          },
          "metadata": {},
          "execution_count": 20
        }
      ],
      "metadata": {
        "execution": {
          "iopub.status.busy": "2021-12-13T08:27:25.21688Z",
          "iopub.execute_input": "2021-12-13T08:27:25.217447Z",
          "iopub.status.idle": "2021-12-13T08:27:25.223883Z",
          "shell.execute_reply.started": "2021-12-13T08:27:25.21741Z",
          "shell.execute_reply": "2021-12-13T08:27:25.22327Z"
        },
        "trusted": true,
        "id": "TStBmS8jrP4d",
        "colab": {
          "base_uri": "https://localhost:8080/"
        },
        "outputId": "3768237c-453f-411f-dee7-a1e8934717f4"
      }
    },
    {
      "cell_type": "code",
      "execution_count": null,
      "source": [
        "# extract single element using Index (first element)\n",
        "name_list[0]"
      ],
      "outputs": [
        {
          "output_type": "execute_result",
          "data": {
            "application/vnd.google.colaboratory.intrinsic+json": {
              "type": "string"
            },
            "text/plain": [
              "'kishna'"
            ]
          },
          "metadata": {},
          "execution_count": 24
        }
      ],
      "metadata": {
        "execution": {
          "iopub.status.busy": "2021-12-13T08:27:33.441702Z",
          "iopub.execute_input": "2021-12-13T08:27:33.441996Z",
          "iopub.status.idle": "2021-12-13T08:27:33.448369Z",
          "shell.execute_reply.started": "2021-12-13T08:27:33.441956Z",
          "shell.execute_reply": "2021-12-13T08:27:33.44729Z"
        },
        "trusted": true,
        "id": "wJIKlcwkrP4d",
        "colab": {
          "base_uri": "https://localhost:8080/",
          "height": 36
        },
        "outputId": "d70c76aa-76e2-4525-c87c-196981230bf7"
      }
    },
    {
      "cell_type": "code",
      "execution_count": null,
      "source": [
        "# extract sequence of elements using Index (first 3 elements)\n",
        "name_list[0:3]\n",
        "  #=> [start index:end index] => exclude end index"
      ],
      "outputs": [
        {
          "output_type": "execute_result",
          "data": {
            "text/plain": [
              "['kishna', 'mahadev', 'surya']"
            ]
          },
          "metadata": {},
          "execution_count": 25
        }
      ],
      "metadata": {
        "execution": {
          "iopub.status.busy": "2021-12-13T08:27:55.214558Z",
          "iopub.execute_input": "2021-12-13T08:27:55.214857Z",
          "iopub.status.idle": "2021-12-13T08:27:55.22238Z",
          "shell.execute_reply.started": "2021-12-13T08:27:55.214827Z",
          "shell.execute_reply": "2021-12-13T08:27:55.221262Z"
        },
        "trusted": true,
        "id": "w-9l5PkXrP4d",
        "colab": {
          "base_uri": "https://localhost:8080/"
        },
        "outputId": "ebfa8c8f-3a24-4db2-b037-cc398d46fd32"
      }
    },
    {
      "cell_type": "markdown",
      "source": [
        "## Membership Operators\n",
        "To check if particular element is present in list or not\n",
        "* Using `in` or `not in` to get answers of these type of queries "
      ],
      "metadata": {
        "id": "COPpT8hQrP4d"
      }
    },
    {
      "cell_type": "code",
      "execution_count": null,
      "source": [
        "# see names_list data"
      ],
      "outputs": [
        {
          "output_type": "execute_result",
          "data": {
            "text/plain": [
              "['krishna', 'mahadev', 'surya', 108, 11, 21]"
            ]
          },
          "metadata": {},
          "execution_count": 109
        }
      ],
      "metadata": {
        "execution": {
          "iopub.status.busy": "2021-12-13T08:30:00.340688Z",
          "iopub.execute_input": "2021-12-13T08:30:00.341103Z",
          "iopub.status.idle": "2021-12-13T08:30:00.347279Z",
          "shell.execute_reply.started": "2021-12-13T08:30:00.341069Z",
          "shell.execute_reply": "2021-12-13T08:30:00.346359Z"
        },
        "trusted": true,
        "id": "Y_8SDN1SrP4d",
        "colab": {
          "base_uri": "https://localhost:8080/"
        },
        "outputId": "98b3f42c-bd35-4068-9030-f605da939fa5"
      }
    },
    {
      "cell_type": "code",
      "execution_count": null,
      "source": [
        "# see if 'mukesh' is in  names_list\n",
        "'mukesh' in name_list"
      ],
      "outputs": [
        {
          "output_type": "execute_result",
          "data": {
            "text/plain": [
              "False"
            ]
          },
          "metadata": {},
          "execution_count": 27
        }
      ],
      "metadata": {
        "execution": {
          "iopub.status.busy": "2021-12-13T08:30:23.982521Z",
          "iopub.execute_input": "2021-12-13T08:30:23.983164Z",
          "iopub.status.idle": "2021-12-13T08:30:23.988855Z",
          "shell.execute_reply.started": "2021-12-13T08:30:23.983128Z",
          "shell.execute_reply": "2021-12-13T08:30:23.987976Z"
        },
        "trusted": true,
        "id": "zAhq9WqsrP4d",
        "colab": {
          "base_uri": "https://localhost:8080/"
        },
        "outputId": "0d6904e7-b167-4c0f-bf74-6090ff94bd93"
      }
    },
    {
      "cell_type": "code",
      "execution_count": null,
      "source": [
        "# see if 'rawan' is notin names_list\n",
        "'rawan' not in name_list"
      ],
      "outputs": [
        {
          "output_type": "execute_result",
          "data": {
            "text/plain": [
              "True"
            ]
          },
          "metadata": {},
          "execution_count": 28
        }
      ],
      "metadata": {
        "execution": {
          "iopub.status.busy": "2021-12-13T08:30:33.933573Z",
          "iopub.execute_input": "2021-12-13T08:30:33.933979Z",
          "iopub.status.idle": "2021-12-13T08:30:33.93938Z",
          "shell.execute_reply.started": "2021-12-13T08:30:33.933949Z",
          "shell.execute_reply": "2021-12-13T08:30:33.938604Z"
        },
        "trusted": true,
        "id": "0LjgT08NrP4d",
        "colab": {
          "base_uri": "https://localhost:8080/"
        },
        "outputId": "a37fc4c8-aec1-471c-cda2-f2ae6461f120"
      }
    },
    {
      "cell_type": "markdown",
      "source": [
        "## Adding to List\n",
        "* Adding a single element: `append()` => add at the end of the list\n",
        "* Adding multiple elements (adding list in list): `extend()`"
      ],
      "metadata": {
        "id": "_jF5-7_PrP4e"
      }
    },
    {
      "cell_type": "markdown",
      "source": [
        "# Use of .append()"
      ],
      "metadata": {
        "id": "Onk48j8xrP4e"
      }
    },
    {
      "cell_type": "code",
      "execution_count": null,
      "source": [
        "#see again names_list elements"
      ],
      "outputs": [
        {
          "output_type": "execute_result",
          "data": {
            "text/plain": [
              "['krishna', 'mahadev', 'surya', 108, 11, 21]"
            ]
          },
          "metadata": {},
          "execution_count": 112
        }
      ],
      "metadata": {
        "execution": {
          "iopub.status.busy": "2021-12-13T08:31:08.016526Z",
          "iopub.execute_input": "2021-12-13T08:31:08.016806Z",
          "iopub.status.idle": "2021-12-13T08:31:08.023252Z",
          "shell.execute_reply.started": "2021-12-13T08:31:08.016776Z",
          "shell.execute_reply": "2021-12-13T08:31:08.022472Z"
        },
        "trusted": true,
        "id": "ZEo63rVKrP4e",
        "colab": {
          "base_uri": "https://localhost:8080/"
        },
        "outputId": "f022080d-c809-4910-e801-c9944cfc2814"
      }
    },
    {
      "cell_type": "code",
      "execution_count": null,
      "source": [
        "# #see again names_list list elements\n",
        "print(name_list)\n",
        "\n",
        "#appending 'bhagwan' to list names_list\n",
        "#using append()\n",
        "name_list.append('bhagwan')\n",
        "\n",
        "# print list after appending\n",
        "print(name_list)\n",
        "\n",
        "# append 3,'ok' values as a list of list\n",
        " #<= it will append a list inside a list\n",
        "name_list.append([3,'ok'])\n",
        "# print names_list\n",
        "print(name_list)"
      ],
      "outputs": [
        {
          "output_type": "stream",
          "name": "stdout",
          "text": [
            "['kishna', 'mahadev', 'surya', 108, 11, 21]\n",
            "['kishna', 'mahadev', 'surya', 108, 11, 21, 'bhagwan']\n",
            "['kishna', 'mahadev', 'surya', 108, 11, 21, 'bhagwan', [3, 'ok']]\n"
          ]
        }
      ],
      "metadata": {
        "execution": {
          "iopub.status.busy": "2021-12-13T08:31:48.35089Z",
          "iopub.execute_input": "2021-12-13T08:31:48.35115Z",
          "iopub.status.idle": "2021-12-13T08:31:48.35939Z",
          "shell.execute_reply.started": "2021-12-13T08:31:48.351123Z",
          "shell.execute_reply": "2021-12-13T08:31:48.358505Z"
        },
        "trusted": true,
        "id": "JWztwD_PrP4e",
        "colab": {
          "base_uri": "https://localhost:8080/"
        },
        "outputId": "7a0d951a-360c-4249-eaa1-55d76e18e167"
      }
    },
    {
      "cell_type": "markdown",
      "source": [
        "# Use of .extend()"
      ],
      "metadata": {
        "id": "L6_5O9xcrP4e"
      }
    },
    {
      "cell_type": "code",
      "execution_count": null,
      "source": [
        "\n",
        "# extend names_list with values 6,'one more'\n",
        "values = [6,'one_more']\n",
        "# print list after .extend()\n",
        "name_list.extend(values)\n",
        "print(name_list)"
      ],
      "outputs": [
        {
          "output_type": "stream",
          "name": "stdout",
          "text": [
            "['kishna', 'mahadev', 'surya', 108, 11, 21, 'bhagwan', [3, 'ok'], 6, 'one_more']\n"
          ]
        }
      ],
      "metadata": {
        "execution": {
          "iopub.status.busy": "2021-12-13T08:32:56.377806Z",
          "iopub.execute_input": "2021-12-13T08:32:56.378121Z",
          "iopub.status.idle": "2021-12-13T08:32:56.384032Z",
          "shell.execute_reply.started": "2021-12-13T08:32:56.378087Z",
          "shell.execute_reply": "2021-12-13T08:32:56.38291Z"
        },
        "trusted": true,
        "id": "chB2CoWqrP4e",
        "colab": {
          "base_uri": "https://localhost:8080/"
        },
        "outputId": "0871a13e-79aa-431d-9c0a-614a255621b0"
      }
    },
    {
      "cell_type": "markdown",
      "source": [
        "## Deleting from list\n",
        "* `.remove()` => delete element by its value\n",
        "* `del` => delete element by index : indexing start from 0"
      ],
      "metadata": {
        "id": "fI6TbJ9IrP4e"
      }
    },
    {
      "cell_type": "markdown",
      "source": [
        "# Use of .remove()"
      ],
      "metadata": {
        "id": "iwcbBZfrrP4e"
      }
    },
    {
      "cell_type": "code",
      "execution_count": null,
      "source": [
        "# see names_list\n",
        "name_list"
      ],
      "outputs": [
        {
          "output_type": "execute_result",
          "data": {
            "text/plain": [
              "['kishna',\n",
              " 'mahadev',\n",
              " 'surya',\n",
              " 108,\n",
              " 11,\n",
              " 21,\n",
              " 'bhagwan',\n",
              " [3, 'ok'],\n",
              " 6,\n",
              " 'one_more']"
            ]
          },
          "metadata": {},
          "execution_count": 46
        }
      ],
      "metadata": {
        "execution": {
          "iopub.status.busy": "2021-12-13T08:35:24.869868Z",
          "iopub.execute_input": "2021-12-13T08:35:24.870142Z",
          "iopub.status.idle": "2021-12-13T08:35:24.876688Z",
          "shell.execute_reply.started": "2021-12-13T08:35:24.870115Z",
          "shell.execute_reply": "2021-12-13T08:35:24.875739Z"
        },
        "trusted": true,
        "id": "xYy-KNKxrP4e",
        "colab": {
          "base_uri": "https://localhost:8080/"
        },
        "outputId": "6381d35a-4e60-4209-b993-eac722ac9c73"
      }
    },
    {
      "cell_type": "code",
      "execution_count": null,
      "source": [
        "# remove one more from names_list\n",
        "name_list.remove('one_more')\n",
        "# print names_list\n",
        "name_list"
      ],
      "outputs": [
        {
          "output_type": "execute_result",
          "data": {
            "text/plain": [
              "['kishna', 'mahadev', 'surya', 108, 11, 21, 'bhagwan', [3, 'ok'], 6]"
            ]
          },
          "metadata": {},
          "execution_count": 47
        }
      ],
      "metadata": {
        "execution": {
          "iopub.status.busy": "2021-12-13T08:35:35.976582Z",
          "iopub.execute_input": "2021-12-13T08:35:35.977782Z",
          "iopub.status.idle": "2021-12-13T08:35:35.982445Z",
          "shell.execute_reply.started": "2021-12-13T08:35:35.977713Z",
          "shell.execute_reply": "2021-12-13T08:35:35.981775Z"
        },
        "trusted": true,
        "id": "8UfKI7MYrP4e",
        "colab": {
          "base_uri": "https://localhost:8080/"
        },
        "outputId": "b2498f33-08e1-4911-8af1-1dab1e905ccb"
      }
    },
    {
      "cell_type": "markdown",
      "source": [
        "\n",
        "# Use of del"
      ],
      "metadata": {
        "id": "P7mXoDiprP4f"
      }
    },
    {
      "cell_type": "code",
      "execution_count": null,
      "source": [
        "# see names_list\n",
        "name_list"
      ],
      "outputs": [
        {
          "output_type": "execute_result",
          "data": {
            "text/plain": [
              "['kishna', 'mahadev', 'surya', 108, 11, 21, 'bhagwan', [3, 'ok'], 6]"
            ]
          },
          "metadata": {},
          "execution_count": 48
        }
      ],
      "metadata": {
        "execution": {
          "iopub.status.busy": "2021-12-13T08:35:52.10741Z",
          "iopub.execute_input": "2021-12-13T08:35:52.107924Z",
          "iopub.status.idle": "2021-12-13T08:35:52.114855Z",
          "shell.execute_reply.started": "2021-12-13T08:35:52.107873Z",
          "shell.execute_reply": "2021-12-13T08:35:52.11401Z"
        },
        "trusted": true,
        "id": "AvQDPc_hrP4f",
        "colab": {
          "base_uri": "https://localhost:8080/"
        },
        "outputId": "1744a2de-13a0-4028-93d4-d322db9a9dc2"
      }
    },
    {
      "cell_type": "code",
      "execution_count": null,
      "source": [
        "# del 7 from names_list\n",
        "del name_list[7]\n",
        "# print names_list\n",
        "name_list"
      ],
      "outputs": [
        {
          "output_type": "execute_result",
          "data": {
            "text/plain": [
              "['kishna', 'mahadev', 'surya', 108, 11, 21, 'bhagwan', 6]"
            ]
          },
          "metadata": {},
          "execution_count": 49
        }
      ],
      "metadata": {
        "execution": {
          "iopub.status.busy": "2021-12-13T08:35:57.307742Z",
          "iopub.execute_input": "2021-12-13T08:35:57.308409Z",
          "iopub.status.idle": "2021-12-13T08:35:57.312802Z",
          "shell.execute_reply.started": "2021-12-13T08:35:57.308377Z",
          "shell.execute_reply": "2021-12-13T08:35:57.311834Z"
        },
        "trusted": true,
        "id": "oOyXUP0HrP4f",
        "colab": {
          "base_uri": "https://localhost:8080/"
        },
        "outputId": "fdffb807-50b8-40de-81f0-abcee358fc32"
      }
    },
    {
      "cell_type": "markdown",
      "source": [
        "## Iterate through list"
      ],
      "metadata": {
        "id": "EPu0UxWCrP4f"
      }
    },
    {
      "cell_type": "code",
      "execution_count": null,
      "source": [
        "# interate through list elements \n",
        "for element in name_list:\n",
        "   print(element)"
      ],
      "outputs": [
        {
          "output_type": "stream",
          "name": "stdout",
          "text": [
            "kishna\n",
            "mahadev\n",
            "surya\n",
            "108\n",
            "11\n",
            "21\n",
            "bhagwan\n",
            "6\n"
          ]
        }
      ],
      "metadata": {
        "execution": {
          "iopub.status.busy": "2021-12-13T08:37:14.631538Z",
          "iopub.execute_input": "2021-12-13T08:37:14.63231Z",
          "iopub.status.idle": "2021-12-13T08:37:14.638126Z",
          "shell.execute_reply.started": "2021-12-13T08:37:14.632274Z",
          "shell.execute_reply": "2021-12-13T08:37:14.637474Z"
        },
        "trusted": true,
        "id": "R8Xgr9-BrP4f",
        "colab": {
          "base_uri": "https://localhost:8080/"
        },
        "outputId": "26ccbfde-351d-4893-f96d-db0b36071c0f"
      }
    },
    {
      "cell_type": "markdown",
      "source": [
        "## Some pre-defined method on List\n"
      ],
      "metadata": {
        "id": "q7tmRtqYrP4f"
      }
    },
    {
      "cell_type": "code",
      "execution_count": null,
      "source": [
        "# see names_list\n",
        "name_list"
      ],
      "outputs": [
        {
          "output_type": "execute_result",
          "data": {
            "text/plain": [
              "['kishna', 'mahadev', 'surya', 108, 11, 21, 'bhagwan', 6]"
            ]
          },
          "metadata": {},
          "execution_count": 51
        }
      ],
      "metadata": {
        "execution": {
          "iopub.status.busy": "2021-12-13T08:37:49.527228Z",
          "iopub.execute_input": "2021-12-13T08:37:49.527524Z",
          "iopub.status.idle": "2021-12-13T08:37:49.533884Z",
          "shell.execute_reply.started": "2021-12-13T08:37:49.527488Z",
          "shell.execute_reply": "2021-12-13T08:37:49.532894Z"
        },
        "trusted": true,
        "id": "7xHmcCStrP4f",
        "colab": {
          "base_uri": "https://localhost:8080/"
        },
        "outputId": "48d664fb-45d1-4ade-c429-835f15e8c856"
      }
    },
    {
      "cell_type": "code",
      "execution_count": null,
      "source": [
        "# find length of list names_list\n",
        "len(name_list)"
      ],
      "outputs": [
        {
          "output_type": "execute_result",
          "data": {
            "text/plain": [
              "8"
            ]
          },
          "metadata": {},
          "execution_count": 52
        }
      ],
      "metadata": {
        "execution": {
          "iopub.status.busy": "2021-12-13T08:37:37.259131Z",
          "iopub.execute_input": "2021-12-13T08:37:37.260228Z",
          "iopub.status.idle": "2021-12-13T08:37:37.265686Z",
          "shell.execute_reply.started": "2021-12-13T08:37:37.260147Z",
          "shell.execute_reply": "2021-12-13T08:37:37.2651Z"
        },
        "trusted": true,
        "id": "hfmxSI0yrP4f",
        "colab": {
          "base_uri": "https://localhost:8080/"
        },
        "outputId": "a44d54d8-4b40-4d03-eee6-a18d2ec0e45b"
      }
    },
    {
      "cell_type": "code",
      "execution_count": null,
      "source": [
        "# reverse a list names_list\n",
        "name_list= name_list[::-1]\n",
        "# see names_list\n",
        "name_list"
      ],
      "outputs": [
        {
          "output_type": "execute_result",
          "data": {
            "text/plain": [
              "[6, 'bhagwan', 21, 11, 108, 'surya', 'mahadev', 'kishna']"
            ]
          },
          "metadata": {},
          "execution_count": 53
        }
      ],
      "metadata": {
        "execution": {
          "iopub.status.busy": "2021-12-13T08:38:29.086638Z",
          "iopub.execute_input": "2021-12-13T08:38:29.087211Z",
          "iopub.status.idle": "2021-12-13T08:38:29.093655Z",
          "shell.execute_reply.started": "2021-12-13T08:38:29.087163Z",
          "shell.execute_reply": "2021-12-13T08:38:29.092331Z"
        },
        "trusted": true,
        "id": "6u--oITYrP4f",
        "colab": {
          "base_uri": "https://localhost:8080/"
        },
        "outputId": "81fc5846-45a1-4e77-ebf6-4cd6f190eee0"
      }
    },
    {
      "cell_type": "code",
      "execution_count": null,
      "source": [
        "# sort a list see condition when it is not possible\n",
        "name_list.sort()\n",
        "name_list "
      ],
      "outputs": [
        {
          "output_type": "error",
          "ename": "TypeError",
          "evalue": "ignored",
          "traceback": [
            "\u001b[0;31m---------------------------------------------------------------------------\u001b[0m",
            "\u001b[0;31mTypeError\u001b[0m                                 Traceback (most recent call last)",
            "\u001b[0;32m<ipython-input-54-76096c35a97d>\u001b[0m in \u001b[0;36m<module>\u001b[0;34m()\u001b[0m\n\u001b[1;32m      1\u001b[0m \u001b[0;31m# sort a list see condition when it is not possible\u001b[0m\u001b[0;34m\u001b[0m\u001b[0;34m\u001b[0m\u001b[0;34m\u001b[0m\u001b[0m\n\u001b[0;32m----> 2\u001b[0;31m \u001b[0mname_list\u001b[0m\u001b[0;34m.\u001b[0m\u001b[0msort\u001b[0m\u001b[0;34m(\u001b[0m\u001b[0;34m)\u001b[0m\u001b[0;34m\u001b[0m\u001b[0;34m\u001b[0m\u001b[0m\n\u001b[0m\u001b[1;32m      3\u001b[0m \u001b[0mname_list\u001b[0m\u001b[0;34m\u001b[0m\u001b[0;34m\u001b[0m\u001b[0m\n",
            "\u001b[0;31mTypeError\u001b[0m: '<' not supported between instances of 'str' and 'int'"
          ]
        }
      ],
      "metadata": {
        "execution": {
          "iopub.status.busy": "2021-12-13T08:38:36.561875Z",
          "iopub.execute_input": "2021-12-13T08:38:36.562239Z",
          "iopub.status.idle": "2021-12-13T08:38:36.578288Z",
          "shell.execute_reply.started": "2021-12-13T08:38:36.562208Z",
          "shell.execute_reply": "2021-12-13T08:38:36.577247Z"
        },
        "trusted": true,
        "id": "JnGHTVmBrP4f",
        "colab": {
          "base_uri": "https://localhost:8080/",
          "height": 204
        },
        "outputId": "43309301-daac-49f5-f2c2-be78cd696523"
      }
    },
    {
      "cell_type": "code",
      "execution_count": null,
      "source": [
        "# make a list named as numbers_list with values as [51,101,11,21]\n",
        "number_list = [51,101,11,21]\n",
        "# sort list numbers_list\n",
        "number_list.sort()\n",
        "# see numbers_list output\n",
        "number_list"
      ],
      "outputs": [
        {
          "output_type": "execute_result",
          "data": {
            "text/plain": [
              "[11, 21, 51, 101]"
            ]
          },
          "metadata": {},
          "execution_count": 1
        }
      ],
      "metadata": {
        "execution": {
          "iopub.status.busy": "2021-12-13T08:39:03.298535Z",
          "iopub.execute_input": "2021-12-13T08:39:03.298835Z",
          "iopub.status.idle": "2021-12-13T08:39:03.305099Z",
          "shell.execute_reply.started": "2021-12-13T08:39:03.298805Z",
          "shell.execute_reply": "2021-12-13T08:39:03.304468Z"
        },
        "trusted": true,
        "id": "pkHLORxmrP4g",
        "colab": {
          "base_uri": "https://localhost:8080/"
        },
        "outputId": "e5c5e944-c4e2-4b77-d5f7-e6a3c9857c24"
      }
    },
    {
      "cell_type": "code",
      "execution_count": null,
      "source": [
        "# another way of sorting list\n",
        "\n",
        "# use sorted to short list named as sample_list with values as [51,101,11,21]\n",
        "sample_list = [51,101,11,21]\n",
        "sorted(sample_list)"
      ],
      "outputs": [
        {
          "output_type": "execute_result",
          "data": {
            "text/plain": [
              "[11, 21, 51, 101]"
            ]
          },
          "metadata": {},
          "execution_count": 5
        }
      ],
      "metadata": {
        "execution": {
          "iopub.status.busy": "2021-12-13T08:39:19.768469Z",
          "iopub.execute_input": "2021-12-13T08:39:19.768779Z",
          "iopub.status.idle": "2021-12-13T08:39:19.774375Z",
          "shell.execute_reply.started": "2021-12-13T08:39:19.768743Z",
          "shell.execute_reply": "2021-12-13T08:39:19.773639Z"
        },
        "trusted": true,
        "id": "SrfzuBccrP4g",
        "colab": {
          "base_uri": "https://localhost:8080/"
        },
        "outputId": "9921b72d-e3d2-4506-ddf0-56863ef89f63"
      }
    },
    {
      "cell_type": "markdown",
      "source": [
        "# Nested List"
      ],
      "metadata": {
        "id": "o8uqyHe6rP4g"
      }
    },
    {
      "cell_type": "code",
      "execution_count": null,
      "source": [
        "# defining a sample nested list named as list_of_list and vakues  [111, 201, [11, 21, 121], ['Aman', 'Bobo', 'Canada'], 'Wangu', ['Aanaya', 'Annu', 'Amanda']]\n",
        "list_of_list = [111,201,[11,21,121],['Aman', 'Bobo','Canada'], 'Wangu',['Ananya', 'Annu','Amanda']]\n",
        "# print list_of_list\n",
        "list_of_list"
      ],
      "outputs": [
        {
          "output_type": "execute_result",
          "data": {
            "text/plain": [
              "[111,\n",
              " 201,\n",
              " [11, 21, 121],\n",
              " ['Aman', 'Bobo', 'Canada'],\n",
              " 'Wangu',\n",
              " ['Ananya', 'Annu', 'Amanda']]"
            ]
          },
          "metadata": {},
          "execution_count": 10
        }
      ],
      "metadata": {
        "execution": {
          "iopub.status.busy": "2021-12-13T08:40:26.42915Z",
          "iopub.execute_input": "2021-12-13T08:40:26.429416Z",
          "iopub.status.idle": "2021-12-13T08:40:26.435432Z",
          "shell.execute_reply.started": "2021-12-13T08:40:26.429387Z",
          "shell.execute_reply": "2021-12-13T08:40:26.434598Z"
        },
        "trusted": true,
        "id": "1XQjdGSCrP4g",
        "colab": {
          "base_uri": "https://localhost:8080/"
        },
        "outputId": "f2b9a879-7647-479f-b6ef-66f2ec99236d"
      }
    },
    {
      "cell_type": "code",
      "execution_count": null,
      "source": [
        "# find length of nested list\n",
        "len(list_of_list)"
      ],
      "outputs": [
        {
          "output_type": "execute_result",
          "data": {
            "text/plain": [
              "6"
            ]
          },
          "metadata": {},
          "execution_count": 11
        }
      ],
      "metadata": {
        "execution": {
          "iopub.status.busy": "2021-12-13T08:40:32.646388Z",
          "iopub.execute_input": "2021-12-13T08:40:32.646942Z",
          "iopub.status.idle": "2021-12-13T08:40:32.653548Z",
          "shell.execute_reply.started": "2021-12-13T08:40:32.646904Z",
          "shell.execute_reply": "2021-12-13T08:40:32.652533Z"
        },
        "trusted": true,
        "id": "__2KBqwOrP4g",
        "colab": {
          "base_uri": "https://localhost:8080/"
        },
        "outputId": "5749b42d-fd51-4266-8130-71ad16e17619"
      }
    },
    {
      "cell_type": "code",
      "execution_count": null,
      "source": [
        "# aces third element of list_of_list\n",
        "list_of_list[2]"
      ],
      "outputs": [
        {
          "output_type": "execute_result",
          "data": {
            "text/plain": [
              "[11, 21, 121]"
            ]
          },
          "metadata": {},
          "execution_count": 13
        }
      ],
      "metadata": {
        "execution": {
          "iopub.status.busy": "2021-12-13T08:41:15.630168Z",
          "iopub.execute_input": "2021-12-13T08:41:15.630511Z",
          "iopub.status.idle": "2021-12-13T08:41:15.637418Z",
          "shell.execute_reply.started": "2021-12-13T08:41:15.630477Z",
          "shell.execute_reply": "2021-12-13T08:41:15.636383Z"
        },
        "trusted": true,
        "id": "yLnuvuLerP4g",
        "colab": {
          "base_uri": "https://localhost:8080/"
        },
        "outputId": "25a8d075-ebb3-4090-b9ab-07c79933caf3"
      }
    },
    {
      "cell_type": "code",
      "execution_count": null,
      "source": [
        "# accessing 2nd element of the third element of the primary list named  as list_of_list\n",
        "list_of_list[2][1]"
      ],
      "outputs": [
        {
          "output_type": "execute_result",
          "data": {
            "text/plain": [
              "21"
            ]
          },
          "metadata": {},
          "execution_count": 15
        }
      ],
      "metadata": {
        "execution": {
          "iopub.status.busy": "2021-12-13T08:41:43.777085Z",
          "iopub.execute_input": "2021-12-13T08:41:43.777576Z",
          "iopub.status.idle": "2021-12-13T08:41:43.784972Z",
          "shell.execute_reply.started": "2021-12-13T08:41:43.777528Z",
          "shell.execute_reply": "2021-12-13T08:41:43.78417Z"
        },
        "trusted": true,
        "id": "hind6UyKrP4g",
        "colab": {
          "base_uri": "https://localhost:8080/"
        },
        "outputId": "0d635af5-53b9-48dc-f8e5-87062754fbf0"
      }
    },
    {
      "cell_type": "markdown",
      "source": [
        "<a id='12'></a><center> <h3 style=\"background-color:orange; color:white\" ><br>Assignment Python Data Structures List<br></h3>"
      ],
      "metadata": {
        "id": "YxKiQW5frP4g"
      }
    },
    {
      "cell_type": "markdown",
      "source": [
        "# 💬 **List Problem Statement:**\n",
        "\n",
        "Say CloudyML conducted an assessment test to hire a Data Scientist <br>\n",
        "Candidates were evaluated on 5 different subject `Statistics`, `Python`, `SQL`, `ML`, and `DeepLearning` <br> \n",
        "`Help CloudyML team to find out answers of following questions` <br>\n",
        "\n",
        "💡 `Find out Who scored highest marks in Python?`\n",
        "* Step1: Select name of student and marks in Python\n",
        "* Step2: Store filtered name and marks in another list\n",
        "* Step3: Sort list. (Kept marks as first index)\n",
        "* Step4: Get final index of sorted list"
      ],
      "metadata": {
        "id": "E8-7E8mTrP4h"
      }
    },
    {
      "cell_type": "code",
      "execution_count": null,
      "source": [
        "#### Marks of 5 different subjects out of 100 are as ####\n",
        "\n",
        "student_marks = [['Name',['Statistics','Python','SQL','ML','DeepLearning']],\n",
        "                 ['Ananya',[41, 34, 45, 55, 63]],\n",
        "                 ['Akash',[42, 23, 34, 44, 53]],\n",
        "                 ['Rahul',[32, 23, 13, 54, 67]],\n",
        "                 ['Mukesh',[23, 82, 23, 63, 34]] ]"
      ],
      "outputs": [],
      "metadata": {
        "execution": {
          "iopub.status.busy": "2021-12-11T05:18:24.845176Z",
          "iopub.execute_input": "2021-12-11T05:18:24.8457Z",
          "iopub.status.idle": "2021-12-11T05:18:24.852835Z",
          "shell.execute_reply.started": "2021-12-11T05:18:24.845665Z",
          "shell.execute_reply": "2021-12-11T05:18:24.852031Z"
        },
        "trusted": true,
        "id": "vwDSOqA7rP4h"
      }
    },
    {
      "cell_type": "code",
      "execution_count": null,
      "source": [
        "# print student_marks\n",
        "student_marks"
      ],
      "outputs": [
        {
          "output_type": "execute_result",
          "data": {
            "text/plain": [
              "[['Name', ['Statistics', 'Python', 'SQL', 'ML', 'DeepLearning']],\n",
              " ['Ananya', [41, 34, 45, 55, 63]],\n",
              " ['Akash', [42, 23, 34, 44, 53]],\n",
              " ['Rahul', [32, 23, 13, 54, 67]],\n",
              " ['Mukesh', [23, 82, 23, 63, 34]]]"
            ]
          },
          "metadata": {},
          "execution_count": 39
        }
      ],
      "metadata": {
        "execution": {
          "iopub.status.busy": "2021-12-11T05:18:25.303946Z",
          "iopub.execute_input": "2021-12-11T05:18:25.304684Z",
          "iopub.status.idle": "2021-12-11T05:18:25.313298Z",
          "shell.execute_reply.started": "2021-12-11T05:18:25.304637Z",
          "shell.execute_reply": "2021-12-11T05:18:25.312419Z"
        },
        "trusted": true,
        "id": "Q7ZkPsYtrP4h",
        "colab": {
          "base_uri": "https://localhost:8080/"
        },
        "outputId": "c31da7bc-daee-4ffc-e5ae-bf596b2d0da4"
      }
    },
    {
      "cell_type": "code",
      "execution_count": null,
      "source": [
        "# access first index of list student_marks\n",
        "student_marks[0]\n",
        "student_marks[1][0]\n",
        "student_marks[1][1][1]"
      ],
      "outputs": [
        {
          "output_type": "execute_result",
          "data": {
            "text/plain": [
              "['Name', ['Statistics', 'Python', 'SQL', 'ML', 'DeepLearning']]"
            ]
          },
          "metadata": {},
          "execution_count": 41
        }
      ],
      "metadata": {
        "execution": {
          "iopub.status.busy": "2021-12-11T05:18:25.944133Z",
          "iopub.execute_input": "2021-12-11T05:18:25.944893Z",
          "iopub.status.idle": "2021-12-11T05:18:25.950026Z",
          "shell.execute_reply.started": "2021-12-11T05:18:25.944856Z",
          "shell.execute_reply": "2021-12-11T05:18:25.949155Z"
        },
        "trusted": true,
        "id": "VT7znIVKrP4h",
        "colab": {
          "base_uri": "https://localhost:8080/"
        },
        "outputId": "22d78e32-d678-4f33-c4e5-01e1112ecf3b"
      }
    },
    {
      "cell_type": "markdown",
      "source": [
        "* Slice list from second element"
      ],
      "metadata": {
        "id": "3u3-dfkVrP4h"
      }
    },
    {
      "cell_type": "code",
      "execution_count": null,
      "source": [
        "# access first index of list student_marks[1]\n",
        "student_marks[1]"
      ],
      "outputs": [
        {
          "output_type": "execute_result",
          "data": {
            "text/plain": [
              "['Ananya', [41, 34, 45, 55, 63]]"
            ]
          },
          "metadata": {},
          "execution_count": 42
        }
      ],
      "metadata": {
        "execution": {
          "iopub.status.busy": "2021-12-11T05:18:28.949117Z",
          "iopub.execute_input": "2021-12-11T05:18:28.949697Z",
          "iopub.status.idle": "2021-12-11T05:18:28.95532Z",
          "shell.execute_reply.started": "2021-12-11T05:18:28.94966Z",
          "shell.execute_reply": "2021-12-11T05:18:28.95457Z"
        },
        "trusted": true,
        "id": "LPRZOoR6rP4h",
        "colab": {
          "base_uri": "https://localhost:8080/"
        },
        "outputId": "5c1b14c1-61de-4d68-bd62-19cf07cf8a66"
      }
    },
    {
      "cell_type": "markdown",
      "source": [
        "See, each element in list from Index-1 contains 2 elements\n",
        "* first is `Name` \n",
        "* second is `list of marks`"
      ],
      "metadata": {
        "id": "PitdZQvErP4h"
      }
    },
    {
      "cell_type": "code",
      "execution_count": null,
      "source": [
        "# acess first student name\n",
        "student_marks[1][0]"
      ],
      "outputs": [
        {
          "output_type": "execute_result",
          "data": {
            "application/vnd.google.colaboratory.intrinsic+json": {
              "type": "string"
            },
            "text/plain": [
              "'Ananya'"
            ]
          },
          "metadata": {},
          "execution_count": 44
        }
      ],
      "metadata": {
        "execution": {
          "iopub.status.busy": "2021-12-11T05:18:54.137328Z",
          "iopub.execute_input": "2021-12-11T05:18:54.137742Z",
          "iopub.status.idle": "2021-12-11T05:18:54.142584Z",
          "shell.execute_reply.started": "2021-12-11T05:18:54.137713Z",
          "shell.execute_reply": "2021-12-11T05:18:54.142014Z"
        },
        "trusted": true,
        "id": "NoA0T3VRrP4h",
        "colab": {
          "base_uri": "https://localhost:8080/",
          "height": 36
        },
        "outputId": "9a102198-d29a-45a0-b292-c5f10ab3f7bb"
      }
    },
    {
      "cell_type": "code",
      "execution_count": null,
      "source": [
        "# acess ananya marks\n",
        "student_marks[1][1]"
      ],
      "outputs": [
        {
          "output_type": "execute_result",
          "data": {
            "text/plain": [
              "[41, 34, 45, 55, 63]"
            ]
          },
          "metadata": {},
          "execution_count": 45
        }
      ],
      "metadata": {
        "execution": {
          "iopub.status.busy": "2021-12-11T05:19:31.890129Z",
          "iopub.execute_input": "2021-12-11T05:19:31.890553Z",
          "iopub.status.idle": "2021-12-11T05:19:31.895735Z",
          "shell.execute_reply.started": "2021-12-11T05:19:31.890522Z",
          "shell.execute_reply": "2021-12-11T05:19:31.894943Z"
        },
        "trusted": true,
        "id": "WII68GgKrP4h",
        "colab": {
          "base_uri": "https://localhost:8080/"
        },
        "outputId": "ee7c959e-0da3-4164-c58f-29721bb4cfea"
      }
    },
    {
      "cell_type": "markdown",
      "source": [
        "Now, student marks are in order **`Statistics`**, **`Python`**, **`SQL`**, **`ML`** and **`DeepLearning`**. and we need to access value at Index-1 to get marks in subject => **`Python`** "
      ],
      "metadata": {
        "id": "vDPny7O1rP4h"
      }
    },
    {
      "cell_type": "code",
      "execution_count": null,
      "source": [
        "# observe the output commend why this is the way it is\n",
        "student_marks[1][1][1]"
      ],
      "outputs": [
        {
          "output_type": "execute_result",
          "data": {
            "text/plain": [
              "34"
            ]
          },
          "metadata": {},
          "execution_count": 46
        }
      ],
      "metadata": {
        "execution": {
          "iopub.status.busy": "2021-12-11T05:21:26.548134Z",
          "iopub.execute_input": "2021-12-11T05:21:26.548879Z",
          "iopub.status.idle": "2021-12-11T05:21:26.554956Z",
          "shell.execute_reply.started": "2021-12-11T05:21:26.548833Z",
          "shell.execute_reply": "2021-12-11T05:21:26.553864Z"
        },
        "trusted": true,
        "id": "5H7QGuDxrP4i",
        "colab": {
          "base_uri": "https://localhost:8080/"
        },
        "outputId": "1ff49d28-29b6-4a1c-d338-11e3a84b300d"
      }
    },
    {
      "cell_type": "markdown",
      "source": [
        "See above `Ananya` Python marks"
      ],
      "metadata": {
        "id": "7rsQ1IkmrP4i"
      }
    },
    {
      "cell_type": "markdown",
      "source": [
        "***Now Solving Problem step after step***\n",
        "* `Who scored highest marks in subject Python? `  \n",
        "\n",
        "\n",
        "***Step1: Select name of student and marks in subject Python***"
      ],
      "metadata": {
        "id": "TTBeJoDarP4i"
      }
    },
    {
      "cell_type": "code",
      "execution_count": null,
      "source": [
        "for i in range(1,5):\n",
        "  print(student_marks[i][0], student_marks[i][1][1])"
      ],
      "outputs": [
        {
          "output_type": "stream",
          "name": "stdout",
          "text": [
            "Ananya 34\n",
            "Akash 23\n",
            "Rahul 23\n",
            "Mukesh 82\n"
          ]
        }
      ],
      "metadata": {
        "execution": {
          "iopub.status.busy": "2021-12-11T05:25:24.611262Z",
          "iopub.execute_input": "2021-12-11T05:25:24.612102Z",
          "iopub.status.idle": "2021-12-11T05:25:24.620706Z",
          "shell.execute_reply.started": "2021-12-11T05:25:24.612019Z",
          "shell.execute_reply": "2021-12-11T05:25:24.619653Z"
        },
        "trusted": true,
        "id": "gs5ozIK6rP4i",
        "colab": {
          "base_uri": "https://localhost:8080/"
        },
        "outputId": "7512057a-2e88-4d43-b330-e0ed519c5ce7"
      }
    },
    {
      "cell_type": "markdown",
      "source": [
        "***Step2: Store filtered Name and Marks in another list***"
      ],
      "metadata": {
        "id": "bVk9RoafrP4i"
      }
    },
    {
      "cell_type": "code",
      "execution_count": null,
      "source": [
        "new_lst = []\n",
        "for i in range(1,5):\n",
        "  new_lst.append([student_marks[i][0], student_marks[i][1][1]])\n",
        "new_lst"
      ],
      "outputs": [
        {
          "output_type": "execute_result",
          "data": {
            "text/plain": [
              "[['Ananya', 34], ['Akash', 23], ['Rahul', 23], ['Mukesh', 82]]"
            ]
          },
          "metadata": {},
          "execution_count": 12
        }
      ],
      "metadata": {
        "execution": {
          "iopub.status.busy": "2021-12-11T05:27:02.35026Z",
          "iopub.execute_input": "2021-12-11T05:27:02.350541Z",
          "iopub.status.idle": "2021-12-11T05:27:02.357152Z",
          "shell.execute_reply.started": "2021-12-11T05:27:02.350512Z",
          "shell.execute_reply": "2021-12-11T05:27:02.356437Z"
        },
        "trusted": true,
        "id": "syCySARFrP4i",
        "colab": {
          "base_uri": "https://localhost:8080/"
        },
        "outputId": "1040b612-a580-4d3d-c503-6332efc375a7"
      }
    },
    {
      "cell_type": "markdown",
      "source": [
        "***Step3: Sort list (Keep marks as first index)***"
      ],
      "metadata": {
        "id": "EK2lofCarP4i"
      }
    },
    {
      "cell_type": "code",
      "execution_count": null,
      "source": [
        "def sort_list(lst):\n",
        "  lst.sort(key = lambda x:x[0])\n",
        "  return lst\n",
        "\n",
        "sort_list(new_lst)"
      ],
      "outputs": [
        {
          "output_type": "execute_result",
          "data": {
            "text/plain": [
              "[['Akash', 23], ['Ananya', 34], ['Mukesh', 82], ['Rahul', 23]]"
            ]
          },
          "metadata": {},
          "execution_count": 27
        }
      ],
      "metadata": {
        "execution": {
          "iopub.status.busy": "2021-12-11T05:27:57.053964Z",
          "iopub.execute_input": "2021-12-11T05:27:57.054536Z",
          "iopub.status.idle": "2021-12-11T05:27:57.059563Z",
          "shell.execute_reply.started": "2021-12-11T05:27:57.054501Z",
          "shell.execute_reply": "2021-12-11T05:27:57.058936Z"
        },
        "trusted": true,
        "id": "76Ld6yVxrP4i",
        "colab": {
          "base_uri": "https://localhost:8080/"
        },
        "outputId": "5e6c1e5a-2b4d-4c8b-e4da-5aa932d55255"
      }
    },
    {
      "cell_type": "markdown",
      "source": [
        "***Step4: Get final index of sorted list with student name having max marks in Python subject***"
      ],
      "metadata": {
        "id": "W8QJHOwarP4i"
      }
    },
    {
      "cell_type": "code",
      "execution_count": null,
      "source": [
        "def highest_marks(lst):\n",
        "  highest = lst[0][1]\n",
        "  name = lst[0][0]\n",
        "  for i in range(len(lst)):\n",
        "    if highest < lst[i][1]:\n",
        "      highest = lst[i][1]\n",
        "      name = lst[i][0]\n",
        "    else :\n",
        "      highest = highest\n",
        "  return name, highest\n",
        "\n",
        "print(highest_marks(new_lst))"
      ],
      "outputs": [
        {
          "output_type": "stream",
          "name": "stdout",
          "text": [
            "('Mukesh', 82)\n"
          ]
        }
      ],
      "metadata": {
        "execution": {
          "iopub.status.busy": "2021-12-11T05:28:38.167215Z",
          "iopub.execute_input": "2021-12-11T05:28:38.167787Z",
          "iopub.status.idle": "2021-12-11T05:28:38.172981Z",
          "shell.execute_reply.started": "2021-12-11T05:28:38.167744Z",
          "shell.execute_reply": "2021-12-11T05:28:38.172162Z"
        },
        "trusted": true,
        "id": "Zha0IrK5rP4i",
        "colab": {
          "base_uri": "https://localhost:8080/"
        },
        "outputId": "c37da9e9-ccd1-4d7f-eee8-c1aa5902d918"
      }
    },
    {
      "cell_type": "markdown",
      "source": [
        "Got answer of first question. Mukesh has scored highest marks in subject Python\n",
        "* You can also do it using loop do it if you want to"
      ],
      "metadata": {
        "id": "_zTy7qCPrP4i"
      }
    },
    {
      "cell_type": "markdown",
      "source": [
        "-----"
      ],
      "metadata": {
        "id": "qOrSdhg0rP4j"
      }
    },
    {
      "cell_type": "code",
      "execution_count": null,
      "source": [
        "# Tuples\n",
        "YouTubeVideo('https://www.youtube.com/watch?v=I6UH_prRboE&list=PLsR_0x6BuM-HJZT6Xzj-088N4hN3KsDME&index=6',width=600,height=300)"
      ],
      "outputs": [
        {
          "output_type": "execute_result",
          "data": {
            "text/html": [
              "\n",
              "        <iframe\n",
              "            width=\"600\"\n",
              "            height=\"300\"\n",
              "            src=\"https://www.youtube.com/embed/https://www.youtube.com/watch?v=I6UH_prRboE&list=PLsR_0x6BuM-HJZT6Xzj-088N4hN3KsDME&index=6\"\n",
              "            frameborder=\"0\"\n",
              "            allowfullscreen\n",
              "        ></iframe>\n",
              "        "
            ],
            "text/plain": [
              "<IPython.lib.display.YouTubeVideo at 0x7fb87d0bcbd0>"
            ]
          },
          "metadata": {},
          "execution_count": 140
        }
      ],
      "metadata": {
        "execution": {
          "iopub.status.busy": "2021-12-15T10:02:09.422331Z",
          "iopub.execute_input": "2021-12-15T10:02:09.422635Z",
          "iopub.status.idle": "2021-12-15T10:02:09.517013Z",
          "shell.execute_reply.started": "2021-12-15T10:02:09.422606Z",
          "shell.execute_reply": "2021-12-15T10:02:09.516373Z"
        },
        "trusted": true,
        "id": "eD3Y_C4LrP4j",
        "colab": {
          "base_uri": "https://localhost:8080/",
          "height": 321
        },
        "outputId": "c5a5a88e-028d-4586-af13-b961afecfb73"
      }
    },
    {
      "cell_type": "markdown",
      "source": [
        "# **`Tuple`** <br>\n",
        "\n",
        "Benefit of using tuples:<br>\n",
        "* Faster then list\n",
        "* Provide security over updation => once created cannot be modefyied like list\n",
        "* Can be used as key for dictionarie\n",
        "* We generally use tuple for heterogeneous(different) datatypes and list for homogeneous (similar) datatypes\n",
        "* Since tuples are immutable, iterating through tuple is faster than with list. So there is a slight performance boost\n",
        "* Tuples that contain immutable elements can be used as a key for a dictionary. With lists, this is not possible\n",
        "* If you have data that doesn't change, implementing it as tuple will guarantee that it remains write-protected\n",
        "* We cannot edit/update or delete elements from the tuple"
      ],
      "metadata": {
        "id": "OemzDS2WrP4j"
      }
    },
    {
      "cell_type": "code",
      "execution_count": null,
      "source": [
        "# make a variable names as data_tuple with values 'krishna', 'mahadev', 'surya', 108, 11, 21, 'bhagwan', 6\n",
        "data_tuple = ('krishna', 'mahadev', 'surya', 108,11,21,'bagawan',6)\n",
        "# print data_tuple\n",
        "print(data_tuple)\n",
        "# print type of data_tuple\n",
        "print(type(data_tuple))"
      ],
      "outputs": [
        {
          "output_type": "stream",
          "name": "stdout",
          "text": [
            "('krishna', 'mahadev', 'surya', 108, 11, 21, 'bagawan', 6)\n",
            "<class 'tuple'>\n"
          ]
        }
      ],
      "metadata": {
        "execution": {
          "iopub.status.busy": "2021-12-13T09:25:57.996637Z",
          "iopub.execute_input": "2021-12-13T09:25:57.996935Z",
          "iopub.status.idle": "2021-12-13T09:25:58.003016Z",
          "shell.execute_reply.started": "2021-12-13T09:25:57.996901Z",
          "shell.execute_reply": "2021-12-13T09:25:58.002305Z"
        },
        "trusted": true,
        "id": "Xpd2kVRirP4j",
        "colab": {
          "base_uri": "https://localhost:8080/"
        },
        "outputId": "a810783c-f508-43b0-8cad-3c6ce228e9c4"
      }
    },
    {
      "cell_type": "code",
      "execution_count": null,
      "source": [
        "# make a variable named as data_tuple with values as 1,2,3,4,5\n",
        "data_tuple = (1,2,3,4,5)\n",
        "# Acess element at 2nd Index of data_tuple  #<= indexing work same as list as tuple is ordered data structure\n",
        "data_tuple[2]"
      ],
      "outputs": [
        {
          "output_type": "execute_result",
          "data": {
            "text/plain": [
              "3"
            ]
          },
          "metadata": {},
          "execution_count": 35
        }
      ],
      "metadata": {
        "execution": {
          "iopub.status.busy": "2021-12-13T09:27:06.135652Z",
          "iopub.execute_input": "2021-12-13T09:27:06.135979Z",
          "iopub.status.idle": "2021-12-13T09:27:06.141415Z",
          "shell.execute_reply.started": "2021-12-13T09:27:06.13594Z",
          "shell.execute_reply": "2021-12-13T09:27:06.140855Z"
        },
        "trusted": true,
        "id": "qFKzjV8DrP4j",
        "colab": {
          "base_uri": "https://localhost:8080/"
        },
        "outputId": "6b8bc7b9-5e40-4763-e50c-617da29303f6"
      }
    },
    {
      "cell_type": "code",
      "execution_count": null,
      "source": [
        "# think what will be the output of this code then run it\n",
        "data_tuple = ( (1,2,3,4,5),\n",
        "             (4,5,3,4,5),\n",
        "             (3,7,8,9,6) )\n",
        "\n",
        "data_tuple[2][2:4]\n",
        "\n",
        "\n",
        "\n",
        "# Views on why the output is the way it is"
      ],
      "outputs": [
        {
          "output_type": "execute_result",
          "data": {
            "text/plain": [
              "(8, 9)"
            ]
          },
          "metadata": {},
          "execution_count": 36
        }
      ],
      "metadata": {
        "execution": {
          "iopub.status.busy": "2021-12-13T09:28:08.921138Z",
          "iopub.execute_input": "2021-12-13T09:28:08.921542Z",
          "iopub.status.idle": "2021-12-13T09:28:08.927847Z",
          "shell.execute_reply.started": "2021-12-13T09:28:08.921511Z",
          "shell.execute_reply": "2021-12-13T09:28:08.926915Z"
        },
        "trusted": true,
        "id": "jdK6gHwprP4j",
        "colab": {
          "base_uri": "https://localhost:8080/"
        },
        "outputId": "584e9fef-bdf8-411b-b814-6ddee3b3321b"
      }
    },
    {
      "cell_type": "markdown",
      "source": [
        "data_tuple[2] means third tuple \n",
        "\n",
        "data_tuple[2][2:4] means in third tuple elements from index 2 to one less than 4"
      ],
      "metadata": {
        "id": "w-XIAZSrou4T"
      }
    },
    {
      "cell_type": "code",
      "execution_count": null,
      "source": [
        "# find Index of any element, here index of 3 \n",
        "data_tuple = (1,2,3,4,5)\n",
        "   # <= 3 is at 2nd index as indexing start at one\n",
        "data_tuple.index(3)"
      ],
      "outputs": [
        {
          "output_type": "execute_result",
          "data": {
            "text/plain": [
              "2"
            ]
          },
          "metadata": {},
          "execution_count": 37
        }
      ],
      "metadata": {
        "execution": {
          "iopub.status.busy": "2021-12-13T09:30:54.043064Z",
          "iopub.execute_input": "2021-12-13T09:30:54.043384Z",
          "iopub.status.idle": "2021-12-13T09:30:54.049414Z",
          "shell.execute_reply.started": "2021-12-13T09:30:54.043336Z",
          "shell.execute_reply": "2021-12-13T09:30:54.048781Z"
        },
        "trusted": true,
        "id": "AClKJufdrP4j",
        "colab": {
          "base_uri": "https://localhost:8080/"
        },
        "outputId": "b3ccbaa9-226a-4fa7-a023-63ab72e4a53a"
      }
    },
    {
      "cell_type": "code",
      "execution_count": null,
      "source": [
        "# count of an element \n",
        "data_tuple = (1,2,3,4,5)\n",
        "# print how many time 4 have come \n",
        "print(data_tuple.count(4))\n",
        "\n",
        "data_tuple = (7,2,7,4,7)\n",
        "# print how many time 7 have come \n",
        "print(data_tuple.count(7))"
      ],
      "outputs": [
        {
          "output_type": "stream",
          "name": "stdout",
          "text": [
            "1\n",
            "3\n"
          ]
        }
      ],
      "metadata": {
        "execution": {
          "iopub.status.busy": "2021-12-13T09:31:11.759923Z",
          "iopub.execute_input": "2021-12-13T09:31:11.760542Z",
          "iopub.status.idle": "2021-12-13T09:31:11.767097Z",
          "shell.execute_reply.started": "2021-12-13T09:31:11.760505Z",
          "shell.execute_reply": "2021-12-13T09:31:11.766314Z"
        },
        "trusted": true,
        "id": "xCtcvhjIrP4j",
        "colab": {
          "base_uri": "https://localhost:8080/"
        },
        "outputId": "864cb3fa-0d41-4229-b8b4-cc23e13192fd"
      }
    },
    {
      "cell_type": "code",
      "execution_count": null,
      "source": [
        "# iterate through elements of tuple similar to list using for \n",
        "data_tuple = (7,2,7,4,7)\n",
        "for element in data_tuple:\n",
        "  print(element)"
      ],
      "outputs": [
        {
          "output_type": "stream",
          "name": "stdout",
          "text": [
            "7\n",
            "2\n",
            "7\n",
            "4\n",
            "7\n"
          ]
        }
      ],
      "metadata": {
        "execution": {
          "iopub.status.busy": "2021-12-13T09:32:03.156111Z",
          "iopub.execute_input": "2021-12-13T09:32:03.156908Z",
          "iopub.status.idle": "2021-12-13T09:32:03.162462Z",
          "shell.execute_reply.started": "2021-12-13T09:32:03.156827Z",
          "shell.execute_reply": "2021-12-13T09:32:03.161615Z"
        },
        "trusted": true,
        "id": "4xAMDPSnrP4j",
        "colab": {
          "base_uri": "https://localhost:8080/"
        },
        "outputId": "3046fdc4-a9f8-403e-e79c-8757bbaf7ddb"
      }
    },
    {
      "cell_type": "code",
      "execution_count": null,
      "source": [
        "# slicing in tuple\n",
        "data_tuple = (5,2,7,4,6)\n",
        "\n",
        "# slice and print first 2 element\n",
        "#<= exclude 2nd Index\n",
        "print(data_tuple[:2])\n",
        "# defining start pont as 2 and end poin as 4 to slice\n",
        "print(data_tuple[2:4])\n",
        "\n",
        "\n",
        "# by using count method on slice see how many time 2 comes\n",
        "#<= count of 2 if present\n",
        "print(data_tuple.count(2))\n",
        "\n",
        "# index method on slice\n",
        "print(   data_tuple[1:4].index(2)   ) #<= index of 2"
      ],
      "outputs": [
        {
          "output_type": "stream",
          "name": "stdout",
          "text": [
            "(5, 2)\n",
            "(7, 4)\n",
            "1\n",
            "0\n"
          ]
        }
      ],
      "metadata": {
        "execution": {
          "iopub.status.busy": "2021-12-13T09:32:27.690197Z",
          "iopub.execute_input": "2021-12-13T09:32:27.691011Z",
          "iopub.status.idle": "2021-12-13T09:32:27.698429Z",
          "shell.execute_reply.started": "2021-12-13T09:32:27.690955Z",
          "shell.execute_reply": "2021-12-13T09:32:27.697623Z"
        },
        "trusted": true,
        "id": "90Fc9IK3rP4k",
        "colab": {
          "base_uri": "https://localhost:8080/"
        },
        "outputId": "066781c5-fa3c-4e3d-dc33-acd6bcdf0be8"
      }
    },
    {
      "cell_type": "code",
      "execution_count": null,
      "source": [
        "# Tuple immutable (cant update or delete elements from tuples)\n",
        "## this is one of the reasons it is fast in comparison to list\n",
        "data_tuple[2] = 1 #<= update at index-2 with 1, it will give error"
      ],
      "outputs": [
        {
          "output_type": "error",
          "ename": "TypeError",
          "evalue": "ignored",
          "traceback": [
            "\u001b[0;31m---------------------------------------------------------------------------\u001b[0m",
            "\u001b[0;31mTypeError\u001b[0m                                 Traceback (most recent call last)",
            "\u001b[0;32m<ipython-input-41-dc310a939966>\u001b[0m in \u001b[0;36m<module>\u001b[0;34m()\u001b[0m\n\u001b[1;32m      1\u001b[0m \u001b[0;31m# Tuple immutable (cant update or delete elements from tuples)\u001b[0m\u001b[0;34m\u001b[0m\u001b[0;34m\u001b[0m\u001b[0;34m\u001b[0m\u001b[0m\n\u001b[1;32m      2\u001b[0m \u001b[0;31m## this is one of the reasons it is fast in comparison to list\u001b[0m\u001b[0;34m\u001b[0m\u001b[0;34m\u001b[0m\u001b[0;34m\u001b[0m\u001b[0m\n\u001b[0;32m----> 3\u001b[0;31m \u001b[0mdata_tuple\u001b[0m\u001b[0;34m[\u001b[0m\u001b[0;36m2\u001b[0m\u001b[0;34m]\u001b[0m \u001b[0;34m=\u001b[0m \u001b[0;36m1\u001b[0m \u001b[0;31m#<= update at index-2 with 1, it will give error\u001b[0m\u001b[0;34m\u001b[0m\u001b[0;34m\u001b[0m\u001b[0m\n\u001b[0m",
            "\u001b[0;31mTypeError\u001b[0m: 'tuple' object does not support item assignment"
          ]
        }
      ],
      "metadata": {
        "execution": {
          "iopub.status.busy": "2021-12-13T09:34:00.565926Z",
          "iopub.execute_input": "2021-12-13T09:34:00.566648Z",
          "iopub.status.idle": "2021-12-13T09:34:00.58237Z",
          "shell.execute_reply.started": "2021-12-13T09:34:00.566613Z",
          "shell.execute_reply": "2021-12-13T09:34:00.58128Z"
        },
        "trusted": true,
        "id": "SYHssmIhrP4k",
        "colab": {
          "base_uri": "https://localhost:8080/",
          "height": 204
        },
        "outputId": "8eba2513-ae79-4b21-fd2b-7da566d0b769"
      }
    },
    {
      "cell_type": "code",
      "execution_count": null,
      "source": [
        "data_tuple"
      ],
      "outputs": [
        {
          "output_type": "execute_result",
          "data": {
            "text/plain": [
              "(5, 2, 7, 4, 6)"
            ]
          },
          "metadata": {},
          "execution_count": 42
        }
      ],
      "metadata": {
        "execution": {
          "iopub.status.busy": "2021-12-13T09:34:18.356785Z",
          "iopub.execute_input": "2021-12-13T09:34:18.357129Z",
          "iopub.status.idle": "2021-12-13T09:34:18.363026Z",
          "shell.execute_reply.started": "2021-12-13T09:34:18.357068Z",
          "shell.execute_reply": "2021-12-13T09:34:18.361949Z"
        },
        "trusted": true,
        "id": "Z2biiRsirP4k",
        "colab": {
          "base_uri": "https://localhost:8080/"
        },
        "outputId": "6dd3ee21-6ec8-4cf1-d53a-235b877cd33e"
      }
    },
    {
      "cell_type": "code",
      "execution_count": null,
      "source": [
        "del data_tuple[0] #<= del at index-0, again error\n"
      ],
      "outputs": [
        {
          "output_type": "error",
          "ename": "TypeError",
          "evalue": "ignored",
          "traceback": [
            "\u001b[0;31m---------------------------------------------------------------------------\u001b[0m",
            "\u001b[0;31mTypeError\u001b[0m                                 Traceback (most recent call last)",
            "\u001b[0;32m<ipython-input-43-80fde943550a>\u001b[0m in \u001b[0;36m<module>\u001b[0;34m()\u001b[0m\n\u001b[0;32m----> 1\u001b[0;31m \u001b[0;32mdel\u001b[0m \u001b[0mdata_tuple\u001b[0m\u001b[0;34m[\u001b[0m\u001b[0;36m0\u001b[0m\u001b[0;34m]\u001b[0m \u001b[0;31m#<= del at index-0, again error\u001b[0m\u001b[0;34m\u001b[0m\u001b[0;34m\u001b[0m\u001b[0m\n\u001b[0m",
            "\u001b[0;31mTypeError\u001b[0m: 'tuple' object doesn't support item deletion"
          ]
        }
      ],
      "metadata": {
        "execution": {
          "iopub.status.busy": "2021-12-13T09:34:27.000985Z",
          "iopub.execute_input": "2021-12-13T09:34:27.001712Z",
          "iopub.status.idle": "2021-12-13T09:34:27.016464Z",
          "shell.execute_reply.started": "2021-12-13T09:34:27.001669Z",
          "shell.execute_reply": "2021-12-13T09:34:27.015451Z"
        },
        "trusted": true,
        "id": "KGFbjOiWrP4k",
        "colab": {
          "base_uri": "https://localhost:8080/",
          "height": 169
        },
        "outputId": "fd7aacf6-331a-4278-82a5-deef8e65175f"
      }
    },
    {
      "cell_type": "markdown",
      "source": [
        "<a id='13'></a><center> <h3 style=\"background-color:orange; color:white\" ><br>Assignment Python Data Structures List&Set<br></h3>"
      ],
      "metadata": {
        "id": "Mx7xKlWErP4k"
      }
    },
    {
      "cell_type": "markdown",
      "source": [
        "# 💬 **List Problem Statement:**\n",
        "\n",
        "Say CloudyML conducted an assessment test to hire a Data Scientist <br>\n",
        "Candidates were evaluated on 5 different subject `Statistics`, `Python`, `SQL`, `ML`, and `DeepLearning` <br> \n",
        "`Help CloudyML team to find out answers of following questions` <br>\n",
        "\n",
        "💡 `Find out Who scored highest marks in Python?` <br>\n",
        "💡 `Find out average marks scored in subject SQL?` <br>\n",
        "💡 `Find out scored highest percentage of marks?` <br>\n",
        "💡 `If considered only top-4 subjects of a candidate, then who scored highest percentage of marks?` <br>\n"
      ],
      "metadata": {
        "id": "WvTU5e5QrP4k"
      }
    },
    {
      "cell_type": "code",
      "execution_count": null,
      "source": [
        "### Find out Who scored highest marks in Python? ###\n",
        "# student marks nested list\n",
        "student_marks = [['Name',['Statistics','Python','SQL','ML','DeepLearning']],\n",
        "                 ['Ananya',[41, 34, 45, 55, 63]],\n",
        "                 ['Akash',[42, 23, 34, 44, 53]],\n",
        "                 ['Rahul',[32, 23, 13, 54, 67]],\n",
        "                 ['Gyan',[23, 82, 23, 63, 34]],\n",
        "                 ['Pranav',[21, 23, 25, 56, 56]] ]\n",
        "\n",
        "# Find out Who scored highest marks in Python? using for loop, soorted and slicing\n",
        "python_marks=[]\n",
        "for x in student_marks[1:]:\n",
        "  name_python = x[0]\n",
        "  marks_python = x[1][1]\n",
        "  python_marks.append([marks_python, name_python])\n",
        "\n",
        "python_marks_sorted = sorted(python_marks)\n",
        "python_max_marks = python_marks_sorted[-1]\n",
        "python_max_marks"
      ],
      "outputs": [
        {
          "output_type": "execute_result",
          "data": {
            "text/plain": [
              "[82, 'Gyan']"
            ]
          },
          "metadata": {},
          "execution_count": 44
        }
      ],
      "metadata": {
        "execution": {
          "iopub.status.busy": "2021-12-11T07:48:04.967414Z",
          "iopub.execute_input": "2021-12-11T07:48:04.967742Z",
          "iopub.status.idle": "2021-12-11T07:48:04.979905Z",
          "shell.execute_reply.started": "2021-12-11T07:48:04.96771Z",
          "shell.execute_reply": "2021-12-11T07:48:04.979017Z"
        },
        "trusted": true,
        "id": "Dz8vLyD8rP4k",
        "colab": {
          "base_uri": "https://localhost:8080/"
        },
        "outputId": "70d36350-99fe-4c09-aac0-185201bc4e7f"
      }
    },
    {
      "cell_type": "code",
      "execution_count": null,
      "source": [
        "### Find out average marks scored in subject SQL? ###\n",
        "total_sql_marks = 0\n",
        "for i in range(1,len(student_marks)):\n",
        "  total_sql_marks+=student_marks[i][1][2]\n",
        "avg_sql_marks = total_sql_marks/(len(student_marks)-1)\n",
        "print('avg_of_SQL_marks:',avg_sql_marks)"
      ],
      "outputs": [
        {
          "output_type": "stream",
          "name": "stdout",
          "text": [
            "avg_of_SQL_marks: 28.0\n"
          ]
        }
      ],
      "metadata": {
        "execution": {
          "iopub.status.busy": "2021-12-11T07:50:08.483261Z",
          "iopub.execute_input": "2021-12-11T07:50:08.48356Z",
          "iopub.status.idle": "2021-12-11T07:50:08.490736Z",
          "shell.execute_reply.started": "2021-12-11T07:50:08.483531Z",
          "shell.execute_reply": "2021-12-11T07:50:08.490115Z"
        },
        "trusted": true,
        "id": "4RNm9UT0rP4k",
        "colab": {
          "base_uri": "https://localhost:8080/"
        },
        "outputId": "f0d619c3-45cf-4c14-da60-53a2b1efb5ab"
      }
    },
    {
      "cell_type": "code",
      "execution_count": null,
      "source": [
        "### Find out scored highest percentage of marks? \n",
        "print('Maximum marks for each subject:70 \\nNumber of Subjects:5')\n",
        "topper_percent=['x',0]\n",
        "for i in range(1,len(student_marks)):\n",
        "    if topper_percent[1]<sum(student_marks[i][1])*100/5/70:\n",
        "        topper_percent[0] = student_marks[i][0]\n",
        "        topper_percent[1] = sum(student_marks[i][1])*100/5/70\n",
        "print(f'Topper percentage is: {topper_percent[1]} %  Name is: {topper_percent[0]}')"
      ],
      "outputs": [
        {
          "output_type": "stream",
          "name": "stdout",
          "text": [
            "Maximum marks for each subject:70 \n",
            "Number of Subjects:5\n",
            "Topper percentage is: 68.0 %  Name is: Ananya\n"
          ]
        }
      ],
      "metadata": {
        "execution": {
          "iopub.status.busy": "2021-12-11T07:51:33.25188Z",
          "iopub.execute_input": "2021-12-11T07:51:33.252381Z",
          "iopub.status.idle": "2021-12-11T07:55:09.52883Z",
          "shell.execute_reply.started": "2021-12-11T07:51:33.252342Z",
          "shell.execute_reply": "2021-12-11T07:55:09.527987Z"
        },
        "trusted": true,
        "id": "wz8BshX9rP4k",
        "colab": {
          "base_uri": "https://localhost:8080/"
        },
        "outputId": "9f624b27-1110-4f99-d999-a265ddf08407"
      }
    },
    {
      "cell_type": "code",
      "execution_count": null,
      "source": [
        "### solv for `If considered only top-4 subjects of a candidate, then who scored the highest percentage of marks?` ###\n",
        "print('Maximum marks for each subject:67 \\nNumber of Subjects:5')\n",
        "topper_percent_in_top_four = ['x',0]\n",
        "for in range(1,len(student_marks)):\n",
        "  "
      ],
      "outputs": [
        {
          "output_type": "stream",
          "name": "stdout",
          "text": [
            "Maximum marks for each subject:67\n",
            "Number of Subjects:5\n",
            "Topper percentage is: 41 %  Name is: Ananya\n"
          ]
        }
      ],
      "metadata": {
        "execution": {
          "iopub.status.busy": "2021-12-11T07:58:52.945371Z",
          "iopub.execute_input": "2021-12-11T07:58:52.945655Z",
          "iopub.status.idle": "2021-12-11T07:58:58.969944Z",
          "shell.execute_reply.started": "2021-12-11T07:58:52.945623Z",
          "shell.execute_reply": "2021-12-11T07:58:58.96934Z"
        },
        "trusted": true,
        "id": "5iPh1wnDrP4k",
        "colab": {
          "base_uri": "https://localhost:8080/"
        },
        "outputId": "9452fbcd-bd86-4538-b78e-89b7f14240c0"
      }
    },
    {
      "cell_type": "markdown",
      "source": [
        "----"
      ],
      "metadata": {
        "id": "BM93iUT5rP4l"
      }
    },
    {
      "cell_type": "code",
      "execution_count": null,
      "source": [
        "# Sets\n",
        "YouTubeVideo('https://www.youtube.com/watch?v=I6UH_prRboE&list=PLsR_0x6BuM-HJZT6Xzj-088N4hN3KsDME&index=8',width=600,height=300)"
      ],
      "outputs": [
        {
          "output_type": "execute_result",
          "data": {
            "text/html": [
              "\n",
              "        <iframe\n",
              "            width=\"600\"\n",
              "            height=\"300\"\n",
              "            src=\"https://www.youtube.com/embed/https://www.youtube.com/watch?v=I6UH_prRboE&list=PLsR_0x6BuM-HJZT6Xzj-088N4hN3KsDME&index=8\"\n",
              "            frameborder=\"0\"\n",
              "            allowfullscreen\n",
              "        ></iframe>\n",
              "        "
            ],
            "text/plain": [
              "<IPython.lib.display.YouTubeVideo at 0x7fb876a9f750>"
            ]
          },
          "metadata": {},
          "execution_count": 156
        }
      ],
      "metadata": {
        "execution": {
          "iopub.status.busy": "2021-12-15T10:05:12.8409Z",
          "iopub.execute_input": "2021-12-15T10:05:12.841186Z",
          "iopub.status.idle": "2021-12-15T10:05:12.933645Z",
          "shell.execute_reply.started": "2021-12-15T10:05:12.841156Z",
          "shell.execute_reply": "2021-12-15T10:05:12.932612Z"
        },
        "trusted": true,
        "id": "hd_ENTFmrP4l",
        "colab": {
          "base_uri": "https://localhost:8080/",
          "height": 321
        },
        "outputId": "1e55157b-de2f-4d95-b770-ba68b60973d8"
      }
    },
    {
      "cell_type": "markdown",
      "source": [
        "# **`Sets`**\n",
        "* Unordered collection of elements (if you put some data in order inside  set it will discard order)\n",
        "    * It shorts elements by itself (see below example)\n",
        "* No duplicates only unique values\n",
        "    * Put duplicates in set it will auto remove them\n",
        "* Mutable can add, remove values\n",
        "* Set Theory operations are possible like Union,Intersection etc...\n",
        "    * `intersection` of 2 sets => set_1.intersection(set_2)\n",
        "    * `union` of 2 sets => set_1.union(set_2) .."
      ],
      "metadata": {
        "id": "XsNXA8nhrP4l"
      }
    },
    {
      "cell_type": "code",
      "execution_count": null,
      "source": [
        "# define set named as set_ with values 'b','c','a','z'\n",
        "set_ = {'b', 'c','a', 'z'}\n",
        "# print set\n",
        "print(set_)"
      ],
      "outputs": [
        {
          "output_type": "stream",
          "name": "stdout",
          "text": [
            "{'c', 'b', 'a', 'z'}\n"
          ]
        }
      ],
      "metadata": {
        "execution": {
          "iopub.status.busy": "2021-12-13T10:35:08.133473Z",
          "iopub.execute_input": "2021-12-13T10:35:08.133731Z",
          "iopub.status.idle": "2021-12-13T10:35:08.139556Z",
          "shell.execute_reply.started": "2021-12-13T10:35:08.133703Z",
          "shell.execute_reply": "2021-12-13T10:35:08.138794Z"
        },
        "trusted": true,
        "id": "DLSJiWUSrP4l",
        "colab": {
          "base_uri": "https://localhost:8080/"
        },
        "outputId": "1a336c72-f5d3-480d-83fb-a6d11597c812"
      }
    },
    {
      "cell_type": "code",
      "execution_count": null,
      "source": [
        "# define list namead as frt with elements as 'mango','banana','mango','banana'\n",
        "frt = {'mango', 'banana', 'mango', 'banana'}\n",
        "# define a set named as set_ with elements as 'mango','banana','mango','banana'\n",
        "# print set\n",
        "print(frt)"
      ],
      "outputs": [
        {
          "output_type": "stream",
          "name": "stdout",
          "text": [
            "{'banana', 'mango'}\n"
          ]
        }
      ],
      "metadata": {
        "execution": {
          "iopub.status.busy": "2021-12-13T10:34:31.333664Z",
          "iopub.execute_input": "2021-12-13T10:34:31.33395Z",
          "iopub.status.idle": "2021-12-13T10:34:31.340853Z",
          "shell.execute_reply.started": "2021-12-13T10:34:31.333921Z",
          "shell.execute_reply": "2021-12-13T10:34:31.339951Z"
        },
        "trusted": true,
        "id": "ifReR9qIrP4l",
        "colab": {
          "base_uri": "https://localhost:8080/"
        },
        "outputId": "48a00863-87dc-4d93-f6e2-dad7ac559f15"
      }
    },
    {
      "cell_type": "code",
      "execution_count": null,
      "source": [
        "# make a set named as set_data and values as 4,'A',5,1,'V','L'\n",
        "set_data = {4,'A',5,1,'V','L'}\n",
        "# print set_data #<= results are shorted\n",
        "print(set_data)"
      ],
      "outputs": [
        {
          "output_type": "stream",
          "name": "stdout",
          "text": [
            "{1, 4, 5, 'A', 'V', 'L'}\n"
          ]
        }
      ],
      "metadata": {
        "execution": {
          "iopub.status.busy": "2021-12-13T10:35:53.058813Z",
          "iopub.execute_input": "2021-12-13T10:35:53.059133Z",
          "iopub.status.idle": "2021-12-13T10:35:53.065121Z",
          "shell.execute_reply.started": "2021-12-13T10:35:53.0591Z",
          "shell.execute_reply": "2021-12-13T10:35:53.064528Z"
        },
        "trusted": true,
        "id": "14_MnlmYrP4l",
        "colab": {
          "base_uri": "https://localhost:8080/"
        },
        "outputId": "eaaf8fe3-38b2-407d-f67d-d86e560707cb"
      }
    },
    {
      "cell_type": "code",
      "execution_count": null,
      "source": [
        "# No duplicates only unique values\n",
        "# make a set named as set_data and values as 4,4,5,1,'V','V'\n",
        "set_data = {4,4,5,1,'v', 'v'}\n",
        "# print set_data\n",
        "print(set_data)"
      ],
      "outputs": [
        {
          "output_type": "stream",
          "name": "stdout",
          "text": [
            "{1, 'v', 4, 5}\n"
          ]
        }
      ],
      "metadata": {
        "execution": {
          "iopub.status.busy": "2021-12-13T10:36:04.201399Z",
          "iopub.execute_input": "2021-12-13T10:36:04.201965Z",
          "iopub.status.idle": "2021-12-13T10:36:04.207641Z",
          "shell.execute_reply.started": "2021-12-13T10:36:04.201927Z",
          "shell.execute_reply": "2021-12-13T10:36:04.206918Z"
        },
        "trusted": true,
        "id": "HxKlhWFIrP4l",
        "colab": {
          "base_uri": "https://localhost:8080/"
        },
        "outputId": "f64feed5-8e9a-4e07-d28d-716ef02bf08c"
      }
    },
    {
      "cell_type": "code",
      "execution_count": null,
      "source": [
        "# make tuple named  as tuple_data with values as 'A', 'B', 1, 2, 'B', 'A'\n",
        "tuple_data = ('A','B',1,2,'B','A')\n",
        "# make a variable names as var_1 and convert it into set \n",
        "var_1 = set(tuple_data)\n",
        "# peint var_1\n",
        "print(var_1)"
      ],
      "outputs": [
        {
          "output_type": "stream",
          "name": "stdout",
          "text": [
            "{'A', 2, 'B', 1}\n"
          ]
        }
      ],
      "metadata": {
        "execution": {
          "iopub.status.busy": "2021-12-13T10:37:15.538461Z",
          "iopub.execute_input": "2021-12-13T10:37:15.539051Z",
          "iopub.status.idle": "2021-12-13T10:37:15.544971Z",
          "shell.execute_reply.started": "2021-12-13T10:37:15.539016Z",
          "shell.execute_reply": "2021-12-13T10:37:15.544206Z"
        },
        "trusted": true,
        "id": "EMm2IUSSrP4l",
        "colab": {
          "base_uri": "https://localhost:8080/"
        },
        "outputId": "f0dc9b39-e691-4e82-8bde-7a846a88c832"
      }
    },
    {
      "cell_type": "code",
      "execution_count": null,
      "source": [
        "# Defining a set using a List \n",
        "# define a list named as list_data with values as  'A', 'B', 1, 2, 'B', 'A'] # this is a list with duplicate data\n",
        "list_data = ['A','B',1,2,'B','A']\n",
        "# change set_from_list to  set # set will remove duplicates\n",
        "set_from_list = set(list_data)\n",
        "# print set_from_list)\n",
        "print(set_from_list)\n",
        "# Defining a set using a Tuple named as tuple_data with values as 'A', 'B', 1, 2, 'B', 'A'\n",
        "tuple_data = ('A', 'B',1,2,'B','A')\n",
        "# make variable named as set_from_tuple, change tuple_data into set\n",
        "set_from_tuple = set(tuple_data)\n",
        "# print set_from_tuple)\n",
        "print(set_from_tuple)"
      ],
      "outputs": [
        {
          "output_type": "stream",
          "name": "stdout",
          "text": [
            "{'A', 2, 'B', 1}\n",
            "{'A', 2, 'B', 1}\n"
          ]
        }
      ],
      "metadata": {
        "execution": {
          "iopub.status.busy": "2021-12-13T10:36:12.493525Z",
          "iopub.execute_input": "2021-12-13T10:36:12.493797Z",
          "iopub.status.idle": "2021-12-13T10:36:12.500748Z",
          "shell.execute_reply.started": "2021-12-13T10:36:12.493769Z",
          "shell.execute_reply": "2021-12-13T10:36:12.499845Z"
        },
        "trusted": true,
        "id": "Qs0Fw69SrP4l",
        "colab": {
          "base_uri": "https://localhost:8080/"
        },
        "outputId": "fbae81c2-e8d0-4460-ac85-cab08be4556d"
      }
    },
    {
      "cell_type": "code",
      "execution_count": null,
      "source": [
        "# see set_from_tuple output\n",
        "set_from_tuple"
      ],
      "outputs": [
        {
          "output_type": "execute_result",
          "data": {
            "text/plain": [
              "{1, 2, 'A', 'B'}"
            ]
          },
          "metadata": {},
          "execution_count": 59
        }
      ],
      "metadata": {
        "execution": {
          "iopub.status.busy": "2021-12-13T10:37:33.379214Z",
          "iopub.execute_input": "2021-12-13T10:37:33.379859Z",
          "iopub.status.idle": "2021-12-13T10:37:33.385068Z",
          "shell.execute_reply.started": "2021-12-13T10:37:33.379825Z",
          "shell.execute_reply": "2021-12-13T10:37:33.383741Z"
        },
        "trusted": true,
        "id": "-zK2B4EVrP4m",
        "colab": {
          "base_uri": "https://localhost:8080/"
        },
        "outputId": "af330cfe-acf6-480f-83c5-b1c545e6982c"
      }
    },
    {
      "cell_type": "code",
      "execution_count": null,
      "source": [
        "# add 0 to set_from_tuple\n",
        "set_from_tuple.add(0)\n",
        "# print set_from_tuple\n",
        "print(set_from_tuple)"
      ],
      "outputs": [
        {
          "output_type": "stream",
          "name": "stdout",
          "text": [
            "{0, 1, 2, 'B', 'A'}\n"
          ]
        }
      ],
      "metadata": {
        "execution": {
          "iopub.status.busy": "2021-12-13T10:37:50.051093Z",
          "iopub.execute_input": "2021-12-13T10:37:50.051518Z",
          "iopub.status.idle": "2021-12-13T10:37:50.056057Z",
          "shell.execute_reply.started": "2021-12-13T10:37:50.051475Z",
          "shell.execute_reply": "2021-12-13T10:37:50.055307Z"
        },
        "trusted": true,
        "id": "IbTLUsjZrP4m",
        "colab": {
          "base_uri": "https://localhost:8080/"
        },
        "outputId": "4860d24b-7093-402c-9152-ad0f1edf61e6"
      }
    },
    {
      "cell_type": "code",
      "execution_count": null,
      "source": [
        "# make variable named as set_ with values as 'b','c','a','z'\n",
        "set_ = {'b','c','a','z'}\n",
        "# print set_\n",
        "set_"
      ],
      "outputs": [
        {
          "output_type": "execute_result",
          "data": {
            "text/plain": [
              "{'a', 'b', 'c', 'z'}"
            ]
          },
          "metadata": {},
          "execution_count": 63
        }
      ],
      "metadata": {
        "execution": {
          "iopub.status.busy": "2021-12-13T10:38:42.235458Z",
          "iopub.execute_input": "2021-12-13T10:38:42.235906Z",
          "iopub.status.idle": "2021-12-13T10:38:42.241784Z",
          "shell.execute_reply.started": "2021-12-13T10:38:42.235854Z",
          "shell.execute_reply": "2021-12-13T10:38:42.241004Z"
        },
        "trusted": true,
        "id": "1UvNVglBrP4m",
        "colab": {
          "base_uri": "https://localhost:8080/"
        },
        "outputId": "d52a10fd-63be-4134-c46c-5400cc3ca0b0"
      }
    },
    {
      "cell_type": "code",
      "execution_count": null,
      "source": [
        "# add x to set_\n",
        "set_.add('x')\n",
        "# print set_\n",
        "set_"
      ],
      "outputs": [
        {
          "output_type": "execute_result",
          "data": {
            "text/plain": [
              "{'a', 'b', 'c', 'x', 'z'}"
            ]
          },
          "metadata": {},
          "execution_count": 64
        }
      ],
      "metadata": {
        "execution": {
          "iopub.status.busy": "2021-12-13T10:39:16.169691Z",
          "iopub.execute_input": "2021-12-13T10:39:16.170247Z",
          "iopub.status.idle": "2021-12-13T10:39:16.176298Z",
          "shell.execute_reply.started": "2021-12-13T10:39:16.170208Z",
          "shell.execute_reply": "2021-12-13T10:39:16.175352Z"
        },
        "trusted": true,
        "id": "AtqlCQhwrP4m",
        "colab": {
          "base_uri": "https://localhost:8080/"
        },
        "outputId": "13407f45-7a84-43a9-db1f-026d98ef35c2"
      }
    },
    {
      "cell_type": "code",
      "execution_count": null,
      "source": [
        "# Add 0 to set set_from_tuple\n",
        "set_from_tuple.add(0)\n",
        "# print set_from_tuple # 0 is added at the starting of set, as set orders by itself\n",
        "print(set_from_tuple)\n",
        "\n",
        "# adding C to set set_from_tuple\n",
        "set_from_tuple.add('C')\n",
        "# print set_from_tuple # c is added at the last of set, as set orders by itself\n",
        "print(set_from_tuple)"
      ],
      "outputs": [
        {
          "output_type": "stream",
          "name": "stdout",
          "text": [
            "{0, 1, 2, 'B', 'A'}\n",
            "{0, 1, 2, 'C', 'B', 'A'}\n"
          ]
        }
      ],
      "metadata": {
        "execution": {
          "iopub.status.busy": "2021-12-11T06:15:31.956065Z",
          "iopub.execute_input": "2021-12-11T06:15:31.956351Z",
          "iopub.status.idle": "2021-12-11T06:15:31.960879Z",
          "shell.execute_reply.started": "2021-12-11T06:15:31.956323Z",
          "shell.execute_reply": "2021-12-11T06:15:31.960304Z"
        },
        "trusted": true,
        "id": "cDyIT-tlrP4m",
        "colab": {
          "base_uri": "https://localhost:8080/"
        },
        "outputId": "3bd07a21-9a04-49b7-8941-a70ddb27ab85"
      }
    },
    {
      "cell_type": "markdown",
      "source": [
        "# delete element from set"
      ],
      "metadata": {
        "id": "EDd-kK1ZrP4m"
      }
    },
    {
      "cell_type": "code",
      "execution_count": null,
      "source": [
        "# see output of set_from_tuple\n",
        "set_from_tuple"
      ],
      "outputs": [
        {
          "output_type": "execute_result",
          "data": {
            "text/plain": [
              "{0, 1, 2, 'A', 'B', 'C'}"
            ]
          },
          "metadata": {},
          "execution_count": 66
        }
      ],
      "metadata": {
        "execution": {
          "iopub.status.busy": "2021-12-13T10:39:44.118476Z",
          "iopub.execute_input": "2021-12-13T10:39:44.118756Z",
          "iopub.status.idle": "2021-12-13T10:39:44.124827Z",
          "shell.execute_reply.started": "2021-12-13T10:39:44.118721Z",
          "shell.execute_reply": "2021-12-13T10:39:44.123926Z"
        },
        "trusted": true,
        "id": "aN2nrR1arP4m",
        "colab": {
          "base_uri": "https://localhost:8080/"
        },
        "outputId": "8f6ba277-e0fd-4fbb-9a43-5815e02381ab"
      }
    },
    {
      "cell_type": "code",
      "execution_count": null,
      "source": [
        "# use discard to remove 0 from set_from_tuple\n",
        "set_from_tuple.discard(0)\n",
        "# see output of set_from_tuple\n",
        "set_from_tuple"
      ],
      "outputs": [
        {
          "output_type": "execute_result",
          "data": {
            "text/plain": [
              "{1, 2, 'A', 'B', 'C'}"
            ]
          },
          "metadata": {},
          "execution_count": 67
        }
      ],
      "metadata": {
        "execution": {
          "iopub.status.busy": "2021-12-13T10:40:23.456412Z",
          "iopub.execute_input": "2021-12-13T10:40:23.456723Z",
          "iopub.status.idle": "2021-12-13T10:40:23.464155Z",
          "shell.execute_reply.started": "2021-12-13T10:40:23.456685Z",
          "shell.execute_reply": "2021-12-13T10:40:23.46307Z"
        },
        "trusted": true,
        "id": "j6igfM8nrP4m",
        "colab": {
          "base_uri": "https://localhost:8080/"
        },
        "outputId": "184877dc-58a0-47e8-b977-fc91632e0190"
      }
    },
    {
      "cell_type": "code",
      "execution_count": null,
      "source": [
        "# from set_from_tuple discard 9 \n",
        "set_from_tuple.discard(9)\n",
        "# print set_from_tuple\n",
        "set_from_tuple"
      ],
      "outputs": [
        {
          "output_type": "execute_result",
          "data": {
            "text/plain": [
              "{1, 2, 'A', 'B', 'C'}"
            ]
          },
          "metadata": {},
          "execution_count": 70
        }
      ],
      "metadata": {
        "execution": {
          "iopub.status.busy": "2021-12-13T10:40:39.372293Z",
          "iopub.execute_input": "2021-12-13T10:40:39.372555Z",
          "iopub.status.idle": "2021-12-13T10:40:39.378787Z",
          "shell.execute_reply.started": "2021-12-13T10:40:39.372528Z",
          "shell.execute_reply": "2021-12-13T10:40:39.377808Z"
        },
        "trusted": true,
        "id": "1nehzTjkrP4m",
        "colab": {
          "base_uri": "https://localhost:8080/"
        },
        "outputId": "1ef010b0-9e9b-4b7c-e8f8-0f9b72d2f2a5"
      }
    },
    {
      "cell_type": "code",
      "execution_count": null,
      "source": [
        "# delete element from set (two methods are as)\n",
        "## discard() : if element not in set, it will not show error\n",
        "## remove() : if element not in set, it will show error\n",
        "set_from_tuple.discard(0.0)"
      ],
      "outputs": [],
      "metadata": {
        "execution": {
          "iopub.status.busy": "2021-12-11T06:18:45.978965Z",
          "iopub.execute_input": "2021-12-11T06:18:45.979547Z",
          "iopub.status.idle": "2021-12-11T06:18:45.983234Z",
          "shell.execute_reply.started": "2021-12-11T06:18:45.979512Z",
          "shell.execute_reply": "2021-12-11T06:18:45.982497Z"
        },
        "trusted": true,
        "id": "aMvJSw36rP4m"
      }
    },
    {
      "cell_type": "markdown",
      "source": [
        "# Difference b/w two set (set_1 - set_2)"
      ],
      "metadata": {
        "id": "GzSBD7aarP4n"
      }
    },
    {
      "cell_type": "code",
      "execution_count": null,
      "source": [
        "# set_1 - set_2 => states that, collect every element of set_1 after removing thouse element which are common in set_1 and set_2 \n",
        "\n",
        "# define a set named as set_1 with elements as 1,2,3,'A','B'\n",
        "set_1 = {1,2,3,'A','B'}\n",
        "# define a set named as set_2 with elements as 3,'A'\n",
        "set_2 ={3,'A'}\n",
        "# difference of set_1 and set_2\n",
        "diff_between_set1_and_set2 = set_1-set_2\n",
        "# see difference between set_1 and set_2)\n",
        "print(diff_between_set1_and_set2)\n",
        "# print set_1\n",
        "print(set_1)"
      ],
      "outputs": [
        {
          "output_type": "stream",
          "name": "stdout",
          "text": [
            "{1, 2, 'B'}\n",
            "{1, 2, 3, 'B', 'A'}\n"
          ]
        }
      ],
      "metadata": {
        "execution": {
          "iopub.status.busy": "2021-12-13T10:43:00.403679Z",
          "iopub.execute_input": "2021-12-13T10:43:00.404461Z",
          "iopub.status.idle": "2021-12-13T10:43:00.411534Z",
          "shell.execute_reply.started": "2021-12-13T10:43:00.404418Z",
          "shell.execute_reply": "2021-12-13T10:43:00.410581Z"
        },
        "trusted": true,
        "id": "yUJSP6ggrP4n",
        "colab": {
          "base_uri": "https://localhost:8080/"
        },
        "outputId": "25471010-f530-4e9a-fe24-07ce344c2243"
      }
    },
    {
      "cell_type": "code",
      "execution_count": null,
      "source": [
        "# if you want ot update set_1 by difference\n",
        "\n",
        "# using difference_update update set_1 and set_2\n",
        "set_1.difference_update(set_2)\n",
        "# print set_1\n",
        "set_1"
      ],
      "outputs": [
        {
          "output_type": "execute_result",
          "data": {
            "text/plain": [
              "{1, 2, 'B'}"
            ]
          },
          "metadata": {},
          "execution_count": 72
        }
      ],
      "metadata": {
        "execution": {
          "iopub.status.busy": "2021-12-13T10:43:13.85441Z",
          "iopub.execute_input": "2021-12-13T10:43:13.854716Z",
          "iopub.status.idle": "2021-12-13T10:43:13.860912Z",
          "shell.execute_reply.started": "2021-12-13T10:43:13.85468Z",
          "shell.execute_reply": "2021-12-13T10:43:13.860085Z"
        },
        "trusted": true,
        "id": "2iJJJttErP4n",
        "colab": {
          "base_uri": "https://localhost:8080/"
        },
        "outputId": "765583bf-e6d8-46c7-8a72-94917aa572e8"
      }
    },
    {
      "cell_type": "markdown",
      "source": [
        "# Intersection b/w two set (set_1 - set_2)"
      ],
      "metadata": {
        "id": "M-ocEPqmrP4n"
      }
    },
    {
      "cell_type": "code",
      "execution_count": null,
      "source": [
        "# collect only elements which are common b/w both sets\n",
        "set_1 = {1,2,3,'A','B'}\n",
        "set_2 = {3,'A'}\n",
        "set_1.intersection(set_2)\n",
        "set_1"
      ],
      "outputs": [
        {
          "output_type": "execute_result",
          "data": {
            "text/plain": [
              "{1, 2, 3, 'A', 'B'}"
            ]
          },
          "metadata": {},
          "execution_count": 73
        }
      ],
      "metadata": {
        "execution": {
          "iopub.status.busy": "2021-12-13T10:43:58.377047Z",
          "iopub.execute_input": "2021-12-13T10:43:58.377355Z",
          "iopub.status.idle": "2021-12-13T10:43:58.384648Z",
          "shell.execute_reply.started": "2021-12-13T10:43:58.377316Z",
          "shell.execute_reply": "2021-12-13T10:43:58.383813Z"
        },
        "trusted": true,
        "id": "o25pTFa5rP4n",
        "colab": {
          "base_uri": "https://localhost:8080/"
        },
        "outputId": "b4736a2a-a9ce-4e5d-8e03-a44f0cdca3f4"
      }
    },
    {
      "cell_type": "code",
      "execution_count": null,
      "source": [
        "# if you want ot update set_1 by intersection\n",
        "set_1.intersection_update(set_2)\n",
        "set_1"
      ],
      "outputs": [
        {
          "output_type": "execute_result",
          "data": {
            "text/plain": [
              "{3, 'A'}"
            ]
          },
          "metadata": {},
          "execution_count": 74
        }
      ],
      "metadata": {
        "execution": {
          "iopub.status.busy": "2021-12-13T10:44:04.442569Z",
          "iopub.execute_input": "2021-12-13T10:44:04.443196Z",
          "iopub.status.idle": "2021-12-13T10:44:04.449452Z",
          "shell.execute_reply.started": "2021-12-13T10:44:04.44314Z",
          "shell.execute_reply": "2021-12-13T10:44:04.448782Z"
        },
        "trusted": true,
        "id": "ONav5Mx6rP4n",
        "colab": {
          "base_uri": "https://localhost:8080/"
        },
        "outputId": "5b1004b0-e832-4f1c-b3ad-373266a4f1ba"
      }
    },
    {
      "cell_type": "markdown",
      "source": [
        "----"
      ],
      "metadata": {
        "id": "1F9jH1x7rP4n"
      }
    },
    {
      "cell_type": "code",
      "execution_count": null,
      "source": [
        "# Dict\n",
        "YouTubeVideo('https://www.youtube.com/watch?v=I6UH_prRboE&list=PLsR_0x6BuM-HJZT6Xzj-088N4hN3KsDME&index=7',width=600,height=300)"
      ],
      "outputs": [
        {
          "output_type": "execute_result",
          "data": {
            "text/html": [
              "\n",
              "        <iframe\n",
              "            width=\"600\"\n",
              "            height=\"300\"\n",
              "            src=\"https://www.youtube.com/embed/https://www.youtube.com/watch?v=I6UH_prRboE&list=PLsR_0x6BuM-HJZT6Xzj-088N4hN3KsDME&index=7\"\n",
              "            frameborder=\"0\"\n",
              "            allowfullscreen\n",
              "        ></iframe>\n",
              "        "
            ],
            "text/plain": [
              "<IPython.lib.display.YouTubeVideo at 0x7fb876adb550>"
            ]
          },
          "metadata": {},
          "execution_count": 179
        }
      ],
      "metadata": {
        "execution": {
          "iopub.status.busy": "2021-12-15T10:06:22.371133Z",
          "iopub.execute_input": "2021-12-15T10:06:22.37147Z",
          "iopub.status.idle": "2021-12-15T10:06:22.464735Z",
          "shell.execute_reply.started": "2021-12-15T10:06:22.371432Z",
          "shell.execute_reply": "2021-12-15T10:06:22.463983Z"
        },
        "trusted": true,
        "id": "WktbQcX8rP4n",
        "colab": {
          "base_uri": "https://localhost:8080/",
          "height": 321
        },
        "outputId": "eb3de7ff-5f7c-47b3-a06c-33bfba961ba1"
      }
    },
    {
      "cell_type": "markdown",
      "source": [
        "# **`Dictionary`** => `key:value`\n",
        "* Unordered data structure\n",
        "* Collection of multiple lists can say, looks like set{} but have {key:value} pairs for storing elements\n",
        "    * student_information is a dictionay and it have name,age,email,adress etc store in form of list how see bellow example\n",
        "* `Element of dictionary can only be acessed by using key not Index`\n",
        "* Every key must be unique\n",
        "\n",
        "`{} -> curly brac`"
      ],
      "metadata": {
        "id": "1jNZ_aKnrP4n"
      }
    },
    {
      "cell_type": "code",
      "execution_count": null,
      "source": [
        "# student details\n",
        "names = ['Viranda','Sandhu','Rama','Yoga']\n",
        "height = [120,130,140,150]\n",
        "weight = [56,60,45,90]\n",
        "age = [23,34,56,55]\n",
        "\n",
        "\"\"\"\n",
        "dict = { key:values }\n",
        "\"\"\"\n",
        "\n",
        "### storing all these 4 lists in a dict using key:value  # once data structure inside other\n",
        "student_details_dict = {\n",
        "    'names' : ['Viranda','Sandhu','Rama','Yoga'],\n",
        "    'height' : [120,130,140,150],\n",
        "    'weight' : [56,60,45,90],\n",
        "    'age' : [23,34,56,55]\n",
        "}"
      ],
      "outputs": [],
      "metadata": {
        "execution": {
          "iopub.status.busy": "2021-12-13T09:55:55.007857Z",
          "iopub.execute_input": "2021-12-13T09:55:55.008155Z",
          "iopub.status.idle": "2021-12-13T09:55:55.016151Z",
          "shell.execute_reply.started": "2021-12-13T09:55:55.008123Z",
          "shell.execute_reply": "2021-12-13T09:55:55.015078Z"
        },
        "trusted": true,
        "id": "vhdeUMEarP4n"
      }
    },
    {
      "cell_type": "markdown",
      "source": [
        "* Above name,height are the `key` and list's data are the `value pair` associated with the key\n",
        "    * can say each key is mapped to multiple values\n",
        "* Above is the representation of advanced data structure as you can see list inside a dictionary"
      ],
      "metadata": {
        "id": "FFiDiI_PrP4o"
      }
    },
    {
      "cell_type": "code",
      "execution_count": null,
      "source": [
        "### Acessing elements of dict ###\n",
        "student_details_dict = {\n",
        "    'names' : ['Ohm','Sandhu','Rama','Yoga'],\n",
        "    'height' : [120,130,140,150],\n",
        "    'weight' : [56,60,45,90],\n",
        "    'age' : [23,34,56,55]\n",
        "}\n",
        "\n",
        "# trying to acess using index will give error\n",
        "student_details_dict[0]"
      ],
      "outputs": [
        {
          "output_type": "error",
          "ename": "KeyError",
          "evalue": "ignored",
          "traceback": [
            "\u001b[0;31m---------------------------------------------------------------------------\u001b[0m",
            "\u001b[0;31mKeyError\u001b[0m                                  Traceback (most recent call last)",
            "\u001b[0;32m<ipython-input-76-939d01fd8d6e>\u001b[0m in \u001b[0;36m<module>\u001b[0;34m()\u001b[0m\n\u001b[1;32m      8\u001b[0m \u001b[0;34m\u001b[0m\u001b[0m\n\u001b[1;32m      9\u001b[0m \u001b[0;31m# trying to acess using index will give error\u001b[0m\u001b[0;34m\u001b[0m\u001b[0;34m\u001b[0m\u001b[0;34m\u001b[0m\u001b[0m\n\u001b[0;32m---> 10\u001b[0;31m \u001b[0mstudent_details_dict\u001b[0m\u001b[0;34m[\u001b[0m\u001b[0;36m0\u001b[0m\u001b[0;34m]\u001b[0m\u001b[0;34m\u001b[0m\u001b[0;34m\u001b[0m\u001b[0m\n\u001b[0m",
            "\u001b[0;31mKeyError\u001b[0m: 0"
          ]
        }
      ],
      "metadata": {
        "execution": {
          "iopub.status.busy": "2021-12-13T09:57:01.923008Z",
          "iopub.execute_input": "2021-12-13T09:57:01.9233Z",
          "iopub.status.idle": "2021-12-13T09:57:01.940278Z",
          "shell.execute_reply.started": "2021-12-13T09:57:01.92327Z",
          "shell.execute_reply": "2021-12-13T09:57:01.939181Z"
        },
        "trusted": true,
        "id": "E-Fr1AeJrP4o",
        "colab": {
          "base_uri": "https://localhost:8080/",
          "height": 204
        },
        "outputId": "d2745371-91af-470b-83a9-55e94a651ce9"
      }
    },
    {
      "cell_type": "code",
      "execution_count": null,
      "source": [
        "student_details_dict['age']"
      ],
      "outputs": [
        {
          "output_type": "execute_result",
          "data": {
            "text/plain": [
              "[23, 34, 56, 55]"
            ]
          },
          "metadata": {},
          "execution_count": 77
        }
      ],
      "metadata": {
        "execution": {
          "iopub.status.busy": "2021-12-13T09:58:13.100091Z",
          "iopub.execute_input": "2021-12-13T09:58:13.100392Z",
          "iopub.status.idle": "2021-12-13T09:58:13.106757Z",
          "shell.execute_reply.started": "2021-12-13T09:58:13.100356Z",
          "shell.execute_reply": "2021-12-13T09:58:13.105836Z"
        },
        "trusted": true,
        "id": "yBZ4q0E2rP4o",
        "colab": {
          "base_uri": "https://localhost:8080/"
        },
        "outputId": "752ed708-aa8d-4941-9974-9aaf2cef16ba"
      }
    },
    {
      "cell_type": "code",
      "execution_count": null,
      "source": [
        "student_details_dict"
      ],
      "outputs": [
        {
          "output_type": "execute_result",
          "data": {
            "text/plain": [
              "{'age': [23, 34, 56, 55],\n",
              " 'height': [120, 130, 140, 150],\n",
              " 'names': ['Ohm', 'Sandhu', 'Rama', 'Yoga'],\n",
              " 'weight': [56, 60, 45, 90]}"
            ]
          },
          "metadata": {},
          "execution_count": 78
        }
      ],
      "metadata": {
        "execution": {
          "iopub.status.busy": "2021-12-13T09:58:55.922327Z",
          "iopub.execute_input": "2021-12-13T09:58:55.922743Z",
          "iopub.status.idle": "2021-12-13T09:58:55.928051Z",
          "shell.execute_reply.started": "2021-12-13T09:58:55.92271Z",
          "shell.execute_reply": "2021-12-13T09:58:55.927326Z"
        },
        "trusted": true,
        "id": "82I92AVerP4o",
        "colab": {
          "base_uri": "https://localhost:8080/"
        },
        "outputId": "db401d13-8400-4c0b-96b6-4beb3c2bdb20"
      }
    },
    {
      "cell_type": "code",
      "execution_count": null,
      "source": [
        "student_details_dict['names'][-1]"
      ],
      "outputs": [
        {
          "output_type": "execute_result",
          "data": {
            "application/vnd.google.colaboratory.intrinsic+json": {
              "type": "string"
            },
            "text/plain": [
              "'Yoga'"
            ]
          },
          "metadata": {},
          "execution_count": 79
        }
      ],
      "metadata": {
        "execution": {
          "iopub.status.busy": "2021-12-13T10:00:03.888062Z",
          "iopub.execute_input": "2021-12-13T10:00:03.888355Z",
          "iopub.status.idle": "2021-12-13T10:00:03.894125Z",
          "shell.execute_reply.started": "2021-12-13T10:00:03.888323Z",
          "shell.execute_reply": "2021-12-13T10:00:03.8932Z"
        },
        "trusted": true,
        "id": "fTkrcNdCrP4o",
        "colab": {
          "base_uri": "https://localhost:8080/",
          "height": 36
        },
        "outputId": "3abf0c1c-fbec-45eb-c7df-7b2cc3d04147"
      }
    },
    {
      "cell_type": "code",
      "execution_count": null,
      "source": [
        "# trying to acess using key will give error\n",
        "\n",
        "print(student_details_dict['names'],'\\n')\n",
        "\n",
        "#getting into name key values\n",
        "print(student_details_dict['names'][1:])"
      ],
      "outputs": [
        {
          "output_type": "stream",
          "name": "stdout",
          "text": [
            "['Ohm', 'Sandhu', 'Rama', 'Yoga'] \n",
            "\n",
            "['Sandhu', 'Rama', 'Yoga']\n"
          ]
        }
      ],
      "metadata": {
        "execution": {
          "iopub.status.busy": "2021-12-13T09:57:39.804262Z",
          "iopub.execute_input": "2021-12-13T09:57:39.804977Z",
          "iopub.status.idle": "2021-12-13T09:57:39.810231Z",
          "shell.execute_reply.started": "2021-12-13T09:57:39.804939Z",
          "shell.execute_reply": "2021-12-13T09:57:39.809595Z"
        },
        "trusted": true,
        "id": "5HnJNpSVrP4o",
        "colab": {
          "base_uri": "https://localhost:8080/"
        },
        "outputId": "5ba0bcba-de75-4df4-de2a-8bca86700a8c"
      }
    },
    {
      "cell_type": "code",
      "execution_count": null,
      "source": [
        "### Acessing keys ###\n",
        "student_details_dict.keys()"
      ],
      "outputs": [
        {
          "output_type": "execute_result",
          "data": {
            "text/plain": [
              "dict_keys(['names', 'height', 'weight', 'age'])"
            ]
          },
          "metadata": {},
          "execution_count": 81
        }
      ],
      "metadata": {
        "execution": {
          "iopub.status.busy": "2021-12-13T10:00:32.522274Z",
          "iopub.execute_input": "2021-12-13T10:00:32.522566Z",
          "iopub.status.idle": "2021-12-13T10:00:32.528149Z",
          "shell.execute_reply.started": "2021-12-13T10:00:32.522535Z",
          "shell.execute_reply": "2021-12-13T10:00:32.527394Z"
        },
        "trusted": true,
        "id": "MkV-hbCLrP4o",
        "colab": {
          "base_uri": "https://localhost:8080/"
        },
        "outputId": "03dfa0c5-8724-4653-f6b6-013dbb6a4ac8"
      }
    },
    {
      "cell_type": "code",
      "execution_count": null,
      "source": [
        "### Acessing values ###\n",
        "student_details_dict.values()"
      ],
      "outputs": [
        {
          "output_type": "execute_result",
          "data": {
            "text/plain": [
              "dict_values([['Ohm', 'Sandhu', 'Rama', 'Yoga'], [120, 130, 140, 150], [56, 60, 45, 90], [23, 34, 56, 55]])"
            ]
          },
          "metadata": {},
          "execution_count": 82
        }
      ],
      "metadata": {
        "execution": {
          "iopub.status.busy": "2021-12-13T10:00:42.766539Z",
          "iopub.execute_input": "2021-12-13T10:00:42.766841Z",
          "iopub.status.idle": "2021-12-13T10:00:42.772659Z",
          "shell.execute_reply.started": "2021-12-13T10:00:42.766808Z",
          "shell.execute_reply": "2021-12-13T10:00:42.771701Z"
        },
        "trusted": true,
        "id": "sxApYLKkrP4o",
        "colab": {
          "base_uri": "https://localhost:8080/"
        },
        "outputId": "1c0fc65c-eca9-494d-d503-36cafc76f314"
      }
    },
    {
      "cell_type": "markdown",
      "source": [
        "# Adding single element to dictionary"
      ],
      "metadata": {
        "id": "PpsBjTaVrP4o"
      }
    },
    {
      "cell_type": "code",
      "execution_count": null,
      "source": [
        "student_details_dict"
      ],
      "outputs": [
        {
          "output_type": "execute_result",
          "data": {
            "text/plain": [
              "{'age': [23, 34, 56, 55],\n",
              " 'height': [120, 130, 140, 150],\n",
              " 'names': ['Ohm', 'Sandhu', 'Rama', 'Yoga'],\n",
              " 'weight': [56, 60, 45, 90]}"
            ]
          },
          "metadata": {},
          "execution_count": 83
        }
      ],
      "metadata": {
        "execution": {
          "iopub.status.busy": "2021-12-13T10:01:17.756443Z",
          "iopub.execute_input": "2021-12-13T10:01:17.756917Z",
          "iopub.status.idle": "2021-12-13T10:01:17.762487Z",
          "shell.execute_reply.started": "2021-12-13T10:01:17.756852Z",
          "shell.execute_reply": "2021-12-13T10:01:17.761665Z"
        },
        "trusted": true,
        "id": "_FBTPjTZrP4p",
        "colab": {
          "base_uri": "https://localhost:8080/"
        },
        "outputId": "a7e834af-76f8-4905-93c5-b06c335c1a18"
      }
    },
    {
      "cell_type": "code",
      "execution_count": null,
      "source": [
        "# dict_name['key_name'] = [values to update]\n",
        "student_details_dict['emails'] = ['as@gmail.com','asd@gmail.com','d@gmail.com','sd@gmail.com']\n",
        "\n",
        "student_details_dict"
      ],
      "outputs": [
        {
          "output_type": "execute_result",
          "data": {
            "text/plain": [
              "{'age': [23, 34, 56, 55],\n",
              " 'emails': ['as@gmail.com', 'asd@gmail.com', 'd@gmail.com', 'sd@gmail.com'],\n",
              " 'height': [120, 130, 140, 150],\n",
              " 'names': ['Ohm', 'Sandhu', 'Rama', 'Yoga'],\n",
              " 'weight': [56, 60, 45, 90]}"
            ]
          },
          "metadata": {},
          "execution_count": 84
        }
      ],
      "metadata": {
        "execution": {
          "iopub.status.busy": "2021-12-13T10:01:41.410772Z",
          "iopub.execute_input": "2021-12-13T10:01:41.411494Z",
          "iopub.status.idle": "2021-12-13T10:01:41.417072Z",
          "shell.execute_reply.started": "2021-12-13T10:01:41.411448Z",
          "shell.execute_reply": "2021-12-13T10:01:41.416524Z"
        },
        "trusted": true,
        "id": "0wKUkHGFrP4p",
        "colab": {
          "base_uri": "https://localhost:8080/"
        },
        "outputId": "bbae9669-5288-40d2-ff4e-9528c7b20c7d"
      }
    },
    {
      "cell_type": "markdown",
      "source": [
        "# Adding multiple element to dictionary "
      ],
      "metadata": {
        "id": "WmJ6exLbrP4p"
      }
    },
    {
      "cell_type": "code",
      "execution_count": null,
      "source": [
        "student_details_dict"
      ],
      "outputs": [
        {
          "output_type": "execute_result",
          "data": {
            "text/plain": [
              "{'age': [23, 34, 56, 55],\n",
              " 'emails': ['as@gmail.com', 'asd@gmail.com', 'd@gmail.com', 'sd@gmail.com'],\n",
              " 'height': [120, 130, 140, 150],\n",
              " 'names': ['Ohm', 'Sandhu', 'Rama', 'Yoga'],\n",
              " 'weight': [56, 60, 45, 90]}"
            ]
          },
          "metadata": {},
          "execution_count": 85
        }
      ],
      "metadata": {
        "execution": {
          "iopub.status.busy": "2021-12-13T10:02:34.602964Z",
          "iopub.execute_input": "2021-12-13T10:02:34.603596Z",
          "iopub.status.idle": "2021-12-13T10:02:34.609421Z",
          "shell.execute_reply.started": "2021-12-13T10:02:34.603556Z",
          "shell.execute_reply": "2021-12-13T10:02:34.608851Z"
        },
        "trusted": true,
        "id": "EA49XnzsrP4p",
        "colab": {
          "base_uri": "https://localhost:8080/"
        },
        "outputId": "5d4f6b5e-205b-4689-a350-c80c9898e471"
      }
    },
    {
      "cell_type": "code",
      "execution_count": null,
      "source": [
        "# use of .update({'key':[value],'key1':[value1]})\n",
        "\n",
        "student_details_dict.update({'adress':['ana','dasd','asdad','adasd'],'sex':['m','m','m','m']})\n",
        "student_details_dict"
      ],
      "outputs": [
        {
          "output_type": "execute_result",
          "data": {
            "text/plain": [
              "{'adress': ['ana', 'dasd', 'asdad', 'adasd'],\n",
              " 'age': [23, 34, 56, 55],\n",
              " 'emails': ['as@gmail.com', 'asd@gmail.com', 'd@gmail.com', 'sd@gmail.com'],\n",
              " 'height': [120, 130, 140, 150],\n",
              " 'names': ['Ohm', 'Sandhu', 'Rama', 'Yoga'],\n",
              " 'sex': ['m', 'm', 'm', 'm'],\n",
              " 'weight': [56, 60, 45, 90]}"
            ]
          },
          "metadata": {},
          "execution_count": 86
        }
      ],
      "metadata": {
        "execution": {
          "iopub.status.busy": "2021-12-13T10:02:45.619188Z",
          "iopub.execute_input": "2021-12-13T10:02:45.620076Z",
          "iopub.status.idle": "2021-12-13T10:02:45.627322Z",
          "shell.execute_reply.started": "2021-12-13T10:02:45.620025Z",
          "shell.execute_reply": "2021-12-13T10:02:45.626391Z"
        },
        "trusted": true,
        "id": "VO6IrvskrP4p",
        "colab": {
          "base_uri": "https://localhost:8080/"
        },
        "outputId": "0761e821-9158-489f-d84d-0313c5be0693"
      }
    },
    {
      "cell_type": "markdown",
      "source": [
        "# Deleting element of dictionary"
      ],
      "metadata": {
        "id": "pPXUz271rP4p"
      }
    },
    {
      "cell_type": "code",
      "execution_count": null,
      "source": [
        "student_details_dict"
      ],
      "outputs": [
        {
          "output_type": "execute_result",
          "data": {
            "text/plain": [
              "{'adress': ['ana', 'dasd', 'asdad', 'adasd'],\n",
              " 'age': [23, 34, 56, 55],\n",
              " 'emails': ['as@gmail.com', 'asd@gmail.com', 'd@gmail.com', 'sd@gmail.com'],\n",
              " 'height': [120, 130, 140, 150],\n",
              " 'names': ['Ohm', 'Sandhu', 'Rama', 'Yoga'],\n",
              " 'sex': ['m', 'm', 'm', 'm'],\n",
              " 'weight': [56, 60, 45, 90]}"
            ]
          },
          "metadata": {},
          "execution_count": 87
        }
      ],
      "metadata": {
        "execution": {
          "iopub.status.busy": "2021-12-13T10:03:17.732651Z",
          "iopub.execute_input": "2021-12-13T10:03:17.732961Z",
          "iopub.status.idle": "2021-12-13T10:03:17.739801Z",
          "shell.execute_reply.started": "2021-12-13T10:03:17.732932Z",
          "shell.execute_reply": "2021-12-13T10:03:17.738946Z"
        },
        "trusted": true,
        "id": "tdOxfYdCrP4p",
        "colab": {
          "base_uri": "https://localhost:8080/"
        },
        "outputId": "dff18c72-fd8c-46ac-f281-e77462885c1c"
      }
    },
    {
      "cell_type": "code",
      "execution_count": null,
      "source": [
        "# use of del\n",
        "del student_details_dict['sex'] #<= removing sex key totaly from key\n",
        "student_details_dict"
      ],
      "outputs": [
        {
          "output_type": "execute_result",
          "data": {
            "text/plain": [
              "{'adress': ['ana', 'dasd', 'asdad', 'adasd'],\n",
              " 'age': [23, 34, 56, 55],\n",
              " 'emails': ['as@gmail.com', 'asd@gmail.com', 'd@gmail.com', 'sd@gmail.com'],\n",
              " 'height': [120, 130, 140, 150],\n",
              " 'names': ['Ohm', 'Sandhu', 'Rama', 'Yoga'],\n",
              " 'weight': [56, 60, 45, 90]}"
            ]
          },
          "metadata": {},
          "execution_count": 88
        }
      ],
      "metadata": {
        "execution": {
          "iopub.status.busy": "2021-12-13T10:03:34.61224Z",
          "iopub.execute_input": "2021-12-13T10:03:34.612505Z",
          "iopub.status.idle": "2021-12-13T10:03:34.619065Z",
          "shell.execute_reply.started": "2021-12-13T10:03:34.612477Z",
          "shell.execute_reply": "2021-12-13T10:03:34.618374Z"
        },
        "trusted": true,
        "id": "Iu1l27PNrP4p",
        "colab": {
          "base_uri": "https://localhost:8080/"
        },
        "outputId": "928154a3-52df-4670-bc4b-8a4e7b77eb3b"
      }
    },
    {
      "cell_type": "markdown",
      "source": [
        "# Updating dict with dicts"
      ],
      "metadata": {
        "id": "VrRk_bhJrP4p"
      }
    },
    {
      "cell_type": "code",
      "execution_count": null,
      "source": [
        "# Make a dict named as student_data_dictionary  with value which are given bellow as output\n",
        "student_data_dictionary = {'age': 21,\n",
        "                          'attendance': 74,\n",
        "                          'city': 'Gurugram',\n",
        "                          'country': 'India',\n",
        "                          'name': 'Vany',\n",
        "                          'percentage': 85,\n",
        "                          'roll_no': 'CSE100'}\n",
        "\n",
        "# print student_data_dictionary\n",
        "student_data_dictionary "
      ],
      "outputs": [
        {
          "output_type": "execute_result",
          "data": {
            "text/plain": [
              "{'age': 21,\n",
              " 'attendance': 74,\n",
              " 'city': 'Gurugram',\n",
              " 'country': 'India',\n",
              " 'name': 'Vany',\n",
              " 'percentage': 85,\n",
              " 'roll_no': 'CSE100'}"
            ]
          },
          "metadata": {},
          "execution_count": 89
        }
      ],
      "metadata": {
        "execution": {
          "iopub.status.busy": "2021-12-13T10:04:32.718516Z",
          "iopub.execute_input": "2021-12-13T10:04:32.718812Z",
          "iopub.status.idle": "2021-12-13T10:04:32.726459Z",
          "shell.execute_reply.started": "2021-12-13T10:04:32.718775Z",
          "shell.execute_reply": "2021-12-13T10:04:32.725624Z"
        },
        "trusted": true,
        "id": "1v2BgiPUrP4p",
        "colab": {
          "base_uri": "https://localhost:8080/"
        },
        "outputId": "68d4a26f-5de7-4fab-8ad4-2d3b4d40b153"
      }
    },
    {
      "cell_type": "code",
      "execution_count": null,
      "source": [
        "# update student_data_dictionary by observing output \n",
        "student_data_dictionary.update({'country': 'India',\n",
        " 'last_name': 'Unicorn', 'pincode': 345467})\n",
        "# print student_data_dictionary\n",
        "student_data_dictionary\n"
      ],
      "outputs": [
        {
          "output_type": "execute_result",
          "data": {
            "text/plain": [
              "{'age': 21,\n",
              " 'attendance': 74,\n",
              " 'city': 'Gurugram',\n",
              " 'country': 'India',\n",
              " 'last_name': 'Unicorn',\n",
              " 'name': 'Vany',\n",
              " 'percentage': 85,\n",
              " 'pincode': 345467,\n",
              " 'roll_no': 'CSE100'}"
            ]
          },
          "metadata": {},
          "execution_count": 91
        }
      ],
      "metadata": {
        "execution": {
          "iopub.status.busy": "2021-12-13T10:04:55.199263Z",
          "iopub.execute_input": "2021-12-13T10:04:55.19956Z",
          "iopub.status.idle": "2021-12-13T10:04:55.205958Z",
          "shell.execute_reply.started": "2021-12-13T10:04:55.199526Z",
          "shell.execute_reply": "2021-12-13T10:04:55.205314Z"
        },
        "trusted": true,
        "id": "2GhXVhlFrP4q",
        "colab": {
          "base_uri": "https://localhost:8080/"
        },
        "outputId": "d8b5a3e8-e626-4fa5-ef62-6bdd3fd994fc"
      }
    },
    {
      "cell_type": "markdown",
      "source": [
        "# Updating dict with list of tuples"
      ],
      "metadata": {
        "id": "w7yMNpcArP4q"
      }
    },
    {
      "cell_type": "code",
      "execution_count": null,
      "source": [
        "# print student_data_dictionary"
      ],
      "outputs": [
        {
          "output_type": "execute_result",
          "data": {
            "text/plain": [
              "{'age': 21,\n",
              " 'attendance': 74,\n",
              " 'city': 'Gurugram',\n",
              " 'country': 'India',\n",
              " 'last_name': 'Unicorn',\n",
              " 'name': 'Vany',\n",
              " 'percentage': 85,\n",
              " 'pincode': 345467,\n",
              " 'roll_no': 'CSE100'}"
            ]
          },
          "metadata": {},
          "execution_count": 195
        }
      ],
      "metadata": {
        "execution": {
          "iopub.status.busy": "2021-12-13T10:05:27.96382Z",
          "iopub.execute_input": "2021-12-13T10:05:27.964104Z",
          "iopub.status.idle": "2021-12-13T10:05:27.969942Z",
          "shell.execute_reply.started": "2021-12-13T10:05:27.964075Z",
          "shell.execute_reply": "2021-12-13T10:05:27.96922Z"
        },
        "trusted": true,
        "id": "z9a5hByPrP4q",
        "colab": {
          "base_uri": "https://localhost:8080/"
        },
        "outputId": "6df79425-ed84-4d35-ee4b-0dd9f0b86841"
      }
    },
    {
      "cell_type": "code",
      "execution_count": null,
      "source": [
        "# update student_data_dictionary by observing output \n",
        "\n",
        "# print student_data_dictionary"
      ],
      "outputs": [
        {
          "output_type": "execute_result",
          "data": {
            "text/plain": [
              "{'age': 21,\n",
              " 'attendance': 74,\n",
              " 'city': 'Gurugram',\n",
              " 'country': 'India',\n",
              " 'last_name': 'Unicorn_777',\n",
              " 'name': 'Vany',\n",
              " 'percentage': 85,\n",
              " 'pincode': 423423,\n",
              " 'roll_no': 'CSE100'}"
            ]
          },
          "metadata": {},
          "execution_count": 196
        }
      ],
      "metadata": {
        "execution": {
          "iopub.status.busy": "2021-12-13T10:05:55.921547Z",
          "iopub.execute_input": "2021-12-13T10:05:55.922063Z",
          "iopub.status.idle": "2021-12-13T10:05:55.929415Z",
          "shell.execute_reply.started": "2021-12-13T10:05:55.922011Z",
          "shell.execute_reply": "2021-12-13T10:05:55.928555Z"
        },
        "trusted": true,
        "id": "VTT_BZycrP4q",
        "colab": {
          "base_uri": "https://localhost:8080/"
        },
        "outputId": "133a33e5-a4d5-44b0-af54-93927f8e0adc"
      }
    },
    {
      "cell_type": "code",
      "execution_count": null,
      "source": [
        "# observe this code\n",
        "### dictionary key can be anything string,integer,float,boolean ###\n",
        "dict_sample = {\n",
        "    'string' : 'string can be used as key',\n",
        "    777 : 'interger can be used as key',\n",
        "    777.77 : 'float can be used as key',\n",
        "    False : 'boolean can be used as key'\n",
        "}\n",
        "\n",
        "dict_sample.keys()"
      ],
      "outputs": [
        {
          "output_type": "execute_result",
          "data": {
            "text/plain": [
              "dict_keys(['string', 777, 777.77, False])"
            ]
          },
          "metadata": {},
          "execution_count": 92
        }
      ],
      "metadata": {
        "execution": {
          "iopub.status.busy": "2021-12-13T10:06:27.958345Z",
          "iopub.execute_input": "2021-12-13T10:06:27.959221Z",
          "iopub.status.idle": "2021-12-13T10:06:27.965493Z",
          "shell.execute_reply.started": "2021-12-13T10:06:27.959177Z",
          "shell.execute_reply": "2021-12-13T10:06:27.964809Z"
        },
        "trusted": true,
        "id": "6YtALcserP4q",
        "colab": {
          "base_uri": "https://localhost:8080/"
        },
        "outputId": "83920175-70ea-4b33-e3b1-f444d7656768"
      }
    },
    {
      "cell_type": "markdown",
      "source": [
        "Mostly String and Integer are used as key"
      ],
      "metadata": {
        "id": "fb2iby4NrP4q"
      }
    },
    {
      "cell_type": "code",
      "execution_count": null,
      "source": [
        "dict_sample[777.77]"
      ],
      "outputs": [
        {
          "output_type": "execute_result",
          "data": {
            "application/vnd.google.colaboratory.intrinsic+json": {
              "type": "string"
            },
            "text/plain": [
              "'float can be used as key'"
            ]
          },
          "metadata": {},
          "execution_count": 93
        }
      ],
      "metadata": {
        "execution": {
          "iopub.status.busy": "2021-12-13T10:06:55.138268Z",
          "iopub.execute_input": "2021-12-13T10:06:55.138726Z",
          "iopub.status.idle": "2021-12-13T10:06:55.145072Z",
          "shell.execute_reply.started": "2021-12-13T10:06:55.138678Z",
          "shell.execute_reply": "2021-12-13T10:06:55.144269Z"
        },
        "trusted": true,
        "id": "RKwzFxeyrP4q",
        "colab": {
          "base_uri": "https://localhost:8080/",
          "height": 36
        },
        "outputId": "b6423bf5-aa7e-46b8-90fe-69783e500f62"
      }
    },
    {
      "cell_type": "code",
      "execution_count": null,
      "source": [
        "# observe this code\n",
        "### Duplicate keys ###\n",
        "# every key must be unique\n",
        "dict_sample = {\n",
        "    'a':1,\n",
        "    'b':2,\n",
        "    'c':3,\n",
        "    'a':23\n",
        "}\n",
        "\n",
        "dict_sample"
      ],
      "outputs": [
        {
          "output_type": "execute_result",
          "data": {
            "text/plain": [
              "{'a': 23, 'b': 2, 'c': 3}"
            ]
          },
          "metadata": {},
          "execution_count": 94
        }
      ],
      "metadata": {
        "execution": {
          "iopub.status.busy": "2021-12-13T10:07:55.65068Z",
          "iopub.execute_input": "2021-12-13T10:07:55.651142Z",
          "iopub.status.idle": "2021-12-13T10:07:55.658826Z",
          "shell.execute_reply.started": "2021-12-13T10:07:55.651108Z",
          "shell.execute_reply": "2021-12-13T10:07:55.65794Z"
        },
        "trusted": true,
        "id": "l532yInzrP4q",
        "colab": {
          "base_uri": "https://localhost:8080/"
        },
        "outputId": "e8de5ffa-69fe-45e3-9651-b0b0c3305cf7"
      }
    },
    {
      "cell_type": "markdown",
      "source": [
        "`If we add duplicate keys, it will not throw an error instead it will overwrite value which is added at last`"
      ],
      "metadata": {
        "id": "xI9wusR1rP4q"
      }
    },
    {
      "cell_type": "markdown",
      "source": [
        "# Iterating through key:value pair"
      ],
      "metadata": {
        "id": "bmvif_zLrP4q"
      }
    },
    {
      "cell_type": "code",
      "execution_count": null,
      "source": [
        "dict_sample.items()"
      ],
      "outputs": [
        {
          "output_type": "execute_result",
          "data": {
            "text/plain": [
              "dict_items([('a', 23), ('b', 2), ('c', 3)])"
            ]
          },
          "metadata": {},
          "execution_count": 95
        }
      ],
      "metadata": {
        "execution": {
          "iopub.status.busy": "2021-12-13T10:09:28.18039Z",
          "iopub.execute_input": "2021-12-13T10:09:28.180905Z",
          "iopub.status.idle": "2021-12-13T10:09:28.186513Z",
          "shell.execute_reply.started": "2021-12-13T10:09:28.180849Z",
          "shell.execute_reply": "2021-12-13T10:09:28.185948Z"
        },
        "trusted": true,
        "id": "pOOp6yYGrP4q",
        "colab": {
          "base_uri": "https://localhost:8080/"
        },
        "outputId": "30298ca1-c5c7-4e9b-f37d-faf07fa78145"
      }
    },
    {
      "cell_type": "code",
      "execution_count": null,
      "source": [
        "for key,value in dict_sample.items():\n",
        "    print(key,value)"
      ],
      "outputs": [
        {
          "output_type": "stream",
          "name": "stdout",
          "text": [
            "a 23\n",
            "b 2\n",
            "c 3\n"
          ]
        }
      ],
      "metadata": {
        "execution": {
          "iopub.status.busy": "2021-12-13T10:09:14.519994Z",
          "iopub.execute_input": "2021-12-13T10:09:14.520808Z",
          "iopub.status.idle": "2021-12-13T10:09:14.52646Z",
          "shell.execute_reply.started": "2021-12-13T10:09:14.520766Z",
          "shell.execute_reply": "2021-12-13T10:09:14.525536Z"
        },
        "trusted": true,
        "id": "5UvSJz_3rP4r",
        "colab": {
          "base_uri": "https://localhost:8080/"
        },
        "outputId": "b4aa3487-41bc-40ed-9b27-6cb6d4807e9c"
      }
    },
    {
      "cell_type": "code",
      "execution_count": null,
      "source": [
        "for key,value in dict_sample:\n",
        "    print(key,value)"
      ],
      "outputs": [
        {
          "output_type": "error",
          "ename": "ValueError",
          "evalue": "ignored",
          "traceback": [
            "\u001b[0;31m---------------------------------------------------------------------------\u001b[0m",
            "\u001b[0;31mValueError\u001b[0m                                Traceback (most recent call last)",
            "\u001b[0;32m<ipython-input-97-ccb80a8915b3>\u001b[0m in \u001b[0;36m<module>\u001b[0;34m()\u001b[0m\n\u001b[0;32m----> 1\u001b[0;31m \u001b[0;32mfor\u001b[0m \u001b[0mkey\u001b[0m\u001b[0;34m,\u001b[0m\u001b[0mvalue\u001b[0m \u001b[0;32min\u001b[0m \u001b[0mdict_sample\u001b[0m\u001b[0;34m:\u001b[0m\u001b[0;34m\u001b[0m\u001b[0;34m\u001b[0m\u001b[0m\n\u001b[0m\u001b[1;32m      2\u001b[0m     \u001b[0mprint\u001b[0m\u001b[0;34m(\u001b[0m\u001b[0mkey\u001b[0m\u001b[0;34m,\u001b[0m\u001b[0mvalue\u001b[0m\u001b[0;34m)\u001b[0m\u001b[0;34m\u001b[0m\u001b[0;34m\u001b[0m\u001b[0m\n",
            "\u001b[0;31mValueError\u001b[0m: not enough values to unpack (expected 2, got 1)"
          ]
        }
      ],
      "metadata": {
        "execution": {
          "iopub.status.busy": "2021-12-13T10:09:51.897343Z",
          "iopub.execute_input": "2021-12-13T10:09:51.898107Z",
          "iopub.status.idle": "2021-12-13T10:09:51.916454Z",
          "shell.execute_reply.started": "2021-12-13T10:09:51.898047Z",
          "shell.execute_reply": "2021-12-13T10:09:51.915316Z"
        },
        "trusted": true,
        "id": "Oml0jnO3rP4r",
        "colab": {
          "base_uri": "https://localhost:8080/",
          "height": 187
        },
        "outputId": "022c3b1a-127b-473c-b6d3-be998658bd3d"
      }
    },
    {
      "cell_type": "markdown",
      "source": [
        "# sorting a dictionary based on keys"
      ],
      "metadata": {
        "id": "ew5FtqDsrP4r"
      }
    },
    {
      "cell_type": "code",
      "execution_count": null,
      "source": [
        "sorted(dict_sample.items())"
      ],
      "outputs": [
        {
          "output_type": "execute_result",
          "data": {
            "text/plain": [
              "[('a', 23), ('b', 2), ('c', 3)]"
            ]
          },
          "metadata": {},
          "execution_count": 203
        }
      ],
      "metadata": {
        "execution": {
          "iopub.status.busy": "2021-12-13T10:10:06.684311Z",
          "iopub.execute_input": "2021-12-13T10:10:06.684854Z",
          "iopub.status.idle": "2021-12-13T10:10:06.69042Z",
          "shell.execute_reply.started": "2021-12-13T10:10:06.684817Z",
          "shell.execute_reply": "2021-12-13T10:10:06.689667Z"
        },
        "trusted": true,
        "id": "qwC2NSGYrP4r",
        "colab": {
          "base_uri": "https://localhost:8080/"
        },
        "outputId": "38f660c5-5751-4a96-c98c-307cc7682719"
      }
    },
    {
      "cell_type": "code",
      "execution_count": null,
      "source": [
        "# sorting a dictionary based on values\n",
        "# it requires concept of lambda expresiion "
      ],
      "outputs": [],
      "metadata": {
        "execution": {
          "iopub.status.busy": "2021-12-11T13:32:34.934905Z",
          "iopub.execute_input": "2021-12-11T13:32:34.935219Z",
          "iopub.status.idle": "2021-12-11T13:32:34.938482Z",
          "shell.execute_reply.started": "2021-12-11T13:32:34.935186Z",
          "shell.execute_reply": "2021-12-11T13:32:34.937905Z"
        },
        "trusted": true,
        "id": "DGpnyumDrP4r"
      }
    },
    {
      "cell_type": "markdown",
      "source": [
        "---"
      ],
      "metadata": {
        "id": "be3IXjFNrP4r"
      }
    },
    {
      "cell_type": "code",
      "execution_count": null,
      "source": [
        "# String Manipulation\n",
        "YouTubeVideo('https://www.youtube.com/watch?v=I6UH_prRboE&list=PLsR_0x6BuM-HJZT6Xzj-088N4hN3KsDME&index=9',width=600,height=300)"
      ],
      "outputs": [
        {
          "output_type": "execute_result",
          "data": {
            "text/html": [
              "\n",
              "        <iframe\n",
              "            width=\"600\"\n",
              "            height=\"300\"\n",
              "            src=\"https://www.youtube.com/embed/https://www.youtube.com/watch?v=I6UH_prRboE&list=PLsR_0x6BuM-HJZT6Xzj-088N4hN3KsDME&index=9\"\n",
              "            frameborder=\"0\"\n",
              "            allowfullscreen\n",
              "        ></iframe>\n",
              "        "
            ],
            "text/plain": [
              "<IPython.lib.display.YouTubeVideo at 0x7fb876a33250>"
            ]
          },
          "metadata": {},
          "execution_count": 205
        }
      ],
      "metadata": {
        "execution": {
          "iopub.status.busy": "2021-12-15T10:08:37.981257Z",
          "iopub.execute_input": "2021-12-15T10:08:37.981597Z",
          "iopub.status.idle": "2021-12-15T10:08:38.077039Z",
          "shell.execute_reply.started": "2021-12-15T10:08:37.981565Z",
          "shell.execute_reply": "2021-12-15T10:08:38.076464Z"
        },
        "trusted": true,
        "id": "yZTQjp1grP4r",
        "colab": {
          "base_uri": "https://localhost:8080/",
          "height": 321
        },
        "outputId": "77061b72-e4f6-4b7b-e945-5ddab7a06ecf"
      }
    },
    {
      "cell_type": "markdown",
      "source": [
        "# **`String Manipulation`** [More Resources](https://docs.python.org/3.7/library/stdtypes.html#text-sequence-type-str)"
      ],
      "metadata": {
        "id": "PMmen0JyrP4r"
      }
    },
    {
      "cell_type": "markdown",
      "source": [
        "# observe bellow code"
      ],
      "metadata": {
        "id": "kXsEjLZ03YnR"
      }
    },
    {
      "cell_type": "code",
      "execution_count": null,
      "source": [
        "string_ = '' or \"\" or \"\"\" \"\"\""
      ],
      "outputs": [],
      "metadata": {
        "id": "8J1dpy6rrP4r"
      }
    },
    {
      "cell_type": "code",
      "execution_count": null,
      "source": [
        "# defining a string\n",
        "string = \"We are creating next generation data science eco-system at CloudyML\"\n",
        "string"
      ],
      "outputs": [
        {
          "output_type": "execute_result",
          "data": {
            "application/vnd.google.colaboratory.intrinsic+json": {
              "type": "string"
            },
            "text/plain": [
              "'We are creating next generation data science eco-system at CloudyML'"
            ]
          },
          "metadata": {},
          "execution_count": 99
        }
      ],
      "metadata": {
        "execution": {
          "iopub.status.busy": "2021-12-13T11:01:34.238169Z",
          "iopub.execute_input": "2021-12-13T11:01:34.238451Z",
          "iopub.status.idle": "2021-12-13T11:01:34.244158Z",
          "shell.execute_reply.started": "2021-12-13T11:01:34.238418Z",
          "shell.execute_reply": "2021-12-13T11:01:34.243186Z"
        },
        "trusted": true,
        "id": "P4TiJEQCrP4s",
        "colab": {
          "base_uri": "https://localhost:8080/",
          "height": 36
        },
        "outputId": "52d6db4e-f422-4e26-a674-d7b3c92c264e"
      }
    },
    {
      "cell_type": "code",
      "execution_count": null,
      "source": [
        "# length of string including spaces\n",
        "len(string)"
      ],
      "outputs": [
        {
          "output_type": "execute_result",
          "data": {
            "text/plain": [
              "67"
            ]
          },
          "metadata": {},
          "execution_count": 100
        }
      ],
      "metadata": {
        "execution": {
          "iopub.status.busy": "2021-12-13T11:01:34.957656Z",
          "iopub.execute_input": "2021-12-13T11:01:34.958307Z",
          "iopub.status.idle": "2021-12-13T11:01:34.963401Z",
          "shell.execute_reply.started": "2021-12-13T11:01:34.958266Z",
          "shell.execute_reply": "2021-12-13T11:01:34.96252Z"
        },
        "trusted": true,
        "id": "Ujfo-CHZrP4s",
        "colab": {
          "base_uri": "https://localhost:8080/"
        },
        "outputId": "a890a08e-6ce7-4067-c3f8-2be42cb75a8a"
      }
    },
    {
      "cell_type": "code",
      "execution_count": null,
      "source": [
        "# Accessing characters in a string\n",
        "string[0]"
      ],
      "outputs": [
        {
          "output_type": "execute_result",
          "data": {
            "application/vnd.google.colaboratory.intrinsic+json": {
              "type": "string"
            },
            "text/plain": [
              "'W'"
            ]
          },
          "metadata": {},
          "execution_count": 101
        }
      ],
      "metadata": {
        "execution": {
          "iopub.status.busy": "2021-12-13T11:01:42.028477Z",
          "iopub.execute_input": "2021-12-13T11:01:42.029037Z",
          "iopub.status.idle": "2021-12-13T11:01:42.035886Z",
          "shell.execute_reply.started": "2021-12-13T11:01:42.02899Z",
          "shell.execute_reply": "2021-12-13T11:01:42.035025Z"
        },
        "trusted": true,
        "id": "huRY2kW4rP4s",
        "colab": {
          "base_uri": "https://localhost:8080/",
          "height": 36
        },
        "outputId": "ed32432c-249e-4e89-ddd5-e9089e6e3d44"
      }
    },
    {
      "cell_type": "code",
      "execution_count": null,
      "source": [
        "# Accessing characters with negative indexing\n",
        "string[-1]"
      ],
      "outputs": [
        {
          "output_type": "execute_result",
          "data": {
            "application/vnd.google.colaboratory.intrinsic+json": {
              "type": "string"
            },
            "text/plain": [
              "'L'"
            ]
          },
          "metadata": {},
          "execution_count": 102
        }
      ],
      "metadata": {
        "execution": {
          "iopub.status.busy": "2021-12-13T11:01:54.757886Z",
          "iopub.execute_input": "2021-12-13T11:01:54.758166Z",
          "iopub.status.idle": "2021-12-13T11:01:54.76332Z",
          "shell.execute_reply.started": "2021-12-13T11:01:54.758136Z",
          "shell.execute_reply": "2021-12-13T11:01:54.762662Z"
        },
        "trusted": true,
        "id": "ynPqdSYdrP4s",
        "colab": {
          "base_uri": "https://localhost:8080/",
          "height": 36
        },
        "outputId": "684b2ece-a0ce-4406-d2bb-f2e912078a23"
      }
    },
    {
      "cell_type": "markdown",
      "source": [
        "# String Slicing"
      ],
      "metadata": {
        "id": "O9VaefTGrP4s"
      }
    },
    {
      "cell_type": "code",
      "execution_count": null,
      "source": [
        "string[:6]"
      ],
      "outputs": [
        {
          "output_type": "execute_result",
          "data": {
            "application/vnd.google.colaboratory.intrinsic+json": {
              "type": "string"
            },
            "text/plain": [
              "'We are'"
            ]
          },
          "metadata": {},
          "execution_count": 103
        }
      ],
      "metadata": {
        "execution": {
          "iopub.status.busy": "2021-12-13T11:02:05.077467Z",
          "iopub.execute_input": "2021-12-13T11:02:05.078251Z",
          "iopub.status.idle": "2021-12-13T11:02:05.08393Z",
          "shell.execute_reply.started": "2021-12-13T11:02:05.078214Z",
          "shell.execute_reply": "2021-12-13T11:02:05.083137Z"
        },
        "trusted": true,
        "id": "ry8spVYHrP4s",
        "colab": {
          "base_uri": "https://localhost:8080/",
          "height": 36
        },
        "outputId": "79c66d83-126e-4eec-cf5e-a05da4f7ca88"
      }
    },
    {
      "cell_type": "code",
      "execution_count": null,
      "source": [
        "string[7:-10]"
      ],
      "outputs": [
        {
          "output_type": "execute_result",
          "data": {
            "application/vnd.google.colaboratory.intrinsic+json": {
              "type": "string"
            },
            "text/plain": [
              "'creating next generation data science eco-system a'"
            ]
          },
          "metadata": {},
          "execution_count": 104
        }
      ],
      "metadata": {
        "execution": {
          "iopub.status.busy": "2021-12-13T11:02:17.091514Z",
          "iopub.execute_input": "2021-12-13T11:02:17.092026Z",
          "iopub.status.idle": "2021-12-13T11:02:17.098478Z",
          "shell.execute_reply.started": "2021-12-13T11:02:17.091993Z",
          "shell.execute_reply": "2021-12-13T11:02:17.097041Z"
        },
        "trusted": true,
        "id": "9yyS6grLrP4s",
        "colab": {
          "base_uri": "https://localhost:8080/",
          "height": 36
        },
        "outputId": "a386fd34-f14d-4c61-8ccb-a3705263e1b1"
      }
    },
    {
      "cell_type": "markdown",
      "source": [
        "# Count of a particular `character` in a string"
      ],
      "metadata": {
        "id": "IE-m76lwrP4s"
      }
    },
    {
      "cell_type": "code",
      "execution_count": null,
      "source": [
        "print(string)\n",
        "\n",
        "string.count('e')"
      ],
      "outputs": [
        {
          "output_type": "stream",
          "name": "stdout",
          "text": [
            "We are creating next generation data science eco-system at CloudyML\n"
          ]
        },
        {
          "output_type": "execute_result",
          "data": {
            "text/plain": [
              "10"
            ]
          },
          "metadata": {},
          "execution_count": 105
        }
      ],
      "metadata": {
        "execution": {
          "iopub.status.busy": "2021-12-13T11:02:32.813226Z",
          "iopub.execute_input": "2021-12-13T11:02:32.813513Z",
          "iopub.status.idle": "2021-12-13T11:02:32.820308Z",
          "shell.execute_reply.started": "2021-12-13T11:02:32.813481Z",
          "shell.execute_reply": "2021-12-13T11:02:32.819443Z"
        },
        "trusted": true,
        "id": "036-jd2TrP4s",
        "colab": {
          "base_uri": "https://localhost:8080/"
        },
        "outputId": "02e57a31-1a89-4cc7-a564-9c5cb5e14611"
      }
    },
    {
      "cell_type": "markdown",
      "source": [
        "# Count of a particular `sub-string` in a string "
      ],
      "metadata": {
        "id": "6BhlvAFmrP4s"
      }
    },
    {
      "cell_type": "code",
      "execution_count": null,
      "source": [
        "print(string[7:-10])\n",
        "string.count('ea')"
      ],
      "outputs": [
        {
          "output_type": "stream",
          "name": "stdout",
          "text": [
            "creating next generation data science eco-system a\n"
          ]
        },
        {
          "output_type": "execute_result",
          "data": {
            "text/plain": [
              "1"
            ]
          },
          "metadata": {},
          "execution_count": 106
        }
      ],
      "metadata": {
        "execution": {
          "iopub.status.busy": "2021-12-13T11:02:46.689548Z",
          "iopub.execute_input": "2021-12-13T11:02:46.68983Z",
          "iopub.status.idle": "2021-12-13T11:02:46.696782Z",
          "shell.execute_reply.started": "2021-12-13T11:02:46.6898Z",
          "shell.execute_reply": "2021-12-13T11:02:46.69582Z"
        },
        "trusted": true,
        "id": "pzaxuLCarP4s",
        "colab": {
          "base_uri": "https://localhost:8080/"
        },
        "outputId": "5bac9957-24a9-40bd-8185-0a59d9458acc"
      }
    },
    {
      "cell_type": "markdown",
      "source": [
        "# Find a substring in string using `find` and `index` function"
      ],
      "metadata": {
        "id": "gbyWCeAwrP4s"
      }
    },
    {
      "cell_type": "code",
      "execution_count": null,
      "source": [
        "string"
      ],
      "outputs": [
        {
          "output_type": "execute_result",
          "data": {
            "application/vnd.google.colaboratory.intrinsic+json": {
              "type": "string"
            },
            "text/plain": [
              "'We are creating next generation data science eco-system at CloudyML'"
            ]
          },
          "metadata": {},
          "execution_count": 107
        }
      ],
      "metadata": {
        "execution": {
          "iopub.status.busy": "2021-12-13T11:03:20.048474Z",
          "iopub.execute_input": "2021-12-13T11:03:20.049531Z",
          "iopub.status.idle": "2021-12-13T11:03:20.055836Z",
          "shell.execute_reply.started": "2021-12-13T11:03:20.049443Z",
          "shell.execute_reply": "2021-12-13T11:03:20.055006Z"
        },
        "trusted": true,
        "id": "08PNFmYPrP4s",
        "colab": {
          "base_uri": "https://localhost:8080/",
          "height": 36
        },
        "outputId": "92839906-2c03-4d9c-d290-54e82fd98942"
      }
    },
    {
      "cell_type": "code",
      "execution_count": null,
      "source": [
        "# .find() => if present it will return starting index, not found then it will return -1\n",
        "# .index() => if present it will return starting index, not found then it will give error\n",
        "\n",
        "\n",
        "string.find('eaq') "
      ],
      "outputs": [
        {
          "output_type": "execute_result",
          "data": {
            "text/plain": [
              "-1"
            ]
          },
          "metadata": {},
          "execution_count": 108
        }
      ],
      "metadata": {
        "execution": {
          "iopub.status.busy": "2021-12-13T11:03:44.010507Z",
          "iopub.execute_input": "2021-12-13T11:03:44.010815Z",
          "iopub.status.idle": "2021-12-13T11:03:44.017299Z",
          "shell.execute_reply.started": "2021-12-13T11:03:44.010781Z",
          "shell.execute_reply": "2021-12-13T11:03:44.016185Z"
        },
        "trusted": true,
        "id": "tfFcaCXxrP4t",
        "colab": {
          "base_uri": "https://localhost:8080/"
        },
        "outputId": "5d5885c9-b0f8-41a8-e630-463d8eededf1"
      }
    },
    {
      "cell_type": "code",
      "execution_count": null,
      "source": [
        "string.index('eaq')"
      ],
      "outputs": [
        {
          "output_type": "error",
          "ename": "ValueError",
          "evalue": "ignored",
          "traceback": [
            "\u001b[0;31m---------------------------------------------------------------------------\u001b[0m",
            "\u001b[0;31mValueError\u001b[0m                                Traceback (most recent call last)",
            "\u001b[0;32m<ipython-input-109-d507e4bda74d>\u001b[0m in \u001b[0;36m<module>\u001b[0;34m()\u001b[0m\n\u001b[0;32m----> 1\u001b[0;31m \u001b[0mstring\u001b[0m\u001b[0;34m.\u001b[0m\u001b[0mindex\u001b[0m\u001b[0;34m(\u001b[0m\u001b[0;34m'eaq'\u001b[0m\u001b[0;34m)\u001b[0m\u001b[0;34m\u001b[0m\u001b[0;34m\u001b[0m\u001b[0m\n\u001b[0m",
            "\u001b[0;31mValueError\u001b[0m: substring not found"
          ]
        }
      ],
      "metadata": {
        "execution": {
          "iopub.status.busy": "2021-12-13T11:03:59.411717Z",
          "iopub.execute_input": "2021-12-13T11:03:59.412482Z",
          "iopub.status.idle": "2021-12-13T11:03:59.428379Z",
          "shell.execute_reply.started": "2021-12-13T11:03:59.412439Z",
          "shell.execute_reply": "2021-12-13T11:03:59.427526Z"
        },
        "trusted": true,
        "id": "tZd5IH_DrP4t",
        "colab": {
          "base_uri": "https://localhost:8080/",
          "height": 169
        },
        "outputId": "0d1bc82d-78a0-4769-841d-0ee18e65d59a"
      }
    },
    {
      "cell_type": "code",
      "execution_count": null,
      "source": [
        "string"
      ],
      "outputs": [
        {
          "output_type": "execute_result",
          "data": {
            "application/vnd.google.colaboratory.intrinsic+json": {
              "type": "string"
            },
            "text/plain": [
              "'We are creating next generation data science eco-system at CloudyML'"
            ]
          },
          "metadata": {},
          "execution_count": 110
        }
      ],
      "metadata": {
        "execution": {
          "iopub.status.busy": "2021-12-13T11:04:25.216906Z",
          "iopub.execute_input": "2021-12-13T11:04:25.2175Z",
          "iopub.status.idle": "2021-12-13T11:04:25.223138Z",
          "shell.execute_reply.started": "2021-12-13T11:04:25.217463Z",
          "shell.execute_reply": "2021-12-13T11:04:25.222063Z"
        },
        "trusted": true,
        "id": "foaVXpRQrP4t",
        "colab": {
          "base_uri": "https://localhost:8080/",
          "height": 36
        },
        "outputId": "96fcec6e-a634-40be-b0a5-bb350de87725"
      }
    },
    {
      "cell_type": "code",
      "execution_count": null,
      "source": [
        "### Checking whether string `startswith` or `endswith` a particular substring or not ###\n",
        "string.endswith('CloudyML')"
      ],
      "outputs": [
        {
          "output_type": "execute_result",
          "data": {
            "text/plain": [
              "True"
            ]
          },
          "metadata": {},
          "execution_count": 111
        }
      ],
      "metadata": {
        "execution": {
          "iopub.status.busy": "2021-12-13T11:04:48.605575Z",
          "iopub.execute_input": "2021-12-13T11:04:48.605999Z",
          "iopub.status.idle": "2021-12-13T11:04:48.611854Z",
          "shell.execute_reply.started": "2021-12-13T11:04:48.605962Z",
          "shell.execute_reply": "2021-12-13T11:04:48.611143Z"
        },
        "trusted": true,
        "id": "QK6TfpWyrP4t",
        "colab": {
          "base_uri": "https://localhost:8080/"
        },
        "outputId": "1b44a506-e8f7-47b0-9591-f9cdf68f10fd"
      }
    },
    {
      "cell_type": "code",
      "execution_count": null,
      "source": [
        "string.startswith('We')"
      ],
      "outputs": [
        {
          "output_type": "execute_result",
          "data": {
            "text/plain": [
              "True"
            ]
          },
          "metadata": {},
          "execution_count": 112
        }
      ],
      "metadata": {
        "execution": {
          "iopub.status.busy": "2021-12-13T11:05:06.531667Z",
          "iopub.execute_input": "2021-12-13T11:05:06.532097Z",
          "iopub.status.idle": "2021-12-13T11:05:06.53704Z",
          "shell.execute_reply.started": "2021-12-13T11:05:06.532065Z",
          "shell.execute_reply": "2021-12-13T11:05:06.536136Z"
        },
        "trusted": true,
        "id": "KEUqKWYqrP4t",
        "colab": {
          "base_uri": "https://localhost:8080/"
        },
        "outputId": "df00e2ab-882b-46cf-e93c-ae8dc711b339"
      }
    },
    {
      "cell_type": "code",
      "execution_count": null,
      "source": [
        "string"
      ],
      "outputs": [
        {
          "output_type": "execute_result",
          "data": {
            "application/vnd.google.colaboratory.intrinsic+json": {
              "type": "string"
            },
            "text/plain": [
              "'We are creating next generation data science eco-system at CloudyML'"
            ]
          },
          "metadata": {},
          "execution_count": 113
        }
      ],
      "metadata": {
        "execution": {
          "iopub.status.busy": "2021-12-13T11:05:27.880252Z",
          "iopub.execute_input": "2021-12-13T11:05:27.880521Z",
          "iopub.status.idle": "2021-12-13T11:05:27.88631Z",
          "shell.execute_reply.started": "2021-12-13T11:05:27.880493Z",
          "shell.execute_reply": "2021-12-13T11:05:27.885395Z"
        },
        "trusted": true,
        "id": "Rh26zLoUrP4t",
        "colab": {
          "base_uri": "https://localhost:8080/",
          "height": 36
        },
        "outputId": "27b0872b-5001-4b1f-a59d-ef8ed522dafb"
      }
    },
    {
      "cell_type": "code",
      "execution_count": null,
      "source": [
        "### Converting string to upper case ###\n",
        "string.upper()"
      ],
      "outputs": [
        {
          "output_type": "execute_result",
          "data": {
            "application/vnd.google.colaboratory.intrinsic+json": {
              "type": "string"
            },
            "text/plain": [
              "'WE ARE CREATING NEXT GENERATION DATA SCIENCE ECO-SYSTEM AT CLOUDYML'"
            ]
          },
          "metadata": {},
          "execution_count": 114
        }
      ],
      "metadata": {
        "execution": {
          "iopub.status.busy": "2021-12-13T11:05:29.694529Z",
          "iopub.execute_input": "2021-12-13T11:05:29.695055Z",
          "iopub.status.idle": "2021-12-13T11:05:29.700213Z",
          "shell.execute_reply.started": "2021-12-13T11:05:29.695023Z",
          "shell.execute_reply": "2021-12-13T11:05:29.699432Z"
        },
        "trusted": true,
        "id": "LpEf2Vi_rP4t",
        "colab": {
          "base_uri": "https://localhost:8080/",
          "height": 36
        },
        "outputId": "8dd6fdb0-0204-4787-9986-ab648d557869"
      }
    },
    {
      "cell_type": "code",
      "execution_count": null,
      "source": [
        "### Converting only first character of string to upper case ###\n",
        "string.capitalize()"
      ],
      "outputs": [
        {
          "output_type": "execute_result",
          "data": {
            "application/vnd.google.colaboratory.intrinsic+json": {
              "type": "string"
            },
            "text/plain": [
              "'We are creating next generation data science eco-system at cloudyml'"
            ]
          },
          "metadata": {},
          "execution_count": 115
        }
      ],
      "metadata": {
        "execution": {
          "iopub.status.busy": "2021-12-13T11:05:43.599994Z",
          "iopub.execute_input": "2021-12-13T11:05:43.600499Z",
          "iopub.status.idle": "2021-12-13T11:05:43.605902Z",
          "shell.execute_reply.started": "2021-12-13T11:05:43.600462Z",
          "shell.execute_reply": "2021-12-13T11:05:43.604859Z"
        },
        "trusted": true,
        "id": "C-lc1BM5rP4t",
        "colab": {
          "base_uri": "https://localhost:8080/",
          "height": 36
        },
        "outputId": "765c0b4b-77bb-4848-fcac-7ad3182bbd90"
      }
    },
    {
      "cell_type": "code",
      "execution_count": null,
      "source": [
        "string"
      ],
      "outputs": [
        {
          "output_type": "execute_result",
          "data": {
            "application/vnd.google.colaboratory.intrinsic+json": {
              "type": "string"
            },
            "text/plain": [
              "'We are creating next generation data science eco-system at CloudyML'"
            ]
          },
          "metadata": {},
          "execution_count": 116
        }
      ],
      "metadata": {
        "execution": {
          "iopub.status.busy": "2021-12-13T11:06:42.095694Z",
          "iopub.execute_input": "2021-12-13T11:06:42.096011Z",
          "iopub.status.idle": "2021-12-13T11:06:42.101516Z",
          "shell.execute_reply.started": "2021-12-13T11:06:42.095976Z",
          "shell.execute_reply": "2021-12-13T11:06:42.100946Z"
        },
        "trusted": true,
        "id": "nzVmwn0nrP4t",
        "colab": {
          "base_uri": "https://localhost:8080/",
          "height": 36
        },
        "outputId": "d3a95adb-6a1b-4244-d889-e0985625dcc8"
      }
    },
    {
      "cell_type": "code",
      "execution_count": null,
      "source": [
        "### Checking if string is in lower case or upper case ###\n",
        "string.islower()"
      ],
      "outputs": [
        {
          "output_type": "execute_result",
          "data": {
            "text/plain": [
              "False"
            ]
          },
          "metadata": {},
          "execution_count": 118
        }
      ],
      "metadata": {
        "execution": {
          "iopub.status.busy": "2021-12-13T11:06:19.800396Z",
          "iopub.execute_input": "2021-12-13T11:06:19.800912Z",
          "iopub.status.idle": "2021-12-13T11:06:19.806627Z",
          "shell.execute_reply.started": "2021-12-13T11:06:19.800858Z",
          "shell.execute_reply": "2021-12-13T11:06:19.805745Z"
        },
        "trusted": true,
        "id": "eUfso5gHrP4t",
        "colab": {
          "base_uri": "https://localhost:8080/"
        },
        "outputId": "de194186-959e-43b8-db24-db3202eb0428"
      }
    },
    {
      "cell_type": "code",
      "execution_count": null,
      "source": [
        "string.isupper()"
      ],
      "outputs": [
        {
          "output_type": "execute_result",
          "data": {
            "text/plain": [
              "False"
            ]
          },
          "metadata": {},
          "execution_count": 119
        }
      ],
      "metadata": {
        "execution": {
          "iopub.status.busy": "2021-12-13T11:07:00.135595Z",
          "iopub.execute_input": "2021-12-13T11:07:00.135958Z",
          "iopub.status.idle": "2021-12-13T11:07:00.141703Z",
          "shell.execute_reply.started": "2021-12-13T11:07:00.135922Z",
          "shell.execute_reply": "2021-12-13T11:07:00.140776Z"
        },
        "trusted": true,
        "id": "oQKoh8lZrP4t",
        "colab": {
          "base_uri": "https://localhost:8080/"
        },
        "outputId": "3a15e36a-1c7e-4edc-fbff-3349bf9b5f2a"
      }
    },
    {
      "cell_type": "code",
      "execution_count": null,
      "source": [
        "### Checking if string is digit, alpabetic, alpha-numeric ###\n",
        "\"1\".isnumeric()"
      ],
      "outputs": [
        {
          "output_type": "execute_result",
          "data": {
            "text/plain": [
              "True"
            ]
          },
          "metadata": {},
          "execution_count": 120
        }
      ],
      "metadata": {
        "execution": {
          "iopub.status.busy": "2021-12-13T11:07:14.639007Z",
          "iopub.execute_input": "2021-12-13T11:07:14.639468Z",
          "iopub.status.idle": "2021-12-13T11:07:14.645717Z",
          "shell.execute_reply.started": "2021-12-13T11:07:14.639422Z",
          "shell.execute_reply": "2021-12-13T11:07:14.644712Z"
        },
        "trusted": true,
        "id": "4KJ8oYacrP4t",
        "colab": {
          "base_uri": "https://localhost:8080/"
        },
        "outputId": "6e1f988e-461b-4118-d265-47ce828ce775"
      }
    },
    {
      "cell_type": "code",
      "execution_count": null,
      "source": [
        "\"1s\".isnumeric()"
      ],
      "outputs": [
        {
          "output_type": "execute_result",
          "data": {
            "text/plain": [
              "False"
            ]
          },
          "metadata": {},
          "execution_count": 122
        }
      ],
      "metadata": {
        "execution": {
          "iopub.status.busy": "2021-12-13T11:07:27.399606Z",
          "iopub.execute_input": "2021-12-13T11:07:27.40006Z",
          "iopub.status.idle": "2021-12-13T11:07:27.406609Z",
          "shell.execute_reply.started": "2021-12-13T11:07:27.400026Z",
          "shell.execute_reply": "2021-12-13T11:07:27.405918Z"
        },
        "trusted": true,
        "id": "MQf-h42zrP4u",
        "colab": {
          "base_uri": "https://localhost:8080/"
        },
        "outputId": "5f0b75b3-8541-4c40-a7f3-42b29654e9e0"
      }
    },
    {
      "cell_type": "code",
      "execution_count": null,
      "source": [
        "\"name\".isalpha()"
      ],
      "outputs": [
        {
          "output_type": "execute_result",
          "data": {
            "text/plain": [
              "True"
            ]
          },
          "metadata": {},
          "execution_count": 123
        }
      ],
      "metadata": {
        "execution": {
          "iopub.status.busy": "2021-12-13T11:07:35.332841Z",
          "iopub.execute_input": "2021-12-13T11:07:35.333175Z",
          "iopub.status.idle": "2021-12-13T11:07:35.33955Z",
          "shell.execute_reply.started": "2021-12-13T11:07:35.333132Z",
          "shell.execute_reply": "2021-12-13T11:07:35.338458Z"
        },
        "trusted": true,
        "id": "eDfyzQXRrP4u",
        "colab": {
          "base_uri": "https://localhost:8080/"
        },
        "outputId": "49817a6d-f96a-4db8-e5f1-aa9d160a62d5"
      }
    },
    {
      "cell_type": "code",
      "execution_count": null,
      "source": [
        "\"name777\".isalpha()"
      ],
      "outputs": [
        {
          "output_type": "execute_result",
          "data": {
            "text/plain": [
              "False"
            ]
          },
          "metadata": {},
          "execution_count": 124
        }
      ],
      "metadata": {
        "execution": {
          "iopub.status.busy": "2021-12-13T11:07:41.411144Z",
          "iopub.execute_input": "2021-12-13T11:07:41.412261Z",
          "iopub.status.idle": "2021-12-13T11:07:41.417409Z",
          "shell.execute_reply.started": "2021-12-13T11:07:41.412215Z",
          "shell.execute_reply": "2021-12-13T11:07:41.416764Z"
        },
        "trusted": true,
        "id": "mfQwti3VrP4u",
        "colab": {
          "base_uri": "https://localhost:8080/"
        },
        "outputId": "dd5ceab8-cfee-46bd-cf5e-b33fba516901"
      }
    },
    {
      "cell_type": "code",
      "execution_count": null,
      "source": [
        "\"name777\".isalnum()"
      ],
      "outputs": [
        {
          "output_type": "execute_result",
          "data": {
            "text/plain": [
              "True"
            ]
          },
          "metadata": {},
          "execution_count": 125
        }
      ],
      "metadata": {
        "execution": {
          "iopub.status.busy": "2021-12-13T11:07:53.77645Z",
          "iopub.execute_input": "2021-12-13T11:07:53.778573Z",
          "iopub.status.idle": "2021-12-13T11:07:53.785577Z",
          "shell.execute_reply.started": "2021-12-13T11:07:53.77853Z",
          "shell.execute_reply": "2021-12-13T11:07:53.784799Z"
        },
        "trusted": true,
        "id": "ib584RVBrP4u",
        "colab": {
          "base_uri": "https://localhost:8080/"
        },
        "outputId": "0e15c583-4438-46ae-e219-9d774e1b5f32"
      }
    },
    {
      "cell_type": "code",
      "execution_count": null,
      "source": [
        "string = 'Cloudy ML'\n",
        "string.isalpha()"
      ],
      "outputs": [
        {
          "output_type": "execute_result",
          "data": {
            "text/plain": [
              "False"
            ]
          },
          "metadata": {},
          "execution_count": 126
        }
      ],
      "metadata": {
        "execution": {
          "iopub.status.busy": "2021-12-13T11:08:16.522815Z",
          "iopub.execute_input": "2021-12-13T11:08:16.523252Z",
          "iopub.status.idle": "2021-12-13T11:08:16.528809Z",
          "shell.execute_reply.started": "2021-12-13T11:08:16.523221Z",
          "shell.execute_reply": "2021-12-13T11:08:16.527918Z"
        },
        "trusted": true,
        "id": "nYARRCJ7rP4u",
        "colab": {
          "base_uri": "https://localhost:8080/"
        },
        "outputId": "893652c9-031b-4c88-fa91-f27e687df1b9"
      }
    },
    {
      "cell_type": "code",
      "execution_count": null,
      "source": [
        "string = 'CloudyML'\n",
        "string.isalpha()"
      ],
      "outputs": [
        {
          "output_type": "execute_result",
          "data": {
            "text/plain": [
              "True"
            ]
          },
          "metadata": {},
          "execution_count": 127
        }
      ],
      "metadata": {
        "execution": {
          "iopub.status.busy": "2021-12-13T11:08:23.656846Z",
          "iopub.execute_input": "2021-12-13T11:08:23.657281Z",
          "iopub.status.idle": "2021-12-13T11:08:23.662296Z",
          "shell.execute_reply.started": "2021-12-13T11:08:23.657249Z",
          "shell.execute_reply": "2021-12-13T11:08:23.661419Z"
        },
        "trusted": true,
        "id": "YsjZDgA8rP4u",
        "colab": {
          "base_uri": "https://localhost:8080/"
        },
        "outputId": "6b889f9b-aa0f-4a9a-fc0e-4c212fff3927"
      }
    },
    {
      "cell_type": "code",
      "execution_count": null,
      "source": [
        "str_ = \"C++ is easy to learn\"\n",
        "str_"
      ],
      "outputs": [
        {
          "output_type": "execute_result",
          "data": {
            "application/vnd.google.colaboratory.intrinsic+json": {
              "type": "string"
            },
            "text/plain": [
              "'C++ is easy to learn'"
            ]
          },
          "metadata": {},
          "execution_count": 128
        }
      ],
      "metadata": {
        "execution": {
          "iopub.status.busy": "2021-12-13T11:08:59.302982Z",
          "iopub.execute_input": "2021-12-13T11:08:59.303427Z",
          "iopub.status.idle": "2021-12-13T11:08:59.310259Z",
          "shell.execute_reply.started": "2021-12-13T11:08:59.303392Z",
          "shell.execute_reply": "2021-12-13T11:08:59.309168Z"
        },
        "trusted": true,
        "id": "SGBdMJeurP4u",
        "colab": {
          "base_uri": "https://localhost:8080/",
          "height": 36
        },
        "outputId": "86b59c6f-7c4a-4a5d-c83a-401ac3d4fb02"
      }
    },
    {
      "cell_type": "code",
      "execution_count": null,
      "source": [
        "### Replacing substrings ###\n",
        "str_.replace('C++', 'Python')"
      ],
      "outputs": [
        {
          "output_type": "execute_result",
          "data": {
            "application/vnd.google.colaboratory.intrinsic+json": {
              "type": "string"
            },
            "text/plain": [
              "'Python is easy to learn'"
            ]
          },
          "metadata": {},
          "execution_count": 129
        }
      ],
      "metadata": {
        "execution": {
          "iopub.status.busy": "2021-12-13T11:09:12.005323Z",
          "iopub.execute_input": "2021-12-13T11:09:12.005822Z",
          "iopub.status.idle": "2021-12-13T11:09:12.012082Z",
          "shell.execute_reply.started": "2021-12-13T11:09:12.005782Z",
          "shell.execute_reply": "2021-12-13T11:09:12.011148Z"
        },
        "trusted": true,
        "id": "o3IMBWfqrP4u",
        "colab": {
          "base_uri": "https://localhost:8080/",
          "height": 36
        },
        "outputId": "689bafb5-6ca2-451f-b1c5-e4fdcc88b3b8"
      }
    },
    {
      "cell_type": "code",
      "execution_count": null,
      "source": [
        "### using Split function ###\n",
        "'Python is easy to learn'.split()"
      ],
      "outputs": [
        {
          "output_type": "execute_result",
          "data": {
            "text/plain": [
              "['Python', 'is', 'easy', 'to', 'learn']"
            ]
          },
          "metadata": {},
          "execution_count": 130
        }
      ],
      "metadata": {
        "execution": {
          "iopub.status.busy": "2021-12-13T11:09:37.127294Z",
          "iopub.execute_input": "2021-12-13T11:09:37.127736Z",
          "iopub.status.idle": "2021-12-13T11:09:37.133848Z",
          "shell.execute_reply.started": "2021-12-13T11:09:37.127695Z",
          "shell.execute_reply": "2021-12-13T11:09:37.133093Z"
        },
        "trusted": true,
        "id": "himKDrvcrP4u",
        "colab": {
          "base_uri": "https://localhost:8080/"
        },
        "outputId": "8a61f014-505f-439e-e738-eb0d8e9d8f39"
      }
    },
    {
      "cell_type": "code",
      "execution_count": null,
      "source": [
        "'Python is easy to learn'.split('easy')"
      ],
      "outputs": [
        {
          "output_type": "execute_result",
          "data": {
            "text/plain": [
              "['Python is ', ' to learn']"
            ]
          },
          "metadata": {},
          "execution_count": 131
        }
      ],
      "metadata": {
        "execution": {
          "iopub.status.busy": "2021-12-13T11:09:45.284668Z",
          "iopub.execute_input": "2021-12-13T11:09:45.285163Z",
          "iopub.status.idle": "2021-12-13T11:09:45.291474Z",
          "shell.execute_reply.started": "2021-12-13T11:09:45.285128Z",
          "shell.execute_reply": "2021-12-13T11:09:45.290548Z"
        },
        "trusted": true,
        "id": "cCDcaUzHrP4u",
        "colab": {
          "base_uri": "https://localhost:8080/"
        },
        "outputId": "7bfe17e5-a152-4f5e-b360-4b7ee24471ce"
      }
    },
    {
      "cell_type": "markdown",
      "source": [
        "<a id='14'></a><center> <h3 style=\"background-color:orange; color:white\" ><br>Functions<br></h3>"
      ],
      "metadata": {
        "id": "1RMWovf4rP4u"
      }
    },
    {
      "cell_type": "code",
      "execution_count": null,
      "source": [
        "# Funntion-1\n",
        "YouTubeVideo('https://www.youtube.com/watch?v=cjtAbp-Ux-w&list=PLsR_0x6BuM-HJZT6Xzj-088N4hN3KsDME&index=15',width=600,height=300)"
      ],
      "outputs": [
        {
          "output_type": "execute_result",
          "data": {
            "text/html": [
              "\n",
              "        <iframe\n",
              "            width=\"600\"\n",
              "            height=\"300\"\n",
              "            src=\"https://www.youtube.com/embed/https://www.youtube.com/watch?v=cjtAbp-Ux-w&list=PLsR_0x6BuM-HJZT6Xzj-088N4hN3KsDME&index=15\"\n",
              "            frameborder=\"0\"\n",
              "            allowfullscreen\n",
              "        ></iframe>\n",
              "        "
            ],
            "text/plain": [
              "<IPython.lib.display.YouTubeVideo at 0x7fb876a333d0>"
            ]
          },
          "metadata": {},
          "execution_count": 240
        }
      ],
      "metadata": {
        "execution": {
          "iopub.status.busy": "2021-12-15T10:25:33.595436Z",
          "iopub.execute_input": "2021-12-15T10:25:33.595715Z",
          "iopub.status.idle": "2021-12-15T10:25:33.690963Z",
          "shell.execute_reply.started": "2021-12-15T10:25:33.595687Z",
          "shell.execute_reply": "2021-12-15T10:25:33.690082Z"
        },
        "trusted": true,
        "id": "XRyddGCYrP4u",
        "colab": {
          "base_uri": "https://localhost:8080/",
          "height": 321
        },
        "outputId": "35f01650-6687-4dc4-8f62-69b364f0dd56"
      }
    },
    {
      "cell_type": "code",
      "execution_count": null,
      "source": [
        "# Funntion-2\n",
        "YouTubeVideo('https://www.youtube.com/watch?v=cjtAbp-Ux-w&list=PLsR_0x6BuM-HJZT6Xzj-088N4hN3KsDME&index=16',width=600,height=300)"
      ],
      "outputs": [
        {
          "output_type": "execute_result",
          "data": {
            "text/html": [
              "\n",
              "        <iframe\n",
              "            width=\"600\"\n",
              "            height=\"300\"\n",
              "            src=\"https://www.youtube.com/embed/https://www.youtube.com/watch?v=cjtAbp-Ux-w&list=PLsR_0x6BuM-HJZT6Xzj-088N4hN3KsDME&index=16\"\n",
              "            frameborder=\"0\"\n",
              "            allowfullscreen\n",
              "        ></iframe>\n",
              "        "
            ],
            "text/plain": [
              "<IPython.lib.display.YouTubeVideo at 0x7fb876a57a50>"
            ]
          },
          "metadata": {},
          "execution_count": 241
        }
      ],
      "metadata": {
        "execution": {
          "iopub.status.busy": "2021-12-15T10:25:53.84842Z",
          "iopub.execute_input": "2021-12-15T10:25:53.848738Z",
          "iopub.status.idle": "2021-12-15T10:25:53.938206Z",
          "shell.execute_reply.started": "2021-12-15T10:25:53.848707Z",
          "shell.execute_reply": "2021-12-15T10:25:53.937387Z"
        },
        "trusted": true,
        "id": "ScPHLQ7-rP4v",
        "colab": {
          "base_uri": "https://localhost:8080/",
          "height": 321
        },
        "outputId": "0d024f2f-be5f-4ba4-b7fe-747ed53044ea"
      }
    },
    {
      "cell_type": "markdown",
      "source": [
        "* `Purpose of functions is to group some particular lines of code that needs to be executed multiple times`\n",
        "    * keyword `def` introduces a function definition and it must be followed by function name\n",
        "* Function is Reusable piece of code\n",
        "* We create function to solve specific problem"
      ],
      "metadata": {
        "id": "7w6F0GNErP4v"
      }
    },
    {
      "cell_type": "code",
      "execution_count": null,
      "source": [
        "\"\"\"\n",
        "def function_name():\n",
        "    stetement(s)\n",
        "\"\"\""
      ],
      "outputs": [
        {
          "output_type": "execute_result",
          "data": {
            "application/vnd.google.colaboratory.intrinsic+json": {
              "type": "string"
            },
            "text/plain": [
              "'\\ndef function_name():\\n    stetement(s)\\n'"
            ]
          },
          "metadata": {},
          "execution_count": 132
        }
      ],
      "metadata": {
        "execution": {
          "iopub.status.busy": "2021-12-14T10:18:36.096956Z",
          "iopub.execute_input": "2021-12-14T10:18:36.097257Z",
          "iopub.status.idle": "2021-12-14T10:18:36.102958Z",
          "shell.execute_reply.started": "2021-12-14T10:18:36.097225Z",
          "shell.execute_reply": "2021-12-14T10:18:36.102283Z"
        },
        "trusted": true,
        "id": "4jqkxfNdrP4z",
        "colab": {
          "base_uri": "https://localhost:8080/",
          "height": 36
        },
        "outputId": "6a074ecb-48b3-4c51-ea02-3b886176fe1f"
      }
    },
    {
      "cell_type": "code",
      "execution_count": null,
      "source": [
        "# define a function\n",
        "greet = \"\"\"\n",
        "    This is to represent docstring, \n",
        "    optionsl documentation is a good \n",
        "    programming practice\n",
        "    \"\"\"\n",
        "def welcome_message(name):\n",
        "    print(greet)\n",
        " "
      ],
      "outputs": [],
      "metadata": {
        "execution": {
          "iopub.status.busy": "2021-12-14T10:41:22.778217Z",
          "iopub.execute_input": "2021-12-14T10:41:22.778938Z",
          "iopub.status.idle": "2021-12-14T10:41:22.783295Z",
          "shell.execute_reply.started": "2021-12-14T10:41:22.778903Z",
          "shell.execute_reply": "2021-12-14T10:41:22.782386Z"
        },
        "trusted": true,
        "id": "L8OCfOyPrP4z"
      }
    },
    {
      "cell_type": "code",
      "execution_count": null,
      "source": [
        "# call a function with Mukesh and input\n",
        "def welcome_to_course(student_name,course):\n",
        "  print(f'{student_name} welcome to {course}')\n",
        "\n",
        "welcome_to_course('Mukesh', 'Python Function')"
      ],
      "outputs": [
        {
          "output_type": "stream",
          "name": "stdout",
          "text": [
            "Mukesh welcome to Python Function\n"
          ]
        }
      ],
      "metadata": {
        "execution": {
          "iopub.status.busy": "2021-12-14T10:41:28.89826Z",
          "iopub.execute_input": "2021-12-14T10:41:28.898798Z",
          "iopub.status.idle": "2021-12-14T10:41:28.902844Z",
          "shell.execute_reply.started": "2021-12-14T10:41:28.898763Z",
          "shell.execute_reply": "2021-12-14T10:41:28.902223Z"
        },
        "trusted": true,
        "id": "asBr2ewErP4z",
        "colab": {
          "base_uri": "https://localhost:8080/"
        },
        "outputId": "403cbc41-e3b3-4769-b1bb-b753c19e04c2"
      }
    },
    {
      "cell_type": "code",
      "execution_count": null,
      "source": [
        "#obseve the output\n",
        "print(welcome_message.__doc__)"
      ],
      "outputs": [
        {
          "output_type": "stream",
          "name": "stdout",
          "text": [
            "None\n"
          ]
        }
      ],
      "metadata": {
        "execution": {
          "iopub.status.busy": "2021-12-14T10:42:10.098273Z",
          "iopub.execute_input": "2021-12-14T10:42:10.098566Z",
          "iopub.status.idle": "2021-12-14T10:42:10.103854Z",
          "shell.execute_reply.started": "2021-12-14T10:42:10.098536Z",
          "shell.execute_reply": "2021-12-14T10:42:10.103098Z"
        },
        "trusted": true,
        "id": "EaWRKsE6rP4z",
        "colab": {
          "base_uri": "https://localhost:8080/"
        },
        "outputId": "cf815fd9-46f7-4d22-dc5b-4af6e2203cfc"
      }
    },
    {
      "cell_type": "code",
      "execution_count": null,
      "source": [
        "#obseve the output\n",
        "print(print.__doc__)"
      ],
      "outputs": [
        {
          "output_type": "stream",
          "name": "stdout",
          "text": [
            "print(value, ..., sep=' ', end='\\n', file=sys.stdout, flush=False)\n",
            "\n",
            "Prints the values to a stream, or to sys.stdout by default.\n",
            "Optional keyword arguments:\n",
            "file:  a file-like object (stream); defaults to the current sys.stdout.\n",
            "sep:   string inserted between values, default a space.\n",
            "end:   string appended after the last value, default a newline.\n",
            "flush: whether to forcibly flush the stream.\n"
          ]
        }
      ],
      "metadata": {
        "execution": {
          "iopub.status.busy": "2021-12-14T10:43:46.233989Z",
          "iopub.execute_input": "2021-12-14T10:43:46.234449Z",
          "iopub.status.idle": "2021-12-14T10:43:46.238798Z",
          "shell.execute_reply.started": "2021-12-14T10:43:46.234401Z",
          "shell.execute_reply": "2021-12-14T10:43:46.237995Z"
        },
        "trusted": true,
        "id": "Ht8XXDzfrP4z",
        "colab": {
          "base_uri": "https://localhost:8080/"
        },
        "outputId": "666b0f75-b76a-482a-f069-3d9c85e030a9"
      }
    },
    {
      "cell_type": "markdown",
      "source": [
        "* `def` Keyword marking start of function\n",
        "* `function name` to uniquely identify function\n",
        "    * `function naming` follows same `rules of writing identifiers`\n",
        "* `parameters`(arguments) to pass values to a function => totally optional\n",
        "* `()` paranthesis\n",
        "* `colon (:)` start of function\n",
        "* `documentation string`(docstring) describe's what function does => totally optional\n",
        "* `return statement` returns a value from function => totally optional\n",
        "* inside colon is `function definition` it should always be present before function call or get an error"
      ],
      "metadata": {
        "id": "YKfp2X2irP4z"
      }
    },
    {
      "cell_type": "markdown",
      "source": [
        "# `Type of Functions`\n",
        "|Built-in|User-Defined|Lambda Functions|Recursion Function\n",
        "|----|----|---|---|\n",
        "|`print()` | `add_two_number(defined by user i.e. you)`|``|``|\n",
        "|`range()` | ``|``|``|\n",
        "| `append()`|`` |``|``|\n",
        "| `extend()`|`` |``|``|"
      ],
      "metadata": {
        "id": "hpC8Bl5arP4z"
      }
    },
    {
      "cell_type": "code",
      "execution_count": null,
      "source": [
        "### using print ###\n",
        "# function to add two number which are as 3 and 4\n",
        "def two_number_addition(num1, num2):\n",
        "    total = num1+num2\n",
        "    print(total)\n",
        "  \n",
        " # in total variable store adition of 3 + 4\n",
        "  # print total variable \n",
        "two_number_addition(3,4)"
      ],
      "outputs": [
        {
          "output_type": "stream",
          "name": "stdout",
          "text": [
            "7\n"
          ]
        }
      ],
      "metadata": {
        "execution": {
          "iopub.status.busy": "2021-12-14T10:46:10.133283Z",
          "iopub.execute_input": "2021-12-14T10:46:10.134296Z",
          "iopub.status.idle": "2021-12-14T10:46:10.138594Z",
          "shell.execute_reply.started": "2021-12-14T10:46:10.134236Z",
          "shell.execute_reply": "2021-12-14T10:46:10.137987Z"
        },
        "trusted": true,
        "id": "TbWL-gm-rP4z",
        "colab": {
          "base_uri": "https://localhost:8080/"
        },
        "outputId": "bce73e39-fc7d-419c-e853-74b6617e0bd1"
      }
    },
    {
      "cell_type": "code",
      "execution_count": null,
      "source": [
        "### using return ###\n",
        "def two_number_addition_with_return():\n",
        "    total = 3 + 4\n",
        "    return (total) #returning value of total\n",
        "\n",
        "\n",
        "# observe output"
      ],
      "outputs": [],
      "metadata": {
        "execution": {
          "iopub.status.busy": "2021-12-14T10:46:07.38924Z",
          "iopub.execute_input": "2021-12-14T10:46:07.389537Z",
          "iopub.status.idle": "2021-12-14T10:46:07.394356Z",
          "shell.execute_reply.started": "2021-12-14T10:46:07.389508Z",
          "shell.execute_reply": "2021-12-14T10:46:07.393771Z"
        },
        "trusted": true,
        "id": "4a3G3_cDrP40"
      }
    },
    {
      "cell_type": "code",
      "execution_count": null,
      "source": [
        "print_output = two_number_addition(3,4)"
      ],
      "outputs": [
        {
          "output_type": "stream",
          "name": "stdout",
          "text": [
            "7\n"
          ]
        }
      ],
      "metadata": {
        "execution": {
          "iopub.status.busy": "2021-12-14T10:46:33.509633Z",
          "iopub.execute_input": "2021-12-14T10:46:33.509914Z",
          "iopub.status.idle": "2021-12-14T10:46:33.515225Z",
          "shell.execute_reply.started": "2021-12-14T10:46:33.509886Z",
          "shell.execute_reply": "2021-12-14T10:46:33.514366Z"
        },
        "trusted": true,
        "id": "hrVwYigOrP40",
        "colab": {
          "base_uri": "https://localhost:8080/"
        },
        "outputId": "e5a89bd1-a04b-4e64-8c54-874d3acc0b69"
      }
    },
    {
      "cell_type": "code",
      "execution_count": null,
      "source": [
        "# see this variable cannot store above value as value was not saved\n",
        "print_output"
      ],
      "outputs": [],
      "metadata": {
        "execution": {
          "iopub.status.busy": "2021-12-14T10:46:48.458961Z",
          "iopub.execute_input": "2021-12-14T10:46:48.459242Z",
          "iopub.status.idle": "2021-12-14T10:46:48.463459Z",
          "shell.execute_reply.started": "2021-12-14T10:46:48.459212Z",
          "shell.execute_reply": "2021-12-14T10:46:48.462708Z"
        },
        "trusted": true,
        "id": "1I6kqwXcrP40"
      }
    },
    {
      "cell_type": "markdown",
      "source": [
        "See above variable cannot store above value as return was not used in fucntion, so every calculation is being done inside the function two_number_addition() and if you come out of function thouse value do not exist, to solv this problem we use `return`, after using return we can store output of function for other use in our program"
      ],
      "metadata": {
        "id": "SHvIgCE6rP40"
      }
    },
    {
      "cell_type": "code",
      "execution_count": null,
      "source": [
        "return_output = two_number_addition_with_return()"
      ],
      "outputs": [],
      "metadata": {
        "execution": {
          "iopub.status.busy": "2021-12-14T10:47:38.817248Z",
          "iopub.execute_input": "2021-12-14T10:47:38.817507Z",
          "iopub.status.idle": "2021-12-14T10:47:38.82225Z",
          "shell.execute_reply.started": "2021-12-14T10:47:38.817481Z",
          "shell.execute_reply": "2021-12-14T10:47:38.821109Z"
        },
        "trusted": true,
        "id": "-fBWnS8-rP40"
      }
    },
    {
      "cell_type": "code",
      "execution_count": null,
      "source": [
        "# as return was used in two_number_addition_with_return() function so we can take out value \n",
        "return_output"
      ],
      "outputs": [
        {
          "output_type": "execute_result",
          "data": {
            "text/plain": [
              "7"
            ]
          },
          "metadata": {},
          "execution_count": 144
        }
      ],
      "metadata": {
        "execution": {
          "iopub.status.busy": "2021-12-14T10:47:43.959551Z",
          "iopub.execute_input": "2021-12-14T10:47:43.959868Z",
          "iopub.status.idle": "2021-12-14T10:47:43.966393Z",
          "shell.execute_reply.started": "2021-12-14T10:47:43.959839Z",
          "shell.execute_reply": "2021-12-14T10:47:43.965352Z"
        },
        "trusted": true,
        "id": "LbZu9vBprP40",
        "colab": {
          "base_uri": "https://localhost:8080/"
        },
        "outputId": "9aa8ddf4-87d3-4a61-d619-1bb62bd02ba8"
      }
    },
    {
      "cell_type": "markdown",
      "source": [
        "Here in above code value to funtion is being returned and we are saving that returned value to a variable return_output for maybee any other further use. "
      ],
      "metadata": {
        "id": "qy_mlgUorP40"
      }
    },
    {
      "cell_type": "markdown",
      "source": [
        "# **`Passing Parameters to function`**"
      ],
      "metadata": {
        "id": "06kIfiPsrP40"
      }
    },
    {
      "cell_type": "code",
      "execution_count": null,
      "source": [
        "# defining a function\n",
        "def welcome_message(name):\n",
        "    return 'Welcome to Python Funcions!! ' + name\n",
        "    \n",
        "# calling function in python with name Akash\n",
        "welcome_message('Akash')"
      ],
      "outputs": [
        {
          "output_type": "execute_result",
          "data": {
            "application/vnd.google.colaboratory.intrinsic+json": {
              "type": "string"
            },
            "text/plain": [
              "'Welcome to Python Funcions!! Akash'"
            ]
          },
          "metadata": {},
          "execution_count": 145
        }
      ],
      "metadata": {
        "execution": {
          "iopub.status.busy": "2021-12-11T10:14:43.448272Z",
          "iopub.execute_input": "2021-12-11T10:14:43.448529Z",
          "iopub.status.idle": "2021-12-11T10:14:43.453987Z",
          "shell.execute_reply.started": "2021-12-11T10:14:43.448498Z",
          "shell.execute_reply": "2021-12-11T10:14:43.453125Z"
        },
        "trusted": true,
        "id": "5AnZuBkLrP40",
        "colab": {
          "base_uri": "https://localhost:8080/",
          "height": 36
        },
        "outputId": "a7b5dcb7-143e-43e9-cb63-610a0d6bfc35"
      }
    },
    {
      "cell_type": "code",
      "execution_count": null,
      "source": [
        "# reusing above function (see it as a login windo of a website)\n",
        "welcome_message('Krishna')"
      ],
      "outputs": [
        {
          "output_type": "execute_result",
          "data": {
            "application/vnd.google.colaboratory.intrinsic+json": {
              "type": "string"
            },
            "text/plain": [
              "'Welcome to Python Funcions!! Krishna'"
            ]
          },
          "metadata": {},
          "execution_count": 146
        }
      ],
      "metadata": {
        "execution": {
          "iopub.status.busy": "2021-12-11T10:15:25.291359Z",
          "iopub.execute_input": "2021-12-11T10:15:25.291791Z",
          "iopub.status.idle": "2021-12-11T10:15:25.297224Z",
          "shell.execute_reply.started": "2021-12-11T10:15:25.291745Z",
          "shell.execute_reply": "2021-12-11T10:15:25.296648Z"
        },
        "trusted": true,
        "id": "QWOG3EOBrP40",
        "colab": {
          "base_uri": "https://localhost:8080/",
          "height": 36
        },
        "outputId": "1e78b33f-0778-4740-b6f1-124e8f87829c"
      }
    },
    {
      "cell_type": "markdown",
      "source": [
        "# ***`Passing Default Parameter value to function`*** <br>\n",
        "Works in case you dont provide any value to the required parameter\n",
        "* This is good practice to provide default value to a parameter\n",
        "    * As it reduces many errors"
      ],
      "metadata": {
        "id": "TI0CMNN3rP41"
      }
    },
    {
      "cell_type": "code",
      "execution_count": null,
      "source": [
        "def welcome_message(name='Learner'):\n",
        "    return 'Welcome to Python Funcions!! ' + name\n",
        "    \n",
        "# calling function in python\n",
        "welcome_message('Akash')"
      ],
      "outputs": [
        {
          "output_type": "execute_result",
          "data": {
            "application/vnd.google.colaboratory.intrinsic+json": {
              "type": "string"
            },
            "text/plain": [
              "'Welcome to Python Funcions!! Akash'"
            ]
          },
          "metadata": {},
          "execution_count": 147
        }
      ],
      "metadata": {
        "execution": {
          "iopub.status.busy": "2021-12-11T10:18:28.862638Z",
          "iopub.execute_input": "2021-12-11T10:18:28.863195Z",
          "iopub.status.idle": "2021-12-11T10:18:28.869209Z",
          "shell.execute_reply.started": "2021-12-11T10:18:28.863152Z",
          "shell.execute_reply": "2021-12-11T10:18:28.868493Z"
        },
        "trusted": true,
        "id": "nSw9ggNCrP41",
        "colab": {
          "base_uri": "https://localhost:8080/",
          "height": 36
        },
        "outputId": "8194796a-5ef4-4eb1-f627-969bf70780c6"
      }
    },
    {
      "cell_type": "code",
      "execution_count": null,
      "source": [
        "# not providing parameter value, now it will take default one i.e. Learner\n",
        "welcome_message()"
      ],
      "outputs": [
        {
          "output_type": "execute_result",
          "data": {
            "application/vnd.google.colaboratory.intrinsic+json": {
              "type": "string"
            },
            "text/plain": [
              "'Welcome to Python Funcions!! Learner'"
            ]
          },
          "metadata": {},
          "execution_count": 148
        }
      ],
      "metadata": {
        "execution": {
          "iopub.status.busy": "2021-12-11T10:19:14.333861Z",
          "iopub.execute_input": "2021-12-11T10:19:14.334172Z",
          "iopub.status.idle": "2021-12-11T10:19:14.34035Z",
          "shell.execute_reply.started": "2021-12-11T10:19:14.334138Z",
          "shell.execute_reply": "2021-12-11T10:19:14.339723Z"
        },
        "trusted": true,
        "id": "JPOpKKy5rP41",
        "colab": {
          "base_uri": "https://localhost:8080/",
          "height": 36
        },
        "outputId": "bf0f076d-3dcf-470d-86ac-22ce6345fbfa"
      }
    },
    {
      "cell_type": "markdown",
      "source": [
        "# ***`Positional Arguments`*** \n",
        "Most arguments are identified by their position in function call\n",
        "* Say `print(x,y)` will give different results from `print(y,x)`\n",
        "\n",
        "What ever sequence is given while defining a function values must be taken in that sequence only\n",
        "* Otherwise use argument name **`(keyword arguments)`** to take values\n",
        "* We first define `positional argument` and then `keyword arguments`\n"
      ],
      "metadata": {
        "id": "JzTJaFZirP41"
      }
    },
    {
      "cell_type": "code",
      "execution_count": null,
      "source": [
        "#### Observe every output from here onwords #####\n",
        "\n",
        "def substraction_function(small_number,large_number):\n",
        "    difference = large_number - small_number\n",
        "    return difference"
      ],
      "outputs": [],
      "metadata": {
        "execution": {
          "iopub.status.busy": "2021-12-11T10:24:26.570183Z",
          "iopub.execute_input": "2021-12-11T10:24:26.570469Z",
          "iopub.status.idle": "2021-12-11T10:24:26.574882Z",
          "shell.execute_reply.started": "2021-12-11T10:24:26.570434Z",
          "shell.execute_reply": "2021-12-11T10:24:26.574072Z"
        },
        "trusted": true,
        "id": "LpgDIWcYrP41"
      }
    },
    {
      "cell_type": "code",
      "execution_count": null,
      "source": [
        "# passing arguments in right order\n",
        "substraction_function(7,84)"
      ],
      "outputs": [
        {
          "output_type": "execute_result",
          "data": {
            "text/plain": [
              "77"
            ]
          },
          "metadata": {},
          "execution_count": 150
        }
      ],
      "metadata": {
        "execution": {
          "iopub.status.busy": "2021-12-11T10:26:55.88516Z",
          "iopub.execute_input": "2021-12-11T10:26:55.88569Z",
          "iopub.status.idle": "2021-12-11T10:26:55.890293Z",
          "shell.execute_reply.started": "2021-12-11T10:26:55.885652Z",
          "shell.execute_reply": "2021-12-11T10:26:55.889589Z"
        },
        "trusted": true,
        "id": "AX6Ku1j9rP41",
        "colab": {
          "base_uri": "https://localhost:8080/"
        },
        "outputId": "ad16b8a2-902d-47a6-9249-91835dc5314c"
      }
    },
    {
      "cell_type": "code",
      "execution_count": null,
      "source": [
        "# passing arguments in wrong order (produces negative result)\n",
        "substraction_function(84,7)"
      ],
      "outputs": [
        {
          "output_type": "execute_result",
          "data": {
            "text/plain": [
              "-77"
            ]
          },
          "metadata": {},
          "execution_count": 151
        }
      ],
      "metadata": {
        "execution": {
          "iopub.status.busy": "2021-12-11T10:27:15.452368Z",
          "iopub.execute_input": "2021-12-11T10:27:15.453063Z",
          "iopub.status.idle": "2021-12-11T10:27:15.458033Z",
          "shell.execute_reply.started": "2021-12-11T10:27:15.453022Z",
          "shell.execute_reply": "2021-12-11T10:27:15.457478Z"
        },
        "trusted": true,
        "id": "9Vzlfk4frP41",
        "colab": {
          "base_uri": "https://localhost:8080/"
        },
        "outputId": "e57eb33e-e5de-4bde-b24f-690556dddea5"
      }
    },
    {
      "cell_type": "code",
      "execution_count": null,
      "source": [
        "# always pass arguments using there name(keyword arguments) then order does not matter\n",
        "substraction_function(large_number=84,small_number=7)"
      ],
      "outputs": [
        {
          "output_type": "execute_result",
          "data": {
            "text/plain": [
              "77"
            ]
          },
          "metadata": {},
          "execution_count": 153
        }
      ],
      "metadata": {
        "execution": {
          "iopub.status.busy": "2021-12-11T10:27:51.963803Z",
          "iopub.execute_input": "2021-12-11T10:27:51.964287Z",
          "iopub.status.idle": "2021-12-11T10:27:51.969195Z",
          "shell.execute_reply.started": "2021-12-11T10:27:51.964251Z",
          "shell.execute_reply": "2021-12-11T10:27:51.968619Z"
        },
        "trusted": true,
        "id": "zSWT96GurP41",
        "colab": {
          "base_uri": "https://localhost:8080/"
        },
        "outputId": "61ee9c49-7a60-4cc5-ebae-621a3bde26c0"
      }
    },
    {
      "cell_type": "code",
      "execution_count": null,
      "source": [
        "# defining positional argument and then keyword arguments => valid in python\n",
        "substraction_function(7,large_number=84)"
      ],
      "outputs": [
        {
          "output_type": "execute_result",
          "data": {
            "text/plain": [
              "77"
            ]
          },
          "metadata": {},
          "execution_count": 154
        }
      ],
      "metadata": {
        "execution": {
          "iopub.status.busy": "2021-12-11T10:39:36.00778Z",
          "iopub.execute_input": "2021-12-11T10:39:36.008176Z",
          "iopub.status.idle": "2021-12-11T10:39:36.01423Z",
          "shell.execute_reply.started": "2021-12-11T10:39:36.008129Z",
          "shell.execute_reply": "2021-12-11T10:39:36.013192Z"
        },
        "trusted": true,
        "id": "fkwtjVwGrP41",
        "colab": {
          "base_uri": "https://localhost:8080/"
        },
        "outputId": "e8d07602-d7bf-48be-8392-953bfc329b39"
      }
    },
    {
      "cell_type": "code",
      "execution_count": null,
      "source": [
        "# defining keyword arguments and then positional argument => not vaid in python\n",
        "substraction_function(large_number=84,7)"
      ],
      "outputs": [
        {
          "output_type": "error",
          "ename": "SyntaxError",
          "evalue": "ignored",
          "traceback": [
            "\u001b[0;36m  File \u001b[0;32m\"<ipython-input-155-731395e41054>\"\u001b[0;36m, line \u001b[0;32m2\u001b[0m\n\u001b[0;31m    substraction_function(large_number=84,7)\u001b[0m\n\u001b[0m                                         ^\u001b[0m\n\u001b[0;31mSyntaxError\u001b[0m\u001b[0;31m:\u001b[0m positional argument follows keyword argument\n"
          ]
        }
      ],
      "metadata": {
        "execution": {
          "iopub.status.busy": "2021-12-11T10:40:23.884999Z",
          "iopub.execute_input": "2021-12-11T10:40:23.885814Z",
          "iopub.status.idle": "2021-12-11T10:40:23.891881Z",
          "shell.execute_reply.started": "2021-12-11T10:40:23.885757Z",
          "shell.execute_reply": "2021-12-11T10:40:23.890735Z"
        },
        "trusted": true,
        "id": "Or_Jf_6KrP41",
        "colab": {
          "base_uri": "https://localhost:8080/",
          "height": 134
        },
        "outputId": "0c462021-fd83-44c2-e157-321d791926f8"
      }
    },
    {
      "cell_type": "markdown",
      "source": [
        "# ***`Variable Length Arguments`***\n",
        "Used when we need more flexibility while defining functions like we don't know in advance fixed number of arguments\n",
        "* Python allows us to make function calls with variable length arguments\n",
        "* In argument use an **(*)** astrick sign before argument"
      ],
      "metadata": {
        "id": "Y5UrdLZlrP41"
      }
    },
    {
      "cell_type": "code",
      "execution_count": null,
      "source": [
        "##### Observe code from here ######\n",
        "\n",
        "# defining a randome function using (*args)\n",
        "def arguments_function(*args):  # => used for positional arguments will variable lengths\n",
        "    for i in args:\n",
        "        print(i)"
      ],
      "outputs": [],
      "metadata": {
        "execution": {
          "iopub.status.busy": "2021-12-11T10:54:19.849737Z",
          "iopub.execute_input": "2021-12-11T10:54:19.850114Z",
          "iopub.status.idle": "2021-12-11T10:54:19.853423Z",
          "shell.execute_reply.started": "2021-12-11T10:54:19.850085Z",
          "shell.execute_reply": "2021-12-11T10:54:19.852892Z"
        },
        "trusted": true,
        "id": "6-Sm8XtorP42"
      }
    },
    {
      "cell_type": "code",
      "execution_count": null,
      "source": [
        "# passing n-number of positional arguments to fucntion as we are using (*args)\n",
        "arguments_function(1,2,3,4,5)"
      ],
      "outputs": [
        {
          "output_type": "stream",
          "name": "stdout",
          "text": [
            "1\n",
            "2\n",
            "3\n",
            "4\n",
            "5\n"
          ]
        }
      ],
      "metadata": {
        "execution": {
          "iopub.status.busy": "2021-12-11T10:54:20.094285Z",
          "iopub.execute_input": "2021-12-11T10:54:20.094689Z",
          "iopub.status.idle": "2021-12-11T10:54:20.099439Z",
          "shell.execute_reply.started": "2021-12-11T10:54:20.094658Z",
          "shell.execute_reply": "2021-12-11T10:54:20.098625Z"
        },
        "trusted": true,
        "id": "aGg6U4SCrP42",
        "colab": {
          "base_uri": "https://localhost:8080/"
        },
        "outputId": "6059cbfa-65ce-488c-d33c-c93906060888"
      }
    },
    {
      "cell_type": "markdown",
      "source": [
        "* Everything given to function if it is using *args, arguments will be saved as `tuples`"
      ],
      "metadata": {
        "id": "yKxx6-FIrP42"
      }
    },
    {
      "cell_type": "code",
      "execution_count": null,
      "source": [
        "#### Observe every output from here onwords #####\n",
        "# defining a randome function using (**kwargs)\n",
        "\n",
        "def keyword_arguments_function(**kwargs): # => used for keyword arguments will variable lengths\n",
        "    for key,value in kwargs.items():\n",
        "        print(key,value)"
      ],
      "outputs": [],
      "metadata": {
        "execution": {
          "iopub.status.busy": "2021-12-11T10:52:56.975291Z",
          "iopub.execute_input": "2021-12-11T10:52:56.976171Z",
          "iopub.status.idle": "2021-12-11T10:52:56.980446Z",
          "shell.execute_reply.started": "2021-12-11T10:52:56.976118Z",
          "shell.execute_reply": "2021-12-11T10:52:56.979797Z"
        },
        "trusted": true,
        "id": "qE5Zn3ZnrP42"
      }
    },
    {
      "cell_type": "code",
      "execution_count": null,
      "source": [
        "# passing n-number of keyword arguments to fucntion as we are using (*args)\n",
        "keyword_arguments_function(a=1,b=2,c=3,d=4,e=5)"
      ],
      "outputs": [
        {
          "output_type": "stream",
          "name": "stdout",
          "text": [
            "a 1\n",
            "b 2\n",
            "c 3\n",
            "d 4\n",
            "e 5\n"
          ]
        }
      ],
      "metadata": {
        "execution": {
          "iopub.status.busy": "2021-12-11T10:54:10.896266Z",
          "iopub.execute_input": "2021-12-11T10:54:10.89681Z",
          "iopub.status.idle": "2021-12-11T10:54:10.902543Z",
          "shell.execute_reply.started": "2021-12-11T10:54:10.896756Z",
          "shell.execute_reply": "2021-12-11T10:54:10.90162Z"
        },
        "trusted": true,
        "id": "m-EYKFbvrP42",
        "colab": {
          "base_uri": "https://localhost:8080/"
        },
        "outputId": "988583a8-8c00-475a-e021-a0df50cfffc4"
      }
    },
    {
      "cell_type": "markdown",
      "source": [
        "* Everything given to function if it is using *kwargs, arguments will be saved as `dict`"
      ],
      "metadata": {
        "id": "ACo85WuXrP42"
      }
    },
    {
      "cell_type": "markdown",
      "source": [
        "# ***`Scope of Variables`*** means that part of program where we can access particular variable\n",
        "* `Local Variable` => variables defined inside a function and can be only accessed from inside of that particular function\n",
        "* `Global Variable` => variables defined outside a function and can be accessed throughout program\n",
        "\n",
        "Let's define a global variable, `\"global_variable\"` outside function\n",
        "* We will return its value using a function `\"randome_function\"` and see that we would be able to access its value using that function also"
      ],
      "metadata": {
        "id": "_NUdf1OsrP42"
      }
    },
    {
      "cell_type": "code",
      "execution_count": null,
      "source": [
        "#### Observe every output from here onwords #####\n",
        "# defining a global variable\n",
        "global_variable = 'variable outside of function'\n",
        "\n",
        "# defining function\n",
        "def random_function():\n",
        "    # accessing variable which is outside of this function\n",
        "    return global_variable"
      ],
      "outputs": [],
      "metadata": {
        "execution": {
          "iopub.status.busy": "2021-12-11T11:00:38.758474Z",
          "iopub.execute_input": "2021-12-11T11:00:38.758741Z",
          "iopub.status.idle": "2021-12-11T11:00:38.762182Z",
          "shell.execute_reply.started": "2021-12-11T11:00:38.758716Z",
          "shell.execute_reply": "2021-12-11T11:00:38.761618Z"
        },
        "trusted": true,
        "id": "e0BDQ-ccrP42"
      }
    },
    {
      "cell_type": "code",
      "execution_count": null,
      "source": [
        "random_function()"
      ],
      "outputs": [
        {
          "output_type": "execute_result",
          "data": {
            "application/vnd.google.colaboratory.intrinsic+json": {
              "type": "string"
            },
            "text/plain": [
              "'variable outside of function'"
            ]
          },
          "metadata": {},
          "execution_count": 161
        }
      ],
      "metadata": {
        "execution": {
          "iopub.status.busy": "2021-12-11T11:00:58.33313Z",
          "iopub.execute_input": "2021-12-11T11:00:58.33357Z",
          "iopub.status.idle": "2021-12-11T11:00:58.337597Z",
          "shell.execute_reply.started": "2021-12-11T11:00:58.333513Z",
          "shell.execute_reply": "2021-12-11T11:00:58.337038Z"
        },
        "trusted": true,
        "id": "2hYmUr5BrP42",
        "colab": {
          "base_uri": "https://localhost:8080/",
          "height": 36
        },
        "outputId": "cc49545b-0113-4b88-8d3c-70e369b93c34"
      }
    },
    {
      "cell_type": "markdown",
      "source": [
        "`See we can acess the data of golbal variable from Inside of the Function`\n",
        "\n",
        "# **`=> Let's see what will happen if we try to change value of global variable from Inside of the Function`**"
      ],
      "metadata": {
        "id": "w7AB55isrP42"
      }
    },
    {
      "cell_type": "code",
      "execution_count": null,
      "source": [
        "#### Observe every output from here onwords #####\n",
        "# defining a global variable\n",
        "global_variable = 'variable outside of function'\n",
        "\n",
        "# defining function\n",
        "def random_function():\n",
        "    # changing value of global variable from inside of the function\n",
        "    global_variable = 'changing variable outside of function from inside of function'\n",
        "    # accessing variable which is outside of this function\n",
        "    return global_variable"
      ],
      "outputs": [],
      "metadata": {
        "execution": {
          "iopub.status.busy": "2021-12-11T11:08:27.656836Z",
          "iopub.execute_input": "2021-12-11T11:08:27.657115Z",
          "iopub.status.idle": "2021-12-11T11:08:27.661916Z",
          "shell.execute_reply.started": "2021-12-11T11:08:27.657086Z",
          "shell.execute_reply": "2021-12-11T11:08:27.661004Z"
        },
        "trusted": true,
        "id": "1cOFox6FrP43"
      }
    },
    {
      "cell_type": "code",
      "execution_count": null,
      "source": [
        "print(random_function())\n",
        "print(global_variable)"
      ],
      "outputs": [
        {
          "output_type": "stream",
          "name": "stdout",
          "text": [
            "changing variable outside of function from inside of function\n",
            "variable outside of function\n"
          ]
        }
      ],
      "metadata": {
        "execution": {
          "iopub.status.busy": "2021-12-11T11:32:36.296167Z",
          "iopub.execute_input": "2021-12-11T11:32:36.29647Z",
          "iopub.status.idle": "2021-12-11T11:32:36.300653Z",
          "shell.execute_reply.started": "2021-12-11T11:32:36.29644Z",
          "shell.execute_reply": "2021-12-11T11:32:36.30002Z"
        },
        "trusted": true,
        "id": "8ScwL6OUrP43",
        "colab": {
          "base_uri": "https://localhost:8080/"
        },
        "outputId": "3ea2fd98-1113-4b1e-9191-3bd679a59fa9"
      }
    },
    {
      "cell_type": "markdown",
      "source": [
        "It does not mean that we can change global variable from inside the function but this is somthing different story going on here:\n",
        "* function named as random_function()'s, global_variable have limited scope which is only of inside its function, that is why when we print function it returns the local variable value not the changed global variable value \n",
        "* variable defined locally is taking precedence over variable defined globally as there name are same\n",
        "\n",
        "The only shortcomming with local variable is it stayes inside the function, the minute you come out of function you dont get the updated value <br>\n",
        "So in above code we are not abble to change global variable locally, but we have made a new variable which is only working inside of the function. <br>\n",
        "Approach we shoudl follow is given bellow:"
      ],
      "metadata": {
        "id": "ePWwQg-ErP43"
      }
    },
    {
      "cell_type": "markdown",
      "source": [
        "# **`Updating value of global variable from inside of any user_defined function using  Global Keyword`** <br>\n",
        "`global` keyword tells program that there is no need to make a new variable locally but the variable we are using locally is a global variable, which has benn defined"
      ],
      "metadata": {
        "id": "ySj5UsYdrP43"
      }
    },
    {
      "cell_type": "code",
      "execution_count": null,
      "source": [
        "#### Observe every output from here onwords #####\n",
        "# defining a global variable\n",
        "global_variable = 'variable outside of function'\n",
        "\n",
        "# defining function\n",
        "def random_function():\n",
        "    # telling function which variables is/are global\n",
        "    global global_variable\n",
        "    # changing value of global variable from inside of the function\n",
        "    global_variable = 'changing variable outside of function from inside of function'\n",
        "    # accessing variable which is outside of this function\n",
        "    return global_variable"
      ],
      "outputs": [],
      "metadata": {
        "execution": {
          "iopub.status.busy": "2021-12-11T11:44:42.576243Z",
          "iopub.execute_input": "2021-12-11T11:44:42.576513Z",
          "iopub.status.idle": "2021-12-11T11:44:42.58185Z",
          "shell.execute_reply.started": "2021-12-11T11:44:42.57648Z",
          "shell.execute_reply": "2021-12-11T11:44:42.580668Z"
        },
        "trusted": true,
        "id": "mGro89w7rP43"
      }
    },
    {
      "cell_type": "code",
      "execution_count": null,
      "source": [
        "print(random_function())\n",
        "print(global_variable)"
      ],
      "outputs": [
        {
          "output_type": "stream",
          "name": "stdout",
          "text": [
            "changing variable outside of function from inside of function\n",
            "changing variable outside of function from inside of function\n"
          ]
        }
      ],
      "metadata": {
        "execution": {
          "iopub.status.busy": "2021-12-11T11:44:50.853448Z",
          "iopub.execute_input": "2021-12-11T11:44:50.853721Z",
          "iopub.status.idle": "2021-12-11T11:44:50.858786Z",
          "shell.execute_reply.started": "2021-12-11T11:44:50.853693Z",
          "shell.execute_reply": "2021-12-11T11:44:50.857754Z"
        },
        "trusted": true,
        "id": "kE3EOtIfrP43",
        "colab": {
          "base_uri": "https://localhost:8080/"
        },
        "outputId": "9b411fd0-1e17-42df-8a06-ddbdb68317a2"
      }
    },
    {
      "cell_type": "markdown",
      "source": [
        "<a id='15'></a><center> <h3 style=\"background-color:orange; color:white\" ><br>Lambda Expressions<br></h3>"
      ],
      "metadata": {
        "id": "rcFgfqTwrP43"
      }
    },
    {
      "cell_type": "markdown",
      "source": [
        "`Lambda function can have any number of arguments but only one expression, which is evaluated and returned`\n",
        "* `Lambda Functions` are syntactically restricted to a single expression\n",
        "* More efficient than function when task of  function is small\n",
        "* Do not use Lambda functions when task is complex\n",
        "* It works best when you have to call a function more of times but execution task is simple\n",
        "\n",
        "`Write a regular function instead of a lambda when function is to be used multiple times`\n",
        "* `Key`= Lambda must be used once\n",
        "* Lambdas are supposed to be used for just once and thus there is no reason to assign a lambda to a variable.\n",
        "* Major reason for avoiding assigning a lambda to a variable is for debugging/maintainability purposes, especially in a production/teamwork environment\n",
        "\n",
        "\n",
        "* Use of function is good choice when assignment of variable is compulsary \n",
        "* While debugging if any error accurs it will point out to the function creating error\n",
        "* In case of lambda function it will throw `lambda error` and ther can be many lambda in out code which makes is difficult to debug error "
      ],
      "metadata": {
        "id": "WEq89rm1rP43"
      }
    },
    {
      "cell_type": "code",
      "execution_count": null,
      "source": [
        "# define a function that adds 100 to number that is passed as an argument\n",
        "add_100 = lambda x:x+100\n",
        "add_100(1)"
      ],
      "outputs": [
        {
          "output_type": "execute_result",
          "data": {
            "text/plain": [
              "101"
            ]
          },
          "metadata": {},
          "execution_count": 166
        }
      ],
      "metadata": {
        "execution": {
          "iopub.status.busy": "2021-12-11T12:00:22.684948Z",
          "iopub.execute_input": "2021-12-11T12:00:22.685235Z",
          "iopub.status.idle": "2021-12-11T12:00:22.690396Z",
          "shell.execute_reply.started": "2021-12-11T12:00:22.685204Z",
          "shell.execute_reply": "2021-12-11T12:00:22.689805Z"
        },
        "trusted": true,
        "id": "VXxZTJZirP43",
        "colab": {
          "base_uri": "https://localhost:8080/"
        },
        "outputId": "5f7c893d-5d6c-4ac0-c2e9-e901343a32d0"
      }
    },
    {
      "cell_type": "code",
      "execution_count": null,
      "source": [
        "# lambda function named as increaseBy_100 that adds 100 to number that is passed as an argument\n",
        "increaseBy_100 = lambda x:x+100\n",
        "\n",
        "# print value for increaseBy_100(1), using f string\n",
        "print(f'Value of 1: {increaseBy_100(1)}')\n",
        "# print value for increaseBy_100(22), using f string\n",
        "print(f'Value of 1: {increaseBy_100(22)}')"
      ],
      "outputs": [
        {
          "output_type": "stream",
          "name": "stdout",
          "text": [
            "Value of 1: 101\n",
            "Value of 1: 122\n"
          ]
        }
      ],
      "metadata": {
        "execution": {
          "iopub.status.busy": "2021-12-11T12:05:30.288288Z",
          "iopub.execute_input": "2021-12-11T12:05:30.28859Z",
          "iopub.status.idle": "2021-12-11T12:05:30.294691Z",
          "shell.execute_reply.started": "2021-12-11T12:05:30.288548Z",
          "shell.execute_reply": "2021-12-11T12:05:30.293705Z"
        },
        "trusted": true,
        "id": "U5_RDfAirP43",
        "colab": {
          "base_uri": "https://localhost:8080/"
        },
        "outputId": "eab8316b-7e2e-4b54-a1a3-9904573fb2c5"
      }
    },
    {
      "cell_type": "markdown",
      "source": [
        "# **`Lambda function with two arguments`**"
      ],
      "metadata": {
        "id": "2nDrVMrorP44"
      }
    },
    {
      "cell_type": "code",
      "execution_count": null,
      "source": [
        "# write a lambda fucntion named as subtract_two_number which can take any two number as input and subtract thouse two number\n",
        "subtract_two_number = lambda x,y:x-y\n",
        "a,b = int(input('a: ')),int(input('b: '))\n",
        "subtract_two_number(a,b)"
      ],
      "outputs": [
        {
          "name": "stdout",
          "output_type": "stream",
          "text": [
            "a: 3\n",
            "b: 4\n"
          ]
        },
        {
          "output_type": "execute_result",
          "data": {
            "text/plain": [
              "-1"
            ]
          },
          "metadata": {},
          "execution_count": 170
        }
      ],
      "metadata": {
        "execution": {
          "iopub.status.busy": "2021-12-11T12:03:26.870187Z",
          "iopub.execute_input": "2021-12-11T12:03:26.870492Z",
          "iopub.status.idle": "2021-12-11T12:03:26.876301Z",
          "shell.execute_reply.started": "2021-12-11T12:03:26.870463Z",
          "shell.execute_reply": "2021-12-11T12:03:26.8755Z"
        },
        "trusted": true,
        "id": "3hb3McqDrP44",
        "colab": {
          "base_uri": "https://localhost:8080/"
        },
        "outputId": "167d16e2-9f98-45b9-c7dd-af9f78a583cb"
      }
    },
    {
      "cell_type": "markdown",
      "source": [
        "# ***`filter() function`*** takes in a function and a list as arguments <br>\n",
        "`It filters out all elements of a sequence, for which function returns True`"
      ],
      "metadata": {
        "id": "i5Q_GCA1rP44"
      }
    },
    {
      "cell_type": "code",
      "execution_count": null,
      "source": [
        "#### Observe every output from here onwords #####\n",
        "# function to check if given number is even \n",
        "def divisible_two(x):\n",
        "    if x%2 == 0:\n",
        "        return True #odd \n",
        "    else:\n",
        "        return False #not odd\n",
        "    \n",
        "# given list to filter for odd number\n",
        "check_list = [4,8,0,11,456,777,999,777]"
      ],
      "outputs": [],
      "metadata": {
        "execution": {
          "iopub.status.busy": "2021-12-11T12:16:47.959669Z",
          "iopub.execute_input": "2021-12-11T12:16:47.959928Z",
          "iopub.status.idle": "2021-12-11T12:16:47.964627Z",
          "shell.execute_reply.started": "2021-12-11T12:16:47.959902Z",
          "shell.execute_reply": "2021-12-11T12:16:47.963957Z"
        },
        "trusted": true,
        "id": "s8waRBHerP44"
      }
    },
    {
      "cell_type": "code",
      "execution_count": null,
      "source": [
        "#### Observe every output from here onwords #####\n",
        "odd_number_filtered_list = list(filter(divisible_two,check_list))\n",
        "odd_number_filtered_list"
      ],
      "outputs": [
        {
          "output_type": "execute_result",
          "data": {
            "text/plain": [
              "[4, 8, 0, 456]"
            ]
          },
          "metadata": {},
          "execution_count": 172
        }
      ],
      "metadata": {
        "execution": {
          "iopub.status.busy": "2021-12-11T12:16:49.025265Z",
          "iopub.execute_input": "2021-12-11T12:16:49.025528Z",
          "iopub.status.idle": "2021-12-11T12:16:49.032015Z",
          "shell.execute_reply.started": "2021-12-11T12:16:49.025499Z",
          "shell.execute_reply": "2021-12-11T12:16:49.030928Z"
        },
        "trusted": true,
        "id": "OSf2QniarP44",
        "colab": {
          "base_uri": "https://localhost:8080/"
        },
        "outputId": "6f924405-ab6f-4444-9d91-506d970dd75b"
      }
    },
    {
      "cell_type": "code",
      "execution_count": null,
      "source": [
        "# writing lambda function for above code (we need not to define function sepratly)\n",
        "odd_number_filtered_list_using_lambda = list(filter(lambda x:(x%2==0),check_list))\n",
        "odd_number_filtered_list_using_lambda"
      ],
      "outputs": [
        {
          "output_type": "execute_result",
          "data": {
            "text/plain": [
              "[4, 8, 0, 456]"
            ]
          },
          "metadata": {},
          "execution_count": 173
        }
      ],
      "metadata": {
        "execution": {
          "iopub.status.busy": "2021-12-11T12:16:49.72659Z",
          "iopub.execute_input": "2021-12-11T12:16:49.726825Z",
          "iopub.status.idle": "2021-12-11T12:16:49.731947Z",
          "shell.execute_reply.started": "2021-12-11T12:16:49.7268Z",
          "shell.execute_reply": "2021-12-11T12:16:49.731354Z"
        },
        "trusted": true,
        "id": "0kta1jnvrP44",
        "colab": {
          "base_uri": "https://localhost:8080/"
        },
        "outputId": "6459cbd4-2f2e-47b3-a05a-956a738b1eb4"
      }
    },
    {
      "cell_type": "markdown",
      "source": [
        "How easy lamda can make our task now understand\n"
      ],
      "metadata": {
        "id": "mx2z069urP44"
      }
    },
    {
      "cell_type": "markdown",
      "source": [
        "# ***`map() function`*** takes in a function and a list as argument\n",
        "* Function is called with a lambda function and a list\n",
        "* A new list is returned which contains all lambda modified items returned by that function for each item"
      ],
      "metadata": {
        "id": "Vv_hbB-arP45"
      }
    },
    {
      "cell_type": "code",
      "execution_count": null,
      "source": [
        "#### Observe every output from here onwords #####\n",
        "check_list = [4,8,0,11,456,777,999,777]\n",
        "\n",
        "#increse every element of check_list by 4\n",
        "mapped_check_list = list(map(lambda x:x*4,check_list ))\n",
        "mapped_check_list"
      ],
      "outputs": [
        {
          "output_type": "execute_result",
          "data": {
            "text/plain": [
              "[16, 32, 0, 44, 1824, 3108, 3996, 3108]"
            ]
          },
          "metadata": {},
          "execution_count": 174
        }
      ],
      "metadata": {
        "execution": {
          "iopub.status.busy": "2021-12-11T12:21:37.036314Z",
          "iopub.execute_input": "2021-12-11T12:21:37.036641Z",
          "iopub.status.idle": "2021-12-11T12:21:37.043569Z",
          "shell.execute_reply.started": "2021-12-11T12:21:37.036606Z",
          "shell.execute_reply": "2021-12-11T12:21:37.042921Z"
        },
        "trusted": true,
        "id": "pTnlcYcirP45",
        "colab": {
          "base_uri": "https://localhost:8080/"
        },
        "outputId": "8c00c3f1-a045-4d30-90d9-78a9612544ec"
      }
    },
    {
      "cell_type": "code",
      "execution_count": null,
      "source": [
        "#### Observe every output from here onwords #####\n",
        "check_list = ['north','see','king','himalayas','east']\n",
        "# capatilize first letter of each  word in the original list\n",
        "mapped_check_list = list(map(lambda x: x[0].upper()+x[1:],check_list)) \n",
        "mapped_check_list"
      ],
      "outputs": [
        {
          "output_type": "execute_result",
          "data": {
            "text/plain": [
              "['North', 'See', 'King', 'Himalayas', 'East']"
            ]
          },
          "metadata": {},
          "execution_count": 175
        }
      ],
      "metadata": {
        "execution": {
          "iopub.status.busy": "2021-12-11T12:23:30.070668Z",
          "iopub.execute_input": "2021-12-11T12:23:30.07096Z",
          "iopub.status.idle": "2021-12-11T12:23:30.078246Z",
          "shell.execute_reply.started": "2021-12-11T12:23:30.07093Z",
          "shell.execute_reply": "2021-12-11T12:23:30.077438Z"
        },
        "trusted": true,
        "id": "UjkGFcOurP45",
        "colab": {
          "base_uri": "https://localhost:8080/"
        },
        "outputId": "976eafba-63be-4502-8ac9-6b863dc2227e"
      }
    },
    {
      "cell_type": "markdown",
      "source": [
        "# **`reduce() Function`** takes in a function and a list as argument\n",
        "* The function is called with a lambda function and a list\n",
        "* A new reduced result is returned\n",
        "* This performs a repetitive operation over pairs of list\n",
        "\n",
        "`Reduce Function will always take two parameters`"
      ],
      "metadata": {
        "id": "DNAZjcndrP45"
      }
    },
    {
      "cell_type": "code",
      "execution_count": null,
      "source": [
        "#### Observe every output from here onwords #####\n",
        "#importing reduce using functools\n",
        "from functools import reduce\n",
        "\n",
        "\n",
        "check_list = [4,8,0,11,456,777,999,777]\n",
        "#using reduce function to find sum of numbers in check_list\n",
        "sum_of_list = reduce((lambda x, y : x + y),check_list) \n",
        "sum_of_list"
      ],
      "outputs": [
        {
          "output_type": "execute_result",
          "data": {
            "text/plain": [
              "3032"
            ]
          },
          "metadata": {},
          "execution_count": 176
        }
      ],
      "metadata": {
        "execution": {
          "iopub.status.busy": "2021-12-11T12:26:20.94267Z",
          "iopub.execute_input": "2021-12-11T12:26:20.942969Z",
          "iopub.status.idle": "2021-12-11T12:26:20.949205Z",
          "shell.execute_reply.started": "2021-12-11T12:26:20.942936Z",
          "shell.execute_reply": "2021-12-11T12:26:20.948607Z"
        },
        "trusted": true,
        "id": "C2cKnRQRrP45",
        "colab": {
          "base_uri": "https://localhost:8080/"
        },
        "outputId": "5225e4c1-e93e-4c5a-e38c-9d2d9379c8a6"
      }
    },
    {
      "cell_type": "code",
      "execution_count": null,
      "source": [
        "#### Observe every output from here onwords #####\n",
        "check_list = [4,8,0,11,456,777,999,777]\n",
        "#using reduce function to find largest number in check_list\n",
        "largest_number = reduce((lambda x, y: x if (x > y) else y ),check_list) \n",
        "largest_number"
      ],
      "outputs": [
        {
          "output_type": "execute_result",
          "data": {
            "text/plain": [
              "999"
            ]
          },
          "metadata": {},
          "execution_count": 177
        }
      ],
      "metadata": {
        "execution": {
          "iopub.status.busy": "2021-12-11T12:27:05.947988Z",
          "iopub.execute_input": "2021-12-11T12:27:05.948578Z",
          "iopub.status.idle": "2021-12-11T12:27:05.954115Z",
          "shell.execute_reply.started": "2021-12-11T12:27:05.948527Z",
          "shell.execute_reply": "2021-12-11T12:27:05.953544Z"
        },
        "trusted": true,
        "id": "AxB-1xvYrP45",
        "colab": {
          "base_uri": "https://localhost:8080/"
        },
        "outputId": "409fb58a-66a6-4531-bb56-9663517531e8"
      }
    },
    {
      "cell_type": "markdown",
      "source": [
        "<a id='16'></a><center> <h3 style=\"background-color:orange; color:white\" ><br>Comprehensions<br></h3>"
      ],
      "metadata": {
        "id": "hZ15dPrLrP45"
      }
    },
    {
      "cell_type": "code",
      "execution_count": null,
      "source": [
        "# Comprehensions\n",
        "YouTubeVideo('https://www.youtube.com/watch?v=Cs8wG--s4z4&list=PLsR_0x6BuM-HJZT6Xzj-088N4hN3KsDME&index=17',width=600,height=300)"
      ],
      "outputs": [
        {
          "output_type": "execute_result",
          "data": {
            "text/html": [
              "\n",
              "        <iframe\n",
              "            width=\"600\"\n",
              "            height=\"300\"\n",
              "            src=\"https://www.youtube.com/embed/https://www.youtube.com/watch?v=Cs8wG--s4z4&list=PLsR_0x6BuM-HJZT6Xzj-088N4hN3KsDME&index=17\"\n",
              "            frameborder=\"0\"\n",
              "            allowfullscreen\n",
              "        ></iframe>\n",
              "        "
            ],
            "text/plain": [
              "<IPython.lib.display.YouTubeVideo at 0x7fb876a841d0>"
            ]
          },
          "metadata": {},
          "execution_count": 283
        }
      ],
      "metadata": {
        "id": "ldOWRpFurP45",
        "colab": {
          "base_uri": "https://localhost:8080/",
          "height": 321
        },
        "outputId": "6ddbdb97-d0ab-4279-cf99-564fe9e34ef8"
      }
    },
    {
      "cell_type": "markdown",
      "source": [
        "## **BELOW CODE IS GIVEN FOR YOU TO OBSERVE HOW COMPREHENSIONS WORK.**"
      ],
      "metadata": {
        "id": "Q50giP1JSRht"
      }
    },
    {
      "cell_type": "markdown",
      "source": [
        "# **`Type of Comprehensions`**:\n",
        "1. `List Comprehension`\n",
        "2. `Set Comprehension` \n",
        "3. `Dict Comprehension`"
      ],
      "metadata": {
        "execution": {
          "iopub.status.busy": "2021-12-11T12:40:13.513306Z",
          "iopub.execute_input": "2021-12-11T12:40:13.51405Z",
          "iopub.status.idle": "2021-12-11T12:40:13.516965Z",
          "shell.execute_reply.started": "2021-12-11T12:40:13.51401Z",
          "shell.execute_reply": "2021-12-11T12:40:13.516398Z"
        },
        "id": "kPw6N8X_rP45"
      }
    },
    {
      "cell_type": "markdown",
      "source": [
        "# 1. List Comprehension\n",
        "`Syntex:`\n",
        "\n",
        "**[expression for item in iterable]**\n",
        "\n",
        "\n",
        "**Expanded Form**<br>\n",
        "for item in iterable: <br>\n",
        "....expression"
      ],
      "metadata": {
        "id": "BmN5iDJyrP45"
      }
    },
    {
      "cell_type": "markdown",
      "source": [
        "**`Converet all element of below tuple in upper case and change datatype into list`**"
      ],
      "metadata": {
        "id": "DF7cNPLerP45"
      }
    },
    {
      "cell_type": "code",
      "execution_count": null,
      "source": [
        "animals = ('bird', 'snake', 'dog', 'turtle', 'cat', 'hamster')\n",
        "type(animals)"
      ],
      "outputs": [
        {
          "output_type": "execute_result",
          "data": {
            "text/plain": [
              "tuple"
            ]
          },
          "metadata": {},
          "execution_count": 178
        }
      ],
      "metadata": {
        "execution": {
          "iopub.status.busy": "2021-12-11T12:44:52.831783Z",
          "iopub.execute_input": "2021-12-11T12:44:52.832229Z",
          "iopub.status.idle": "2021-12-11T12:44:52.839423Z",
          "shell.execute_reply.started": "2021-12-11T12:44:52.832175Z",
          "shell.execute_reply": "2021-12-11T12:44:52.838508Z"
        },
        "trusted": true,
        "id": "v9pd74p_rP45",
        "colab": {
          "base_uri": "https://localhost:8080/"
        },
        "outputId": "8c9a14b8-732b-40e4-fbb9-61150816cb2d"
      }
    },
    {
      "cell_type": "code",
      "execution_count": null,
      "source": [
        "# good => way using list comprehension\n",
        "\n",
        "[x.upper()for x in animals]"
      ],
      "outputs": [
        {
          "output_type": "execute_result",
          "data": {
            "text/plain": [
              "['BIRD', 'SNAKE', 'DOG', 'TURTLE', 'CAT', 'HAMSTER']"
            ]
          },
          "metadata": {},
          "execution_count": 179
        }
      ],
      "metadata": {
        "execution": {
          "iopub.status.busy": "2021-12-11T12:46:10.788116Z",
          "iopub.execute_input": "2021-12-11T12:46:10.788709Z",
          "iopub.status.idle": "2021-12-11T12:46:10.795836Z",
          "shell.execute_reply.started": "2021-12-11T12:46:10.788656Z",
          "shell.execute_reply": "2021-12-11T12:46:10.794758Z"
        },
        "trusted": true,
        "id": "_8Vxa7vbrP46",
        "colab": {
          "base_uri": "https://localhost:8080/"
        },
        "outputId": "c9c85f4e-952b-4c11-aa6c-b1966453ea15"
      }
    },
    {
      "cell_type": "code",
      "execution_count": null,
      "source": [
        "# Not Good way => using list comprehension\n",
        "animalss = []\n",
        "for x in animals:\n",
        "    animalss.append(x.upper())\n",
        "animalss"
      ],
      "outputs": [
        {
          "output_type": "execute_result",
          "data": {
            "text/plain": [
              "['BIRD', 'SNAKE', 'DOG', 'TURTLE', 'CAT', 'HAMSTER']"
            ]
          },
          "metadata": {},
          "execution_count": 180
        }
      ],
      "metadata": {
        "execution": {
          "iopub.status.busy": "2021-12-11T12:47:45.24633Z",
          "iopub.execute_input": "2021-12-11T12:47:45.247201Z",
          "iopub.status.idle": "2021-12-11T12:47:45.255041Z",
          "shell.execute_reply.started": "2021-12-11T12:47:45.247159Z",
          "shell.execute_reply": "2021-12-11T12:47:45.254315Z"
        },
        "trusted": true,
        "id": "cWkErTE-rP46",
        "colab": {
          "base_uri": "https://localhost:8080/"
        },
        "outputId": "d70f5593-fc9d-414a-809e-67b43dc929f8"
      }
    },
    {
      "cell_type": "markdown",
      "source": [
        "# List Comprehension for Conditional statement or For Filtering</b>\n",
        "\n",
        "`Syntex:`\n",
        "\n",
        "**[expression `for` item in iterable `if` some_condition]**\n",
        "\n",
        "`Expended Form:`\n",
        "\n",
        "`for` item in iterable:\n",
        "<br>___    `if` some_condition:\n",
        "<br>________        expression "
      ],
      "metadata": {
        "id": "qODAY6rvrP46"
      }
    },
    {
      "cell_type": "code",
      "execution_count": null,
      "source": [
        "#find the prime number and square them\n",
        "\n",
        "primes = [2,3,4,5,6,8,7,9]"
      ],
      "outputs": [],
      "metadata": {
        "execution": {
          "iopub.status.busy": "2021-12-11T12:49:28.836631Z",
          "iopub.execute_input": "2021-12-11T12:49:28.837034Z",
          "iopub.status.idle": "2021-12-11T12:49:28.841127Z",
          "shell.execute_reply.started": "2021-12-11T12:49:28.837003Z",
          "shell.execute_reply": "2021-12-11T12:49:28.840118Z"
        },
        "trusted": true,
        "id": "aiz3zeKzrP46"
      }
    },
    {
      "cell_type": "code",
      "execution_count": null,
      "source": [
        "# good\n",
        "[x*x for x in primes if x%2 == 0]"
      ],
      "outputs": [
        {
          "output_type": "execute_result",
          "data": {
            "text/plain": [
              "[4, 16, 36, 64]"
            ]
          },
          "metadata": {},
          "execution_count": 182
        }
      ],
      "metadata": {
        "execution": {
          "iopub.status.busy": "2021-12-11T12:49:34.511204Z",
          "iopub.execute_input": "2021-12-11T12:49:34.511914Z",
          "iopub.status.idle": "2021-12-11T12:49:34.520236Z",
          "shell.execute_reply.started": "2021-12-11T12:49:34.511869Z",
          "shell.execute_reply": "2021-12-11T12:49:34.518769Z"
        },
        "trusted": true,
        "id": "wzASeS9erP46",
        "colab": {
          "base_uri": "https://localhost:8080/"
        },
        "outputId": "752be68d-7c57-4b45-8360-b6261bf44016"
      }
    },
    {
      "cell_type": "code",
      "execution_count": null,
      "source": [
        "# not good\n",
        "ls = []\n",
        "for x in primes:\n",
        "    if x % 2 == 0:\n",
        "        ls.append(x*x)\n",
        "ls"
      ],
      "outputs": [
        {
          "output_type": "execute_result",
          "data": {
            "text/plain": [
              "[4, 16, 36, 64]"
            ]
          },
          "metadata": {},
          "execution_count": 183
        }
      ],
      "metadata": {
        "execution": {
          "iopub.status.busy": "2021-12-11T12:49:59.636651Z",
          "iopub.execute_input": "2021-12-11T12:49:59.636937Z",
          "iopub.status.idle": "2021-12-11T12:49:59.643965Z",
          "shell.execute_reply.started": "2021-12-11T12:49:59.636901Z",
          "shell.execute_reply": "2021-12-11T12:49:59.642794Z"
        },
        "trusted": true,
        "id": "3j3aW1LLrP46",
        "colab": {
          "base_uri": "https://localhost:8080/"
        },
        "outputId": "8af929c5-3af1-4693-9095-2deecbe76925"
      }
    },
    {
      "cell_type": "markdown",
      "source": [
        "**`For more complex conditions we can use function along with`**"
      ],
      "metadata": {
        "id": "W9XTKbOyrP46"
      }
    },
    {
      "cell_type": "code",
      "execution_count": null,
      "source": [
        "#find from below given animal which have 4 leags \n",
        "\n",
        "animals = ('bird','snake','dog','turtle','cat','hamster')"
      ],
      "outputs": [],
      "metadata": {
        "execution": {
          "iopub.status.busy": "2021-12-11T12:52:17.506505Z",
          "iopub.execute_input": "2021-12-11T12:52:17.507335Z",
          "iopub.status.idle": "2021-12-11T12:52:17.513214Z",
          "shell.execute_reply.started": "2021-12-11T12:52:17.507296Z",
          "shell.execute_reply": "2021-12-11T12:52:17.512673Z"
        },
        "trusted": true,
        "id": "XKdSFtStrP46"
      }
    },
    {
      "cell_type": "code",
      "execution_count": null,
      "source": [
        "# good\n",
        "def has_4_legs(animal):\n",
        "    return animal in ('dog','turtle','cat')\n",
        "\n",
        "[x for x in animals if has_4_legs(x)]"
      ],
      "outputs": [
        {
          "output_type": "execute_result",
          "data": {
            "text/plain": [
              "['dog', 'turtle', 'cat']"
            ]
          },
          "metadata": {},
          "execution_count": 185
        }
      ],
      "metadata": {
        "execution": {
          "iopub.status.busy": "2021-12-11T12:53:07.831737Z",
          "iopub.execute_input": "2021-12-11T12:53:07.832355Z",
          "iopub.status.idle": "2021-12-11T12:53:07.838511Z",
          "shell.execute_reply.started": "2021-12-11T12:53:07.832313Z",
          "shell.execute_reply": "2021-12-11T12:53:07.837769Z"
        },
        "trusted": true,
        "id": "s-A0LhR4rP46",
        "colab": {
          "base_uri": "https://localhost:8080/"
        },
        "outputId": "1ab2ccb4-9df7-4019-9c78-9107f3265cf3"
      }
    },
    {
      "cell_type": "code",
      "execution_count": null,
      "source": [
        "# not good\n",
        "l = []\n",
        "for x in animals:\n",
        "    if has_4_legs(x):\n",
        "        l.append(x)\n",
        "l"
      ],
      "outputs": [
        {
          "output_type": "execute_result",
          "data": {
            "text/plain": [
              "['dog', 'turtle', 'cat']"
            ]
          },
          "metadata": {},
          "execution_count": 186
        }
      ],
      "metadata": {
        "execution": {
          "iopub.status.busy": "2021-12-11T12:52:40.234165Z",
          "iopub.execute_input": "2021-12-11T12:52:40.234732Z",
          "iopub.status.idle": "2021-12-11T12:52:40.241024Z",
          "shell.execute_reply.started": "2021-12-11T12:52:40.234691Z",
          "shell.execute_reply": "2021-12-11T12:52:40.240303Z"
        },
        "trusted": true,
        "id": "Rvku5z7XrP46",
        "colab": {
          "base_uri": "https://localhost:8080/"
        },
        "outputId": "fd7c9b9d-ce4c-49a2-cf91-eca29434111c"
      }
    },
    {
      "cell_type": "markdown",
      "source": [
        "# 2. Set Comprehension\n",
        "* Set have unique element\n",
        "* Only use curly bracket then that of square bracket\n",
        "\n",
        "`Syntax:`\n",
        "\n",
        "**{expression `for` item in iterable}**"
      ],
      "metadata": {
        "id": "VcEa0wckrP47"
      }
    },
    {
      "cell_type": "code",
      "execution_count": null,
      "source": [
        "# find odds\n",
        "numbers_set = (1, 34, 5, 8, 10, 12, 3, 90, 70, 70, 90)\n",
        "\n",
        "unique_even_numbers = {number for number in numbers_set if number%2 == 0}\n",
        "unique_even_numbers"
      ],
      "outputs": [
        {
          "output_type": "execute_result",
          "data": {
            "text/plain": [
              "{8, 10, 12, 34, 70, 90}"
            ]
          },
          "metadata": {},
          "execution_count": 187
        }
      ],
      "metadata": {
        "execution": {
          "iopub.status.busy": "2021-12-11T12:54:59.597912Z",
          "iopub.execute_input": "2021-12-11T12:54:59.598315Z",
          "iopub.status.idle": "2021-12-11T12:54:59.605267Z",
          "shell.execute_reply.started": "2021-12-11T12:54:59.598279Z",
          "shell.execute_reply": "2021-12-11T12:54:59.604646Z"
        },
        "trusted": true,
        "id": "ZbjZrX_mrP47",
        "colab": {
          "base_uri": "https://localhost:8080/"
        },
        "outputId": "8d38a778-bbd5-455d-ff1d-04ae06e73400"
      }
    },
    {
      "cell_type": "markdown",
      "source": [
        "# 3. Dict Comprehension\n",
        "`Syntax:`\n",
        "\n",
        "**{key_expression : value_expression `for` item in iterable}**"
      ],
      "metadata": {
        "id": "vGX5yVFwrP47"
      }
    },
    {
      "cell_type": "code",
      "execution_count": null,
      "source": [
        "words = ('python', 'is', 'a', 'big', 'snake')\n",
        "\n",
        "len_words = {word : len(word) for word in words}\n",
        "len_words"
      ],
      "outputs": [
        {
          "output_type": "execute_result",
          "data": {
            "text/plain": [
              "{'a': 1, 'big': 3, 'is': 2, 'python': 6, 'snake': 5}"
            ]
          },
          "metadata": {},
          "execution_count": 188
        }
      ],
      "metadata": {
        "execution": {
          "iopub.status.busy": "2021-12-11T12:56:55.239796Z",
          "iopub.execute_input": "2021-12-11T12:56:55.240073Z",
          "iopub.status.idle": "2021-12-11T12:56:55.246199Z",
          "shell.execute_reply.started": "2021-12-11T12:56:55.24004Z",
          "shell.execute_reply": "2021-12-11T12:56:55.245205Z"
        },
        "trusted": true,
        "id": "80TTyMXwrP47",
        "colab": {
          "base_uri": "https://localhost:8080/"
        },
        "outputId": "3156146e-20e3-4f8f-fa06-67bcce4305c8"
      }
    },
    {
      "cell_type": "code",
      "execution_count": null,
      "source": [
        "# acessing key which start with p letter\n",
        "len_words_p = {word : len(word) for word in words if word.startswith('p')}\n",
        "len_words_p"
      ],
      "outputs": [
        {
          "output_type": "execute_result",
          "data": {
            "text/plain": [
              "{'python': 6}"
            ]
          },
          "metadata": {},
          "execution_count": 189
        }
      ],
      "metadata": {
        "execution": {
          "iopub.status.busy": "2021-12-11T12:57:09.957799Z",
          "iopub.execute_input": "2021-12-11T12:57:09.958085Z",
          "iopub.status.idle": "2021-12-11T12:57:09.96422Z",
          "shell.execute_reply.started": "2021-12-11T12:57:09.958056Z",
          "shell.execute_reply": "2021-12-11T12:57:09.96331Z"
        },
        "trusted": true,
        "id": "0zjPld8qrP47",
        "colab": {
          "base_uri": "https://localhost:8080/"
        },
        "outputId": "665d4414-eb8a-42b5-a914-deb7f1a231cc"
      }
    },
    {
      "cell_type": "markdown",
      "source": [
        "<a id='17'></a><center> <h3 style=\"background-color:orange; color:white\" ><br>Enumerate<br></h3>"
      ],
      "metadata": {
        "id": "7bhKjiMBrP47"
      }
    },
    {
      "cell_type": "markdown",
      "source": [
        "Used for efficient looping\n",
        "* Use enumerate function when `needed an index` while looping\n",
        "* Often used in list comprehensions or for loops and does not spit out tuples itself\n",
        "* Enumerate is an `iterator`, this means ``nothing gets stored``\n",
        "* Processes only one item at a time\n",
        "* This can be useful when you have large datasets/files.\n",
        "\n",
        "`Syntax:` <br>\n",
        "**enumerate(iterable, start)**\n",
        "**<br>_____start = starting index**\n",
        "* `Returns a tuple of type (index,values)`\n",
        "\n",
        "Whenever you see within your code `range(len(..))` there is a better way to loop than through using an index\n",
        "* This is where built-in function `Enumerate` can help"
      ],
      "metadata": {
        "id": "ct5JcFIYrP47"
      }
    },
    {
      "cell_type": "markdown",
      "source": [
        "# Enumerate Working\n",
        "* Enumerate built-in function assigns an index to every item in an itterable object\n",
        "* This could be a set, list, string anything that can be iterated over"
      ],
      "metadata": {
        "id": "dJSxHP0-rP47"
      }
    },
    {
      "cell_type": "code",
      "execution_count": null,
      "source": [
        "colors = ['red','green','blue','purple']\n",
        "print(enumerate(colors))"
      ],
      "outputs": [
        {
          "output_type": "stream",
          "name": "stdout",
          "text": [
            "<enumerate object at 0x7f980d4f8eb0>\n"
          ]
        }
      ],
      "metadata": {
        "execution": {
          "iopub.status.busy": "2021-12-11T13:06:43.886137Z",
          "iopub.execute_input": "2021-12-11T13:06:43.886422Z",
          "iopub.status.idle": "2021-12-11T13:06:43.891775Z",
          "shell.execute_reply.started": "2021-12-11T13:06:43.886391Z",
          "shell.execute_reply": "2021-12-11T13:06:43.890646Z"
        },
        "trusted": true,
        "id": "5i1oBdIcrP47",
        "colab": {
          "base_uri": "https://localhost:8080/"
        },
        "outputId": "c7210a9a-3595-461c-807d-e385cb412775"
      }
    },
    {
      "cell_type": "code",
      "execution_count": null,
      "source": [
        "#enumerate gives us index which starts from 0\n",
        "for index,start in enumerate(colors):\n",
        "    print(index,start)"
      ],
      "outputs": [
        {
          "output_type": "stream",
          "name": "stdout",
          "text": [
            "0 red\n",
            "1 green\n",
            "2 blue\n",
            "3 purple\n"
          ]
        }
      ],
      "metadata": {
        "execution": {
          "iopub.status.busy": "2021-12-11T13:07:21.236285Z",
          "iopub.execute_input": "2021-12-11T13:07:21.237003Z",
          "iopub.status.idle": "2021-12-11T13:07:21.242931Z",
          "shell.execute_reply.started": "2021-12-11T13:07:21.236946Z",
          "shell.execute_reply": "2021-12-11T13:07:21.241939Z"
        },
        "trusted": true,
        "id": "WGutH8TCrP47",
        "colab": {
          "base_uri": "https://localhost:8080/"
        },
        "outputId": "9314bdd4-f93f-4c8d-a92b-3e2fe35c4823"
      }
    },
    {
      "cell_type": "code",
      "execution_count": null,
      "source": [
        "# index starting from 1 maybee\n",
        "for index,start in enumerate(colors,start=1):\n",
        "    print(index,start)"
      ],
      "outputs": [
        {
          "output_type": "stream",
          "name": "stdout",
          "text": [
            "1 red\n",
            "2 green\n",
            "3 blue\n",
            "4 purple\n"
          ]
        }
      ],
      "metadata": {
        "execution": {
          "iopub.status.busy": "2021-12-11T13:07:59.98731Z",
          "iopub.execute_input": "2021-12-11T13:07:59.98795Z",
          "iopub.status.idle": "2021-12-11T13:07:59.993868Z",
          "shell.execute_reply.started": "2021-12-11T13:07:59.987901Z",
          "shell.execute_reply": "2021-12-11T13:07:59.992926Z"
        },
        "trusted": true,
        "id": "6bdVzFdmrP48",
        "colab": {
          "base_uri": "https://localhost:8080/"
        },
        "outputId": "87606ca2-d256-4abd-e180-e3a962ec36fa"
      }
    },
    {
      "cell_type": "markdown",
      "source": [
        "In above code we define variables index and item and they get assigned to first and second items of each tuple \n",
        "* This is called `sequence unpacking`\n",
        "* We then print index and item of items object"
      ],
      "metadata": {
        "id": "0j32rPMorP48"
      }
    },
    {
      "cell_type": "code",
      "execution_count": null,
      "source": [
        "# using Enumerate to skip over one index\n",
        "for index,start in enumerate(colors,start=1):\n",
        "    if index == 3: # skipping index 3 \n",
        "        continue\n",
        "    print(index,start)"
      ],
      "outputs": [
        {
          "output_type": "stream",
          "name": "stdout",
          "text": [
            "1 red\n",
            "2 green\n",
            "4 purple\n"
          ]
        }
      ],
      "metadata": {
        "execution": {
          "iopub.status.busy": "2021-12-11T13:10:46.872378Z",
          "iopub.execute_input": "2021-12-11T13:10:46.872664Z",
          "iopub.status.idle": "2021-12-11T13:10:46.877838Z",
          "shell.execute_reply.started": "2021-12-11T13:10:46.872632Z",
          "shell.execute_reply": "2021-12-11T13:10:46.877244Z"
        },
        "trusted": true,
        "id": "JbaxHHKLrP48",
        "colab": {
          "base_uri": "https://localhost:8080/"
        },
        "outputId": "90a62c7a-938c-4583-a04a-c0b48f335ebf"
      }
    },
    {
      "cell_type": "code",
      "source": [
        "from google.colab import drive\n",
        "drive.mount('/content/drive')"
      ],
      "metadata": {
        "id": "RMORXVNabzy-"
      },
      "execution_count": null,
      "outputs": []
    },
    {
      "cell_type": "markdown",
      "source": [
        "\n",
        "# FeedBack\n",
        "We hope you’ve enjoyed this course so far. We’re committed to help you use \"AI for All\" course to its full potential, so that you have a great learning experience. And that’s why we need your help in form of a feedback here.\n",
        "\n",
        "Please fill this feedback form https://docs.google.com/forms/d/e/1FAIpQLSfjBmH0yJSSA34IhSVx4h2eDMgOAeG4Dk-yHid__NMTk3Hq5g/viewform"
      ],
      "metadata": {
        "id": "EDv-UM4CFJN9"
      }
    }
  ]
}